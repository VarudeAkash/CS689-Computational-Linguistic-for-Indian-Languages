{
 "cells": [
  {
   "cell_type": "code",
   "execution_count": 2,
   "metadata": {},
   "outputs": [],
   "source": [
    "swar = ['अ', 'आ', 'इ', 'ई', 'उ', 'ऊ', 'ऋ', 'ए', 'ऐ', 'ओ', 'औ','ॲ', 'ऑ','अं', 'अः']\n",
    "\n",
    "swar_matra_map={'ा':'आ', 'ि':'इ', 'ी':'ई', 'ु':'उ', 'ू':'ऊ', 'े':'ए', 'ै':'ऐ', 'ो':'ओ', 'ौ': 'औ', 'ॅ':'ॲ', 'ॉ':'ऑ',  'ं':'अं', 'ः': 'अः'}\n",
    "specials= { 'ँ':['ॲ','अं']}\n",
    "\n",
    "vyanjana_map={'क': 'क्', 'ख': 'ख्', 'ग': 'ग्', 'घ': 'घ्', \n",
    "                        'ङ': 'ङ्', 'च': 'च्', 'छ': 'छ्', 'ज': 'ज्', \n",
    "                        'झ': 'झ्', 'ञ': 'ञ्', 'ट': 'ट्', 'ठ': 'ठ्', \n",
    "                        'ड': 'ड्', 'ढ': 'ढ्', 'ण': 'ण्', 'त': 'त्', \n",
    "                        'थ': 'थ्', 'द': 'द्', 'ध': 'ध्', 'न': 'न्', \n",
    "                        'प': 'प्', 'फ': 'फ्', 'ब': 'ब्', 'भ': 'भ्', \n",
    "                        'म': 'म्', 'य': 'य्', 'र': 'र्', 'ल': 'ल्', \n",
    "                        'व': 'व्', 'श': 'श्', 'ष': 'ष्', 'स': 'स्', \n",
    "                        'ह': 'ह्', 'ळ': 'ळ्', 'क्ष': 'क्ष्', 'ज्ञ': 'ज्ञ्'}"
   ]
  },
  {
   "cell_type": "code",
   "execution_count": 3,
   "metadata": {},
   "outputs": [],
   "source": [
    "def unicode_correction(user_input):     #input can be word or sentence\n",
    "    corrected_unicodes=[]\n",
    "    length=len(user_input)\n",
    "    for i in range (length):\n",
    "        if(user_input[i] in swar):\n",
    "            corrected_unicodes.append(user_input[i])\n",
    "        elif(user_input[i] in vyanjana_map):   #if it is already a halant character e.g. त् is represented as 'त', '्' in given input\n",
    "            if(i<length-1 and (user_input[i+1]=='्' or user_input[i+1] in swar_matra_map)):  #i.e. if vyanjan is either halant or it has matra then \n",
    "                corrected_unicodes.append(vyanjana_map[user_input[i]])                          #writing only halant vyanjan \n",
    "\n",
    "            elif(i<length-1 and user_input[i+1] in specials):       #to handle बँ i.e. 'ब', 'ँ' this kind of thing. In this case I just have to insert ब् and not 'ब्' 'अ'\n",
    "                corrected_unicodes.append(vyanjana_map[user_input[i]])\n",
    "            else:                                                   #if vyanjan is actually a full vyanjan then\n",
    "                corrected_unicodes.append(vyanjana_map[user_input[i]]) #writing halant vyanjan and\n",
    "                corrected_unicodes.append('अ')                      #also writing swar अ after that\n",
    "\n",
    "        elif(user_input[i] in swar_matra_map):  #if character is some kind of matra then replacing it with swar\n",
    "            corrected_unicodes.append(swar_matra_map[user_input[i]])\n",
    "\n",
    "        elif (user_input[i] in specials):   #to handle 'ँ', we need to explicitly insert all swar associated with it. which is stored in specials\n",
    "            for j in specials[user_input[i]]:\n",
    "                corrected_unicodes.append(j)\n",
    "        elif(user_input[i]==\" \"):\n",
    "            corrected_unicodes.append(\" \")\n",
    "    \n",
    "    return corrected_unicodes\n"
   ]
  },
  {
   "cell_type": "code",
   "execution_count": 5,
   "metadata": {},
   "outputs": [],
   "source": [
    "# Open 'rawData.txt' for reading and 'processed.txt' for writing\n",
    "with open('Sample_input_file.txt', 'r', encoding='utf-8') as raw_file, \\\n",
    "     open('Unicode_Corrected_Sample_input.txt', 'w', encoding='utf-8') as processed_file:\n",
    "\n",
    "    # Iterate through each line (sentence) in 'rawData.txt'\n",
    "    for sentence in raw_file:\n",
    "        # Remove leading and trailing whitespaces from the sentence\n",
    "        sentence = sentence.strip()\n",
    "\n",
    "        # Skip empty lines\n",
    "        if not sentence:\n",
    "            continue\n",
    "\n",
    "        # Process the sentence using your function\n",
    "        processed_sentence_list = unicode_correction(sentence)          #as unicode correction returns a list\n",
    "        #print(sentence)\n",
    "        processed_sentence=\"\"\n",
    "        for i in range(len(processed_sentence_list)):                   #to convert list into string\n",
    "            processed_sentence+=processed_sentence_list[i]          \n",
    "        \n",
    "        #print(processed_sentence)\n",
    "        # Write the processed sentence to 'processed.txt'\n",
    "        processed_file.write(processed_sentence + '\\n')"
   ]
  },
  {
   "cell_type": "code",
   "execution_count": null,
   "metadata": {},
   "outputs": [],
   "source": []
  }
 ],
 "metadata": {
  "kernelspec": {
   "display_name": "iitkMtech",
   "language": "python",
   "name": "python3"
  },
  "language_info": {
   "codemirror_mode": {
    "name": "ipython",
    "version": 3
   },
   "file_extension": ".py",
   "mimetype": "text/x-python",
   "name": "python",
   "nbconvert_exporter": "python",
   "pygments_lexer": "ipython3",
   "version": "3.12.1"
  }
 },
 "nbformat": 4,
 "nbformat_minor": 2
}
