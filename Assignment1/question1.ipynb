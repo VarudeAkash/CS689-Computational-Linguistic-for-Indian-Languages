{
 "cells": [
  {
   "cell_type": "code",
   "execution_count": 3,
   "metadata": {},
   "outputs": [],
   "source": [
    "swar = ['अ', 'आ', 'इ', 'ई', 'उ', 'ऊ', 'ऋ', 'ए', 'ऐ', 'ओ', 'औ','ॲ', 'ऑ','अं', 'अः']\n",
    "\n",
    "halant_vyanjana_map = {'क्': 'क', 'ख्': 'ख', 'ग्': 'ग', 'घ्': 'घ',\n",
    "                        'ङ्': 'ङ', 'च्': 'च', 'छ्': 'छ', 'ज्': 'ज',\n",
    "                        'झ्': 'झ', 'ञ्': 'ञ', 'ट्': 'ट', 'ठ्': 'ठ',\n",
    "                        'ड्': 'ड', 'ढ्': 'ढ', 'ण्': 'ण', 'त्': 'त',\n",
    "                        'थ्': 'थ', 'द्': 'द', 'ध्': 'ध', 'न्': 'न',\n",
    "                        'प्': 'प', 'फ्': 'फ', 'ब्': 'ब', 'भ्': 'भ',\n",
    "                        'म्': 'म', 'य्': 'य', 'र्': 'र', 'ल्': 'ल',\n",
    "                        'व्': 'व', 'श्': 'श', 'ष्': 'ष', 'स्': 'स',\n",
    "                        'ह्': 'ह', 'ळ्': 'ळ', 'क्ष्': 'क्ष', 'ज्ञ्': 'ज्ञ'}\n",
    "\n",
    "\n",
    "swar_matra_map={'ा':'आ', 'ि':'इ', 'ी':'ई', 'ु':'उ', 'ू':'ऊ', 'े':'ए', 'ै':'ऐ', 'ो':'ओ', 'ौ': 'औ', 'ॅ':'ॲ', 'ॉ':'ऑ',  'ं':'अं', 'ः': 'अः'}\n",
    "reversed_swar_matra_map = {'आ': 'ा', 'इ': 'ि', 'ई': 'ी', 'उ': 'ु', 'ऊ': 'ू', 'ए': 'े', 'ऐ': 'ै', 'ओ': 'ो', 'औ': 'ौ', 'ॲ': 'ॅ', 'ऑ': 'ॉ', 'अं': 'ं', 'अः': 'ः'}\n",
    "\n",
    "\n",
    "specials= { 'ँ':['ॲ','अं']}\n",
    "\n",
    "\n",
    "vyanjana_map={'क': 'क्', 'ख': 'ख्', 'ग': 'ग्', 'घ': 'घ्', \n",
    "                        'ङ': 'ङ्', 'च': 'च्', 'छ': 'छ्', 'ज': 'ज्', \n",
    "                        'झ': 'झ्', 'ञ': 'ञ्', 'ट': 'ट्', 'ठ': 'ठ्', \n",
    "                        'ड': 'ड्', 'ढ': 'ढ्', 'ण': 'ण्', 'त': 'त्', \n",
    "                        'थ': 'थ्', 'द': 'द्', 'ध': 'ध्', 'न': 'न्', \n",
    "                        'प': 'प्', 'फ': 'फ्', 'ब': 'ब्', 'भ': 'भ्', \n",
    "                        'म': 'म्', 'य': 'य्', 'र': 'र्', 'ल': 'ल्', \n",
    "                        'व': 'व्', 'श': 'श्', 'ष': 'ष्', 'स': 'स्', \n",
    "                        'ह': 'ह्', 'ळ': 'ळ्', 'क्ष': 'क्ष्', 'ज्ञ': 'ज्ञ्'}"
   ]
  },
  {
   "cell_type": "markdown",
   "metadata": {},
   "source": [
    "### Question 1"
   ]
  },
  {
   "cell_type": "code",
   "execution_count": 4,
   "metadata": {},
   "outputs": [],
   "source": [
    "\n",
    "\n",
    "\n",
    "def unicode_correction(user_input):     #input can be word or sentence\n",
    "    corrected_unicodes=[]\n",
    "    length=len(user_input)\n",
    "    for i in range (length):\n",
    "        if(user_input[i] in swar):\n",
    "            corrected_unicodes.append(user_input[i])\n",
    "        elif(user_input[i] in vyanjana_map):   #if it is already a halant character e.g. त् is represented as 'त', '्' in given input\n",
    "            if(i<length-1 and (user_input[i+1]=='्' or user_input[i+1] in swar_matra_map)):  #i.e. if vyanjan is either halant or it has matra then \n",
    "                corrected_unicodes.append(vyanjana_map[user_input[i]])                          #writing only halant vyanjan \n",
    "\n",
    "            elif(i<length-1 and user_input[i+1] in specials):       #to handle बँ i.e. 'ब', 'ँ' this kind of thing. In this case I just have to insert ब् and not 'ब्' 'अ'\n",
    "                corrected_unicodes.append(vyanjana_map[user_input[i]])\n",
    "            else:                                                   #if vyanjan is actually a full vyanjan then\n",
    "                corrected_unicodes.append(vyanjana_map[user_input[i]]) #writing halant vyanjan and\n",
    "                corrected_unicodes.append('अ')                      #also writing swar अ after that\n",
    "\n",
    "        elif(user_input[i] in swar_matra_map):  #if character is some kind of matra then replacing it with swar\n",
    "            corrected_unicodes.append(swar_matra_map[user_input[i]])\n",
    "\n",
    "        elif (user_input[i] in specials):   #to handle 'ँ', we need to explicitly insert all swar associated with it. which is stored in specials\n",
    "            for j in specials[user_input[i]]:\n",
    "                corrected_unicodes.append(j)\n",
    "        elif(user_input[i]==' '):\n",
    "            corrected_unicodes.append(' ')\n",
    "    \n",
    "    corrected_unicodes_string=''.join(corrected_unicodes)\n",
    "    return corrected_unicodes_string"
   ]
  },
  {
   "cell_type": "code",
   "execution_count": 5,
   "metadata": {},
   "outputs": [
    {
     "name": "stdout",
     "output_type": "stream",
     "text": [
      "हल्लीच्या भाषेत ती डाऊन मार्केट झाली.\n",
      "incorrect unicode:  ['ह', 'ल', '्', 'ल', 'ी', 'च', '्', 'य', 'ा', ' ', 'भ', 'ा', 'ष', 'े', 'त', ' ', 'त', 'ी', ' ', 'ड', 'ा', 'ऊ', 'न', ' ', 'म', 'ा', 'र', '्', 'क', 'े', 'ट', ' ', 'झ', 'ा', 'ल', 'ी', '.']\n",
      "Corrected unicode:  ह्अल्ल्ईच्य्आ भ्आष्एत्अ त्ई ड्आऊन्अ म्आर्क्एट्अ झ्आल्ई\n"
     ]
    }
   ],
   "source": [
    "\n",
    "#some sentences for trying input \n",
    "#त्यानुसार असल्याची निर्व्यसनी पंतप्रधान स्टॅमफर्ड कॉटन काँग्रेसचा\"\n",
    "#\"एकदा आलू पराठ्याच्या नावाखाली काहीसं खात असताना लोणच्याची आठवण झाली\"\n",
    "#\"भक्‍तिसुखें दोंद वाढेल \"\n",
    "#\"हल्लीच्या भाषेत ती डाऊन मार्केट झाली\"\n",
    "#\"श्री महालक्ष्मी बँकेत प्रजासत्ताक दिन उत्साहात\"\n",
    "\n",
    "\n",
    "user_input=\"हल्लीच्या भाषेत ती डाऊन मार्केट झाली.\"\n",
    "print(user_input)\n",
    "print(\"incorrect unicode: \",list(user_input))\n",
    "final_unicodes=unicode_correction(user_input)\n",
    "print(\"Corrected unicode: \",final_unicodes)"
   ]
  },
  {
   "cell_type": "markdown",
   "metadata": {},
   "source": [
    "Unicode Correction on corpus file and storing into another file"
   ]
  },
  {
   "cell_type": "code",
   "execution_count": 8,
   "metadata": {},
   "outputs": [
    {
     "name": "stdout",
     "output_type": "stream",
     "text": [
      "file written successfully in file path: corpus/Unicode_corrected_mr_100.txt\n"
     ]
    }
   ],
   "source": [
    "with open('corpus/mr_100.txt', 'r', encoding='utf-8',errors='ignore') as raw_file, \\\n",
    "     open('corpus/Unicode_corrected_mr_100.txt', 'w', encoding='utf-8', errors='ignore') as processed_file:\n",
    "\n",
    "    #Iterating through each sentence of corpus\n",
    "    for sentence in raw_file:\n",
    "        #Removing whitespaces from the sentence\n",
    "        sentence = sentence.strip()\n",
    "        if not sentence:        #empty line\n",
    "            continue\n",
    "\n",
    "        #Performing unicode correction on sentence\n",
    "        processed_sentence_list = unicode_correction(sentence)          #as unicode correction returns a list\n",
    "        #print(sentence)\n",
    "        processed_sentence=\"\"\n",
    "        for i in range(len(processed_sentence_list)):                   #to convert list into string\n",
    "            processed_sentence+=processed_sentence_list[i]          \n",
    "        \n",
    "        #print(processed_sentence)\n",
    "        #writing unicode corrected sentence in 'processed.txt'\n",
    "        processed_file.write(processed_sentence + '\\n')\n",
    "print(\"file written successfully in file path: corpus/Unicode_corrected_mr_100.txt\")"
   ]
  },
  {
   "cell_type": "code",
   "execution_count": null,
   "metadata": {},
   "outputs": [],
   "source": []
  }
 ],
 "metadata": {
  "kernelspec": {
   "display_name": "iitkMtech",
   "language": "python",
   "name": "python3"
  },
  "language_info": {
   "codemirror_mode": {
    "name": "ipython",
    "version": 3
   },
   "file_extension": ".py",
   "mimetype": "text/x-python",
   "name": "python",
   "nbconvert_exporter": "python",
   "pygments_lexer": "ipython3",
   "version": "3.12.1"
  }
 },
 "nbformat": 4,
 "nbformat_minor": 2
}
