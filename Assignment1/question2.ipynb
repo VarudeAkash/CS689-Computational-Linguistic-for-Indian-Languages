{
 "cells": [
  {
   "cell_type": "code",
   "execution_count": 1,
   "metadata": {},
   "outputs": [],
   "source": [
    "swar = ['अ', 'आ', 'इ', 'ई', 'उ', 'ऊ',  'ए', 'ऐ', 'ओ', 'औ','ॲ', 'ऑ','अं', 'अः']\n",
    "\n",
    "halant_vyanjana_map = {'क्': 'क', 'ख्': 'ख', 'ग्': 'ग', 'घ्': 'घ',\n",
    "                        'ङ्': 'ङ', 'च्': 'च', 'छ्': 'छ', 'ज्': 'ज',\n",
    "                        'झ्': 'झ', 'ञ्': 'ञ', 'ट्': 'ट', 'ठ्': 'ठ',\n",
    "                        'ड्': 'ड', 'ढ्': 'ढ', 'ण्': 'ण', 'त्': 'त',\n",
    "                        'थ्': 'थ', 'द्': 'द', 'ध्': 'ध', 'न्': 'न',\n",
    "                        'प्': 'प', 'फ्': 'फ', 'ब्': 'ब', 'भ्': 'भ',\n",
    "                        'म्': 'म', 'य्': 'य', 'र्': 'र', 'ल्': 'ल',\n",
    "                        'व्': 'व', 'श्': 'श', 'ष्': 'ष', 'स्': 'स',\n",
    "                        'ह्': 'ह', 'ळ्': 'ळ', 'क्ष्': 'क्ष', 'ज्ञ्': 'ज्ञ'}\n",
    "\n",
    "swar_matra_map={'ा':'आ', 'ि':'इ', 'ी':'ई', 'ु':'उ', 'ू':'ऊ', 'े':'ए', 'ै':'ऐ', 'ो':'ओ', 'ौ': 'औ', 'ॅ':'ॲ', 'ॉ':'ऑ',  'ं':'अं', 'ः': 'अः'}\n",
    "reversed_swar_matra_map = {'आ': 'ा', 'इ': 'ि', 'ई': 'ी', 'उ': 'ु', 'ऊ': 'ू', 'ए': 'े', 'ऐ': 'ै', 'ओ': 'ो', 'औ': 'ौ', 'ॲ': 'ॅ', 'ऑ': 'ॉ', 'अं': 'ं', 'अः': 'ः'}\n",
    "\n",
    "specials= { 'ँ':['ॲ','अं']}\n",
    "vyanjana_map={'क': 'क्', 'ख': 'ख्', 'ग': 'ग्', 'घ': 'घ्', \n",
    "                        'ङ': 'ङ्', 'च': 'च्', 'छ': 'छ्', 'ज': 'ज्', \n",
    "                        'झ': 'झ्', 'ञ': 'ञ्', 'ट': 'ट्', 'ठ': 'ठ्', \n",
    "                        'ड': 'ड्', 'ढ': 'ढ्', 'ण': 'ण्', 'त': 'त्', \n",
    "                        'थ': 'थ्', 'द': 'द्', 'ध': 'ध्', 'न': 'न्', \n",
    "                        'प': 'प्', 'फ': 'फ्', 'ब': 'ब्', 'भ': 'भ्', \n",
    "                        'म': 'म्', 'य': 'य्', 'र': 'र्', 'ल': 'ल्', \n",
    "                        'व': 'व्', 'श': 'श्', 'ष': 'ष्', 'स': 'स्', \n",
    "                        'ह': 'ह्', 'ळ': 'ळ्', 'क्ष': 'क्ष्', 'ज्ञ': 'ज्ञ्'}"
   ]
  },
  {
   "cell_type": "code",
   "execution_count": 2,
   "metadata": {},
   "outputs": [],
   "source": [
    "#function of unicode correction for question 2. This is to handle \" \"spaces also\n",
    "def unicode_correction(user_input):     #input can be word or sentence\n",
    "    corrected_unicodes=[]\n",
    "    length=len(user_input)\n",
    "    for i in range (length):\n",
    "        if(user_input[i] in swar):\n",
    "            corrected_unicodes.append(user_input[i])\n",
    "        elif(user_input[i] in vyanjana_map):   #if it is already a halant character e.g. त् is represented as 'त', '्' in given input\n",
    "            if(i<length-1 and (user_input[i+1]=='्' or user_input[i+1] in swar_matra_map)):  #i.e. if vyanjan is either halant or it has matra then \n",
    "                corrected_unicodes.append(vyanjana_map[user_input[i]])                          #writing only halant vyanjan \n",
    "\n",
    "            elif(i<length-1 and user_input[i+1] in specials):       #to handle बँ i.e. 'ब', 'ँ' this kind of thing. In this case I just have to insert ब् and not 'ब्' 'अ'\n",
    "                corrected_unicodes.append(vyanjana_map[user_input[i]])\n",
    "            else:                                                   #if vyanjan is actually a full vyanjan then\n",
    "                corrected_unicodes.append(vyanjana_map[user_input[i]]) #writing halant vyanjan and\n",
    "                corrected_unicodes.append('अ')                      #also writing swar अ after that\n",
    "\n",
    "        elif(user_input[i] in swar_matra_map):  #if character is some kind of matra then replacing it with swar\n",
    "            corrected_unicodes.append(swar_matra_map[user_input[i]])\n",
    "\n",
    "        elif (user_input[i] in specials):   #to handle 'ँ', we need to explicitly insert all swar associated with it. which is stored in specials\n",
    "            for j in specials[user_input[i]]:\n",
    "                corrected_unicodes.append(j)\n",
    "        elif(user_input[i]==\" \"):\n",
    "            corrected_unicodes.append(\" \")\n",
    "    return corrected_unicodes"
   ]
  },
  {
   "cell_type": "markdown",
   "metadata": {},
   "source": [
    "### Part1: Working with Characters"
   ]
  },
  {
   "cell_type": "code",
   "execution_count": 3,
   "metadata": {},
   "outputs": [],
   "source": [
    "\n",
    "#Function to calculate count of characters\n",
    "def character_count(user_input2):\n",
    "    char_count={}                                           #to store character and their count\n",
    "    #print(\"Actual input is: \", list(user_input2))\n",
    "    correct_input2=unicode_correction(user_input2)         #first performing unicode correction to get actual characters count\n",
    "    #print(\"Corrected input is: \", correct_input2)\n",
    "    input2_len=len(correct_input2)\n",
    "    for i in range(input2_len):                             #iterating over corrected unicode\n",
    "        if(correct_input2[i]!= \" \"):                          #as we are not counting whitespace as character\n",
    "            if(correct_input2[i] not in char_count):            #if current character isn't present in char_count dictionary then inserting it   \n",
    "                char_count[correct_input2[i]]=1\n",
    "            else:                                               #if present then just increasing the count\n",
    "                char_count[correct_input2[i]]+=1                \n",
    "    return char_count"
   ]
  },
  {
   "cell_type": "code",
   "execution_count": 4,
   "metadata": {},
   "outputs": [],
   "source": [
    "def bigram_characters(user_input):               #same as character Count function. Just some Modifications for bigram characters\n",
    "    bigram_char_count={}\n",
    "    #print(\"Actual input: \", user_input)\n",
    "    correct_input=unicode_correction(user_input)\n",
    "    #print(\"Corrected input is: \", correct_input)\n",
    "    input_len=len(correct_input)\n",
    "    sentence_Bigram_chars=[]       #Just in case if we want to view all Bigram characters in sequencial order of occurance in sentence\n",
    "    \n",
    "    temp=\"\"             #to store last characters of previous BigramCharacters so that it can be used as first character for next BigramCharacters\n",
    "    bigram_char=\"\"   \n",
    "\n",
    "    #just look, itis almost similar to character_count function. Just minor changes.\n",
    "\n",
    "    i=0\n",
    "    while(i< input_len):\n",
    "        if(correct_input[i]==\" \"):\n",
    "            temp=\"\"     #emptying temp because word is completed. Hence Last syllable of word is not useful for next bigramSyllable\n",
    "            bigram_char=\"\"\n",
    "            i+=1\n",
    "        elif(correct_input[i] in swar or correct_input[i] in halant_vyanjana_map):                            \n",
    "            current_character=correct_input[i]\n",
    "            i+=1\n",
    "            temp=current_character           #storing current character as it may be used as first character in next bigramcharacter\n",
    "            if(len(bigram_char)>0):          #if it is not first bigram_character of the word. i.e. temp is already present as first character of current bigramcharacter\n",
    "                bigram_char+=current_character        #then just insert next character in bigramcharacter. Now this bigram is completed\n",
    "                \n",
    "                if(bigram_char not in bigram_char_count):        #just to store count of bigramcharacter\n",
    "                    bigram_char_count[bigram_char]=1\n",
    "                else:\n",
    "                    bigram_char_count[bigram_char]+=1\n",
    "\n",
    "                sentence_Bigram_chars.append(bigram_char)          #complete Bigram character inserting in list       \n",
    "\n",
    "                bigram_char=temp                 #Bigram is completed. The Current character i.e. last character of our completed bigram is now first character of next bigram\n",
    "            else:\n",
    "                bigram_char=current_character     #It is first character of the word. Hence store it\n",
    "                temp=\"\"                         #as it won't be used for next bigram, just erase temp\n",
    "                                            \n",
    "    return (bigram_char_count,sentence_Bigram_chars) "
   ]
  },
  {
   "cell_type": "markdown",
   "metadata": {},
   "source": [
    "If want to find characters and their frequencies of any random sentence then execute below cell"
   ]
  },
  {
   "cell_type": "code",
   "execution_count": 5,
   "metadata": {},
   "outputs": [],
   "source": [
    "user_input=\"प्रांजल एकदा आलू पराठ्याच्या नावाखाली काहीसं खात असताना लोणच्याची आठवण झाली\""
   ]
  },
  {
   "cell_type": "code",
   "execution_count": 6,
   "metadata": {},
   "outputs": [
    {
     "name": "stdout",
     "output_type": "stream",
     "text": [
      "Actual sentence input:  प्रांजल एकदा आलू पराठ्याच्या नावाखाली काहीसं खात असताना लोणच्याची आठवण झाली\n",
      "character count:  {'प्': 2, 'र्': 2, 'आ': 16, 'अं': 2, 'ज्': 1, 'अ': 11, 'ल्': 5, 'ए': 1, 'क्': 2, 'द्': 1, 'ऊ': 1, 'ठ्': 2, 'य्': 3, 'च्': 3, 'न्': 2, 'व्': 2, 'ख्': 2, 'ई': 4, 'ह्': 1, 'स्': 2, 'त्': 2, 'ओ': 1, 'ण्': 2, 'झ्': 1}\n",
      "Descending order of count:  {'आ': 16, 'अ': 11, 'ल्': 5, 'ई': 4, 'य्': 3, 'च्': 3, 'प्': 2, 'र्': 2, 'अं': 2, 'क्': 2, 'ठ्': 2, 'न्': 2, 'व्': 2, 'ख्': 2, 'स्': 2, 'त्': 2, 'ण्': 2, 'ज्': 1, 'ए': 1, 'द्': 1, 'ऊ': 1, 'ह्': 1, 'ओ': 1, 'झ्': 1}\n"
     ]
    }
   ],
   "source": [
    "print(\"Actual sentence input: \",user_input)\n",
    "sentence_char_count=character_count(user_input)\n",
    "print(\"character count: \", sentence_char_count)\n",
    "Desc_sentence_char_count = dict(sorted(sentence_char_count.items(), key=lambda item: item[1], reverse=True))\n",
    "print(\"Descending order of count: \", Desc_sentence_char_count)"
   ]
  },
  {
   "cell_type": "code",
   "execution_count": 7,
   "metadata": {},
   "outputs": [
    {
     "name": "stdout",
     "output_type": "stream",
     "text": [
      "Actual sentence input:  प्रांजल एकदा आलू पराठ्याच्या नावाखाली काहीसं खात असताना लोणच्याची आठवण झाली\n",
      "BigramCharacters in sequence:  ['प्र्', 'र्आ', 'आअं', 'अंज्', 'ज्अ', 'अल्', 'ल्अ', 'एक्', 'क्अ', 'अद्', 'द्आ', 'आल्', 'ल्ऊ', 'प्अ', 'अर्', 'र्आ', 'आठ्', 'ठ्य्', 'य्आ', 'आच्', 'च्य्', 'य्आ', 'न्आ', 'आव्', 'व्आ', 'आख्', 'ख्आ', 'आल्', 'ल्ई', 'क्आ', 'आह्', 'ह्ई', 'ईस्', 'स्अं', 'ख्आ', 'आत्', 'त्अ', 'अस्', 'स्अ', 'अत्', 'त्आ', 'आन्', 'न्आ', 'ल्ओ', 'ओण्', 'ण्अ', 'अच्', 'च्य्', 'य्आ', 'आच्', 'च्ई', 'आठ्', 'ठ्अ', 'अव्', 'व्अ', 'अण्', 'ण्अ', 'झ्आ', 'आल्', 'ल्ई']\n",
      "Sentence Bigram character count:  {'प्र्': 1, 'र्आ': 2, 'आअं': 1, 'अंज्': 1, 'ज्अ': 1, 'अल्': 1, 'ल्अ': 1, 'एक्': 1, 'क्अ': 1, 'अद्': 1, 'द्आ': 1, 'आल्': 3, 'ल्ऊ': 1, 'प्अ': 1, 'अर्': 1, 'आठ्': 2, 'ठ्य्': 1, 'य्आ': 3, 'आच्': 2, 'च्य्': 2, 'न्आ': 2, 'आव्': 1, 'व्आ': 1, 'आख्': 1, 'ख्आ': 2, 'ल्ई': 2, 'क्आ': 1, 'आह्': 1, 'ह्ई': 1, 'ईस्': 1, 'स्अं': 1, 'आत्': 1, 'त्अ': 1, 'अस्': 1, 'स्अ': 1, 'अत्': 1, 'त्आ': 1, 'आन्': 1, 'ल्ओ': 1, 'ओण्': 1, 'ण्अ': 2, 'अच्': 1, 'च्ई': 1, 'ठ्अ': 1, 'अव्': 1, 'व्अ': 1, 'अण्': 1, 'झ्आ': 1}\n",
      "Descending order of count:  {'आल्': 3, 'य्आ': 3, 'र्आ': 2, 'आठ्': 2, 'आच्': 2, 'च्य्': 2, 'न्आ': 2, 'ख्आ': 2, 'ल्ई': 2, 'ण्अ': 2, 'प्र्': 1, 'आअं': 1, 'अंज्': 1, 'ज्अ': 1, 'अल्': 1, 'ल्अ': 1, 'एक्': 1, 'क्अ': 1, 'अद्': 1, 'द्आ': 1, 'ल्ऊ': 1, 'प्अ': 1, 'अर्': 1, 'ठ्य्': 1, 'आव्': 1, 'व्आ': 1, 'आख्': 1, 'क्आ': 1, 'आह्': 1, 'ह्ई': 1, 'ईस्': 1, 'स्अं': 1, 'आत्': 1, 'त्अ': 1, 'अस्': 1, 'स्अ': 1, 'अत्': 1, 'त्आ': 1, 'आन्': 1, 'ल्ओ': 1, 'ओण्': 1, 'अच्': 1, 'च्ई': 1, 'ठ्अ': 1, 'अव्': 1, 'व्अ': 1, 'अण्': 1, 'झ्आ': 1}\n"
     ]
    }
   ],
   "source": [
    "print(\"Actual sentence input: \",user_input)\n",
    "sentence_BigramChar_count,sentence_BigramCharacters=bigram_characters(user_input)\n",
    "print(\"BigramCharacters in sequence: \",sentence_BigramCharacters)\n",
    "print(\"Sentence Bigram character count: \", sentence_BigramChar_count)\n",
    "Desc_sentence_Bigramchar_count = dict(sorted(sentence_BigramChar_count.items(), key=lambda item: item[1], reverse=True))\n",
    "print(\"Descending order of count: \", Desc_sentence_Bigramchar_count)\n"
   ]
  },
  {
   "cell_type": "markdown",
   "metadata": {},
   "source": [
    "If want to find characters and their frequencies of corpus then execute below cell"
   ]
  },
  {
   "cell_type": "code",
   "execution_count": 8,
   "metadata": {},
   "outputs": [],
   "source": [
    "#This cell reads corpus file sentence by sentence. \n",
    "#Finds characters frequencies in the sentence. Then adds it to the overall character frequency of entire corpus.\n",
    "#This is done by performing unicode correction on sentence \n",
    "#(just by calling character_count function which itself calls unicode_correction function)\n",
    "\n",
    "Char_counts={}\n",
    "Bigram_Char_counts={}\n",
    "sequential_bigram_char_corpus=[]\n",
    "with open('corpus/mr_100.txt', 'r', encoding='utf-8',errors='ignore') as raw_file:\n",
    "    # Iterate through each line (sentence)\n",
    "    for sentence in raw_file:\n",
    "        # Remove leading and trailing whitespaces from the sentence\n",
    "        sentence = sentence.strip()\n",
    "        if not sentence:        #empty line\n",
    "            continue\n",
    "        \n",
    "        #print(sentence)\n",
    "        sentence_char_count=character_count(sentence)\n",
    "        sentence_Bigramchar_count,bigram_chars_in_sentences=bigram_characters(sentence)\n",
    "\n",
    "        sequential_bigram_char_corpus.append(bigram_chars_in_sentences)        #append bigram characters of sentence to bigram characters of corpus list\n",
    "\n",
    "        for key in sentence_char_count:\n",
    "            if(key in Char_counts):\n",
    "                Char_counts[key]+=sentence_char_count[key]\n",
    "            else:\n",
    "                Char_counts[key]=sentence_char_count[key]\n",
    "        \n",
    "        for key in sentence_Bigramchar_count:\n",
    "            if(key in Bigram_Char_counts):\n",
    "                Bigram_Char_counts[key]+=sentence_Bigramchar_count[key]\n",
    "            else:\n",
    "                Bigram_Char_counts[key]=sentence_Bigramchar_count[key]"
   ]
  },
  {
   "cell_type": "code",
   "execution_count": 19,
   "metadata": {},
   "outputs": [],
   "source": []
  },
  {
   "cell_type": "code",
   "execution_count": 9,
   "metadata": {},
   "outputs": [
    {
     "name": "stdout",
     "output_type": "stream",
     "text": [
      "Final dictionary of character counts= {'स्': 1064917, 'व्': 1001996, 'अ': 6855953, 'प्': 786209, 'न्': 1120586, 'द्': 537364, 'आ': 4599084, 'ख्': 154241, 'इ': 990454, 'ण्': 581587, 'ए': 1768964, 'श्': 338085, 'र्': 1914384, 'त्': 1624492, 'ह्': 840895, 'ई': 1428993, 'ल्': 1164085, 'ओ': 532459, 'क्': 1316303, 'अं': 855856, 'ऊ': 335137, 'ड्': 272893, 'म्': 863363, 'उ': 500902, 'ब्': 296988, 'च्': 745236, 'भ्': 162549, 'ळ्': 211142, 'य्': 1436809, 'ज्': 404069, 'झ्': 72749, 'ध्': 259095, 'ट्': 317270, 'ग्': 398682, 'ष्': 186885, 'थ्': 115671, 'घ्': 110235, 'फ्': 83797, 'ठ्': 141587, 'ऑ': 54414, 'औ': 23804, 'ऐ': 41961, 'ढ्': 46144, 'ॲ': 46251, 'छ्': 14434, 'अः': 5060, 'ञ्': 7151, 'ङ्': 227}\n",
      "Descending order of (unigram)character count:  {'अ': 6855953, 'आ': 4599084, 'र्': 1914384, 'ए': 1768964, 'त्': 1624492, 'य्': 1436809, 'ई': 1428993, 'क्': 1316303, 'ल्': 1164085, 'न्': 1120586, 'स्': 1064917, 'व्': 1001996, 'इ': 990454, 'म्': 863363, 'अं': 855856, 'ह्': 840895, 'प्': 786209, 'च्': 745236, 'ण्': 581587, 'द्': 537364, 'ओ': 532459, 'उ': 500902, 'ज्': 404069, 'ग्': 398682, 'श्': 338085, 'ऊ': 335137, 'ट्': 317270, 'ब्': 296988, 'ड्': 272893, 'ध्': 259095, 'ळ्': 211142, 'ष्': 186885, 'भ्': 162549, 'ख्': 154241, 'ठ्': 141587, 'थ्': 115671, 'घ्': 110235, 'फ्': 83797, 'झ्': 72749, 'ऑ': 54414, 'ॲ': 46251, 'ढ्': 46144, 'ऐ': 41961, 'औ': 23804, 'छ्': 14434, 'ञ्': 7151, 'अः': 5060, 'ङ्': 227}\n"
     ]
    }
   ],
   "source": [
    "print(\"Final dictionary of character counts=\",Char_counts)\n",
    "Desc_char_count = dict(sorted(Char_counts.items(), key=lambda item: item[1], reverse=True))\n",
    "print(\"Descending order of (unigram)character count: \", Desc_char_count)  "
   ]
  },
  {
   "cell_type": "code",
   "execution_count": 10,
   "metadata": {},
   "outputs": [
    {
     "name": "stdout",
     "output_type": "stream",
     "text": [
      "bigramCharacters of first 2 sentences of corpus:  [['स्व्', 'व्अ', 'अप्', 'प्न्', 'न्अ', 'द्आ', 'आख्', 'ख्अ', 'अव्', 'व्इ', 'इण्', 'ण्ए', 'आण्', 'ण्इ', 'आश्', 'श्व्', 'व्आ', 'आस्', 'स्अ', 'अन्', 'न्ए', 'द्ए', 'एण्', 'ण्आ', 'आर्', 'र्ए', 'न्ए', 'एत्', 'त्ए', 'एह्', 'ह्ई', 'ल्ओ', 'ओक्', 'क्आ', 'आअं', 'अंन्', 'न्आ', 'ख्ऊ', 'ऊप्', 'प्अ', 'आव्', 'व्अ', 'अड्', 'ड्अ', 'अत्', 'त्आ', 'आत्', 'त्अ'], ['म्उ', 'उल्', 'ल्आ', 'आअं', 'अंस्', 'स्ओ', 'ओब्', 'ब्अ', 'अत्', 'त्अ', 'अच्', 'च्अ', 'प्आ', 'आल्', 'ल्अ', 'अक्', 'क्आ', 'आअं', 'अंन्', 'न्आ', 'स्आ', 'आअं', 'अंभ्', 'भ्आ', 'आळ्', 'ळ्अ', 'अण्', 'ण्य्', 'य्आ', 'आच्', 'च्ई', 'ज्अ', 'अब्', 'ब्आ', 'आब्', 'ब्अ', 'अद्', 'द्आ', 'आर्', 'र्ई', 'ह्ई', 'व्इ', 'इव्', 'व्आ', 'आह्', 'ह्ई', 'ईत्', 'त्अ', 'म्अ', 'अह्', 'ह्इ', 'इल्', 'ल्आ', 'आअं', 'अंच्', 'च्ई', 'ईह्', 'ह्ई', 'आह्', 'ह्ए', 'क्ए', 'एव्', 'व्अ', 'अळ्', 'ळ्अ', 'व्इ', 'इव्', 'व्आ', 'आह्', 'ह्अ', 'झ्आ', 'आल्', 'ल्आ', 'आय्', 'य्अ', 'म्ह्', 'ह्अ', 'अण्', 'ण्ऊ', 'ऊन्', 'न्अ', 'व्अ', 'अद्', 'द्ध्', 'ध्अ', 'प्आ', 'आल्', 'ल्अ', 'अक्', 'क्आ', 'आअं', 'अंच्', 'च्ई', 'ज्अ', 'अब्', 'ब्आ', 'आब्', 'ब्अ', 'अद्', 'द्आ', 'आर्', 'र्ई', 'त्य्', 'य्आ', 'आअं', 'अंन्', 'न्आ', 'झ्अ', 'अट्', 'ट्अ', 'अक्', 'क्अ', 'अत्', 'त्आ', 'य्ए', 'एण्', 'ण्आ', 'आर्', 'र्अ', 'न्आ', 'आह्', 'ह्ई', 'अस्', 'स्अं', 'ह्आ', 'आय्', 'य्अ', 'अक्', 'क्ओ', 'ओर्', 'र्ट्', 'ट्आ', 'आन्', 'न्अं', 'म्ह्', 'ह्अ', 'अट्', 'ट्अ', 'अल्', 'ल्अं', 'अंय्', 'य्अ']]\n",
      "Descending order of count of bigram Syllables (Showing top 20):  {'य्आ': 962736, 'र्अ': 918332, 'अर्': 778876, 'त्अ': 698229, 'क्अ': 545709, 'न्अ': 440480, 'व्अ': 425171, 'स्अ': 391789, 'आर्': 387314, 'अत्': 371181, 'आअं': 343361, 'अल्': 339397, 'प्अ': 327354, 'अक्': 322695, 'आह्': 321174, 'आत्': 318498, 'म्अ': 312842, 'अण्': 308825, 'ल्अ': 300442, 'क्आ': 293841}\n"
     ]
    }
   ],
   "source": [
    "print(\"bigramCharacters of first 2 sentences of corpus: \",sequential_bigram_char_corpus[:2])\n",
    "Desc_bigramChar_count = dict(sorted(Bigram_Char_counts.items(), key=lambda item: item[1], reverse=True))\n",
    "print(\"Descending order of count of bigram Syllables (Showing top 20): \", dict(list(Desc_bigramChar_count.items())[:20]))"
   ]
  },
  {
   "cell_type": "markdown",
   "metadata": {},
   "source": [
    "Storing these unigram character count and bigram character counts in descending order"
   ]
  },
  {
   "cell_type": "code",
   "execution_count": 22,
   "metadata": {},
   "outputs": [
    {
     "name": "stdout",
     "output_type": "stream",
     "text": [
      "unigram character counts(descending) are stored in frequencies/Question2/Desc_Unigram_char_count.json folder\n",
      "bigram character counts(descending) are stored in frequencies/Question2/Desc_bigram_char_count.json\n"
     ]
    }
   ],
   "source": [
    "import os\n",
    "import json\n",
    "output_directory = \"frequencies/Question2/\"\n",
    "os.makedirs(output_directory, exist_ok=True)\n",
    "\n",
    "unigram_char_count_path = os.path.join(output_directory, 'Desc_Unigram_char_count.json')\n",
    "readable_unigram_chars = json.dumps(Desc_char_count, ensure_ascii=False, indent=2)\n",
    "with open(unigram_char_count_path, 'w') as json_file:\n",
    "    json_file.write(readable_unigram_chars)\n",
    "print(\"unigram character counts(descending) are stored in frequencies/Question2/Desc_Unigram_char_count.json folder\")\n",
    "\n",
    "bigram_char_count_path = os.path.join(output_directory, 'Desc_bigram_char_count.json')\n",
    "readable_bigram_chars = json.dumps(Desc_bigramChar_count, ensure_ascii=False, indent=2)\n",
    "with open(bigram_char_count_path, 'w') as json_file:\n",
    "    json_file.write(readable_bigram_chars)\n",
    "print(\"bigram character counts(descending) are stored in frequencies/Question2/Desc_bigram_char_count.json\")\n"
   ]
  },
  {
   "cell_type": "markdown",
   "metadata": {},
   "source": [
    "### Part2: Working with Syllables"
   ]
  },
  {
   "cell_type": "code",
   "execution_count": 11,
   "metadata": {},
   "outputs": [],
   "source": [
    "#part 2: Working with syllables. \n",
    "\n",
    "#Function to store count of Syllables or unigram Syllables\n",
    "def syllable_count(user_input2):\n",
    "    syllable_count={}\n",
    "    correct_input2=unicode_correction(user_input2)\n",
    "    input2_len=len(correct_input2)\n",
    "    current_syllable=\"\"\n",
    "    i=0\n",
    "    while(i< input2_len):\n",
    "        if(correct_input2[i]==\" \"):\n",
    "            current_syllable=\"\"\n",
    "            i+=1\n",
    "        elif(correct_input2[i] in swar):                          #first i am checking if there is only swars continuously occuring or not e.g. in ओंकार : ओं as ओ अं \n",
    "            while(i<input2_len and correct_input2[i] in swar):  #iterating over all swars continuously to make one swar syllable e.g. ओं\n",
    "                current_syllable+=correct_input2[i]\n",
    "                i+=1\n",
    "            if(current_syllable not in syllable_count):\n",
    "                syllable_count[current_syllable]=1\n",
    "            else:\n",
    "                syllable_count[current_syllable]+=1\n",
    "            current_syllable=\"\"                                 #As syllable count is inserted into dictionary hence\n",
    "\n",
    "        elif(correct_input2[i] in halant_vyanjana_map):         #if syllable starting with vyanjana then we consider \n",
    "                                                                #all halant vyanjana +all swars following that. \n",
    "                                                                #after that when new vyanjan comes I will stop. Same thing is written in comments below step by step\n",
    "\n",
    "            while(i<input2_len and correct_input2[i] in halant_vyanjana_map):   #syllable starting with vyanjana. hence consider all vyanjana\n",
    "                current_syllable+=correct_input2[i]                             \n",
    "                i+=1   \n",
    "            current_syllable=current_syllable[:-1]              #last vyanjana of that should be full vyanjana so that we can use all matras on that\n",
    "                                                                #Hence I am removing halant from last vyanjana to make it full vyanjana\n",
    "                                                                #e.g. क् is stored as 'क' + '्' Hence removing '्' from last halant vyanjana to make it\n",
    "                                                                #full vyanjana\n",
    "            \n",
    "            while(i<input2_len and correct_input2[i] in swar):\n",
    "                if(correct_input2[i]=='अ'):                     #ignoring 'अ' because i have already made last vyanjana as full vyanjana\n",
    "                    i=i+1\n",
    "                    continue\n",
    "                current_syllable+=reversed_swar_matra_map[correct_input2[i]]  #inserting matra of that swar e.g. if swar is ई then inserting 'ी'\n",
    "                i+=1\n",
    "            if(current_syllable not in syllable_count):         #storing count of syllable in dictionary\n",
    "                syllable_count[current_syllable]=1\n",
    "            else:\n",
    "                syllable_count[current_syllable]+=1\n",
    "            current_syllable=\"\"                                 #current syllable completed hence start new syllable with empty string\n",
    "    return syllable_count\n",
    "\n"
   ]
  },
  {
   "cell_type": "code",
   "execution_count": 12,
   "metadata": {},
   "outputs": [],
   "source": [
    "def bigram_syllable(user_input2):               #same as Syllable Count function. Just some Modifications for bigram Syllables\n",
    "    bigram_syllable_count={}\n",
    "    #print(\"Actual input: \", user_input2)\n",
    "    correct_input2=unicode_correction(user_input2)\n",
    "    #print(\"Corrected input is: \", correct_input2)\n",
    "    input2_len=len(correct_input2)\n",
    "    sentence_Bigram_syllables=[]       #Just in case if we want to view all Bigram syllables in sequencial order of occurance in sentence\n",
    "    \n",
    "    temp=\"\"             #to store last syllable of previous bigramSyllable so that it can be used as first syllable for next bigramSyllable\n",
    "    bigram_syl=\"\"   \n",
    "\n",
    "    #just look, itis almost similar to syllable_count function. Just minor changes.\n",
    "    #if not able to understand. See bigram Character Count function code. Logic is same here also\n",
    "    current_syllable=\"\"\n",
    "    i=0\n",
    "    while(i< input2_len):\n",
    "        if(correct_input2[i]==\" \"):\n",
    "            current_syllable=\"\"\n",
    "            temp=\"\"     #emptying temp because word is completed. Hence Last syllable of word is not useful for next bigramSyllable\n",
    "            bigram_syl=\"\"\n",
    "            i+=1\n",
    "        elif(correct_input2[i] in swar):                          \n",
    "            while(i<input2_len and correct_input2[i] in swar):  \n",
    "                current_syllable+=correct_input2[i]\n",
    "                i+=1\n",
    "\n",
    "            #This code is specific to bigram Syllables function   \n",
    "            temp=current_syllable           #storing current syllable as it may be used as first syllable in next bigramSyllable\n",
    "            if(len(bigram_syl)>0):          #if it is not first bigram_syllable of the word. i.e. temp is already present as first syllable of current bigramSyllable\n",
    "                bigram_syl+=current_syllable        #then just insert next syllable in bigramSyllable. Now this bigram is completed\n",
    "                \n",
    "                if(bigram_syl not in bigram_syllable_count):        #just to store count of bigramSyllables\n",
    "                    bigram_syllable_count[bigram_syl]=1\n",
    "                else:\n",
    "                    bigram_syllable_count[bigram_syl]+=1\n",
    "\n",
    "                sentence_Bigram_syllables.append(bigram_syl)          #complete Bigram syllable inserting in list       \n",
    "\n",
    "                bigram_syl=temp                 #Bigram is completed. The Current Syllable i.e. last syllable of our completed bigram is now first syllable of next bigram\n",
    "            else:\n",
    "                bigram_syl=current_syllable     #It is first syllable of the word. Hence store it\n",
    "                temp=\"\"                         #as it won't be used for next bigram, just erase temp\n",
    "            \n",
    "            #till here\n",
    "                \n",
    "        #Following code is same as syllable_count function\n",
    "            current_syllable=\"\"                                  \n",
    "\n",
    "        elif(correct_input2[i] in halant_vyanjana_map):         \n",
    "            while(i<input2_len and correct_input2[i] in halant_vyanjana_map):   \n",
    "                current_syllable+=correct_input2[i]                             \n",
    "                i+=1   \n",
    "            current_syllable=current_syllable[:-1]              \n",
    "                                                                \n",
    "            while(i<input2_len and correct_input2[i] in swar):\n",
    "                if(correct_input2[i]=='अ'):                     \n",
    "                    i=i+1\n",
    "                    continue\n",
    "                current_syllable+=reversed_swar_matra_map[correct_input2[i]]  \n",
    "                i+=1\n",
    "        #Till Here\n",
    "                \n",
    "\n",
    "            #Following code is specific to bigram Syllables function               \n",
    "            temp=current_syllable              #storing current syllable as it may be used as first syllable in next bigramSyllable\n",
    "            if(len(bigram_syl)>0):              #if it is not first bigram_syllable of the word. i.e. temp is already present as first syllable of current bigramSyllable\n",
    "                bigram_syl+=current_syllable    #then just insert next syllable in bigramSyllable. Now this bigram is completed\n",
    "                # print(\" this bigram: \", bigram_syl)\n",
    "\n",
    "                if(bigram_syl not in bigram_syllable_count):    #just to store count of bigramSyllables\n",
    "                    bigram_syllable_count[bigram_syl]=1\n",
    "                else:\n",
    "                    bigram_syllable_count[bigram_syl]+=1\n",
    "\n",
    "                sentence_Bigram_syllables.append(bigram_syl)          #complete Bigram syllable inserting in list\n",
    "\n",
    "                bigram_syl=temp                #Bigram is completed. The Current Syllable i.e. last syllable of our completed bigram is now first syllable of next bigram\n",
    "            else:\n",
    "                bigram_syl=current_syllable     #It is first syllable of the word. Hence store it\n",
    "                temp=\"\"                            #as it won't be used for next bigram, just erase temp\n",
    "            \n",
    "            #till here\n",
    "            current_syllable=\"\"                                 #as complete syllable if found\n",
    "    \n",
    "\n",
    "    return (bigram_syllable_count,sentence_Bigram_syllables)    \n"
   ]
  },
  {
   "cell_type": "markdown",
   "metadata": {},
   "source": [
    "#### Unigram and bigram syllable counting of any random Sentence as an input"
   ]
  },
  {
   "cell_type": "code",
   "execution_count": 13,
   "metadata": {},
   "outputs": [],
   "source": [
    "sentence_input=\"लोणच्याची लोणच्याची एकदा आलू पराठ्याच्या\""
   ]
  },
  {
   "cell_type": "code",
   "execution_count": 14,
   "metadata": {},
   "outputs": [
    {
     "name": "stdout",
     "output_type": "stream",
     "text": [
      "Actual sentence input:  लोणच्याची लोणच्याची एकदा आलू पराठ्याच्या\n",
      "Syllables and their counts:  {'लो': 2, 'ण': 2, 'च्या': 3, 'ची': 2, 'ए': 1, 'क': 1, 'दा': 1, 'आ': 1, 'लू': 1, 'प': 1, 'रा': 1, 'ठ्या': 1}\n",
      "Descending order of count:  {'च्या': 3, 'लो': 2, 'ण': 2, 'ची': 2, 'ए': 1, 'क': 1, 'दा': 1, 'आ': 1, 'लू': 1, 'प': 1, 'रा': 1, 'ठ्या': 1}\n"
     ]
    }
   ],
   "source": [
    "#unigram Syllable counting \n",
    "print(\"Actual sentence input: \",sentence_input)\n",
    "count_of_syllables=syllable_count(sentence_input)\n",
    "print(\"Syllables and their counts: \",count_of_syllables)\n",
    "descending_syllable_count = dict(sorted(count_of_syllables.items(), key=lambda item: item[1], reverse=True))\n",
    "print(\"Descending order of count: \", descending_syllable_count)"
   ]
  },
  {
   "cell_type": "code",
   "execution_count": 15,
   "metadata": {},
   "outputs": [
    {
     "name": "stdout",
     "output_type": "stream",
     "text": [
      "Actual sentence input:  लोणच्याची लोणच्याची एकदा आलू पराठ्याच्या\n",
      "BigramSyllables in sequence:  ['लोण', 'णच्या', 'च्याची', 'लोण', 'णच्या', 'च्याची', 'एक', 'कदा', 'आलू', 'परा', 'राठ्या', 'ठ्याच्या']\n",
      "BigramSyllables and their counts:  {'लोण': 2, 'णच्या': 2, 'च्याची': 2, 'एक': 1, 'कदा': 1, 'आलू': 1, 'परा': 1, 'राठ्या': 1, 'ठ्याच्या': 1}\n",
      "Descending order of count:  {'लोण': 2, 'णच्या': 2, 'च्याची': 2, 'एक': 1, 'कदा': 1, 'आलू': 1, 'परा': 1, 'राठ्या': 1, 'ठ्याच्या': 1}\n"
     ]
    }
   ],
   "source": [
    "#bigram Syllable Counting\n",
    "print(\"Actual sentence input: \",sentence_input)\n",
    "count_of_syllablesBigrams,sentence_syllablesBigrams=bigram_syllable(sentence_input)\n",
    "print(\"BigramSyllables in sequence: \",sentence_syllablesBigrams)\n",
    "print(\"BigramSyllables and their counts: \",count_of_syllablesBigrams)\n",
    "descending_Bigram_syllable = dict(sorted(count_of_syllablesBigrams.items(), key=lambda item: item[1], reverse=True))\n",
    "print(\"Descending order of count: \", descending_Bigram_syllable)"
   ]
  },
  {
   "cell_type": "markdown",
   "metadata": {},
   "source": [
    "#### Unigram and bigram syllable counting of corpus as an input"
   ]
  },
  {
   "cell_type": "code",
   "execution_count": 16,
   "metadata": {},
   "outputs": [],
   "source": [
    "\n",
    "syl_counts={}               #to measure overall unigram syllable count of corpus\n",
    "Bigram_syl_counts={}        #to measure overall bigram syllable count of corpus\n",
    "sequential_bigram_syl_corpus=[]     #to get all bigram syllables in same order of corpus\n",
    "with open('corpus/mr_100.txt', 'r', encoding='utf-8',errors='ignore') as raw_file:\n",
    "    # Iterate through each line (sentence)\n",
    "    for sentence in raw_file:\n",
    "        # Remove leading and trailing whitespaces from the sentence\n",
    "        sentence = sentence.strip()\n",
    "        if not sentence:        #empty line\n",
    "            continue\n",
    "        bigram_syl_in_sentences=[]\n",
    "        #print(sentence)\n",
    "        sentence_syl_count=syllable_count(sentence)\n",
    "        sentence_bigramSyl_count,bigram_syl_in_sentences=bigram_syllable(sentence)      \n",
    "\n",
    "        sequential_bigram_syl_corpus.append(bigram_syl_in_sentences)        #append bigram syllable of sentence to bigram syllables of corpus list\n",
    "\n",
    "        for key in sentence_syl_count:              \n",
    "            if(key in syl_counts):\n",
    "                syl_counts[key]+=sentence_syl_count[key]\n",
    "            else:\n",
    "                syl_counts[key]=sentence_syl_count[key]\n",
    "        \n",
    "        for key in sentence_bigramSyl_count:\n",
    "            if(key in Bigram_syl_counts):\n",
    "                Bigram_syl_counts[key]+=sentence_bigramSyl_count[key]\n",
    "            else:\n",
    "                Bigram_syl_counts[key]=sentence_bigramSyl_count[key]\n"
   ]
  },
  {
   "cell_type": "code",
   "execution_count": 17,
   "metadata": {},
   "outputs": [
    {
     "name": "stdout",
     "output_type": "stream",
     "text": [
      "Descending order of count of unigram syllables (Showing top 20):  {'र': 713259, 'त': 643455, 'क': 529902, 'आ': 472813, 'न': 420917, 'व': 373818, 'स': 366527, 'प': 307264, 'ल': 296066, 'म': 293359, 'अ': 275505, 'का': 245197, 'ला': 240065, 'हे': 212532, 'ना': 206282, 'रा': 190839, 'वा': 190312, 'ले': 183266, 'या': 182169, 'मा': 166292}\n"
     ]
    }
   ],
   "source": [
    "\n",
    "Desc_syl_count = dict(sorted(syl_counts.items(), key=lambda item: item[1], reverse=True))\n",
    "print(\"Descending order of count of unigram syllables (Showing top 20): \", dict(list(Desc_syl_count.items())[:20]))   \n",
    "#print(\"Entire Final unigram syllable dictionary in descending order=\",Desc_syl_count)\n"
   ]
  },
  {
   "cell_type": "code",
   "execution_count": 18,
   "metadata": {},
   "outputs": [
    {
     "name": "stdout",
     "output_type": "stream",
     "text": [
      "bigramSyllables of first 2 sentences of corpus:  [['स्वप्न', 'दाख', 'खवि', 'विणे', 'आणि', 'आश्वा', 'श्वास', 'सने', 'देणा', 'णारे', 'नेते', 'तेही', 'लोकां', 'कांना', 'खूप', 'आव', 'वड', 'डता', 'तात'], ['मुलां', 'लांसो', 'सोब', 'बत', 'तच', 'पाल', 'लकां', 'कांना', 'सांभा', 'भाळ', 'ळण्या', 'ण्याची', 'जबा', 'बाब', 'बदा', 'दारी', 'विवा', 'वाही', 'हीत', 'महि', 'हिलां', 'लांची', 'चीही', 'आहे', 'केव', 'वळ', 'विवा', 'वाह', 'झाला', 'लाय', 'म्हणू', 'णून', 'वद्ध', 'पाल', 'लकां', 'कांची', 'जबा', 'बाब', 'बदा', 'दारी', 'त्यांना', 'झट', 'टक', 'कता', 'येणा', 'णार', 'नाही', 'असं', 'हाय', 'यको', 'कोर्टा', 'र्टानं', 'म्हट', 'टलं', 'लंय']]\n",
      "Descending order of count of bigram Syllables (Showing top 20):  {'आहे': 169220, 'कर': 100478, 'आणि': 81299, 'वर': 70437, 'तर': 58607, 'अस': 54025, 'साठी': 50545, 'मध्ये': 45162, 'एक': 45068, 'कार': 44523, 'तील': 44063, 'नाही': 42165, 'रण्या': 39089, 'ण्यात': 34398, 'हेत': 32534, 'आप': 32016, 'मुळे': 29398, 'पण': 29305, 'णार': 27937, 'सून': 26888}\n"
     ]
    }
   ],
   "source": [
    "print(\"bigramSyllables of first 2 sentences of corpus: \",sequential_bigram_syl_corpus[:2])\n",
    "Desc_bigramSyl_count = dict(sorted(Bigram_syl_counts.items(), key=lambda item: item[1], reverse=True))\n",
    "print(\"Descending order of count of bigram Syllables (Showing top 20): \", dict(list(Desc_bigramSyl_count.items())[:20]))\n",
    "#print(\"Entire Final bigram syllable dictionary in descending order=\",Desc_bigramSyl_count)"
   ]
  },
  {
   "cell_type": "markdown",
   "metadata": {},
   "source": [
    "Storing unigram syllable count and bigram syllable count in descending order"
   ]
  },
  {
   "cell_type": "code",
   "execution_count": 24,
   "metadata": {},
   "outputs": [
    {
     "name": "stdout",
     "output_type": "stream",
     "text": [
      "unigram syllables counts(descending) are stored in frequencies/Question2/Desc_Unigram_syl_count.json\n",
      "bigram syllables counts(descending) are stored in frequencies/Question2/Desc_bigram_syl_count.json\n"
     ]
    }
   ],
   "source": [
    "import os\n",
    "import json\n",
    "output_directory = \"frequencies/Question2/\"\n",
    "os.makedirs(output_directory, exist_ok=True)\n",
    "\n",
    "unigram_syl_count_path = os.path.join(output_directory, 'Desc_Unigram_syl_count.json')\n",
    "readable_unigram_syls = json.dumps(Desc_syl_count, ensure_ascii=False, indent=2)\n",
    "with open(unigram_syl_count_path, 'w') as json_file:\n",
    "    json_file.write(readable_unigram_syls)\n",
    "print(\"unigram syllables counts(descending) are stored in frequencies/Question2/Desc_Unigram_syl_count.json\")\n",
    "\n",
    "bigram_syl_count_path = os.path.join(output_directory, 'Desc_bigram_syl_count.json')\n",
    "readable_bigram_syllables = json.dumps(Desc_bigramSyl_count, ensure_ascii=False, indent=2)\n",
    "with open(bigram_syl_count_path, 'w') as json_file:\n",
    "    json_file.write(readable_bigram_syllables)\n",
    "print(\"bigram syllables counts(descending) are stored in frequencies/Question2/Desc_bigram_syl_count.json\")\n"
   ]
  },
  {
   "cell_type": "code",
   "execution_count": null,
   "metadata": {},
   "outputs": [],
   "source": []
  }
 ],
 "metadata": {
  "kernelspec": {
   "display_name": "iitkMtech",
   "language": "python",
   "name": "python3"
  },
  "language_info": {
   "codemirror_mode": {
    "name": "ipython",
    "version": 3
   },
   "file_extension": ".py",
   "mimetype": "text/x-python",
   "name": "python",
   "nbconvert_exporter": "python",
   "pygments_lexer": "ipython3",
   "version": "3.12.1"
  }
 },
 "nbformat": 4,
 "nbformat_minor": 2
}
