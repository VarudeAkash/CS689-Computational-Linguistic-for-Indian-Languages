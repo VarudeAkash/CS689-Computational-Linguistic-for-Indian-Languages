{
  "cells": [
    {
      "cell_type": "markdown",
      "metadata": {
        "id": "NDuhg1UwdQpI"
      },
      "source": [
        "# This Notebook uses the Indic-BERT model which i have already Trained and fine_tuned on Naampadam (marathi) dataset.\n",
        "### (training and finetuning of this model is done by another notebook named 'training_indicBERT')\n"
      ]
    },
    {
      "cell_type": "code",
      "execution_count": 1,
      "metadata": {
        "id": "Se8Q82VVz2ka",
        "colab": {
          "base_uri": "https://localhost:8080/"
        },
        "outputId": "03d51479-5995-4080-e9ee-c00587fb03c8"
      },
      "outputs": [
        {
          "output_type": "stream",
          "name": "stdout",
          "text": [
            "Mounted at /content/drive\n"
          ]
        }
      ],
      "source": [
        "from google.colab import drive\n",
        "drive.mount('/content/drive')"
      ]
    },
    {
      "cell_type": "code",
      "execution_count": 4,
      "metadata": {
        "colab": {
          "base_uri": "https://localhost:8080/"
        },
        "id": "WYLqQc1_zFK9",
        "outputId": "65ce98f3-2154-4a5e-f84c-963a2340b76d"
      },
      "outputs": [
        {
          "output_type": "stream",
          "name": "stdout",
          "text": [
            "Collecting accelerate\n",
            "  Downloading accelerate-0.27.2-py3-none-any.whl (279 kB)\n",
            "\u001b[?25l     \u001b[90m━━━━━━━━━━━━━━━━━━━━━━━━━━━━━━━━━━━━━━━━\u001b[0m \u001b[32m0.0/280.0 kB\u001b[0m \u001b[31m?\u001b[0m eta \u001b[36m-:--:--\u001b[0m\r\u001b[2K     \u001b[91m━━━━━\u001b[0m\u001b[91m╸\u001b[0m\u001b[90m━━━━━━━━━━━━━━━━━━━━━━━━━━━━━━━━━━\u001b[0m \u001b[32m41.0/280.0 kB\u001b[0m \u001b[31m1.1 MB/s\u001b[0m eta \u001b[36m0:00:01\u001b[0m\r\u001b[2K     \u001b[90m━━━━━━━━━━━━━━━━━━━━━━━━━━━━━━━━━━━━━━━━\u001b[0m \u001b[32m280.0/280.0 kB\u001b[0m \u001b[31m4.0 MB/s\u001b[0m eta \u001b[36m0:00:00\u001b[0m\n",
            "\u001b[?25hRequirement already satisfied: numpy>=1.17 in /usr/local/lib/python3.10/dist-packages (from accelerate) (1.25.2)\n",
            "Requirement already satisfied: packaging>=20.0 in /usr/local/lib/python3.10/dist-packages (from accelerate) (23.2)\n",
            "Requirement already satisfied: psutil in /usr/local/lib/python3.10/dist-packages (from accelerate) (5.9.5)\n",
            "Requirement already satisfied: pyyaml in /usr/local/lib/python3.10/dist-packages (from accelerate) (6.0.1)\n",
            "Requirement already satisfied: torch>=1.10.0 in /usr/local/lib/python3.10/dist-packages (from accelerate) (2.1.0+cu121)\n",
            "Requirement already satisfied: huggingface-hub in /usr/local/lib/python3.10/dist-packages (from accelerate) (0.20.3)\n",
            "Requirement already satisfied: safetensors>=0.3.1 in /usr/local/lib/python3.10/dist-packages (from accelerate) (0.4.2)\n",
            "Requirement already satisfied: filelock in /usr/local/lib/python3.10/dist-packages (from torch>=1.10.0->accelerate) (3.13.1)\n",
            "Requirement already satisfied: typing-extensions in /usr/local/lib/python3.10/dist-packages (from torch>=1.10.0->accelerate) (4.10.0)\n",
            "Requirement already satisfied: sympy in /usr/local/lib/python3.10/dist-packages (from torch>=1.10.0->accelerate) (1.12)\n",
            "Requirement already satisfied: networkx in /usr/local/lib/python3.10/dist-packages (from torch>=1.10.0->accelerate) (3.2.1)\n",
            "Requirement already satisfied: jinja2 in /usr/local/lib/python3.10/dist-packages (from torch>=1.10.0->accelerate) (3.1.3)\n",
            "Requirement already satisfied: fsspec in /usr/local/lib/python3.10/dist-packages (from torch>=1.10.0->accelerate) (2023.6.0)\n",
            "Requirement already satisfied: triton==2.1.0 in /usr/local/lib/python3.10/dist-packages (from torch>=1.10.0->accelerate) (2.1.0)\n",
            "Requirement already satisfied: requests in /usr/local/lib/python3.10/dist-packages (from huggingface-hub->accelerate) (2.31.0)\n",
            "Requirement already satisfied: tqdm>=4.42.1 in /usr/local/lib/python3.10/dist-packages (from huggingface-hub->accelerate) (4.66.2)\n",
            "Requirement already satisfied: MarkupSafe>=2.0 in /usr/local/lib/python3.10/dist-packages (from jinja2->torch>=1.10.0->accelerate) (2.1.5)\n",
            "Requirement already satisfied: charset-normalizer<4,>=2 in /usr/local/lib/python3.10/dist-packages (from requests->huggingface-hub->accelerate) (3.3.2)\n",
            "Requirement already satisfied: idna<4,>=2.5 in /usr/local/lib/python3.10/dist-packages (from requests->huggingface-hub->accelerate) (3.6)\n",
            "Requirement already satisfied: urllib3<3,>=1.21.1 in /usr/local/lib/python3.10/dist-packages (from requests->huggingface-hub->accelerate) (2.0.7)\n",
            "Requirement already satisfied: certifi>=2017.4.17 in /usr/local/lib/python3.10/dist-packages (from requests->huggingface-hub->accelerate) (2024.2.2)\n",
            "Requirement already satisfied: mpmath>=0.19 in /usr/local/lib/python3.10/dist-packages (from sympy->torch>=1.10.0->accelerate) (1.3.0)\n",
            "Installing collected packages: accelerate\n",
            "Successfully installed accelerate-0.27.2\n",
            "\u001b[2K     \u001b[90m━━━━━━━━━━━━━━━━━━━━━━━━━━━━━━━━━━━━━━━━\u001b[0m \u001b[32m510.5/510.5 kB\u001b[0m \u001b[31m11.1 MB/s\u001b[0m eta \u001b[36m0:00:00\u001b[0m\n",
            "\u001b[?25h  Preparing metadata (setup.py) ... \u001b[?25l\u001b[?25hdone\n",
            "\u001b[2K     \u001b[90m━━━━━━━━━━━━━━━━━━━━━━━━━━━━━━━━━━━━━━━━\u001b[0m \u001b[32m116.3/116.3 kB\u001b[0m \u001b[31m15.2 MB/s\u001b[0m eta \u001b[36m0:00:00\u001b[0m\n",
            "\u001b[2K     \u001b[90m━━━━━━━━━━━━━━━━━━━━━━━━━━━━━━━━━━━━━━━━\u001b[0m \u001b[32m134.8/134.8 kB\u001b[0m \u001b[31m13.3 MB/s\u001b[0m eta \u001b[36m0:00:00\u001b[0m\n",
            "\u001b[?25h  Building wheel for segeval (setup.py) ... \u001b[?25l\u001b[?25hdone\n",
            "Collecting seqeval\n",
            "  Downloading seqeval-1.2.2.tar.gz (43 kB)\n",
            "\u001b[2K     \u001b[90m━━━━━━━━━━━━━━━━━━━━━━━━━━━━━━━━━━━━━━━━\u001b[0m \u001b[32m43.6/43.6 kB\u001b[0m \u001b[31m1.6 MB/s\u001b[0m eta \u001b[36m0:00:00\u001b[0m\n",
            "\u001b[?25h  Preparing metadata (setup.py) ... \u001b[?25l\u001b[?25hdone\n",
            "Requirement already satisfied: numpy>=1.14.0 in /usr/local/lib/python3.10/dist-packages (from seqeval) (1.25.2)\n",
            "Requirement already satisfied: scikit-learn>=0.21.3 in /usr/local/lib/python3.10/dist-packages (from seqeval) (1.2.2)\n",
            "Requirement already satisfied: scipy>=1.3.2 in /usr/local/lib/python3.10/dist-packages (from scikit-learn>=0.21.3->seqeval) (1.11.4)\n",
            "Requirement already satisfied: joblib>=1.1.1 in /usr/local/lib/python3.10/dist-packages (from scikit-learn>=0.21.3->seqeval) (1.3.2)\n",
            "Requirement already satisfied: threadpoolctl>=2.0.0 in /usr/local/lib/python3.10/dist-packages (from scikit-learn>=0.21.3->seqeval) (3.3.0)\n",
            "Building wheels for collected packages: seqeval\n",
            "  Building wheel for seqeval (setup.py) ... \u001b[?25l\u001b[?25hdone\n",
            "  Created wheel for seqeval: filename=seqeval-1.2.2-py3-none-any.whl size=16162 sha256=ceeac56223de115447591695fab73f237e8c08d58df63dc572d2af2bef3595c3\n",
            "  Stored in directory: /root/.cache/pip/wheels/1a/67/4a/ad4082dd7dfc30f2abfe4d80a2ed5926a506eb8a972b4767fa\n",
            "Successfully built seqeval\n",
            "Installing collected packages: seqeval\n",
            "Successfully installed seqeval-1.2.2\n"
          ]
        }
      ],
      "source": [
        "!pip install accelerate -U\n",
        "!pip install transformers datasets sentencepiece tokenizers segeval -q\n",
        "!pip3 install seqeval"
      ]
    },
    {
      "cell_type": "code",
      "execution_count": 5,
      "metadata": {
        "id": "Z2vfxQgNzSrA"
      },
      "outputs": [],
      "source": [
        "from transformers import AutoTokenizer, AutoModelForTokenClassification\n",
        "import torch\n",
        "from transformers import AutoTokenizer, AutoModelForTokenClassification\n",
        "from datasets import ClassLabel, load_dataset, load_metric, DownloadMode\n",
        "from transformers import TrainingArguments, Trainer, DataCollatorForTokenClassification\n",
        "import accelerate\n",
        "import torch\n",
        "import numpy as np\n",
        "import json\n",
        "import os"
      ]
    },
    {
      "cell_type": "code",
      "execution_count": 6,
      "metadata": {
        "id": "gNYaSxIP1Lwj"
      },
      "outputs": [],
      "source": [
        "tokenizer = AutoTokenizer.from_pretrained('/content/drive/MyDrive/Mtech/IndicBERT_for_NER/SavedModel/tokenizer')\n",
        "model = AutoModelForTokenClassification.from_pretrained('/content/drive/MyDrive/Mtech/IndicBERT_for_NER/SavedModel/indicBERT_NER_model')\n",
        "data_collator = DataCollatorForTokenClassification(tokenizer)"
      ]
    },
    {
      "cell_type": "code",
      "execution_count": 7,
      "metadata": {
        "id": "aBRwKDX0JjNj",
        "colab": {
          "base_uri": "https://localhost:8080/",
          "height": 333,
          "referenced_widgets": [
            "868b5099ffbd427aa877e593b79f2a20",
            "cd4898613b624c7db16d8732568561b3",
            "f3ab9a8bdfcf44b688894f33ec789c3e",
            "81c7d5c475ad406989d1ffe29d3fffa7",
            "4e1600bed74245b68ebf05d0022009da",
            "1a0c774169c742a09519314d016bdd9d",
            "4d09ec42954b4754a3b908ea0b02ef53",
            "026bea3dff40456f9bca90b362231778",
            "8595ce1dec934d9ca6c3ed6dba3ab82f",
            "f2bb8d2b2eb342a3a88d47a52526dc75",
            "a79de0185529452080884866953bcd5b",
            "fa87f714a0ff405885eca390a4d859f2",
            "d10c085dcf8c4b7396b9f32793f0427e",
            "a85d174bea244fc08de1b98a910ccf4d",
            "5954c1357c0040cb95311f219a6a21e6",
            "a300f4894ba94f4aab7322bbec888c4d",
            "3c218c5c39134a938a815be9018fdb5a",
            "98630b551be3488486d2010aa58dfd02",
            "ed2c3e97f48d44c6b08fb7e6d3a27256",
            "d4bbd8399fa14e3c9825b3b05d4694e0",
            "38c44d3df24b4f00b65a778e5ada82f4",
            "629948d5470847878d8f9570820fb0b8",
            "4368d220f6e646fa94209b1d421ce84c",
            "a2562a6eed5144c1a43df3c4d6e7fb76",
            "31d71a241fa641afb39374c066ad0f8e",
            "cc3012c3098e421490ae439d538a3748",
            "6941e26a575a4f55b2f921404fae2d9a",
            "8f8aa222f6eb4d10afcc993a75009cf3",
            "57955e0a614f42f28028829367b116fc",
            "4946d258ac424ac19b4cd2efa747297b",
            "a2eb516d64fd49b1a3ccfcf1c8fda364",
            "38f9978a3d234cce88ce303307376628",
            "495d5f47c6e542a39884625368974aff",
            "8f59eb2d80b7430cac80dd3b6ad39c42",
            "c57218a228ff45eabb7af014c827f517",
            "ccc91ef9cc1e4f1c95f0bdcf458ce319",
            "12b1957239b84cd1bacd1aac08530f47",
            "e0e13bba45d9429ab759423f3fbbb753",
            "04baf90f36c84e60bc843f46db849870",
            "d70002dcc4554a8e94dab5785e614727",
            "b33ed5473d9f4084933adea12eda8a02",
            "c2567662e4854bf28d9671a3840b493d",
            "861f1bf37f654e2faa8b10b643c7ab0a",
            "626c753df1c64c07b736e49b836bb349",
            "edb99b8aa5c147479da1c9cb0d016813",
            "5eb4d13d870e4add99a6efb12aeceb09",
            "57eb5dd7fcb848ae997d298e4a5cf332",
            "d9ae87e8841b4174866839a1c65bf389",
            "754d8202bffc47488e449f5ef3a9529b",
            "5305f9d55b4c4647b8cfa17f218183eb",
            "663f0aa5a00846af821f73fbf3f1b269",
            "f7e6ce02941249989d80234f0c4a87a0",
            "771f315273e247eeac759c9cac276e57",
            "cef8ac5edac04de08bb10fe14a1acd25",
            "bb1baf8433af4e1bbf790eb4c42b62d6",
            "474e3cb7d98a47609ee6df3d79eb0920",
            "339926fcf4dd486296511c277b7df522",
            "90035ea3739f4e68a6c5acaf164e6e4b",
            "ecf5932103084ee0b88da15ff046d95b",
            "8c12e2250c254274a917f4fc084a3497",
            "c6f862c2ec23496ea1435e7fd769661d",
            "b5d5b925fd264e909a6b35bf88b0e3dd",
            "ec8d81741ab147a18f64f747cdc45e5f",
            "f28a84600a2e49bfaae584b424c2658a",
            "c6ad2c21068c4a18ac55da1a199127d5",
            "55bdd8874bee49f79aa93f839ffddb84"
          ]
        },
        "outputId": "bdb435c0-57a6-4179-f0fd-1c667ad76c3c"
      },
      "outputs": [
        {
          "output_type": "stream",
          "name": "stderr",
          "text": [
            "/usr/local/lib/python3.10/dist-packages/huggingface_hub/utils/_token.py:88: UserWarning: \n",
            "The secret `HF_TOKEN` does not exist in your Colab secrets.\n",
            "To authenticate with the Hugging Face Hub, create a token in your settings tab (https://huggingface.co/settings/tokens), set it as secret in your Google Colab and restart your session.\n",
            "You will be able to reuse this secret in all of your notebooks.\n",
            "Please note that authentication is recommended but still optional to access public models or datasets.\n",
            "  warnings.warn(\n"
          ]
        },
        {
          "output_type": "display_data",
          "data": {
            "text/plain": [
              "Downloading data:   0%|          | 0.00/37.1M [00:00<?, ?B/s]"
            ],
            "application/vnd.jupyter.widget-view+json": {
              "version_major": 2,
              "version_minor": 0,
              "model_id": "868b5099ffbd427aa877e593b79f2a20"
            }
          },
          "metadata": {}
        },
        {
          "output_type": "display_data",
          "data": {
            "text/plain": [
              "Downloading data:   0%|          | 0.00/83.2k [00:00<?, ?B/s]"
            ],
            "application/vnd.jupyter.widget-view+json": {
              "version_major": 2,
              "version_minor": 0,
              "model_id": "fa87f714a0ff405885eca390a4d859f2"
            }
          },
          "metadata": {}
        },
        {
          "output_type": "display_data",
          "data": {
            "text/plain": [
              "Downloading data:   0%|          | 0.00/198k [00:00<?, ?B/s]"
            ],
            "application/vnd.jupyter.widget-view+json": {
              "version_major": 2,
              "version_minor": 0,
              "model_id": "4368d220f6e646fa94209b1d421ce84c"
            }
          },
          "metadata": {}
        },
        {
          "output_type": "display_data",
          "data": {
            "text/plain": [
              "Generating train split:   0%|          | 0/455248 [00:00<?, ? examples/s]"
            ],
            "application/vnd.jupyter.widget-view+json": {
              "version_major": 2,
              "version_minor": 0,
              "model_id": "8f59eb2d80b7430cac80dd3b6ad39c42"
            }
          },
          "metadata": {}
        },
        {
          "output_type": "display_data",
          "data": {
            "text/plain": [
              "Generating test split:   0%|          | 0/1080 [00:00<?, ? examples/s]"
            ],
            "application/vnd.jupyter.widget-view+json": {
              "version_major": 2,
              "version_minor": 0,
              "model_id": "edb99b8aa5c147479da1c9cb0d016813"
            }
          },
          "metadata": {}
        },
        {
          "output_type": "display_data",
          "data": {
            "text/plain": [
              "Generating validation split:   0%|          | 0/2300 [00:00<?, ? examples/s]"
            ],
            "application/vnd.jupyter.widget-view+json": {
              "version_major": 2,
              "version_minor": 0,
              "model_id": "474e3cb7d98a47609ee6df3d79eb0920"
            }
          },
          "metadata": {}
        }
      ],
      "source": [
        "\n",
        "marathi_dataset = load_dataset('ai4bharat/naamapadam', 'mr')"
      ]
    },
    {
      "cell_type": "code",
      "execution_count": 8,
      "metadata": {
        "id": "ORKXdTyWfWLg"
      },
      "outputs": [],
      "source": [
        "label_list= marathi_dataset['train'].features['ner_tags'].feature.names\n",
        "label_list\n",
        "model.config.id2label ={0: 'O', 1: 'B-PER', 2: 'I-PER', 3: 'B-ORG', 4: 'I-ORG', 5: 'B-LOC', 6: 'I-LOC'}"
      ]
    },
    {
      "cell_type": "code",
      "execution_count": 9,
      "metadata": {
        "id": "RsCLnOn8b_9r"
      },
      "outputs": [],
      "source": [
        "def tokenize_and_align_label(example, label_all_tokens=True):  #input is example from dataset and a boolean argument\n",
        "  tokenized_input= tokenizer(example['tokens'], truncation=True, is_split_into_words=True)      #tokenizing the input\n",
        "  #print(\"Before aligning the labels:\",tokenized_input)\n",
        "  #e.g. ['[CLS]', 'वि', '##दय', '##ाप', '##ी', '##ठ', '/', 'राजय', 'सरकार', '/', 'कदर', 'सरकार', '/', 'सबध', '##ित', 'ससथा', '##च', 'न', '##ियम', '[SEP]']\n",
        "\n",
        "  labels= []   #This list will contain correct labels for tokenized input of the example\n",
        "  for i, label in enumerate(example['ner_tags']):\n",
        "    word_ids = tokenized_input.word_ids(batch_index=i)    #Extracting word id of tokenized input with batch_index i\n",
        "    #here word_ids() function call will return list of mapping the tokens to their actual word in initial sentence.\n",
        "    #It returns the list indicating the word corresponding to each token. For example mentioned in comment above word_ids list is [None, 0, 0, 0, 0, 0, 1, 2, 3, 4, 5, 6, 7, 8, 8, 9, 9, 10, 10, None]\n",
        "\n",
        "    previous_word_idx =None\n",
        "    label_ids=[]              #to set labels for tokenized input\n",
        "    for word_idx in word_ids:\n",
        "      if word_idx is None:    #then just setting it as -100 for special tokens\n",
        "        label_ids.append(-100)\n",
        "      elif word_idx != previous_word_idx:   #it means this token has came from new word. And it has its own label so just add label of that word\n",
        "        label_ids.append(label[word_idx])\n",
        "      else:                   #\n",
        "        #to take care of sub_words which has same word_idx\n",
        "        #So I am just setting those also as -100. But only if label_all_tokens==False\n",
        "        label_ids.append(label[word_idx] if label_all_tokens else -100)\n",
        "      previous_word_idx= word_idx\n",
        "\n",
        "    labels.append(label_ids)      #after completing inner loop just appending labels_ids to overall labels\n",
        "\n",
        "  #Now all labels are calculated. So I am just inserting new 'labels' into tokenized_input. It already had 'input_ids','attension_mask', 'token_type_ids' as keys.\n",
        "  #I have printed tokenized input of one of the example in somewhere above cells\n",
        "  tokenized_input['labels'] = labels\n",
        "  return tokenized_input\n",
        "\n"
      ]
    },
    {
      "cell_type": "code",
      "execution_count": 10,
      "metadata": {
        "colab": {
          "base_uri": "https://localhost:8080/",
          "height": 173,
          "referenced_widgets": [
            "eee09464b4f64555b236e3b504e96416",
            "a14478cfd25846d7a1a9b8a3bb9ce53c",
            "1ddbde41462343eb9c831c91a53246ba",
            "5f5f70b5ba2c4411af3ee4345d51bb8e",
            "bd56b9f2f2e94782bba8181fae70c6c3",
            "b012ce8ee5cb4683987274a85b911fd0",
            "469c0df32a6244e28fb115308d08a33b",
            "2baccec262884c87ae34772796f426ec",
            "c123fa3175be48159ecaef2f0a7b1d1c",
            "0d9be23bd3c94581af89809568a8eed5",
            "9731e9f07e244482a764ae9651fe0216"
          ]
        },
        "id": "HgO0AaU3OEeO",
        "outputId": "d2638d3b-9a17-44cf-9891-72c5b3ce8bb4"
      },
      "outputs": [
        {
          "output_type": "stream",
          "name": "stderr",
          "text": [
            "<ipython-input-10-17a43fb75357>:1: FutureWarning: load_metric is deprecated and will be removed in the next major version of datasets. Use 'evaluate.load' instead, from the new library 🤗 Evaluate: https://huggingface.co/docs/evaluate\n",
            "  metric=load_metric(\"seqeval\")\n",
            "/usr/local/lib/python3.10/dist-packages/datasets/load.py:756: FutureWarning: The repository for seqeval contains custom code which must be executed to correctly load the metric. You can inspect the repository content at https://raw.githubusercontent.com/huggingface/datasets/2.18.0/metrics/seqeval/seqeval.py\n",
            "You can avoid this message in future by passing the argument `trust_remote_code=True`.\n",
            "Passing `trust_remote_code=True` will be mandatory to load this metric from the next major release of `datasets`.\n",
            "  warnings.warn(\n"
          ]
        },
        {
          "output_type": "display_data",
          "data": {
            "text/plain": [
              "Downloading builder script:   0%|          | 0.00/2.47k [00:00<?, ?B/s]"
            ],
            "application/vnd.jupyter.widget-view+json": {
              "version_major": 2,
              "version_minor": 0,
              "model_id": "eee09464b4f64555b236e3b504e96416"
            }
          },
          "metadata": {}
        }
      ],
      "source": [
        "metric=load_metric(\"seqeval\")\n",
        "from seqeval.metrics import classification_report\n",
        "\n",
        "from sklearn.metrics import f1_score, precision_recall_fscore_support\n",
        "def compute_metrics(eval_preds):\n",
        "  pred_logits, labels =eval_preds\n",
        "  pred_logits = np.argmax(pred_logits,axis=2) #logits and probabilities are in the same order, Hence I am not applying the softmax\n",
        "  true_predictions = [\n",
        "      [label_list[eval_preds] for (eval_preds,l) in zip(prediction, label) if l != -100] for prediction, label in zip(pred_logits, labels)\n",
        "   ]  #as I need to pass a list in prediction argument in metric.compute\n",
        "  true_labels = [\n",
        "      [label_list[l] for (eval_preds, l) in zip(prediction, label) if l != -100]\n",
        "       for prediction, label in zip(pred_logits, labels)\n",
        "   ]\n",
        "  results=metric.compute(predictions=true_predictions, references=true_labels)\n",
        "\n",
        "  #For calculation of macro F1 score, Calculate precision, recall, and f1 scores for each label\n",
        "  label_precision, label_recall, label_f1, _ = precision_recall_fscore_support(np.concatenate(true_labels), np.concatenate(true_predictions), average=None, labels=label_list)\n",
        "  macro_f1 = np.mean(label_f1)\n",
        "\n",
        "  return {\n",
        "      \"precision\" : results[\"overall_precision\"],\n",
        "      \"recall\": results[\"overall_recall\"],\n",
        "      \"f1\": results[\"overall_f1\"],\n",
        "      \"accuracy\": results[\"overall_accuracy\"],\n",
        "      \"macro_f1\": macro_f1,\n",
        "      \"labelwise_f1\":label_f1,\n",
        "  }"
      ]
    },
    {
      "cell_type": "code",
      "execution_count": 11,
      "metadata": {
        "id": "NZpCZOEiN_lQ"
      },
      "outputs": [],
      "source": [
        "# both true_outputs and predicted_outputs are list of list. i.e. first element of true_outputs will be a list of true_labels for first sentence. similarly for predicted_outputs\n",
        "from sklearn.metrics import precision_recall_fscore_support\n",
        "def Calculate_performance(true_outputs,predicted_outputs):      #function to calculate classwise precision, recall, f1_score\n",
        "\n",
        "  # Flatten the lists for calculation\n",
        "  flat_true_labels = [label for sublist in true_outputs for label in sublist]\n",
        "  flat_predicted_labels = [label for sublist in predicted_outputs for label in sublist]\n",
        "\n",
        "  # Calculate precision, recall, and F1-score\n",
        "  classwise_precision, classwise_recall, classwise_f1_score, _ = precision_recall_fscore_support(flat_true_labels, flat_predicted_labels, average=None, labels=['O','B-PER', 'I-PER', 'B-ORG', 'I-ORG','B-LOC', 'I-LOC'],zero_division=1)\n",
        "  return (classwise_precision,classwise_recall,classwise_f1_score)"
      ]
    },
    {
      "cell_type": "code",
      "execution_count": 12,
      "metadata": {
        "id": "C94JQz8FNzaQ"
      },
      "outputs": [],
      "source": [
        "def get_prections_on_sentences(all_sentences,all_correct_labels):       #Function to get prediction on sentences. here sentences is a list of list.\n",
        "  for i in range(len(all_sentences)):\n",
        "    if(len(all_sentences[i])!=len(all_correct_labels[i])):\n",
        "      print(\"Unequal lengths of sentence and labels at index i=\",i,\" and Lengths are \",len(all_sentences[i]),\", \",len(all_correct_labels[i]))\n",
        "  all_predicted_labels=[]                           #this list will be returned from function\n",
        "  unequal_length_labels_indices=[]\n",
        "  for i in range(len(all_sentences)):\n",
        "    sentence= ' '.join(all_sentences[i])\n",
        "    predicted_labels = get_predictions(sentence=sentence,\n",
        "                                    tokenizer=tokenizer,\n",
        "                                    model=model\n",
        "                                    )\n",
        "    if(len(predicted_labels) != len(all_correct_labels[i])):      #if predicted label length is not equal to actual_label length then there is a problem\n",
        "      #print(i,predicted_labels, all_correct_labels[i])\n",
        "      unequal_length_labels_indices.append(i)                             #storing the index of that sentence,so that it won't be a problem while predicting.\n",
        "    all_predicted_labels.append(predicted_labels)\n",
        "  return (all_predicted_labels,unequal_length_labels_indices)\n",
        "\n"
      ]
    },
    {
      "cell_type": "code",
      "execution_count": 13,
      "metadata": {
        "id": "tQyz63mKcPFq"
      },
      "outputs": [],
      "source": [
        "#This is the function to get predictions on random sentence\n",
        "def get_predictions( sentence, tokenizer, model ):\n",
        "  tok_sentence = tokenizer(sentence, return_tensors='pt')   #performing tokenization on the sentence\n",
        "\n",
        "  with torch.no_grad():\n",
        "    logits = model(**tok_sentence).logits.argmax(-1)  #I am sending the tokenized sentence to the model to get predictions\n",
        "    predicted_tokens_classes = [model.config.id2label[t.item()] for t in logits[0]] #mapping the maximum predicted class id with the class label\n",
        "\n",
        "    predicted_labels = []\n",
        "\n",
        "    previous_token_id = 0\n",
        "\n",
        "    #As we need to assign the named entity label to the head word(i.e. Actual word) and not its sub-words. Below code does this this thing\n",
        "    word_ids = tok_sentence.word_ids()\n",
        "    for word_index in range(len(word_ids)):\n",
        "        if word_ids[word_index] == None:\n",
        "            previous_token_id = word_ids[word_index]\n",
        "        elif word_ids[word_index] == previous_token_id:\n",
        "            previous_token_id = word_ids[word_index]\n",
        "        else:\n",
        "            predicted_labels.append( predicted_tokens_classes[ word_index ] )\n",
        "            previous_token_id = word_ids[word_index]\n",
        "\n",
        "    return predicted_labels"
      ]
    },
    {
      "cell_type": "code",
      "execution_count": 14,
      "metadata": {
        "id": "Uq20bSa8JQR-",
        "colab": {
          "base_uri": "https://localhost:8080/",
          "height": 321,
          "referenced_widgets": [
            "2c0484b6dbc04ebb81e0a281ecc13457",
            "be1842fb92a142259f0d5faf4a0469f3",
            "084b3ae044404cfaab0ccba950e1df50",
            "835e7554015e41709b2d896975b25613",
            "00c76cfbbced4e8eb9ba3bf31f3b485f",
            "dc744039f34f42cc992bfc43795bb35a",
            "6615d0287fd6482592f898be1e82a824",
            "ac20c6923710431db1b193d79ab4d6c1",
            "408e1a16905340d5a90d5144b59dd164",
            "1e7784e50bae4ceaa12694bc7611ea3d",
            "0f553e4b630940a2a7d3974c23f362f5",
            "ca6106c774f649059391ce314ebdb709",
            "0ed3accef73140fbb9328bc2d091f476",
            "f0ea50c438b3410d8cd6a93ffdb2c50c",
            "af8aa1d985b044fc99b56f07779389a0",
            "34cd53a7f1df4284be81d041b872d9d4",
            "02880e485de54c5ab4ab6678bd4ecb0f",
            "ee88b45c80064d7d9d9accf859d8ef28",
            "51217f0ab8fa411984afdbf0c76e042c",
            "42f2bfc9b91842fdab9660d589deed46",
            "91568f6498ec4cecabbe68e9bb006524",
            "bfda2cacb58e4df8b04a145369e3f076",
            "2d91a509599f471990bc821b9b0fc512",
            "0e37719718d14cf3b9cf9dc0375322e7",
            "ad051843184e4ceb8b7fb49e9ff195bb",
            "3da2927225a64e72b7ce666fccfc228c",
            "c7d2a55194f64aa0b947052e07f765f9",
            "14af90774da343bf845069276b916fbd",
            "fd290f8c0c38422cbe91b2bfc7831ad7",
            "0efd4041b0d34b7d8a65b2878c62969f",
            "f09d91487243487998d990501d92dfc5",
            "e756370996384e8b9569c746a2b89f43",
            "8cfae98326e544d8b5344ced86379081"
          ]
        },
        "outputId": "7f855c31-c3df-44dd-cd98-7d1249db184d"
      },
      "outputs": [
        {
          "output_type": "display_data",
          "data": {
            "text/plain": [
              "Running tokenizer on train dataset (num_proc=4):   0%|          | 0/100000 [00:00<?, ? examples/s]"
            ],
            "application/vnd.jupyter.widget-view+json": {
              "version_major": 2,
              "version_minor": 0,
              "model_id": "2c0484b6dbc04ebb81e0a281ecc13457"
            }
          },
          "metadata": {}
        },
        {
          "output_type": "stream",
          "name": "stderr",
          "text": [
            "Asking to truncate to max_length but no maximum length is provided and the model has no predefined maximum length. Default to no truncation.\n",
            "Asking to truncate to max_length but no maximum length is provided and the model has no predefined maximum length. Default to no truncation.\n",
            "Asking to truncate to max_length but no maximum length is provided and the model has no predefined maximum length. Default to no truncation.\n",
            "Asking to truncate to max_length but no maximum length is provided and the model has no predefined maximum length. Default to no truncation.\n"
          ]
        },
        {
          "output_type": "display_data",
          "data": {
            "text/plain": [
              "Running tokenizer on Validation dataset (num_proc=4):   0%|          | 0/2300 [00:00<?, ? examples/s]"
            ],
            "application/vnd.jupyter.widget-view+json": {
              "version_major": 2,
              "version_minor": 0,
              "model_id": "ca6106c774f649059391ce314ebdb709"
            }
          },
          "metadata": {}
        },
        {
          "output_type": "stream",
          "name": "stderr",
          "text": [
            "Asking to truncate to max_length but no maximum length is provided and the model has no predefined maximum length. Default to no truncation.\n",
            "Asking to truncate to max_length but no maximum length is provided and the model has no predefined maximum length. Default to no truncation.\n",
            "Asking to truncate to max_length but no maximum length is provided and the model has no predefined maximum length. Default to no truncation.\n",
            "Asking to truncate to max_length but no maximum length is provided and the model has no predefined maximum length. Default to no truncation.\n"
          ]
        },
        {
          "output_type": "display_data",
          "data": {
            "text/plain": [
              "Running tokenizer on test dataset (num_proc=4):   0%|          | 0/1080 [00:00<?, ? examples/s]"
            ],
            "application/vnd.jupyter.widget-view+json": {
              "version_major": 2,
              "version_minor": 0,
              "model_id": "2d91a509599f471990bc821b9b0fc512"
            }
          },
          "metadata": {}
        },
        {
          "output_type": "stream",
          "name": "stderr",
          "text": [
            "Asking to truncate to max_length but no maximum length is provided and the model has no predefined maximum length. Default to no truncation.\n",
            "Asking to truncate to max_length but no maximum length is provided and the model has no predefined maximum length. Default to no truncation.\n",
            "Asking to truncate to max_length but no maximum length is provided and the model has no predefined maximum length. Default to no truncation.\n",
            "Asking to truncate to max_length but no maximum length is provided and the model has no predefined maximum length. Default to no truncation.\n"
          ]
        }
      ],
      "source": [
        "args= TrainingArguments(\n",
        "    output_dir=\"/content/drive/MyDrive/Mtech/IndicBERT_for_NER/trained_model/indicBERT_model\",\n",
        "    evaluation_strategy=\"epoch\",\n",
        "    per_device_train_batch_size=16,\n",
        "    per_device_eval_batch_size=16,\n",
        "    num_train_epochs=5,\n",
        "    logging_dir=\"/content/drive/MyDrive/Mtech/IndicBERT_for_NER/loggingDirectory/logs\",\n",
        "    logging_strategy=\"steps\",\n",
        "    logging_steps=2000,  # Log every 1000 steps\n",
        "    save_strategy=\"epoch\",\n",
        "    save_steps=2000,\n",
        ")\n",
        "train_dataset = marathi_dataset[\"train\"].select(range(100000))\n",
        "train_dataset = train_dataset.map(\n",
        "    tokenize_and_align_label,\n",
        "    batched=True,\n",
        "    num_proc=4,\n",
        "    load_from_cache_file=True,\n",
        "    desc=\"Running tokenizer on train dataset\",\n",
        ")\n",
        "eval_dataset = marathi_dataset[\"validation\"]\n",
        "eval_dataset = eval_dataset.map(\n",
        "    tokenize_and_align_label,\n",
        "    batched=True,\n",
        "    num_proc=4,\n",
        "    load_from_cache_file=True,\n",
        "    desc=\"Running tokenizer on Validation dataset\",\n",
        ")\n",
        "trainer = Trainer(\n",
        "    model=model,\n",
        "    train_dataset=train_dataset,\n",
        "    eval_dataset=eval_dataset,\n",
        "    tokenizer=tokenizer,\n",
        "    data_collator=data_collator,\n",
        "    compute_metrics=compute_metrics,\n",
        "    args=args,\n",
        ")\n",
        "\n",
        "test_dataset = marathi_dataset[\"test\"]\n",
        "test_dataset = test_dataset.map(\n",
        "    tokenize_and_align_label,\n",
        "    batched=True,\n",
        "    num_proc=4,\n",
        "    load_from_cache_file=True,\n",
        "    desc=\"Running tokenizer on test dataset\",\n",
        ")\n"
      ]
    },
    {
      "cell_type": "code",
      "execution_count": 15,
      "metadata": {
        "id": "6P5SJhyhnkxy"
      },
      "outputs": [],
      "source": [
        "\n",
        "index_to_label={0: 'O', 1: 'B-PER', 2: 'I-PER', 3: 'B-ORG', 4: 'I-ORG', 5: 'B-LOC', 6: 'I-LOC'}\n",
        "text_column_name = \"tokens\"\n",
        "label_column_name = \"ner_tags\"\n",
        "column_names = marathi_dataset[\"train\"].column_names\n",
        "features = marathi_dataset[\"train\"].features\n",
        "label_to_id = {label_list[i]: features[label_column_name].feature.str2int( label_list[i] ) for i in range(len(label_list))}"
      ]
    },
    {
      "cell_type": "code",
      "execution_count": null,
      "metadata": {
        "id": "uy2T-VA5NwRn"
      },
      "outputs": [],
      "source": []
    },
    {
      "cell_type": "markdown",
      "metadata": {
        "id": "E8RG1rxkjMXQ"
      },
      "source": [
        "## Question 2 answer\n"
      ]
    },
    {
      "cell_type": "markdown",
      "metadata": {
        "id": "lbSjaDNmgUvW"
      },
      "source": [
        "##### Method 1:  I have calculated required performance parameters by 2 methods. you can use any of the method"
      ]
    },
    {
      "cell_type": "markdown",
      "metadata": {
        "id": "GGVPakMWVR_j"
      },
      "source": [
        "###### Predicting on test Dataset from marathi corpus"
      ]
    },
    {
      "cell_type": "code",
      "execution_count": null,
      "metadata": {
        "colab": {
          "base_uri": "https://localhost:8080/",
          "height": 17
        },
        "id": "mvChmrtvSf-t",
        "outputId": "14571f67-cda1-45fb-c941-6dc02576b433"
      },
      "outputs": [
        {
          "data": {
            "text/html": [],
            "text/plain": [
              "<IPython.core.display.HTML object>"
            ]
          },
          "metadata": {},
          "output_type": "display_data"
        }
      ],
      "source": [
        "#To get macro f1 score(and other performance measures) on test dataset\n",
        "test_predictions, test_labels, test_metrics = trainer.predict(test_dataset)"
      ]
    },
    {
      "cell_type": "code",
      "execution_count": null,
      "metadata": {
        "colab": {
          "base_uri": "https://localhost:8080/"
        },
        "id": "hHX5yrftSgBF",
        "outputId": "a9011ad1-c4d2-4ad1-befd-0c05a2c5a548"
      },
      "outputs": [
        {
          "name": "stdout",
          "output_type": "stream",
          "text": [
            "All performance Measures for test_dataset:  {'test_loss': 0.2802182137966156, 'test_precision': 0.7989588497768964, 'test_recall': 0.765376395155545, 'test_f1': 0.7818071558520315, 'test_accuracy': 0.9148177662206937, 'test_macro_f1': 0.7832953863468068, 'test_labelwise_f1': array([0.95541796, 0.85910653, 0.90167866, 0.75577265, 0.59758694,\n",
            "       0.81836327, 0.5951417 ]), 'test_runtime': 5.3242, 'test_samples_per_second': 202.846, 'test_steps_per_second': 12.772}\n",
            "precision for test_dataset:  0.7989588497768964\n",
            "recall for test_dataset:  0.765376395155545\n",
            "\n",
            "Labelwise Test F1 scores\n",
            "\n",
            "O  \t  0.9554179566563468\n",
            "B-PER  \t  0.859106529209622\n",
            "I-PER  \t  0.9016786570743405\n",
            "B-ORG  \t  0.7557726465364121\n",
            "I-ORG  \t  0.5975869410929738\n",
            "B-LOC  \t  0.8183632734530938\n",
            "I-LOC  \t  0.5951417004048584\n",
            "Macro f1 score on test dataset:  0.7832953863468068\n"
          ]
        }
      ],
      "source": [
        "#Performance of fine tuned model on test dataset\n",
        "print(\"All performance Measures for test_dataset: \",test_metrics)\n",
        "print(\"precision for test_dataset: \",test_metrics['test_precision'])\n",
        "print(\"recall for test_dataset: \",test_metrics['test_recall'])\n",
        "print(\"\\nLabelwise Test F1 scores\\n\")\n",
        "for i in range(len(test_metrics['test_labelwise_f1'])):\n",
        "  print(label_list[i],\" \\t \",test_metrics['test_labelwise_f1'][i])\n",
        "print(\"Macro f1 score on test dataset: \",test_metrics[\"test_macro_f1\"])"
      ]
    },
    {
      "cell_type": "code",
      "execution_count": null,
      "metadata": {
        "id": "7RD8jS-7C6JX"
      },
      "outputs": [],
      "source": [
        "test_results= {\n",
        "    \"class_labels\": label_list,\n",
        "    \"classwise_f1_score\": test_metrics['test_labelwise_f1'].tolist(),\n",
        "    \"macro_f1_score\": test_metrics[\"test_macro_f1\"],\n",
        "    \"recall\": test_metrics['test_recall'],\n",
        "    \"precision\": test_metrics['test_precision']\n",
        "}\n",
        "os.makedirs('/content/drive/MyDrive/Mtech/IndicBERT_for_NER/results/Que2/BERT_for_NER_Results/Automatic_results/', exist_ok=True)\n",
        "with open('/content/drive/MyDrive/Mtech/IndicBERT_for_NER/results/Que2/BERT_for_NER_Results/Automatic_results/test_results.json', 'w') as outfile:\n",
        "    json.dump(test_results, outfile, indent=4)"
      ]
    },
    {
      "cell_type": "markdown",
      "metadata": {
        "id": "7QoySCS3YNKW"
      },
      "source": [
        "###### Predicting on validation Dataset from marathi corpus"
      ]
    },
    {
      "cell_type": "code",
      "execution_count": null,
      "metadata": {
        "colab": {
          "base_uri": "https://localhost:8080/",
          "height": 72
        },
        "id": "nFsrZf0L9OJR",
        "outputId": "27abad33-21f0-40fa-ac20-4fefd9f2740f"
      },
      "outputs": [
        {
          "data": {
            "text/html": [
              "\n",
              "    <div>\n",
              "      \n",
              "      <progress value='144' max='144' style='width:300px; height:20px; vertical-align: middle;'></progress>\n",
              "      [144/144 00:08]\n",
              "    </div>\n",
              "    "
            ],
            "text/plain": [
              "<IPython.core.display.HTML object>"
            ]
          },
          "metadata": {},
          "output_type": "display_data"
        },
        {
          "name": "stderr",
          "output_type": "stream",
          "text": [
            "Trainer is attempting to log a value of \"[0.94740712 0.83003953 0.85519645 0.73131393 0.63717872 0.8034853\n",
            " 0.57436709]\" of type <class 'numpy.ndarray'> for key \"eval/labelwise_f1\" as a scalar. This invocation of Tensorboard's writer.add_scalar() is incorrect so we dropped this attribute.\n"
          ]
        }
      ],
      "source": [
        "#to get macro f1 score(and other performance measures) on validation dataset\n",
        "eval_results = trainer.evaluate()"
      ]
    },
    {
      "cell_type": "code",
      "execution_count": null,
      "metadata": {
        "colab": {
          "base_uri": "https://localhost:8080/"
        },
        "id": "xaDpe9mcMt-H",
        "outputId": "c4f269c0-8f0c-438c-8c7d-5369cd881980"
      },
      "outputs": [
        {
          "name": "stdout",
          "output_type": "stream",
          "text": [
            "All performance Measures for validation_dataset:  {'eval_loss': 0.31094875931739807, 'eval_precision': 0.754344953755463, 'eval_recall': 0.7705564784053156, 'eval_f1': 0.7623645421395921, 'eval_accuracy': 0.9044850923100527, 'eval_macro_f1': 0.7684268752696933, 'eval_labelwise_f1': array([0.94740712, 0.83003953, 0.85519645, 0.73131393, 0.63717872,\n",
            "       0.8034853 , 0.57436709]), 'eval_runtime': 9.9353, 'eval_samples_per_second': 231.499, 'eval_steps_per_second': 14.494}\n",
            "precision for validation_dataset:  0.754344953755463\n",
            "recall for validation_dataset:  0.7705564784053156\n",
            "\n",
            "Labelwise validation F1 scores\n",
            "\n",
            "O  \t  0.9474071180755003\n",
            "B-PER  \t  0.8300395256916996\n",
            "I-PER  \t  0.8551964512040556\n",
            "B-ORG  \t  0.7313139260424862\n",
            "I-ORG  \t  0.6371787208607291\n",
            "B-LOC  \t  0.8034852964057881\n",
            "I-LOC  \t  0.5743670886075949\n",
            "Macro f1 score on validation dataset:  0.7684268752696933\n"
          ]
        }
      ],
      "source": [
        "#Performance of fine tuned model on validation dataset\n",
        "print(\"All performance Measures for validation_dataset: \",eval_results)\n",
        "print(\"precision for validation_dataset: \",eval_results['eval_precision'])\n",
        "print(\"recall for validation_dataset: \",eval_results['eval_recall'])\n",
        "print(\"\\nLabelwise validation F1 scores\\n\")\n",
        "for i in range(len(eval_results['eval_labelwise_f1'])):\n",
        "  print(label_list[i],\" \\t \",eval_results['eval_labelwise_f1'][i])\n",
        "print(\"Macro f1 score on validation dataset: \",eval_results[\"eval_macro_f1\"])"
      ]
    },
    {
      "cell_type": "code",
      "execution_count": null,
      "metadata": {
        "id": "N87ZMiwcDw9N"
      },
      "outputs": [],
      "source": [
        "val_results= {\n",
        "    \"class_labels\": label_list,\n",
        "    \"classwise_f1_score\": eval_results['eval_labelwise_f1'].tolist(),\n",
        "    \"macro_f1_score\": test_metrics[\"test_macro_f1\"],\n",
        "    \"recall\": eval_results[\"eval_macro_f1\"],\n",
        "    \"precision\": eval_results['eval_precision']\n",
        "}\n",
        "os.makedirs('/content/drive/MyDrive/Mtech/IndicBERT_for_NER/results/Que2/BERT_for_NER_Results/Automatic_results/', exist_ok=True)\n",
        "with open('/content/drive/MyDrive/Mtech/IndicBERT_for_NER/results/Que2/BERT_for_NER_Results/Automatic_results/val_results.json', 'w') as outfile:\n",
        "    json.dump(val_results, outfile, indent=4)"
      ]
    },
    {
      "cell_type": "markdown",
      "metadata": {
        "id": "A8UkzK6HaEfu"
      },
      "source": [
        "###### Predicting on training Dataset from marathi corpus"
      ]
    },
    {
      "cell_type": "code",
      "execution_count": null,
      "metadata": {
        "colab": {
          "base_uri": "https://localhost:8080/"
        },
        "id": "YwW2SfgVru38",
        "outputId": "3266bc39-4c89-4e95-8fe4-d6f1a21d387e"
      },
      "outputs": [
        {
          "data": {
            "text/html": [],
            "text/plain": [
              "<IPython.core.display.HTML object>"
            ]
          },
          "metadata": {},
          "output_type": "display_data"
        }
      ],
      "source": [
        "#To get macro f1 score on train dataset\n",
        "train_predictions, train_labels, train_metrics = trainer.predict(train_dataset)"
      ]
    },
    {
      "cell_type": "code",
      "execution_count": null,
      "metadata": {
        "colab": {
          "base_uri": "https://localhost:8080/"
        },
        "id": "x0C6O5nVv5js",
        "outputId": "0c598e85-436e-409a-b1b5-09fea97fb190"
      },
      "outputs": [
        {
          "name": "stdout",
          "output_type": "stream",
          "text": [
            "All performance Measures for train_dataset:  {'test_loss': 0.18376369774341583, 'test_precision': 0.83821896106876, 'test_recall': 0.8509329698922067, 'test_f1': 0.8445281172030727, 'test_accuracy': 0.941578772602409, 'test_macro_f1': 0.8555017758291648, 'test_labelwise_f1': array([0.96864265, 0.89216172, 0.89511853, 0.83290337, 0.80611375,\n",
            "       0.87832099, 0.71525144]), 'test_runtime': 493.2879, 'test_samples_per_second': 202.721, 'test_steps_per_second': 12.67}\n",
            "precision for train_dataset:  0.83821896106876\n",
            "recall for train_dataset:  0.8509329698922067\n",
            "\n",
            "Labelwise train F1 scores\n",
            "\n",
            "O  \t  0.9686426522788432\n",
            "B-PER  \t  0.8921617171929739\n",
            "I-PER  \t  0.8951185252990751\n",
            "B-ORG  \t  0.8329033663270492\n",
            "I-ORG  \t  0.8061137466019935\n",
            "B-LOC  \t  0.878320986592407\n",
            "I-LOC  \t  0.7152514365118113\n",
            "Macro f1 score on train dataset:  0.8555017758291648\n"
          ]
        }
      ],
      "source": [
        "#Performance of fine tuned model on train dataset\n",
        "print(\"All performance Measures for train_dataset: \",train_metrics)\n",
        "print(\"precision for train_dataset: \",train_metrics['test_precision'])\n",
        "print(\"recall for train_dataset: \",train_metrics['test_recall'])\n",
        "print(\"\\nLabelwise train F1 scores\\n\")\n",
        "for i in range(len(train_metrics['test_labelwise_f1'])):\n",
        "  print(label_list[i],\" \\t \",train_metrics['test_labelwise_f1'][i])\n",
        "print(\"Macro f1 score on train dataset: \",train_metrics[\"test_macro_f1\"])"
      ]
    },
    {
      "cell_type": "code",
      "execution_count": null,
      "metadata": {
        "id": "shtAT9qHBojl"
      },
      "outputs": [],
      "source": [
        "train_results= {\n",
        "    \"class_labels\": label_list,\n",
        "    \"classwise_f1_score\": train_metrics['test_labelwise_f1'].tolist(),\n",
        "    \"macro_f1_score\": train_metrics[\"test_macro_f1\"],\n",
        "    \"recall\": train_metrics['test_recall'],\n",
        "    \"precision\": train_metrics['test_precision']\n",
        "}\n",
        "os.makedirs('/content/drive/MyDrive/Mtech/IndicBERT_for_NER/results/Que2/BERT_for_NER_Results/Automatic_results/', exist_ok=True)\n",
        "with open('/content/drive/MyDrive/Mtech/IndicBERT_for_NER/results/Que2/BERT_for_NER_Results/Automatic_results/train_results.json', 'w') as outfile:\n",
        "    json.dump(train_results, outfile, indent=4)"
      ]
    },
    {
      "cell_type": "markdown",
      "metadata": {
        "id": "3bdpNajsfaH1"
      },
      "source": [
        "##### Method2:  This is also correct method to calculate precision,recall,macro_f1 score. But it was taking time  hence I have commented this"
      ]
    },
    {
      "cell_type": "markdown",
      "metadata": {
        "id": "m1lF3VkGfeaV"
      },
      "source": [
        "###### On test data"
      ]
    },
    {
      "cell_type": "code",
      "execution_count": 48,
      "metadata": {
        "id": "uZMTySB-wAs1"
      },
      "outputs": [],
      "source": [
        "# test_sentences=marathi_dataset[\"test\"][\"tokens\"]\n",
        "# correct_test_labels=marathi_dataset[\"test\"][\"ner_tags\"]\n",
        "# correct_test_labels = [[index_to_label[index] for index in sublist] for sublist in correct_test_labels] #as dataset has label ids not actual labels. Hence changing ner_ids to ner_tags"
      ]
    },
    {
      "cell_type": "code",
      "execution_count": 49,
      "metadata": {
        "id": "P5qwmIX7JfKk"
      },
      "outputs": [],
      "source": [
        "# test_predicted_labels,test_unequal_length_indices=get_prections_on_sentences(test_sentences,correct_test_labels)"
      ]
    },
    {
      "cell_type": "code",
      "execution_count": 50,
      "metadata": {
        "id": "uyZw1DTRfjdf"
      },
      "outputs": [],
      "source": [
        "# #Handling the sentences which have uneuqal length of labels for correct label and predicted labels\n",
        "# test_predicted_labels = [element for index, element in enumerate(test_predicted_labels) if index not in test_unequal_length_indices]\n",
        "# correct_test_labels = [element for index, element in enumerate(correct_test_labels) if index not in test_unequal_length_indices]"
      ]
    },
    {
      "cell_type": "code",
      "execution_count": 51,
      "metadata": {
        "id": "btxt9vPVfjge"
      },
      "outputs": [],
      "source": [
        "# classwise_precision, classwise_recall, classwise_f1_score=Calculate_performance(correct_test_labels,test_predicted_labels)\n",
        "# precision = np.mean(classwise_precision)\n",
        "# recall = np.mean(classwise_recall)\n",
        "# labels=['O','B-PER', 'I-PER', 'B-ORG', 'I-ORG','B-LOC', 'I-LOC']\n",
        "# print(\"class_labels: \",labels)\n",
        "# # print(\"\\nclasswise_precision: \",classwise_precision)\n",
        "# # print(\"\\nclasswise_recall: \",classwise_recall)\n",
        "# print(\"\\nclasswise_f1_score: \",classwise_f1_score)\n",
        "# macro_f1_score=np.mean(classwise_f1_score)\n",
        "# print(\"\\nmacro_f1_score: \",macro_f1_score)\n",
        "# print(\"precision: \",precision)\n",
        "# print(\"recall: \",recall)"
      ]
    },
    {
      "cell_type": "code",
      "execution_count": 52,
      "metadata": {
        "id": "FX2y8K8K8Zax"
      },
      "outputs": [],
      "source": [
        "# test_results= {\n",
        "#     \"class_labels\": labels,\n",
        "#     \"classwise_f1_score\": classwise_f1_score.tolist(),\n",
        "#     \"macro_f1_score\": macro_f1_score,\n",
        "#     \"recall\": recall,\n",
        "#     \"precision\": precision\n",
        "# }\n",
        "# os.makedirs('/content/drive/MyDrive/Mtech/IndicBERT_for_NER/results/Que2/BERT_for_NER_Results/manual_results/', exist_ok=True)\n",
        "# with open('/content/drive/MyDrive/Mtech/IndicBERT_for_NER/results/Que2/BERT_for_NER_Results/manual_results/test_results.json', 'w') as outfile:\n",
        "#     json.dump(test_results, outfile, indent=4)"
      ]
    },
    {
      "cell_type": "markdown",
      "metadata": {
        "id": "QV4V1uYCf1it"
      },
      "source": [
        "###### On validation Data"
      ]
    },
    {
      "cell_type": "code",
      "execution_count": 43,
      "metadata": {
        "id": "FJvxihu0f0LU"
      },
      "outputs": [],
      "source": [
        "# validation_sentences=marathi_dataset[\"validation\"][\"tokens\"]\n",
        "# correct_val_labels=marathi_dataset[\"validation\"][\"ner_tags\"]\n",
        "# correct_val_labels = [[index_to_label[index] for index in sublist] for sublist in correct_val_labels] #as dataset has label ids not actual labels. Hence changing ner_ids to ner_tags"
      ]
    },
    {
      "cell_type": "code",
      "execution_count": 44,
      "metadata": {
        "id": "Zc9YFSgHf0N2"
      },
      "outputs": [],
      "source": [
        "# val_predicted_labels,val_unequal_length_indices=get_prections_on_sentences(validation_sentences,correct_val_labels)"
      ]
    },
    {
      "cell_type": "code",
      "execution_count": 45,
      "metadata": {
        "id": "uOMOc1Omf0Q6"
      },
      "outputs": [],
      "source": [
        "# #Handling the sentences which have uneuqal length of labels for correct label and predicted labels\n",
        "# val_predicted_labels = [element for index, element in enumerate(val_predicted_labels) if index not in val_unequal_length_indices]\n",
        "# correct_val_labels = [element for index, element in enumerate(correct_val_labels) if index not in val_unequal_length_indices]\n",
        "# len(val_predicted_labels)"
      ]
    },
    {
      "cell_type": "code",
      "execution_count": 46,
      "metadata": {
        "id": "yjXMe5xwf0YS"
      },
      "outputs": [],
      "source": [
        "# classwise_precision, classwise_recall, classwise_f1_score=Calculate_performance(correct_val_labels,val_predicted_labels)\n",
        "# precision = np.mean(classwise_precision)\n",
        "# recall = np.mean(classwise_recall)\n",
        "# labels=['O','B-PER', 'I-PER', 'B-ORG', 'I-ORG','B-LOC', 'I-LOC']\n",
        "# print(\"class_labels: \",labels)\n",
        "# # print(\"\\nclasswise_precision: \",classwise_precision)\n",
        "# # print(\"\\nclasswise_recall: \",classwise_recall)\n",
        "# print(\"\\nclasswise_f1_score: \",classwise_f1_score)\n",
        "# macro_f1_score=np.mean(classwise_f1_score)\n",
        "# print(\"\\nmacro_f1_score: \",macro_f1_score)\n",
        "# print(\"precision: \",precision)\n",
        "# print(\"recall: \",recall)"
      ]
    },
    {
      "cell_type": "code",
      "execution_count": 47,
      "metadata": {
        "id": "nPhXd4HqfjqS"
      },
      "outputs": [],
      "source": [
        "# val_results= {\n",
        "#     \"class_labels\": labels,\n",
        "#     \"classwise_f1_score\": classwise_f1_score.tolist(),\n",
        "#     \"macro_f1_score\": macro_f1_score,\n",
        "#     \"recall\": recall,\n",
        "#     \"precision\": precision\n",
        "# }\n",
        "# os.makedirs('/content/drive/MyDrive/Mtech/IndicBERT_for_NER/results/Que2/BERT_for_NER_Results/manual_results/', exist_ok=True)\n",
        "# with open('/content/drive/MyDrive/Mtech/IndicBERT_for_NER/results/Que2/BERT_for_NER_Results/manual_results/val_results.json', 'w') as outfile:\n",
        "#     json.dump(val_results, outfile, indent=4)"
      ]
    },
    {
      "cell_type": "markdown",
      "metadata": {
        "id": "dAx6ero-8Pmx"
      },
      "source": [
        "###### on train dataset"
      ]
    },
    {
      "cell_type": "code",
      "execution_count": 38,
      "metadata": {
        "id": "k9megntO773H"
      },
      "outputs": [],
      "source": [
        "# train_sentences=marathi_dataset[\"train\"][\"tokens\"]\n",
        "# correct_train_labels=marathi_dataset[\"train\"][\"ner_tags\"]\n",
        "# correct_train_labels = [[index_to_label[index] for index in sublist] for sublist in correct_train_labels]"
      ]
    },
    {
      "cell_type": "code",
      "execution_count": 39,
      "metadata": {
        "id": "7HuqsEnd775D"
      },
      "outputs": [],
      "source": [
        "# train_predicted_labels,train_unequal_length_indices=get_prections_on_sentences(train_sentences,correct_train_labels)"
      ]
    },
    {
      "cell_type": "code",
      "execution_count": 40,
      "metadata": {
        "id": "fLUsVmmH778x"
      },
      "outputs": [],
      "source": [
        "# #Handling the sentences which have uneuqal length of labels for correct label and predicted labels\n",
        "# train_predicted_labels = [element for index, element in enumerate(train_predicted_labels) if index not in train_unequal_length_indices]\n",
        "# correct_train_labels = [element for index, element in enumerate(correct_train_labels) if index not in train_unequal_length_indices]\n",
        "# # len(train_predicted_labels)"
      ]
    },
    {
      "cell_type": "code",
      "execution_count": 41,
      "metadata": {
        "id": "VGhrNsN377-0"
      },
      "outputs": [],
      "source": [
        "# classwise_precision, classwise_recall, classwise_f1_score=Calculate_performance(correct_train_labels,train_predicted_labels)\n",
        "# precision = np.mean(classwise_precision)\n",
        "# recall = np.mean(classwise_recall)\n",
        "# labels=['O','B-PER', 'I-PER', 'B-ORG', 'I-ORG','B-LOC', 'I-LOC']\n",
        "# print(\"class_labels: \",labels)\n",
        "# # print(\"\\nclasswise_precision: \",classwise_precision)\n",
        "# # print(\"\\nclasswise_recall: \",classwise_recall)\n",
        "# print(\"\\nclasswise_f1_score: \",classwise_f1_score)\n",
        "# macro_f1_score=np.mean(classwise_f1_score)\n",
        "# print(\"\\nmacro_f1_score: \",macro_f1_score)\n",
        "# print(\"precision: \",precision)\n",
        "# print(\"recall: \",recall)"
      ]
    },
    {
      "cell_type": "code",
      "execution_count": 42,
      "metadata": {
        "id": "6_XiqLSa78Cf"
      },
      "outputs": [],
      "source": [
        "# train_results= {\n",
        "#     \"class_labels\": labels,\n",
        "#     \"classwise_f1_score\": classwise_f1_score.tolist(),\n",
        "#     \"macro_f1_score\": macro_f1_score,\n",
        "#     \"recall\": recall,\n",
        "#     \"precision\": precision\n",
        "# }\n",
        "# os.makedirs('/content/drive/MyDrive/Mtech/IndicBERT_for_NER/results/Que2/BERT_for_NER_Results/manual_results/', exist_ok=True)\n",
        "# with open('/content/drive/MyDrive/Mtech/IndicBERT_for_NER/results/Que2/BERT_for_NER_Results/manual_results/train_results.json', 'w') as outfile:\n",
        "#     json.dump(train_results, outfile, indent=4)"
      ]
    },
    {
      "cell_type": "markdown",
      "metadata": {
        "id": "REq166tbgrX_"
      },
      "source": [
        "###### Just to show prediction output on one of the sentence"
      ]
    },
    {
      "cell_type": "code",
      "execution_count": 34,
      "metadata": {
        "id": "y1DfZhpgMt_-",
        "colab": {
          "base_uri": "https://localhost:8080/"
        },
        "outputId": "eb2fab30-1b17-4bc1-fc62-4f2ec95f40ac"
      },
      "outputs": [
        {
          "output_type": "stream",
          "name": "stdout",
          "text": [
            "One of the sentence from test dataset:  ['राष्ट्रवादीचे', 'सर्वेसर्वा', 'व', 'माजी', 'केंद्रीय', 'कृषीमंत्री', 'शरद', 'पवार', 'अखेर', 'आ', '.']\n",
            "['B-ORG', 'O', 'O', 'O', 'O', 'O', 'B-PER', 'I-PER', 'O', 'O', 'O']\n",
            "['B-ORG', 'O', 'O', 'O', 'B-ORG', 'O', 'B-PER', 'I-PER', 'O', 'O', 'O']\n"
          ]
        }
      ],
      "source": [
        "test_sentences=marathi_dataset[\"test\"][\"tokens\"][0:10]\n",
        "correct_test_labels=marathi_dataset[\"test\"][\"ner_tags\"][0:10]\n",
        "correct_test_labels = [[index_to_label[index] for index in sublist] for sublist in correct_test_labels] #as dataset has label ids not actual labels. Hence changing ner_ids to ner_tags\n",
        "test_predicted_labels,test_unequal_length_indices=get_prections_on_sentences(test_sentences,correct_test_labels)\n",
        "#Handling the sentences which have uneuqal length of labels for correct label and predicted labels\n",
        "test_predicted_labels = [element for index, element in enumerate(test_predicted_labels) if index not in test_unequal_length_indices]\n",
        "correct_test_labels = [element for index, element in enumerate(correct_test_labels) if index not in test_unequal_length_indices]\n",
        "len(test_predicted_labels)\n",
        "print(\"One of the sentence from test dataset: \",test_dataset[2]['tokens'])\n",
        "print(test_predicted_labels[2])\n",
        "print(correct_test_labels[2])\n"
      ]
    },
    {
      "cell_type": "markdown",
      "metadata": {
        "id": "SS7nAPztoj50"
      },
      "source": [
        "## If want to predict in any random sentence, then execute below lines"
      ]
    },
    {
      "cell_type": "code",
      "execution_count": 16,
      "metadata": {
        "id": "pKoWRHSdzS9A"
      },
      "outputs": [],
      "source": [
        "#This is the function to get predictions on random sentence\n",
        "def get_predictions( sentence, tokenizer, model ):\n",
        "  tok_sentence = tokenizer(sentence, return_tensors='pt')   #performing tokenization on the sentence\n",
        "\n",
        "  with torch.no_grad():\n",
        "    logits = model(**tok_sentence).logits.argmax(-1)  #I am sending the tokenized sentence to the model to get predictions\n",
        "    predicted_tokens_classes = [model.config.id2label[t.item()] for t in logits[0]] #mapping the maximum predicted class id with the class label\n",
        "\n",
        "    predicted_labels = []\n",
        "\n",
        "    previous_token_id = 0\n",
        "\n",
        "    #As we need to assign the named entity label to the head word(i.e. Actual word) and not its sub-words. Below code does this this thing\n",
        "    word_ids = tok_sentence.word_ids()\n",
        "    for word_index in range(len(word_ids)):\n",
        "        if word_ids[word_index] == None:\n",
        "            previous_token_id = word_ids[word_index]\n",
        "        elif word_ids[word_index] == previous_token_id:\n",
        "            previous_token_id = word_ids[word_index]\n",
        "        else:\n",
        "            predicted_labels.append( predicted_tokens_classes[ word_index ] )\n",
        "            previous_token_id = word_ids[word_index]\n",
        "\n",
        "    return predicted_labels"
      ]
    },
    {
      "cell_type": "code",
      "execution_count": 17,
      "metadata": {
        "id": "GJGAlpDueUfz"
      },
      "outputs": [],
      "source": [
        "punctuation_marks = ['.', ',', '?', '!', ';', ':', '-', '(', ')', '[', ']',\n",
        "                     '{', '}', '...', '\"', \"'\", '/', '\\\\', '&', '%', '$',\n",
        "                     '#', '@', '*', '+', '=', '<', '>', '~','’','‘']\n",
        "def split_sentence(sentence):       #splitting the sentence in words. Also making sure all punctuation marks are seperate elements because out tokenizer is doing such way while predicting tokens\n",
        "    words = []\n",
        "    current_word = ''\n",
        "    for char in sentence:\n",
        "        if((char not in punctuation_marks) and char != \" \"):\n",
        "            current_word += char\n",
        "        else:\n",
        "            if current_word:\n",
        "                words.append(current_word)\n",
        "                current_word = ''\n",
        "            words.append(char)\n",
        "    if current_word:\n",
        "        words.append(current_word)\n",
        "    return words"
      ]
    },
    {
      "cell_type": "code",
      "execution_count": 17,
      "metadata": {
        "id": "OGQ3T0xXjgT_"
      },
      "outputs": [],
      "source": []
    },
    {
      "cell_type": "markdown",
      "metadata": {
        "id": "oQb9JOxGjg5r"
      },
      "source": [
        "###### If want to see prediction on any single sentence then execute below cell"
      ]
    },
    {
      "cell_type": "code",
      "execution_count": 18,
      "metadata": {
        "colab": {
          "base_uri": "https://localhost:8080/"
        },
        "id": "IvYoiizJjo3F",
        "outputId": "c3317ea7-9cb2-4c12-fb8a-cecc27a3b4e1"
      },
      "outputs": [
        {
          "output_type": "stream",
          "name": "stdout",
          "text": [
            "यावर्षी\tO\n",
            "'\tO\n",
            "गुरू\tO\n",
            "'\tO\n",
            "चित्रपटामुळे\tO\n",
            "तिला\tO\n",
            "यश\tB-PER\n",
            "मिळाले\tO\n",
            "तर\tO\n",
            "प्रोव्होक्ड\tO\n",
            "'\tO\n",
            "मुळे\tO\n",
            "तिच्या\tO\n",
            "अभिनयाची\tO\n",
            "प्रशंसा\tO\n",
            "झाली\tO\n",
            ".\tO\n"
          ]
        }
      ],
      "source": [
        "sentence = ' '.join(['यावर्षी', \"'\", 'गुरू', \"'\", 'चित्रपटामुळे', 'तिला', 'यश', 'मिळाले', 'तर', 'प्रोव्होक्ड', \"'\", 'मुळे', 'तिच्या', 'अभिनयाची', 'प्रशंसा', 'झाली', '.'])\n",
        "# sentence = ' '.join(['कार्यकर्त्यांमधील', 'वाद', 'बघून', 'संतापलेल्या', 'सुप्रिया', 'सुळे', 'यांनी', 'कार्यक्रमामध्येच', 'राडेबाज', 'कार्यकर्त्यांना', 'दम', 'दिला', '.'])\n",
        "predicted_labels = get_predictions(sentence=sentence,\n",
        "                                   tokenizer=tokenizer,\n",
        "                                   model=model\n",
        "                                   )\n",
        "words_list = split_sentence(sentence)\n",
        "filtered_list = [s.strip() for s in words_list if s.strip() != \"\"]      #removing all whitespace characters from it\n",
        "# print(len(filtered_list))\n",
        "# print(len(predicted_labels))\n",
        "for index in range(len(filtered_list)):\n",
        "  print( filtered_list[index] + '\\t' + predicted_labels[index] )"
      ]
    },
    {
      "cell_type": "markdown",
      "metadata": {
        "id": "WhI-i8Sxkdvd"
      },
      "source": [
        "## Solution for Question4"
      ]
    },
    {
      "cell_type": "code",
      "execution_count": 19,
      "metadata": {
        "id": "sZrRYRVhWmnb"
      },
      "outputs": [],
      "source": [
        "# both true_outputs and predicted_outputs are list of list. i.e. first element of true_outputs will be a list of true_labels for first sentence. similarly for predicted_outputs\n",
        "from sklearn.metrics import precision_recall_fscore_support\n",
        "def Calculate_performance(true_outputs,predicted_outputs):      #function to calculate classwise precision, recall, f1_score\n",
        "\n",
        "  # Flatten the lists for calculation\n",
        "  flat_true_labels = [label for sublist in true_outputs for label in sublist]\n",
        "  flat_predicted_labels = [label for sublist in predicted_outputs for label in sublist]\n",
        "\n",
        "  # Calculate precision, recall, and F1-score\n",
        "  classwise_precision, classwise_recall, classwise_f1_score, _ = precision_recall_fscore_support(flat_true_labels, flat_predicted_labels, average=None, labels=['O','B-PER', 'I-PER', 'B-ORG', 'I-ORG','B-LOC', 'I-LOC', 'B-MISC', 'I-MISC'],zero_division=1)\n",
        "  return (classwise_precision,classwise_recall,classwise_f1_score)"
      ]
    },
    {
      "cell_type": "code",
      "execution_count": 20,
      "metadata": {
        "id": "zN1Zt8iBWuNl"
      },
      "outputs": [],
      "source": [
        "def get_prections_on_sentences(all_sentences,all_correct_labels):       #Function to get prediction on sentences. here sentences is a list of list.\n",
        "  for i in range(len(all_sentences)):\n",
        "    if(len(all_sentences[i])!=len(all_correct_labels[i])):\n",
        "      print(\"Unequal lengths of sentence and labels at index i=\",i,\" and Lengths are \",len(all_sentences[i]),\", \",len(all_correct_labels[i]))\n",
        "  all_predicted_labels=[]                           #this list will be returned from function\n",
        "  unequal_length_labels_indices=[]\n",
        "  for i in range(len(all_sentences)):\n",
        "    sentence= ' '.join(all_sentences[i])\n",
        "    predicted_labels = get_predictions(sentence=sentence,\n",
        "                                    tokenizer=tokenizer,\n",
        "                                    model=model\n",
        "                                    )\n",
        "    if(len(predicted_labels) != len(all_correct_labels[i])):      #if predicted label length is not equal to actual_label length then there is a problem\n",
        "      #print(i,predicted_labels, all_correct_labels[i])\n",
        "      unequal_length_labels_indices.append(i)                             #storing the index of that sentence,so that it won't be a problem while predicting.\n",
        "    all_predicted_labels.append(predicted_labels)\n",
        "  return (all_predicted_labels,unequal_length_labels_indices)\n",
        "\n"
      ]
    },
    {
      "cell_type": "code",
      "execution_count": 21,
      "metadata": {
        "id": "XrF9TaLWC1-_"
      },
      "outputs": [],
      "source": [
        "\n",
        "sentences25= [\n",
        "                ['मला', 'तर', 'हे', 'आताच', 'समजतेय', ',', 'असं', 'म्हणून', 'तिने', 'या', 'चर्चापासून', 'लांबच', 'राहण्याचा', 'प्रयत्न', 'केला', '.'],\n",
        "                ['धातू', 'काठी', 'आणि', 'लॉक', 'आपण', 'कव्हर', 'बंद', 'करण्यास', 'अनुमती', 'देते'],\n",
        "                ['श्रीराम', 'लागू', '-', 'मराठी', 'रंगभूमीचे', 'अनभिषिक्त', 'सम्राट', ',', 'चतुरस्र', 'अभिनेते', ',', 'परखड', '.', '.', '30', 'डिसेंबरला', 'होणाऱ्या', 'शपथविधी', 'सोहळ्याची', 'विधानभवनात', 'जोरदार', 'तयारी', 'सुरू'],\n",
        "                ['यावर्षी', \"'\", 'गुरू', \"'\", 'चित्रपटामुळे', 'तिला', 'यश', 'मिळाले', 'तर', 'प्रोव्होक्ड', \"'\", 'मुळे', 'तिच्या', 'अभिनयाची', 'प्रशंसा', 'झाली', '.'],\n",
        "                ['कार्यकर्त्यांमधील', 'वाद', 'बघून', 'संतापलेल्या', 'सुप्रिया', 'सुळे', 'यांनी', 'कार्यक्रमामध्येच', 'राडेबाज', 'कार्यकर्त्यांना', 'दम', 'दिला', '.'],\n",
        "                ['‘', 'माइन', 'काम्फ', '’', 'मध्ये', 'हिटलर', 'सांगतो', '.', '.', 'हे', 'एक', 'स्वयंप्रकाशी', 'सत्य', 'आहे', ',', 'की', 'महाअसत्यामध्ये', 'नेहमीच', 'एक', 'जोरकस', 'विश्वासार्हता', 'असते', '.'],\n",
        "                ['धानोरी', 'येथील', 'बाबूराव', 'टिंगरे', 'शाळेतील', 'ईव्हीएम', 'मशीनमध्ये', '.', '.', '.', 'पावसाची', 'विश्रांती', ';', 'मात्र', 'मतदाराचा', 'प्रतिसाद', 'कमी'],\n",
        "                ['भारतीय', 'रेल्वेच्या', '166', 'वर्षांच्या', 'प्रदीर्घ', 'इतिहासामध्ये', 'यंदा', 'कोणत्याही', '.', '.', '.', 'कॅगचा', 'अहवालाचा', 'सुलभ', 'भाषेत', 'अर्थ', 'आहे', ',', 'रेल्वे', '98', 'रुपये', '44', 'पैसे', 'लावून', 'केवळ', '100', 'रुपये', 'कमावत', 'आहे'],\n",
        "                ['बॅग', 'दागिन्यांसह', 'पुन्हा', 'मिळाल्याने', 'चौहान', 'कुटुंबीयांस', 'मकरसंक्रातीच्या', 'दिवशी', 'सुखद', 'गोड', 'धक्का', 'बसला', 'आहे', '.'],\n",
        "                ['दरम्यान', ',', 'याविषयी', 'मुकुंदवाडी', 'पोलिस', 'ठाण्यात', 'बसचालकाविरोधात', 'गुन्हा', 'नोंदविण्यात', 'आला', 'आहे', '.'],\n",
        "                ['श्रींची', 'पालखी', 'शेगावात', 'दाखल', ';', 'खामगाव', 'ते', 'शेगाव', 'रस्ता', 'भक्तांच्या', 'गर्दीने', 'फुलला'],\n",
        "                ['चंदगड', 'विधानसभा', 'मतदारसंघातून', 'त्यांनी', 'लढावे', ',', 'अशी', 'तेथील', 'भाजपा', 'नेत्यांची', 'इच्छा', 'आहे', '.'],\n",
        "                ['त्यामुळे', 'पश्चिम', 'रेल्वेवरील', 'लोकसेवा', '१०', 'ते', '१५', 'मिनिटं', 'उशिराने', 'धावतील', '.'],\n",
        "                ['मात्र', ',', 'प्रत्यक्षात', 'हवामान', 'बदल', 'असो', 'की', ',', 'जागतिक', 'शांततेचा', 'विषय', 'असो', 'अमेरिका', 'आणि', 'इतर', 'विकसित', 'देश', 'विकसनशील', 'देशांवर', 'आपली', 'मते', 'लादताना', 'दिसतात', '.'],\n",
        "                ['नेपाळच्या', 'सौनाली', 'जवळील', 'पडासरी', 'भागातील', 'एका', 'कारखान्यात', 'झालेल्या', 'प्रचंड', 'स्फोटांच्या', 'झळा', 'भारतीय', 'सीमेपर्यंतही', 'पोहोचल्या', 'असून', 'या', 'भागात', 'सीमा', 'सुरक्षा', 'दलाची', 'गस्त', 'वाढविली', 'गेली', 'आहे', '.'],\n",
        "                ['लोकसभा', 'निवडणुकीपूर्वी', 'राम', 'मंदिर', 'बांधणारच', 'असं', 'सांगत', 'मतं', 'मिळवणारं', 'मोदी', 'सरकार', 'आता', 'मंदिर', 'केव्हा', 'बांधणार', 'हे', 'सांगायलाच', 'तयार', 'नाहीये', '.'],\n",
        "                ['जेव्हा', 'उदयनराजे', 'गाणं', 'गातात', '.', '.', '.', 'साताऱ्यामध्ये', 'आज', 'उत्कृष्ट', 'पत्रकार', 'सन्मान', 'पुरस्काराच्या', 'कार्यक्रमात', 'खासदार', 'उदयनराजे', 'यांनी', 'गाणं', 'म्हटल्यानं', 'अनेकांना', 'आश्चर्याचा', 'धक्का', 'बसला', '.'],\n",
        "                ['माजी', 'जागतिक', 'उपविजेता', 'मुंबईचा', 'दुसरा', 'मानांकित', 'मोहम्मद', 'गुफरानने', 'मुबंइ', 'उपनगरच्या', 'इश्तियाक', 'अन्सारीचे', '25-6', ',', '25-8', 'असे', 'आव्हान', 'परतवून', 'लावले', '.'],\n",
        "                ['हा', 'प्रकल्प', 'साकारताना', 'समुद्रात', 'टाकण्यात', 'येणार्‍या', 'भरावामुळे', 'भरतीच्या', 'वेळी', 'राहत्या', 'घराचा', 'प्रश्नसुद्धा', 'उभा', 'राहणारा', 'आहे', '.'],\n",
        "                ['काँग्रेस', '३१', 'जागा', 'मिळवून', 'तिस-या', 'क्रमांकावर', ',', 'तर', 'राष्ट्रवादी', 'काँग्रेसला', 'दोन', 'आकडी', 'संख्याही', 'गाठता', 'आली', 'नाही', '.'],\n",
        "                ['यामध्ये', 'करणवीर', 'बोहरा', ',', 'दीपिका', 'कक्कर', ',', 'श्रीशांत', 'या', 'सेलिब्रेटींचा', 'समावेश', 'आहे', '.'],\n",
        "                ['गेले', 'महिनाभर', 'लग्नाचा', 'प्रचार', 'केला', 'आणि', 'महा', '(', 'ग', ')', 'एपिसोडच्या', 'नावाखाली', 'डोंगर', 'पोखरुन', 'उंदीर', 'काढला', '.'],\n",
        "                ['कार्यक्रम', 'सर्वांना', 'खुला', 'असून', ',', 'रसिकांनी', 'उपस्थित', 'रहावे', 'असे', 'आवाहन', 'लोकमान्य', 'ग्रंथालयाने', 'केले', 'आहे', '.'],\n",
        "                ['वसई', 'विरार', 'शहर', 'महानगरपालिकेच्या', 'महापौर', 'प्रविणा', 'ठाकूर', 'यांनी', 'पत्रकार', 'परिषदेत', 'स्पर्धेच्या', 'सातव्या', 'पर्वाची', 'घोषणा', 'केली', '.'],\n",
        "                ['अर्थात', 'यात', 'काही', 'चांगल्या', 'आणि', 'व्हिडिओला', 'पाठिंबा', 'देणाऱ्या', 'कमेंटही', 'होत्या', '.']\n",
        "\n",
        "\n",
        "\n",
        "        ]\n",
        "\n",
        "sentences25_correct_labels=[\n",
        "    ['O', 'O', 'O', 'O', 'O', 'O', 'O', 'O', 'O', 'O', 'O', 'O', 'O', 'O', 'O', 'O'],\n",
        "    ['O', 'O', 'O', 'O', 'O', 'O', 'O', 'O', 'O', 'O'],\n",
        "    ['B-PER', 'I-PER', 'O', 'B-ORG', 'I-ORG', 'O', 'O', 'O', 'O', 'O', 'O', 'O', 'O', 'O','B-MISC', 'I-MISC', 'O', 'O', 'O', 'B-LOC', 'O', 'O', 'O' ],\n",
        "    ['O', 'O', 'B-MISC', 'O', 'O', 'O', 'O', 'O', 'O', 'B-MISC', 'O', 'O', 'O', 'O', 'O', 'O','O'],\n",
        "    ['O', 'O', 'O', 'O', 'B-PER', 'I-PER', 'O', 'O', 'O', 'O', 'O', 'O', 'O'],\n",
        "    ['O', 'B-MISC', 'I-MISC', 'O', 'O', 'B-PER', 'O', 'O', 'O', 'O', 'O', 'O', 'O', 'O', 'O', 'O', 'O', 'O', 'O', 'O', 'O', 'O', 'O'],\n",
        "    ['B-LOC', 'O', 'B-LOC', 'I-LOC', 'I-LOC', 'O', 'O', 'O', 'O', 'O', 'O', 'O', 'O', 'O', 'O', 'O', 'O'],\n",
        "    ['B-ORG', 'I-ORG', 'O', 'O', 'O', 'O', 'O', 'O', 'O', 'O', 'O', 'B-ORG', 'O', 'O', 'O', 'O', 'O', 'O', 'O', 'O', 'O', 'O', 'O', 'O', 'O', 'O', 'O', 'O', 'O'],\n",
        "    ['O', 'O', 'O', 'O', 'B-PER', 'O', 'B-MISC', 'O', 'O', 'O', 'O', 'O', 'O', 'O'],\n",
        "    ['O', 'O', 'O', 'B-LOC', 'I-LOC', 'I-LOC', 'O', 'O', 'O', 'O', 'O', 'O'],\n",
        "    ['B-PER', 'O', 'B-LOC', 'O', 'O', 'B-LOC', 'O', 'B-LOC', 'O', 'O', 'O', 'O'],\n",
        "    ['B-LOC', 'I-LOC', 'I-LOC', 'O', 'O', 'O', 'O', 'O', 'B-ORG', 'O', 'O', 'O', 'O'],\n",
        "    ['O', 'B-ORG', 'I-ORG', 'O', 'O', 'O', 'O', 'O', 'O', 'O', 'O'],\n",
        "    ['O', 'O', 'O', 'O', 'O', 'O', 'O', 'O', 'O', 'O', 'O', 'O', 'B-LOC', 'O', 'O', 'O', 'O', 'O', 'O', 'O', 'O', 'O', 'O', 'O'],\n",
        "    ['B-LOC', 'I-LOC', 'O', 'B-LOC', 'O', 'O', 'O', 'O', 'O', 'O', 'O', 'B-LOC', 'O', 'O', 'O', 'O','O', 'B-ORG', 'I-ORG', 'I-ORG', 'O', 'O', 'O', 'O', 'O'],\n",
        "    ['O', 'O', 'B-MISC', 'I-MISC', 'O', 'O', 'O', 'O', 'O', 'B-ORG', 'I-ORG', 'O', 'O', 'O', 'O', 'O', 'O', 'O', 'O', 'O'],\n",
        "    ['O', 'B-PER', 'O', 'O', 'O', 'O', 'O', 'B-LOC', 'O', 'O', 'O', 'O', 'O', 'O', 'O', 'B-PER', 'O', 'O', 'O', 'O', 'O', 'O', 'O', 'O'],\n",
        "    ['O', 'O', 'O', 'B-LOC', 'O', 'O', 'B-PER', 'I-PER', 'B-LOC', 'I-LOC', 'B-PER', 'I-PER', 'O', 'O', 'O', 'O', 'O', 'O', 'O', 'O'],\n",
        "    ['O', 'O', 'O', 'O', 'O', 'O', 'O', 'O', 'O', 'O', 'O', 'O', 'O', 'O', 'O', 'O'],\n",
        "    ['B-ORG', 'O', 'O', 'O', 'O', 'O', 'O', 'O', 'B-ORG', 'I-ORG', 'O', 'O', 'O', 'O', 'O', 'O', 'O'],\n",
        "    ['O', 'B-PER', 'I-PER', 'O', 'B-PER', 'I-PER', 'O', 'B-PER', 'O', 'O', 'O', 'O', 'O'],\n",
        "    ['O', 'O', 'O', 'O', 'O', 'O', 'O', 'O', 'O', 'O', 'O', 'O', 'O', 'O', 'O', 'O','O'],\n",
        "    ['O', 'O', 'O', 'O', 'O', 'O', 'O', 'O', 'O', 'O', 'B-ORG', 'I-ORG', 'O', 'O', 'O'],\n",
        "    ['B-ORG', 'I-ORG', 'I-ORG', 'I-ORG', 'O', 'B-PER', 'I-PER', 'O', 'O', 'O', 'O', 'O', 'O', 'O', 'O','O'],\n",
        "    ['O', 'O', 'O', 'O', 'O', 'O', 'O', 'O', 'O', 'O', 'O']\n",
        "]\n"
      ]
    },
    {
      "cell_type": "code",
      "execution_count": null,
      "metadata": {
        "id": "2xX7ohnGBphP"
      },
      "outputs": [],
      "source": []
    },
    {
      "cell_type": "markdown",
      "metadata": {
        "id": "pYHddEkFGxyd"
      },
      "source": [
        "###### Calculating performance of predictions of model by considering manually solved labels from que 1 as truth labels"
      ]
    },
    {
      "cell_type": "code",
      "execution_count": 21,
      "metadata": {
        "id": "uMO5mVBhGv84"
      },
      "outputs": [],
      "source": []
    },
    {
      "cell_type": "code",
      "execution_count": 31,
      "metadata": {
        "colab": {
          "base_uri": "https://localhost:8080/"
        },
        "id": "Xl_deKblnso4",
        "outputId": "26fad531-669d-494a-81dd-cb8a3c66305a"
      },
      "outputs": [
        {
          "output_type": "execute_result",
          "data": {
            "text/plain": [
              "[18]"
            ]
          },
          "metadata": {},
          "execution_count": 31
        }
      ],
      "source": [
        "sentences25_predicted_labels,unequal_length_indices=get_prections_on_sentences(sentences25,sentences25_correct_labels)\n",
        "unequal_length_indices"
      ]
    },
    {
      "cell_type": "code",
      "execution_count": 32,
      "metadata": {
        "id": "DKCiOIaWDasT"
      },
      "outputs": [],
      "source": [
        "#Handling the sentences which have uneuqal length of labels for correct label and predicted labels\n",
        "sentences25_predicted_labels = [element for index, element in enumerate(sentences25_predicted_labels) if index not in unequal_length_indices]\n",
        "sentences25_correct_labels = [element for index, element in enumerate(sentences25_correct_labels) if index not in unequal_length_indices]\n",
        "#len(sentences25_predicted_labels)\n"
      ]
    },
    {
      "cell_type": "code",
      "execution_count": 33,
      "metadata": {
        "colab": {
          "base_uri": "https://localhost:8080/"
        },
        "id": "AnE83yFzp3IX",
        "outputId": "f4b1728b-5564-4826-95d4-571cc23268f1"
      },
      "outputs": [
        {
          "output_type": "stream",
          "name": "stdout",
          "text": [
            "class_labels:  ['O', 'B-PER', 'I-PER', 'B-ORG', 'I-ORG', 'B-LOC', 'I-LOC', 'B-MISC', 'I-MISC']\n",
            "\n",
            "classwise_f1_score:  [0.94721826 0.71428571 0.93333333 0.6        0.42857143 0.64285714\n",
            " 0.22222222 0.         0.        ]\n",
            "\n",
            "macro_f1_score:  0.4987209000998825\n",
            "precision:  0.868360175178357\n",
            "recall:  0.4771845675691829\n"
          ]
        }
      ],
      "source": [
        "classwise_precision, classwise_recall, classwise_f1_score=Calculate_performance(sentences25_correct_labels,sentences25_predicted_labels)\n",
        "precision = np.mean(classwise_precision)\n",
        "recall = np.mean(classwise_recall)\n",
        "labels=['O','B-PER', 'I-PER', 'B-ORG', 'I-ORG','B-LOC', 'I-LOC', 'B-MISC', 'I-MISC']\n",
        "print(\"class_labels: \",labels)\n",
        "# print(\"\\nclasswise_precision: \",classwise_precision)\n",
        "# print(\"\\nclasswise_recall: \",classwise_recall)\n",
        "print(\"\\nclasswise_f1_score: \",classwise_f1_score)\n",
        "macro_f1_score=np.mean(classwise_f1_score)\n",
        "print(\"\\nmacro_f1_score: \",macro_f1_score)\n",
        "print(\"precision: \",precision)\n",
        "print(\"recall: \",recall)"
      ]
    },
    {
      "cell_type": "code",
      "execution_count": 25,
      "metadata": {
        "id": "jYCqQSSMF50D"
      },
      "outputs": [],
      "source": [
        "sentences25_predicted_results= {\n",
        "    \"class_labels\": labels,\n",
        "    \"classwise_f1_score\": classwise_f1_score.tolist(),\n",
        "    \"macro_f1_score\": macro_f1_score,\n",
        "    \"recall\": recall,\n",
        "    \"precision\": precision\n",
        "}\n",
        "os.makedirs('/content/drive/MyDrive/Mtech/IndicBERT_for_NER/results/que4/indicBERT/', exist_ok=True)\n",
        "with open('/content/drive/MyDrive/Mtech/IndicBERT_for_NER/results/que4/indicBERT/sentences25_predicted_results.json', 'w') as outfile:\n",
        "    json.dump(sentences25_predicted_results, outfile, indent=4)"
      ]
    },
    {
      "cell_type": "markdown",
      "metadata": {
        "id": "77NGhPGPHVzd"
      },
      "source": [
        "###### Calculating performance of chatgpt by considering manually solved labels from que 1 as truth labels"
      ]
    },
    {
      "cell_type": "code",
      "execution_count": 26,
      "metadata": {
        "id": "UjnwUBMzEUsy"
      },
      "outputs": [],
      "source": [
        "sentences25_chatgpt_labels=[\n",
        "    ['O', 'O', 'O', 'O', 'O', 'O', 'O', 'O', 'O', 'O', 'O', 'O', 'O', 'O', 'O', 'O'],\n",
        "    ['B-MISC', 'I-MISC', 'O', 'O', 'O', 'O', 'O', 'O', 'O', 'O'],\n",
        "    ['B-PER', 'I-PER', 'O', 'O', 'O', 'O', 'O', 'O', 'O', 'O', 'O', 'O', 'O', 'O', 'O', 'O', 'O', 'O', 'O', 'O', 'O', 'O', 'O'],\n",
        "    ['O', 'O', 'O', 'O', 'O', 'O', 'O', 'O', 'O', 'O', 'O', 'O', 'O', 'O', 'O', 'O', 'O'],\n",
        "    ['O', 'O', 'O', 'O', 'B-PER', 'I-PER', 'O', 'O', 'O', 'O', 'O', 'O', 'O'],\n",
        "    ['O', 'O', 'O', 'O', 'O', 'B-PER', 'O', 'O', 'O', 'O', 'O', 'O', 'O', 'O', 'O', 'O', 'O', 'O', 'O', 'O', 'O', 'O', 'O'],\n",
        "    ['O', 'O', 'B-PER', 'I-PER', 'O', 'O', 'O', 'O', 'O', 'O', 'O', 'O', 'O', 'O', 'O', 'O', 'O'],\n",
        "    ['O', 'O', 'O', 'O', 'O', 'O', 'O', 'O', 'O', 'O', 'O', 'O', 'O', 'O', 'O', 'O', 'O', 'O', 'O', 'O', 'O', 'O', 'O', 'O', 'O', 'O', 'O', 'O', 'O'],\n",
        "    ['O', 'O', 'O', 'O', 'B-PER', 'O', 'O', 'O', 'O', 'O', 'O', 'O', 'O', 'O'],\n",
        "    ['O', 'O', 'O', 'B-PER', 'O', 'O', 'O', 'O', 'O', 'O', 'O', 'O'],\n",
        "    ['O', 'O', 'O', 'O', 'O', 'O', 'O', 'O', 'O', 'O', 'O', 'O'],\n",
        "    ['B-LOC', 'O', 'O', 'O', 'O', 'O', 'O', 'O', 'B-ORG', 'O', 'O', 'O', 'O'],\n",
        "    ['O', 'B-ORG', 'I-ORG', 'O', 'O', 'O', 'O', 'O', 'O', 'O', 'O'],\n",
        "    ['O', 'O', 'O', 'O', 'O', 'O', 'O', 'O', 'O', 'O', 'O', 'O', 'B-LOC', 'O', 'O', 'O', 'O', 'O', 'O', 'O', 'O', 'O', 'O','O'],\n",
        "    ['B-LOC', 'I-LOC', 'O', 'O', 'O', 'O', 'O', 'O', 'O', 'O', 'O', 'O', 'O', 'O', 'O', 'O', 'O', 'O', 'O', 'O', 'O', 'O', 'O', 'O','O'],\n",
        "    ['O', 'O', 'O', 'O', 'O', 'O', 'O', 'O', 'O', 'B-PER', 'O', 'O', 'O', 'O', 'O', 'O', 'O', 'O', 'O','O'],\n",
        "    ['O', 'B-PER', 'O', 'O', 'O', 'O', 'O', 'O', 'O', 'O', 'O', 'O', 'O', 'O', 'O', 'B-PER', 'O', 'O', 'O', 'O', 'O', 'O', 'O','O'],\n",
        "    ['O', 'O', 'O', 'O', 'O', 'O', 'B-PER', 'I-PER', 'O', 'O', 'O', 'O', 'O', 'O', 'O', 'O', 'O', 'O', 'O', 'O'],\n",
        "    ['O', 'O', 'O', 'O', 'O', 'O', 'O', 'O', 'O', 'O', 'O', 'O', 'O', 'O', 'O','O'],\n",
        "    ['B-ORG', 'O', 'O', 'O', 'O', 'O', 'O', 'O', 'B-ORG', 'I-ORG', 'O', 'O', 'O', 'O', 'O', 'O', 'O'],\n",
        "    ['O', 'B-PER', 'I-PER', 'O', 'B-PER', 'I-PER', 'O', 'B-PER', 'I-PER', 'O', 'O', 'O', 'O'],\n",
        "    ['O', 'O', 'O', 'O', 'O', 'O', 'O', 'O', 'O', 'O', 'O', 'O', 'O', 'O', 'O', 'O', 'O'],\n",
        "    ['O', 'O', 'O', 'O', 'O', 'O', 'O', 'O', 'O', 'O', 'B-ORG', 'I-ORG', 'O', 'O', 'O'],\n",
        "    ['B-LOC', 'I-LOC', 'O', 'O', 'O', 'B-PER', 'I-PER', 'O', 'O', 'O', 'O', 'O', 'O', 'O', 'O', 'O'],\n",
        "    ['O', 'O', 'O', 'O', 'O', 'O', 'O', 'O', 'O', 'O', 'O']\n",
        "\n",
        "]\n",
        "sentences25_correct_labels=[\n",
        "    ['O', 'O', 'O', 'O', 'O', 'O', 'O', 'O', 'O', 'O', 'O', 'O', 'O', 'O', 'O', 'O'],\n",
        "    ['O', 'O', 'O', 'O', 'O', 'O', 'O', 'O', 'O', 'O'],\n",
        "    ['B-PER', 'I-PER', 'O', 'B-ORG', 'I-ORG', 'O', 'O', 'O', 'O', 'O', 'O', 'O', 'O', 'O','B-MISC', 'I-MISC', 'O', 'O', 'O', 'B-LOC', 'O', 'O', 'O' ],\n",
        "    ['O', 'O', 'B-MISC', 'O', 'O', 'O', 'O', 'O', 'O', 'B-MISC', 'O', 'O', 'O', 'O', 'O', 'O','O'],\n",
        "    ['O', 'O', 'O', 'O', 'B-PER', 'I-PER', 'O', 'O', 'O', 'O', 'O', 'O', 'O'],\n",
        "    ['O', 'B-MISC', 'I-MISC', 'O', 'O', 'B-PER', 'O', 'O', 'O', 'O', 'O', 'O', 'O', 'O', 'O', 'O', 'O', 'O', 'O', 'O', 'O', 'O', 'O'],\n",
        "    ['B-LOC', 'O', 'B-LOC', 'I-LOC', 'I-LOC', 'O', 'O', 'O', 'O', 'O', 'O', 'O', 'O', 'O', 'O', 'O', 'O'],\n",
        "    ['B-ORG', 'I-ORG', 'O', 'O', 'O', 'O', 'O', 'O', 'O', 'O', 'O', 'B-ORG', 'O', 'O', 'O', 'O', 'O', 'O', 'O', 'O', 'O', 'O', 'O', 'O', 'O', 'O', 'O', 'O', 'O'],\n",
        "    ['O', 'O', 'O', 'O', 'B-PER', 'O', 'B-MISC', 'O', 'O', 'O', 'O', 'O', 'O', 'O'],\n",
        "    ['O', 'O', 'O', 'B-LOC', 'I-LOC', 'I-LOC', 'O', 'O', 'O', 'O', 'O', 'O'],\n",
        "    ['B-PER', 'O', 'B-LOC', 'O', 'O', 'B-LOC', 'O', 'B-LOC', 'O', 'O', 'O', 'O'],\n",
        "    ['B-LOC', 'I-LOC', 'I-LOC', 'O', 'O', 'O', 'O', 'O', 'B-ORG', 'O', 'O', 'O', 'O'],\n",
        "    ['O', 'B-ORG', 'I-ORG', 'O', 'O', 'O', 'O', 'O', 'O', 'O', 'O'],\n",
        "    ['O', 'O', 'O', 'O', 'O', 'O', 'O', 'O', 'O', 'O', 'O', 'O', 'B-LOC', 'O', 'O', 'O', 'O', 'O', 'O', 'O', 'O', 'O', 'O', 'O'],\n",
        "    ['B-LOC', 'I-LOC', 'O', 'B-LOC', 'O', 'O', 'O', 'O', 'O', 'O', 'O', 'B-LOC', 'O', 'O', 'O', 'O','O', 'B-ORG', 'I-ORG', 'I-ORG', 'O', 'O', 'O', 'O', 'O'],\n",
        "    ['O', 'O', 'B-MISC', 'I-MISC', 'O', 'O', 'O', 'O', 'O', 'B-ORG', 'I-ORG', 'O', 'O', 'O', 'O', 'O', 'O', 'O', 'O', 'O'],\n",
        "    ['O', 'B-PER', 'O', 'O', 'O', 'O', 'O', 'B-LOC', 'O', 'O', 'O', 'O', 'O', 'O', 'O', 'B-PER', 'O', 'O', 'O', 'O', 'O', 'O', 'O', 'O'],\n",
        "    ['O', 'O', 'O', 'B-LOC', 'O', 'O', 'B-PER', 'I-PER', 'B-LOC', 'I-LOC', 'B-PER', 'I-PER', 'O', 'O', 'O', 'O', 'O', 'O', 'O', 'O'],\n",
        "    ['O', 'O', 'O', 'O', 'O', 'O', 'O', 'O', 'O', 'O', 'O', 'O', 'O', 'O', 'O', 'O'],\n",
        "    ['B-ORG', 'O', 'O', 'O', 'O', 'O', 'O', 'O', 'B-ORG', 'I-ORG', 'O', 'O', 'O', 'O', 'O', 'O', 'O'],\n",
        "    ['O', 'B-PER', 'I-PER', 'O', 'B-PER', 'I-PER', 'O', 'B-PER', 'O', 'O', 'O', 'O', 'O'],\n",
        "    ['O', 'O', 'O', 'O', 'O', 'O', 'O', 'O', 'O', 'O', 'O', 'O', 'O', 'O', 'O', 'O','O'],\n",
        "    ['O', 'O', 'O', 'O', 'O', 'O', 'O', 'O', 'O', 'O', 'B-ORG', 'I-ORG', 'O', 'O', 'O'],\n",
        "    ['B-ORG', 'I-ORG', 'I-ORG', 'I-ORG', 'O', 'B-PER', 'I-PER', 'O', 'O', 'O', 'O', 'O', 'O', 'O', 'O','O'],\n",
        "    ['O', 'O', 'O', 'O', 'O', 'O', 'O', 'O', 'O', 'O', 'O']\n",
        "]\n"
      ]
    },
    {
      "cell_type": "code",
      "execution_count": 27,
      "metadata": {
        "id": "f_k8X98KIM6g",
        "colab": {
          "base_uri": "https://localhost:8080/"
        },
        "outputId": "853e4712-59b3-430e-ae19-c52433018a19"
      },
      "outputs": [
        {
          "output_type": "stream",
          "name": "stdout",
          "text": [
            "class_labels:  ['O', 'B-PER', 'I-PER', 'B-ORG', 'I-ORG', 'B-LOC', 'I-LOC', 'B-MISC', 'I-MISC']\n",
            "\n",
            "classwise_f1_score:  [0.94354839 0.81481481 0.8        0.625      0.42857143 0.31578947\n",
            " 0.2        0.         0.        ]\n",
            "\n",
            "macro_f1_score:  0.45863601157413647\n",
            "precision:  0.6317460317460317\n",
            "recall:  0.41634387269980494\n"
          ]
        }
      ],
      "source": [
        "classwise_precision, classwise_recall, classwise_f1_score=Calculate_performance(sentences25_correct_labels,sentences25_chatgpt_labels)\n",
        "precision = np.mean(classwise_precision)\n",
        "recall = np.mean(classwise_recall)\n",
        "labels=['O','B-PER', 'I-PER', 'B-ORG', 'I-ORG','B-LOC', 'I-LOC', 'B-MISC', 'I-MISC']\n",
        "print(\"class_labels: \",labels)\n",
        "# print(\"\\nclasswise_precision: \",classwise_precision)\n",
        "# print(\"\\nclasswise_recall: \",classwise_recall)\n",
        "print(\"\\nclasswise_f1_score: \",classwise_f1_score)\n",
        "macro_f1_score=np.mean(classwise_f1_score)\n",
        "print(\"\\nmacro_f1_score: \",macro_f1_score)\n",
        "print(\"precision: \",precision)\n",
        "print(\"recall: \",recall)"
      ]
    },
    {
      "cell_type": "code",
      "execution_count": 28,
      "metadata": {
        "id": "RVn2C7b3GHDg"
      },
      "outputs": [],
      "source": [
        "sentences25_chatgpt_results= {\n",
        "    \"class_labels\": labels,\n",
        "    \"classwise_f1_score\": classwise_f1_score.tolist(),\n",
        "    \"macro_f1_score\": macro_f1_score,\n",
        "    \"recall\": recall,\n",
        "    \"precision\": precision\n",
        "}\n",
        "os.makedirs('/content/drive/MyDrive/Mtech/IndicBERT_for_NER/results/que4/indicBERT', exist_ok=True)\n",
        "with open('/content/drive/MyDrive/Mtech/IndicBERT_for_NER/results/que4/indicBERT/sentences25_chatgpt_results.json', 'w') as outfile:\n",
        "    json.dump(sentences25_chatgpt_results, outfile, indent=4)"
      ]
    },
    {
      "cell_type": "code",
      "execution_count": null,
      "metadata": {
        "id": "2lF2rx1o8gFX"
      },
      "outputs": [],
      "source": []
    },
    {
      "cell_type": "code",
      "execution_count": null,
      "metadata": {
        "id": "llnJ9QnmRZ9N"
      },
      "outputs": [],
      "source": []
    },
    {
      "cell_type": "code",
      "execution_count": null,
      "metadata": {
        "id": "HoSxs86ERaD5"
      },
      "outputs": [],
      "source": []
    },
    {
      "cell_type": "code",
      "execution_count": 29,
      "metadata": {
        "id": "_qM3poPv8gIV",
        "colab": {
          "base_uri": "https://localhost:8080/"
        },
        "outputId": "3b1ae3e0-1520-43dc-e7da-479af7c33ce6"
      },
      "outputs": [
        {
          "output_type": "stream",
          "name": "stdout",
          "text": [
            "All cells executed\n"
          ]
        }
      ],
      "source": [
        "print(\"All cells executed\")"
      ]
    },
    {
      "cell_type": "code",
      "execution_count": null,
      "metadata": {
        "id": "x168hGMd8nHo"
      },
      "outputs": [],
      "source": []
    }
  ],
  "metadata": {
    "colab": {
      "collapsed_sections": [
        "GGVPakMWVR_j",
        "7QoySCS3YNKW",
        "A8UkzK6HaEfu",
        "SS7nAPztoj50",
        "oQb9JOxGjg5r",
        "WhI-i8Sxkdvd",
        "pYHddEkFGxyd",
        "77NGhPGPHVzd"
      ],
      "provenance": []
    },
    "kernelspec": {
      "display_name": "Python 3",
      "name": "python3"
    },
    "language_info": {
      "name": "python"
    },
    "widgets": {
      "application/vnd.jupyter.widget-state+json": {
        "868b5099ffbd427aa877e593b79f2a20": {
          "model_module": "@jupyter-widgets/controls",
          "model_name": "HBoxModel",
          "model_module_version": "1.5.0",
          "state": {
            "_dom_classes": [],
            "_model_module": "@jupyter-widgets/controls",
            "_model_module_version": "1.5.0",
            "_model_name": "HBoxModel",
            "_view_count": null,
            "_view_module": "@jupyter-widgets/controls",
            "_view_module_version": "1.5.0",
            "_view_name": "HBoxView",
            "box_style": "",
            "children": [
              "IPY_MODEL_cd4898613b624c7db16d8732568561b3",
              "IPY_MODEL_f3ab9a8bdfcf44b688894f33ec789c3e",
              "IPY_MODEL_81c7d5c475ad406989d1ffe29d3fffa7"
            ],
            "layout": "IPY_MODEL_4e1600bed74245b68ebf05d0022009da"
          }
        },
        "cd4898613b624c7db16d8732568561b3": {
          "model_module": "@jupyter-widgets/controls",
          "model_name": "HTMLModel",
          "model_module_version": "1.5.0",
          "state": {
            "_dom_classes": [],
            "_model_module": "@jupyter-widgets/controls",
            "_model_module_version": "1.5.0",
            "_model_name": "HTMLModel",
            "_view_count": null,
            "_view_module": "@jupyter-widgets/controls",
            "_view_module_version": "1.5.0",
            "_view_name": "HTMLView",
            "description": "",
            "description_tooltip": null,
            "layout": "IPY_MODEL_1a0c774169c742a09519314d016bdd9d",
            "placeholder": "​",
            "style": "IPY_MODEL_4d09ec42954b4754a3b908ea0b02ef53",
            "value": "Downloading data: 100%"
          }
        },
        "f3ab9a8bdfcf44b688894f33ec789c3e": {
          "model_module": "@jupyter-widgets/controls",
          "model_name": "FloatProgressModel",
          "model_module_version": "1.5.0",
          "state": {
            "_dom_classes": [],
            "_model_module": "@jupyter-widgets/controls",
            "_model_module_version": "1.5.0",
            "_model_name": "FloatProgressModel",
            "_view_count": null,
            "_view_module": "@jupyter-widgets/controls",
            "_view_module_version": "1.5.0",
            "_view_name": "ProgressView",
            "bar_style": "success",
            "description": "",
            "description_tooltip": null,
            "layout": "IPY_MODEL_026bea3dff40456f9bca90b362231778",
            "max": 37126872,
            "min": 0,
            "orientation": "horizontal",
            "style": "IPY_MODEL_8595ce1dec934d9ca6c3ed6dba3ab82f",
            "value": 37126872
          }
        },
        "81c7d5c475ad406989d1ffe29d3fffa7": {
          "model_module": "@jupyter-widgets/controls",
          "model_name": "HTMLModel",
          "model_module_version": "1.5.0",
          "state": {
            "_dom_classes": [],
            "_model_module": "@jupyter-widgets/controls",
            "_model_module_version": "1.5.0",
            "_model_name": "HTMLModel",
            "_view_count": null,
            "_view_module": "@jupyter-widgets/controls",
            "_view_module_version": "1.5.0",
            "_view_name": "HTMLView",
            "description": "",
            "description_tooltip": null,
            "layout": "IPY_MODEL_f2bb8d2b2eb342a3a88d47a52526dc75",
            "placeholder": "​",
            "style": "IPY_MODEL_a79de0185529452080884866953bcd5b",
            "value": " 37.1M/37.1M [00:02&lt;00:00, 19.4MB/s]"
          }
        },
        "4e1600bed74245b68ebf05d0022009da": {
          "model_module": "@jupyter-widgets/base",
          "model_name": "LayoutModel",
          "model_module_version": "1.2.0",
          "state": {
            "_model_module": "@jupyter-widgets/base",
            "_model_module_version": "1.2.0",
            "_model_name": "LayoutModel",
            "_view_count": null,
            "_view_module": "@jupyter-widgets/base",
            "_view_module_version": "1.2.0",
            "_view_name": "LayoutView",
            "align_content": null,
            "align_items": null,
            "align_self": null,
            "border": null,
            "bottom": null,
            "display": null,
            "flex": null,
            "flex_flow": null,
            "grid_area": null,
            "grid_auto_columns": null,
            "grid_auto_flow": null,
            "grid_auto_rows": null,
            "grid_column": null,
            "grid_gap": null,
            "grid_row": null,
            "grid_template_areas": null,
            "grid_template_columns": null,
            "grid_template_rows": null,
            "height": null,
            "justify_content": null,
            "justify_items": null,
            "left": null,
            "margin": null,
            "max_height": null,
            "max_width": null,
            "min_height": null,
            "min_width": null,
            "object_fit": null,
            "object_position": null,
            "order": null,
            "overflow": null,
            "overflow_x": null,
            "overflow_y": null,
            "padding": null,
            "right": null,
            "top": null,
            "visibility": null,
            "width": null
          }
        },
        "1a0c774169c742a09519314d016bdd9d": {
          "model_module": "@jupyter-widgets/base",
          "model_name": "LayoutModel",
          "model_module_version": "1.2.0",
          "state": {
            "_model_module": "@jupyter-widgets/base",
            "_model_module_version": "1.2.0",
            "_model_name": "LayoutModel",
            "_view_count": null,
            "_view_module": "@jupyter-widgets/base",
            "_view_module_version": "1.2.0",
            "_view_name": "LayoutView",
            "align_content": null,
            "align_items": null,
            "align_self": null,
            "border": null,
            "bottom": null,
            "display": null,
            "flex": null,
            "flex_flow": null,
            "grid_area": null,
            "grid_auto_columns": null,
            "grid_auto_flow": null,
            "grid_auto_rows": null,
            "grid_column": null,
            "grid_gap": null,
            "grid_row": null,
            "grid_template_areas": null,
            "grid_template_columns": null,
            "grid_template_rows": null,
            "height": null,
            "justify_content": null,
            "justify_items": null,
            "left": null,
            "margin": null,
            "max_height": null,
            "max_width": null,
            "min_height": null,
            "min_width": null,
            "object_fit": null,
            "object_position": null,
            "order": null,
            "overflow": null,
            "overflow_x": null,
            "overflow_y": null,
            "padding": null,
            "right": null,
            "top": null,
            "visibility": null,
            "width": null
          }
        },
        "4d09ec42954b4754a3b908ea0b02ef53": {
          "model_module": "@jupyter-widgets/controls",
          "model_name": "DescriptionStyleModel",
          "model_module_version": "1.5.0",
          "state": {
            "_model_module": "@jupyter-widgets/controls",
            "_model_module_version": "1.5.0",
            "_model_name": "DescriptionStyleModel",
            "_view_count": null,
            "_view_module": "@jupyter-widgets/base",
            "_view_module_version": "1.2.0",
            "_view_name": "StyleView",
            "description_width": ""
          }
        },
        "026bea3dff40456f9bca90b362231778": {
          "model_module": "@jupyter-widgets/base",
          "model_name": "LayoutModel",
          "model_module_version": "1.2.0",
          "state": {
            "_model_module": "@jupyter-widgets/base",
            "_model_module_version": "1.2.0",
            "_model_name": "LayoutModel",
            "_view_count": null,
            "_view_module": "@jupyter-widgets/base",
            "_view_module_version": "1.2.0",
            "_view_name": "LayoutView",
            "align_content": null,
            "align_items": null,
            "align_self": null,
            "border": null,
            "bottom": null,
            "display": null,
            "flex": null,
            "flex_flow": null,
            "grid_area": null,
            "grid_auto_columns": null,
            "grid_auto_flow": null,
            "grid_auto_rows": null,
            "grid_column": null,
            "grid_gap": null,
            "grid_row": null,
            "grid_template_areas": null,
            "grid_template_columns": null,
            "grid_template_rows": null,
            "height": null,
            "justify_content": null,
            "justify_items": null,
            "left": null,
            "margin": null,
            "max_height": null,
            "max_width": null,
            "min_height": null,
            "min_width": null,
            "object_fit": null,
            "object_position": null,
            "order": null,
            "overflow": null,
            "overflow_x": null,
            "overflow_y": null,
            "padding": null,
            "right": null,
            "top": null,
            "visibility": null,
            "width": null
          }
        },
        "8595ce1dec934d9ca6c3ed6dba3ab82f": {
          "model_module": "@jupyter-widgets/controls",
          "model_name": "ProgressStyleModel",
          "model_module_version": "1.5.0",
          "state": {
            "_model_module": "@jupyter-widgets/controls",
            "_model_module_version": "1.5.0",
            "_model_name": "ProgressStyleModel",
            "_view_count": null,
            "_view_module": "@jupyter-widgets/base",
            "_view_module_version": "1.2.0",
            "_view_name": "StyleView",
            "bar_color": null,
            "description_width": ""
          }
        },
        "f2bb8d2b2eb342a3a88d47a52526dc75": {
          "model_module": "@jupyter-widgets/base",
          "model_name": "LayoutModel",
          "model_module_version": "1.2.0",
          "state": {
            "_model_module": "@jupyter-widgets/base",
            "_model_module_version": "1.2.0",
            "_model_name": "LayoutModel",
            "_view_count": null,
            "_view_module": "@jupyter-widgets/base",
            "_view_module_version": "1.2.0",
            "_view_name": "LayoutView",
            "align_content": null,
            "align_items": null,
            "align_self": null,
            "border": null,
            "bottom": null,
            "display": null,
            "flex": null,
            "flex_flow": null,
            "grid_area": null,
            "grid_auto_columns": null,
            "grid_auto_flow": null,
            "grid_auto_rows": null,
            "grid_column": null,
            "grid_gap": null,
            "grid_row": null,
            "grid_template_areas": null,
            "grid_template_columns": null,
            "grid_template_rows": null,
            "height": null,
            "justify_content": null,
            "justify_items": null,
            "left": null,
            "margin": null,
            "max_height": null,
            "max_width": null,
            "min_height": null,
            "min_width": null,
            "object_fit": null,
            "object_position": null,
            "order": null,
            "overflow": null,
            "overflow_x": null,
            "overflow_y": null,
            "padding": null,
            "right": null,
            "top": null,
            "visibility": null,
            "width": null
          }
        },
        "a79de0185529452080884866953bcd5b": {
          "model_module": "@jupyter-widgets/controls",
          "model_name": "DescriptionStyleModel",
          "model_module_version": "1.5.0",
          "state": {
            "_model_module": "@jupyter-widgets/controls",
            "_model_module_version": "1.5.0",
            "_model_name": "DescriptionStyleModel",
            "_view_count": null,
            "_view_module": "@jupyter-widgets/base",
            "_view_module_version": "1.2.0",
            "_view_name": "StyleView",
            "description_width": ""
          }
        },
        "fa87f714a0ff405885eca390a4d859f2": {
          "model_module": "@jupyter-widgets/controls",
          "model_name": "HBoxModel",
          "model_module_version": "1.5.0",
          "state": {
            "_dom_classes": [],
            "_model_module": "@jupyter-widgets/controls",
            "_model_module_version": "1.5.0",
            "_model_name": "HBoxModel",
            "_view_count": null,
            "_view_module": "@jupyter-widgets/controls",
            "_view_module_version": "1.5.0",
            "_view_name": "HBoxView",
            "box_style": "",
            "children": [
              "IPY_MODEL_d10c085dcf8c4b7396b9f32793f0427e",
              "IPY_MODEL_a85d174bea244fc08de1b98a910ccf4d",
              "IPY_MODEL_5954c1357c0040cb95311f219a6a21e6"
            ],
            "layout": "IPY_MODEL_a300f4894ba94f4aab7322bbec888c4d"
          }
        },
        "d10c085dcf8c4b7396b9f32793f0427e": {
          "model_module": "@jupyter-widgets/controls",
          "model_name": "HTMLModel",
          "model_module_version": "1.5.0",
          "state": {
            "_dom_classes": [],
            "_model_module": "@jupyter-widgets/controls",
            "_model_module_version": "1.5.0",
            "_model_name": "HTMLModel",
            "_view_count": null,
            "_view_module": "@jupyter-widgets/controls",
            "_view_module_version": "1.5.0",
            "_view_name": "HTMLView",
            "description": "",
            "description_tooltip": null,
            "layout": "IPY_MODEL_3c218c5c39134a938a815be9018fdb5a",
            "placeholder": "​",
            "style": "IPY_MODEL_98630b551be3488486d2010aa58dfd02",
            "value": "Downloading data: 100%"
          }
        },
        "a85d174bea244fc08de1b98a910ccf4d": {
          "model_module": "@jupyter-widgets/controls",
          "model_name": "FloatProgressModel",
          "model_module_version": "1.5.0",
          "state": {
            "_dom_classes": [],
            "_model_module": "@jupyter-widgets/controls",
            "_model_module_version": "1.5.0",
            "_model_name": "FloatProgressModel",
            "_view_count": null,
            "_view_module": "@jupyter-widgets/controls",
            "_view_module_version": "1.5.0",
            "_view_name": "ProgressView",
            "bar_style": "success",
            "description": "",
            "description_tooltip": null,
            "layout": "IPY_MODEL_ed2c3e97f48d44c6b08fb7e6d3a27256",
            "max": 83192,
            "min": 0,
            "orientation": "horizontal",
            "style": "IPY_MODEL_d4bbd8399fa14e3c9825b3b05d4694e0",
            "value": 83192
          }
        },
        "5954c1357c0040cb95311f219a6a21e6": {
          "model_module": "@jupyter-widgets/controls",
          "model_name": "HTMLModel",
          "model_module_version": "1.5.0",
          "state": {
            "_dom_classes": [],
            "_model_module": "@jupyter-widgets/controls",
            "_model_module_version": "1.5.0",
            "_model_name": "HTMLModel",
            "_view_count": null,
            "_view_module": "@jupyter-widgets/controls",
            "_view_module_version": "1.5.0",
            "_view_name": "HTMLView",
            "description": "",
            "description_tooltip": null,
            "layout": "IPY_MODEL_38c44d3df24b4f00b65a778e5ada82f4",
            "placeholder": "​",
            "style": "IPY_MODEL_629948d5470847878d8f9570820fb0b8",
            "value": " 83.2k/83.2k [00:00&lt;00:00, 555kB/s]"
          }
        },
        "a300f4894ba94f4aab7322bbec888c4d": {
          "model_module": "@jupyter-widgets/base",
          "model_name": "LayoutModel",
          "model_module_version": "1.2.0",
          "state": {
            "_model_module": "@jupyter-widgets/base",
            "_model_module_version": "1.2.0",
            "_model_name": "LayoutModel",
            "_view_count": null,
            "_view_module": "@jupyter-widgets/base",
            "_view_module_version": "1.2.0",
            "_view_name": "LayoutView",
            "align_content": null,
            "align_items": null,
            "align_self": null,
            "border": null,
            "bottom": null,
            "display": null,
            "flex": null,
            "flex_flow": null,
            "grid_area": null,
            "grid_auto_columns": null,
            "grid_auto_flow": null,
            "grid_auto_rows": null,
            "grid_column": null,
            "grid_gap": null,
            "grid_row": null,
            "grid_template_areas": null,
            "grid_template_columns": null,
            "grid_template_rows": null,
            "height": null,
            "justify_content": null,
            "justify_items": null,
            "left": null,
            "margin": null,
            "max_height": null,
            "max_width": null,
            "min_height": null,
            "min_width": null,
            "object_fit": null,
            "object_position": null,
            "order": null,
            "overflow": null,
            "overflow_x": null,
            "overflow_y": null,
            "padding": null,
            "right": null,
            "top": null,
            "visibility": null,
            "width": null
          }
        },
        "3c218c5c39134a938a815be9018fdb5a": {
          "model_module": "@jupyter-widgets/base",
          "model_name": "LayoutModel",
          "model_module_version": "1.2.0",
          "state": {
            "_model_module": "@jupyter-widgets/base",
            "_model_module_version": "1.2.0",
            "_model_name": "LayoutModel",
            "_view_count": null,
            "_view_module": "@jupyter-widgets/base",
            "_view_module_version": "1.2.0",
            "_view_name": "LayoutView",
            "align_content": null,
            "align_items": null,
            "align_self": null,
            "border": null,
            "bottom": null,
            "display": null,
            "flex": null,
            "flex_flow": null,
            "grid_area": null,
            "grid_auto_columns": null,
            "grid_auto_flow": null,
            "grid_auto_rows": null,
            "grid_column": null,
            "grid_gap": null,
            "grid_row": null,
            "grid_template_areas": null,
            "grid_template_columns": null,
            "grid_template_rows": null,
            "height": null,
            "justify_content": null,
            "justify_items": null,
            "left": null,
            "margin": null,
            "max_height": null,
            "max_width": null,
            "min_height": null,
            "min_width": null,
            "object_fit": null,
            "object_position": null,
            "order": null,
            "overflow": null,
            "overflow_x": null,
            "overflow_y": null,
            "padding": null,
            "right": null,
            "top": null,
            "visibility": null,
            "width": null
          }
        },
        "98630b551be3488486d2010aa58dfd02": {
          "model_module": "@jupyter-widgets/controls",
          "model_name": "DescriptionStyleModel",
          "model_module_version": "1.5.0",
          "state": {
            "_model_module": "@jupyter-widgets/controls",
            "_model_module_version": "1.5.0",
            "_model_name": "DescriptionStyleModel",
            "_view_count": null,
            "_view_module": "@jupyter-widgets/base",
            "_view_module_version": "1.2.0",
            "_view_name": "StyleView",
            "description_width": ""
          }
        },
        "ed2c3e97f48d44c6b08fb7e6d3a27256": {
          "model_module": "@jupyter-widgets/base",
          "model_name": "LayoutModel",
          "model_module_version": "1.2.0",
          "state": {
            "_model_module": "@jupyter-widgets/base",
            "_model_module_version": "1.2.0",
            "_model_name": "LayoutModel",
            "_view_count": null,
            "_view_module": "@jupyter-widgets/base",
            "_view_module_version": "1.2.0",
            "_view_name": "LayoutView",
            "align_content": null,
            "align_items": null,
            "align_self": null,
            "border": null,
            "bottom": null,
            "display": null,
            "flex": null,
            "flex_flow": null,
            "grid_area": null,
            "grid_auto_columns": null,
            "grid_auto_flow": null,
            "grid_auto_rows": null,
            "grid_column": null,
            "grid_gap": null,
            "grid_row": null,
            "grid_template_areas": null,
            "grid_template_columns": null,
            "grid_template_rows": null,
            "height": null,
            "justify_content": null,
            "justify_items": null,
            "left": null,
            "margin": null,
            "max_height": null,
            "max_width": null,
            "min_height": null,
            "min_width": null,
            "object_fit": null,
            "object_position": null,
            "order": null,
            "overflow": null,
            "overflow_x": null,
            "overflow_y": null,
            "padding": null,
            "right": null,
            "top": null,
            "visibility": null,
            "width": null
          }
        },
        "d4bbd8399fa14e3c9825b3b05d4694e0": {
          "model_module": "@jupyter-widgets/controls",
          "model_name": "ProgressStyleModel",
          "model_module_version": "1.5.0",
          "state": {
            "_model_module": "@jupyter-widgets/controls",
            "_model_module_version": "1.5.0",
            "_model_name": "ProgressStyleModel",
            "_view_count": null,
            "_view_module": "@jupyter-widgets/base",
            "_view_module_version": "1.2.0",
            "_view_name": "StyleView",
            "bar_color": null,
            "description_width": ""
          }
        },
        "38c44d3df24b4f00b65a778e5ada82f4": {
          "model_module": "@jupyter-widgets/base",
          "model_name": "LayoutModel",
          "model_module_version": "1.2.0",
          "state": {
            "_model_module": "@jupyter-widgets/base",
            "_model_module_version": "1.2.0",
            "_model_name": "LayoutModel",
            "_view_count": null,
            "_view_module": "@jupyter-widgets/base",
            "_view_module_version": "1.2.0",
            "_view_name": "LayoutView",
            "align_content": null,
            "align_items": null,
            "align_self": null,
            "border": null,
            "bottom": null,
            "display": null,
            "flex": null,
            "flex_flow": null,
            "grid_area": null,
            "grid_auto_columns": null,
            "grid_auto_flow": null,
            "grid_auto_rows": null,
            "grid_column": null,
            "grid_gap": null,
            "grid_row": null,
            "grid_template_areas": null,
            "grid_template_columns": null,
            "grid_template_rows": null,
            "height": null,
            "justify_content": null,
            "justify_items": null,
            "left": null,
            "margin": null,
            "max_height": null,
            "max_width": null,
            "min_height": null,
            "min_width": null,
            "object_fit": null,
            "object_position": null,
            "order": null,
            "overflow": null,
            "overflow_x": null,
            "overflow_y": null,
            "padding": null,
            "right": null,
            "top": null,
            "visibility": null,
            "width": null
          }
        },
        "629948d5470847878d8f9570820fb0b8": {
          "model_module": "@jupyter-widgets/controls",
          "model_name": "DescriptionStyleModel",
          "model_module_version": "1.5.0",
          "state": {
            "_model_module": "@jupyter-widgets/controls",
            "_model_module_version": "1.5.0",
            "_model_name": "DescriptionStyleModel",
            "_view_count": null,
            "_view_module": "@jupyter-widgets/base",
            "_view_module_version": "1.2.0",
            "_view_name": "StyleView",
            "description_width": ""
          }
        },
        "4368d220f6e646fa94209b1d421ce84c": {
          "model_module": "@jupyter-widgets/controls",
          "model_name": "HBoxModel",
          "model_module_version": "1.5.0",
          "state": {
            "_dom_classes": [],
            "_model_module": "@jupyter-widgets/controls",
            "_model_module_version": "1.5.0",
            "_model_name": "HBoxModel",
            "_view_count": null,
            "_view_module": "@jupyter-widgets/controls",
            "_view_module_version": "1.5.0",
            "_view_name": "HBoxView",
            "box_style": "",
            "children": [
              "IPY_MODEL_a2562a6eed5144c1a43df3c4d6e7fb76",
              "IPY_MODEL_31d71a241fa641afb39374c066ad0f8e",
              "IPY_MODEL_cc3012c3098e421490ae439d538a3748"
            ],
            "layout": "IPY_MODEL_6941e26a575a4f55b2f921404fae2d9a"
          }
        },
        "a2562a6eed5144c1a43df3c4d6e7fb76": {
          "model_module": "@jupyter-widgets/controls",
          "model_name": "HTMLModel",
          "model_module_version": "1.5.0",
          "state": {
            "_dom_classes": [],
            "_model_module": "@jupyter-widgets/controls",
            "_model_module_version": "1.5.0",
            "_model_name": "HTMLModel",
            "_view_count": null,
            "_view_module": "@jupyter-widgets/controls",
            "_view_module_version": "1.5.0",
            "_view_name": "HTMLView",
            "description": "",
            "description_tooltip": null,
            "layout": "IPY_MODEL_8f8aa222f6eb4d10afcc993a75009cf3",
            "placeholder": "​",
            "style": "IPY_MODEL_57955e0a614f42f28028829367b116fc",
            "value": "Downloading data: 100%"
          }
        },
        "31d71a241fa641afb39374c066ad0f8e": {
          "model_module": "@jupyter-widgets/controls",
          "model_name": "FloatProgressModel",
          "model_module_version": "1.5.0",
          "state": {
            "_dom_classes": [],
            "_model_module": "@jupyter-widgets/controls",
            "_model_module_version": "1.5.0",
            "_model_name": "FloatProgressModel",
            "_view_count": null,
            "_view_module": "@jupyter-widgets/controls",
            "_view_module_version": "1.5.0",
            "_view_name": "ProgressView",
            "bar_style": "success",
            "description": "",
            "description_tooltip": null,
            "layout": "IPY_MODEL_4946d258ac424ac19b4cd2efa747297b",
            "max": 197773,
            "min": 0,
            "orientation": "horizontal",
            "style": "IPY_MODEL_a2eb516d64fd49b1a3ccfcf1c8fda364",
            "value": 197773
          }
        },
        "cc3012c3098e421490ae439d538a3748": {
          "model_module": "@jupyter-widgets/controls",
          "model_name": "HTMLModel",
          "model_module_version": "1.5.0",
          "state": {
            "_dom_classes": [],
            "_model_module": "@jupyter-widgets/controls",
            "_model_module_version": "1.5.0",
            "_model_name": "HTMLModel",
            "_view_count": null,
            "_view_module": "@jupyter-widgets/controls",
            "_view_module_version": "1.5.0",
            "_view_name": "HTMLView",
            "description": "",
            "description_tooltip": null,
            "layout": "IPY_MODEL_38f9978a3d234cce88ce303307376628",
            "placeholder": "​",
            "style": "IPY_MODEL_495d5f47c6e542a39884625368974aff",
            "value": " 198k/198k [00:00&lt;00:00, 1.32MB/s]"
          }
        },
        "6941e26a575a4f55b2f921404fae2d9a": {
          "model_module": "@jupyter-widgets/base",
          "model_name": "LayoutModel",
          "model_module_version": "1.2.0",
          "state": {
            "_model_module": "@jupyter-widgets/base",
            "_model_module_version": "1.2.0",
            "_model_name": "LayoutModel",
            "_view_count": null,
            "_view_module": "@jupyter-widgets/base",
            "_view_module_version": "1.2.0",
            "_view_name": "LayoutView",
            "align_content": null,
            "align_items": null,
            "align_self": null,
            "border": null,
            "bottom": null,
            "display": null,
            "flex": null,
            "flex_flow": null,
            "grid_area": null,
            "grid_auto_columns": null,
            "grid_auto_flow": null,
            "grid_auto_rows": null,
            "grid_column": null,
            "grid_gap": null,
            "grid_row": null,
            "grid_template_areas": null,
            "grid_template_columns": null,
            "grid_template_rows": null,
            "height": null,
            "justify_content": null,
            "justify_items": null,
            "left": null,
            "margin": null,
            "max_height": null,
            "max_width": null,
            "min_height": null,
            "min_width": null,
            "object_fit": null,
            "object_position": null,
            "order": null,
            "overflow": null,
            "overflow_x": null,
            "overflow_y": null,
            "padding": null,
            "right": null,
            "top": null,
            "visibility": null,
            "width": null
          }
        },
        "8f8aa222f6eb4d10afcc993a75009cf3": {
          "model_module": "@jupyter-widgets/base",
          "model_name": "LayoutModel",
          "model_module_version": "1.2.0",
          "state": {
            "_model_module": "@jupyter-widgets/base",
            "_model_module_version": "1.2.0",
            "_model_name": "LayoutModel",
            "_view_count": null,
            "_view_module": "@jupyter-widgets/base",
            "_view_module_version": "1.2.0",
            "_view_name": "LayoutView",
            "align_content": null,
            "align_items": null,
            "align_self": null,
            "border": null,
            "bottom": null,
            "display": null,
            "flex": null,
            "flex_flow": null,
            "grid_area": null,
            "grid_auto_columns": null,
            "grid_auto_flow": null,
            "grid_auto_rows": null,
            "grid_column": null,
            "grid_gap": null,
            "grid_row": null,
            "grid_template_areas": null,
            "grid_template_columns": null,
            "grid_template_rows": null,
            "height": null,
            "justify_content": null,
            "justify_items": null,
            "left": null,
            "margin": null,
            "max_height": null,
            "max_width": null,
            "min_height": null,
            "min_width": null,
            "object_fit": null,
            "object_position": null,
            "order": null,
            "overflow": null,
            "overflow_x": null,
            "overflow_y": null,
            "padding": null,
            "right": null,
            "top": null,
            "visibility": null,
            "width": null
          }
        },
        "57955e0a614f42f28028829367b116fc": {
          "model_module": "@jupyter-widgets/controls",
          "model_name": "DescriptionStyleModel",
          "model_module_version": "1.5.0",
          "state": {
            "_model_module": "@jupyter-widgets/controls",
            "_model_module_version": "1.5.0",
            "_model_name": "DescriptionStyleModel",
            "_view_count": null,
            "_view_module": "@jupyter-widgets/base",
            "_view_module_version": "1.2.0",
            "_view_name": "StyleView",
            "description_width": ""
          }
        },
        "4946d258ac424ac19b4cd2efa747297b": {
          "model_module": "@jupyter-widgets/base",
          "model_name": "LayoutModel",
          "model_module_version": "1.2.0",
          "state": {
            "_model_module": "@jupyter-widgets/base",
            "_model_module_version": "1.2.0",
            "_model_name": "LayoutModel",
            "_view_count": null,
            "_view_module": "@jupyter-widgets/base",
            "_view_module_version": "1.2.0",
            "_view_name": "LayoutView",
            "align_content": null,
            "align_items": null,
            "align_self": null,
            "border": null,
            "bottom": null,
            "display": null,
            "flex": null,
            "flex_flow": null,
            "grid_area": null,
            "grid_auto_columns": null,
            "grid_auto_flow": null,
            "grid_auto_rows": null,
            "grid_column": null,
            "grid_gap": null,
            "grid_row": null,
            "grid_template_areas": null,
            "grid_template_columns": null,
            "grid_template_rows": null,
            "height": null,
            "justify_content": null,
            "justify_items": null,
            "left": null,
            "margin": null,
            "max_height": null,
            "max_width": null,
            "min_height": null,
            "min_width": null,
            "object_fit": null,
            "object_position": null,
            "order": null,
            "overflow": null,
            "overflow_x": null,
            "overflow_y": null,
            "padding": null,
            "right": null,
            "top": null,
            "visibility": null,
            "width": null
          }
        },
        "a2eb516d64fd49b1a3ccfcf1c8fda364": {
          "model_module": "@jupyter-widgets/controls",
          "model_name": "ProgressStyleModel",
          "model_module_version": "1.5.0",
          "state": {
            "_model_module": "@jupyter-widgets/controls",
            "_model_module_version": "1.5.0",
            "_model_name": "ProgressStyleModel",
            "_view_count": null,
            "_view_module": "@jupyter-widgets/base",
            "_view_module_version": "1.2.0",
            "_view_name": "StyleView",
            "bar_color": null,
            "description_width": ""
          }
        },
        "38f9978a3d234cce88ce303307376628": {
          "model_module": "@jupyter-widgets/base",
          "model_name": "LayoutModel",
          "model_module_version": "1.2.0",
          "state": {
            "_model_module": "@jupyter-widgets/base",
            "_model_module_version": "1.2.0",
            "_model_name": "LayoutModel",
            "_view_count": null,
            "_view_module": "@jupyter-widgets/base",
            "_view_module_version": "1.2.0",
            "_view_name": "LayoutView",
            "align_content": null,
            "align_items": null,
            "align_self": null,
            "border": null,
            "bottom": null,
            "display": null,
            "flex": null,
            "flex_flow": null,
            "grid_area": null,
            "grid_auto_columns": null,
            "grid_auto_flow": null,
            "grid_auto_rows": null,
            "grid_column": null,
            "grid_gap": null,
            "grid_row": null,
            "grid_template_areas": null,
            "grid_template_columns": null,
            "grid_template_rows": null,
            "height": null,
            "justify_content": null,
            "justify_items": null,
            "left": null,
            "margin": null,
            "max_height": null,
            "max_width": null,
            "min_height": null,
            "min_width": null,
            "object_fit": null,
            "object_position": null,
            "order": null,
            "overflow": null,
            "overflow_x": null,
            "overflow_y": null,
            "padding": null,
            "right": null,
            "top": null,
            "visibility": null,
            "width": null
          }
        },
        "495d5f47c6e542a39884625368974aff": {
          "model_module": "@jupyter-widgets/controls",
          "model_name": "DescriptionStyleModel",
          "model_module_version": "1.5.0",
          "state": {
            "_model_module": "@jupyter-widgets/controls",
            "_model_module_version": "1.5.0",
            "_model_name": "DescriptionStyleModel",
            "_view_count": null,
            "_view_module": "@jupyter-widgets/base",
            "_view_module_version": "1.2.0",
            "_view_name": "StyleView",
            "description_width": ""
          }
        },
        "8f59eb2d80b7430cac80dd3b6ad39c42": {
          "model_module": "@jupyter-widgets/controls",
          "model_name": "HBoxModel",
          "model_module_version": "1.5.0",
          "state": {
            "_dom_classes": [],
            "_model_module": "@jupyter-widgets/controls",
            "_model_module_version": "1.5.0",
            "_model_name": "HBoxModel",
            "_view_count": null,
            "_view_module": "@jupyter-widgets/controls",
            "_view_module_version": "1.5.0",
            "_view_name": "HBoxView",
            "box_style": "",
            "children": [
              "IPY_MODEL_c57218a228ff45eabb7af014c827f517",
              "IPY_MODEL_ccc91ef9cc1e4f1c95f0bdcf458ce319",
              "IPY_MODEL_12b1957239b84cd1bacd1aac08530f47"
            ],
            "layout": "IPY_MODEL_e0e13bba45d9429ab759423f3fbbb753"
          }
        },
        "c57218a228ff45eabb7af014c827f517": {
          "model_module": "@jupyter-widgets/controls",
          "model_name": "HTMLModel",
          "model_module_version": "1.5.0",
          "state": {
            "_dom_classes": [],
            "_model_module": "@jupyter-widgets/controls",
            "_model_module_version": "1.5.0",
            "_model_name": "HTMLModel",
            "_view_count": null,
            "_view_module": "@jupyter-widgets/controls",
            "_view_module_version": "1.5.0",
            "_view_name": "HTMLView",
            "description": "",
            "description_tooltip": null,
            "layout": "IPY_MODEL_04baf90f36c84e60bc843f46db849870",
            "placeholder": "​",
            "style": "IPY_MODEL_d70002dcc4554a8e94dab5785e614727",
            "value": "Generating train split: 100%"
          }
        },
        "ccc91ef9cc1e4f1c95f0bdcf458ce319": {
          "model_module": "@jupyter-widgets/controls",
          "model_name": "FloatProgressModel",
          "model_module_version": "1.5.0",
          "state": {
            "_dom_classes": [],
            "_model_module": "@jupyter-widgets/controls",
            "_model_module_version": "1.5.0",
            "_model_name": "FloatProgressModel",
            "_view_count": null,
            "_view_module": "@jupyter-widgets/controls",
            "_view_module_version": "1.5.0",
            "_view_name": "ProgressView",
            "bar_style": "success",
            "description": "",
            "description_tooltip": null,
            "layout": "IPY_MODEL_b33ed5473d9f4084933adea12eda8a02",
            "max": 455248,
            "min": 0,
            "orientation": "horizontal",
            "style": "IPY_MODEL_c2567662e4854bf28d9671a3840b493d",
            "value": 455248
          }
        },
        "12b1957239b84cd1bacd1aac08530f47": {
          "model_module": "@jupyter-widgets/controls",
          "model_name": "HTMLModel",
          "model_module_version": "1.5.0",
          "state": {
            "_dom_classes": [],
            "_model_module": "@jupyter-widgets/controls",
            "_model_module_version": "1.5.0",
            "_model_name": "HTMLModel",
            "_view_count": null,
            "_view_module": "@jupyter-widgets/controls",
            "_view_module_version": "1.5.0",
            "_view_name": "HTMLView",
            "description": "",
            "description_tooltip": null,
            "layout": "IPY_MODEL_861f1bf37f654e2faa8b10b643c7ab0a",
            "placeholder": "​",
            "style": "IPY_MODEL_626c753df1c64c07b736e49b836bb349",
            "value": " 455248/455248 [00:01&lt;00:00, 240269.22 examples/s]"
          }
        },
        "e0e13bba45d9429ab759423f3fbbb753": {
          "model_module": "@jupyter-widgets/base",
          "model_name": "LayoutModel",
          "model_module_version": "1.2.0",
          "state": {
            "_model_module": "@jupyter-widgets/base",
            "_model_module_version": "1.2.0",
            "_model_name": "LayoutModel",
            "_view_count": null,
            "_view_module": "@jupyter-widgets/base",
            "_view_module_version": "1.2.0",
            "_view_name": "LayoutView",
            "align_content": null,
            "align_items": null,
            "align_self": null,
            "border": null,
            "bottom": null,
            "display": null,
            "flex": null,
            "flex_flow": null,
            "grid_area": null,
            "grid_auto_columns": null,
            "grid_auto_flow": null,
            "grid_auto_rows": null,
            "grid_column": null,
            "grid_gap": null,
            "grid_row": null,
            "grid_template_areas": null,
            "grid_template_columns": null,
            "grid_template_rows": null,
            "height": null,
            "justify_content": null,
            "justify_items": null,
            "left": null,
            "margin": null,
            "max_height": null,
            "max_width": null,
            "min_height": null,
            "min_width": null,
            "object_fit": null,
            "object_position": null,
            "order": null,
            "overflow": null,
            "overflow_x": null,
            "overflow_y": null,
            "padding": null,
            "right": null,
            "top": null,
            "visibility": null,
            "width": null
          }
        },
        "04baf90f36c84e60bc843f46db849870": {
          "model_module": "@jupyter-widgets/base",
          "model_name": "LayoutModel",
          "model_module_version": "1.2.0",
          "state": {
            "_model_module": "@jupyter-widgets/base",
            "_model_module_version": "1.2.0",
            "_model_name": "LayoutModel",
            "_view_count": null,
            "_view_module": "@jupyter-widgets/base",
            "_view_module_version": "1.2.0",
            "_view_name": "LayoutView",
            "align_content": null,
            "align_items": null,
            "align_self": null,
            "border": null,
            "bottom": null,
            "display": null,
            "flex": null,
            "flex_flow": null,
            "grid_area": null,
            "grid_auto_columns": null,
            "grid_auto_flow": null,
            "grid_auto_rows": null,
            "grid_column": null,
            "grid_gap": null,
            "grid_row": null,
            "grid_template_areas": null,
            "grid_template_columns": null,
            "grid_template_rows": null,
            "height": null,
            "justify_content": null,
            "justify_items": null,
            "left": null,
            "margin": null,
            "max_height": null,
            "max_width": null,
            "min_height": null,
            "min_width": null,
            "object_fit": null,
            "object_position": null,
            "order": null,
            "overflow": null,
            "overflow_x": null,
            "overflow_y": null,
            "padding": null,
            "right": null,
            "top": null,
            "visibility": null,
            "width": null
          }
        },
        "d70002dcc4554a8e94dab5785e614727": {
          "model_module": "@jupyter-widgets/controls",
          "model_name": "DescriptionStyleModel",
          "model_module_version": "1.5.0",
          "state": {
            "_model_module": "@jupyter-widgets/controls",
            "_model_module_version": "1.5.0",
            "_model_name": "DescriptionStyleModel",
            "_view_count": null,
            "_view_module": "@jupyter-widgets/base",
            "_view_module_version": "1.2.0",
            "_view_name": "StyleView",
            "description_width": ""
          }
        },
        "b33ed5473d9f4084933adea12eda8a02": {
          "model_module": "@jupyter-widgets/base",
          "model_name": "LayoutModel",
          "model_module_version": "1.2.0",
          "state": {
            "_model_module": "@jupyter-widgets/base",
            "_model_module_version": "1.2.0",
            "_model_name": "LayoutModel",
            "_view_count": null,
            "_view_module": "@jupyter-widgets/base",
            "_view_module_version": "1.2.0",
            "_view_name": "LayoutView",
            "align_content": null,
            "align_items": null,
            "align_self": null,
            "border": null,
            "bottom": null,
            "display": null,
            "flex": null,
            "flex_flow": null,
            "grid_area": null,
            "grid_auto_columns": null,
            "grid_auto_flow": null,
            "grid_auto_rows": null,
            "grid_column": null,
            "grid_gap": null,
            "grid_row": null,
            "grid_template_areas": null,
            "grid_template_columns": null,
            "grid_template_rows": null,
            "height": null,
            "justify_content": null,
            "justify_items": null,
            "left": null,
            "margin": null,
            "max_height": null,
            "max_width": null,
            "min_height": null,
            "min_width": null,
            "object_fit": null,
            "object_position": null,
            "order": null,
            "overflow": null,
            "overflow_x": null,
            "overflow_y": null,
            "padding": null,
            "right": null,
            "top": null,
            "visibility": null,
            "width": null
          }
        },
        "c2567662e4854bf28d9671a3840b493d": {
          "model_module": "@jupyter-widgets/controls",
          "model_name": "ProgressStyleModel",
          "model_module_version": "1.5.0",
          "state": {
            "_model_module": "@jupyter-widgets/controls",
            "_model_module_version": "1.5.0",
            "_model_name": "ProgressStyleModel",
            "_view_count": null,
            "_view_module": "@jupyter-widgets/base",
            "_view_module_version": "1.2.0",
            "_view_name": "StyleView",
            "bar_color": null,
            "description_width": ""
          }
        },
        "861f1bf37f654e2faa8b10b643c7ab0a": {
          "model_module": "@jupyter-widgets/base",
          "model_name": "LayoutModel",
          "model_module_version": "1.2.0",
          "state": {
            "_model_module": "@jupyter-widgets/base",
            "_model_module_version": "1.2.0",
            "_model_name": "LayoutModel",
            "_view_count": null,
            "_view_module": "@jupyter-widgets/base",
            "_view_module_version": "1.2.0",
            "_view_name": "LayoutView",
            "align_content": null,
            "align_items": null,
            "align_self": null,
            "border": null,
            "bottom": null,
            "display": null,
            "flex": null,
            "flex_flow": null,
            "grid_area": null,
            "grid_auto_columns": null,
            "grid_auto_flow": null,
            "grid_auto_rows": null,
            "grid_column": null,
            "grid_gap": null,
            "grid_row": null,
            "grid_template_areas": null,
            "grid_template_columns": null,
            "grid_template_rows": null,
            "height": null,
            "justify_content": null,
            "justify_items": null,
            "left": null,
            "margin": null,
            "max_height": null,
            "max_width": null,
            "min_height": null,
            "min_width": null,
            "object_fit": null,
            "object_position": null,
            "order": null,
            "overflow": null,
            "overflow_x": null,
            "overflow_y": null,
            "padding": null,
            "right": null,
            "top": null,
            "visibility": null,
            "width": null
          }
        },
        "626c753df1c64c07b736e49b836bb349": {
          "model_module": "@jupyter-widgets/controls",
          "model_name": "DescriptionStyleModel",
          "model_module_version": "1.5.0",
          "state": {
            "_model_module": "@jupyter-widgets/controls",
            "_model_module_version": "1.5.0",
            "_model_name": "DescriptionStyleModel",
            "_view_count": null,
            "_view_module": "@jupyter-widgets/base",
            "_view_module_version": "1.2.0",
            "_view_name": "StyleView",
            "description_width": ""
          }
        },
        "edb99b8aa5c147479da1c9cb0d016813": {
          "model_module": "@jupyter-widgets/controls",
          "model_name": "HBoxModel",
          "model_module_version": "1.5.0",
          "state": {
            "_dom_classes": [],
            "_model_module": "@jupyter-widgets/controls",
            "_model_module_version": "1.5.0",
            "_model_name": "HBoxModel",
            "_view_count": null,
            "_view_module": "@jupyter-widgets/controls",
            "_view_module_version": "1.5.0",
            "_view_name": "HBoxView",
            "box_style": "",
            "children": [
              "IPY_MODEL_5eb4d13d870e4add99a6efb12aeceb09",
              "IPY_MODEL_57eb5dd7fcb848ae997d298e4a5cf332",
              "IPY_MODEL_d9ae87e8841b4174866839a1c65bf389"
            ],
            "layout": "IPY_MODEL_754d8202bffc47488e449f5ef3a9529b"
          }
        },
        "5eb4d13d870e4add99a6efb12aeceb09": {
          "model_module": "@jupyter-widgets/controls",
          "model_name": "HTMLModel",
          "model_module_version": "1.5.0",
          "state": {
            "_dom_classes": [],
            "_model_module": "@jupyter-widgets/controls",
            "_model_module_version": "1.5.0",
            "_model_name": "HTMLModel",
            "_view_count": null,
            "_view_module": "@jupyter-widgets/controls",
            "_view_module_version": "1.5.0",
            "_view_name": "HTMLView",
            "description": "",
            "description_tooltip": null,
            "layout": "IPY_MODEL_5305f9d55b4c4647b8cfa17f218183eb",
            "placeholder": "​",
            "style": "IPY_MODEL_663f0aa5a00846af821f73fbf3f1b269",
            "value": "Generating test split: 100%"
          }
        },
        "57eb5dd7fcb848ae997d298e4a5cf332": {
          "model_module": "@jupyter-widgets/controls",
          "model_name": "FloatProgressModel",
          "model_module_version": "1.5.0",
          "state": {
            "_dom_classes": [],
            "_model_module": "@jupyter-widgets/controls",
            "_model_module_version": "1.5.0",
            "_model_name": "FloatProgressModel",
            "_view_count": null,
            "_view_module": "@jupyter-widgets/controls",
            "_view_module_version": "1.5.0",
            "_view_name": "ProgressView",
            "bar_style": "success",
            "description": "",
            "description_tooltip": null,
            "layout": "IPY_MODEL_f7e6ce02941249989d80234f0c4a87a0",
            "max": 1080,
            "min": 0,
            "orientation": "horizontal",
            "style": "IPY_MODEL_771f315273e247eeac759c9cac276e57",
            "value": 1080
          }
        },
        "d9ae87e8841b4174866839a1c65bf389": {
          "model_module": "@jupyter-widgets/controls",
          "model_name": "HTMLModel",
          "model_module_version": "1.5.0",
          "state": {
            "_dom_classes": [],
            "_model_module": "@jupyter-widgets/controls",
            "_model_module_version": "1.5.0",
            "_model_name": "HTMLModel",
            "_view_count": null,
            "_view_module": "@jupyter-widgets/controls",
            "_view_module_version": "1.5.0",
            "_view_name": "HTMLView",
            "description": "",
            "description_tooltip": null,
            "layout": "IPY_MODEL_cef8ac5edac04de08bb10fe14a1acd25",
            "placeholder": "​",
            "style": "IPY_MODEL_bb1baf8433af4e1bbf790eb4c42b62d6",
            "value": " 1080/1080 [00:00&lt;00:00, 16489.02 examples/s]"
          }
        },
        "754d8202bffc47488e449f5ef3a9529b": {
          "model_module": "@jupyter-widgets/base",
          "model_name": "LayoutModel",
          "model_module_version": "1.2.0",
          "state": {
            "_model_module": "@jupyter-widgets/base",
            "_model_module_version": "1.2.0",
            "_model_name": "LayoutModel",
            "_view_count": null,
            "_view_module": "@jupyter-widgets/base",
            "_view_module_version": "1.2.0",
            "_view_name": "LayoutView",
            "align_content": null,
            "align_items": null,
            "align_self": null,
            "border": null,
            "bottom": null,
            "display": null,
            "flex": null,
            "flex_flow": null,
            "grid_area": null,
            "grid_auto_columns": null,
            "grid_auto_flow": null,
            "grid_auto_rows": null,
            "grid_column": null,
            "grid_gap": null,
            "grid_row": null,
            "grid_template_areas": null,
            "grid_template_columns": null,
            "grid_template_rows": null,
            "height": null,
            "justify_content": null,
            "justify_items": null,
            "left": null,
            "margin": null,
            "max_height": null,
            "max_width": null,
            "min_height": null,
            "min_width": null,
            "object_fit": null,
            "object_position": null,
            "order": null,
            "overflow": null,
            "overflow_x": null,
            "overflow_y": null,
            "padding": null,
            "right": null,
            "top": null,
            "visibility": null,
            "width": null
          }
        },
        "5305f9d55b4c4647b8cfa17f218183eb": {
          "model_module": "@jupyter-widgets/base",
          "model_name": "LayoutModel",
          "model_module_version": "1.2.0",
          "state": {
            "_model_module": "@jupyter-widgets/base",
            "_model_module_version": "1.2.0",
            "_model_name": "LayoutModel",
            "_view_count": null,
            "_view_module": "@jupyter-widgets/base",
            "_view_module_version": "1.2.0",
            "_view_name": "LayoutView",
            "align_content": null,
            "align_items": null,
            "align_self": null,
            "border": null,
            "bottom": null,
            "display": null,
            "flex": null,
            "flex_flow": null,
            "grid_area": null,
            "grid_auto_columns": null,
            "grid_auto_flow": null,
            "grid_auto_rows": null,
            "grid_column": null,
            "grid_gap": null,
            "grid_row": null,
            "grid_template_areas": null,
            "grid_template_columns": null,
            "grid_template_rows": null,
            "height": null,
            "justify_content": null,
            "justify_items": null,
            "left": null,
            "margin": null,
            "max_height": null,
            "max_width": null,
            "min_height": null,
            "min_width": null,
            "object_fit": null,
            "object_position": null,
            "order": null,
            "overflow": null,
            "overflow_x": null,
            "overflow_y": null,
            "padding": null,
            "right": null,
            "top": null,
            "visibility": null,
            "width": null
          }
        },
        "663f0aa5a00846af821f73fbf3f1b269": {
          "model_module": "@jupyter-widgets/controls",
          "model_name": "DescriptionStyleModel",
          "model_module_version": "1.5.0",
          "state": {
            "_model_module": "@jupyter-widgets/controls",
            "_model_module_version": "1.5.0",
            "_model_name": "DescriptionStyleModel",
            "_view_count": null,
            "_view_module": "@jupyter-widgets/base",
            "_view_module_version": "1.2.0",
            "_view_name": "StyleView",
            "description_width": ""
          }
        },
        "f7e6ce02941249989d80234f0c4a87a0": {
          "model_module": "@jupyter-widgets/base",
          "model_name": "LayoutModel",
          "model_module_version": "1.2.0",
          "state": {
            "_model_module": "@jupyter-widgets/base",
            "_model_module_version": "1.2.0",
            "_model_name": "LayoutModel",
            "_view_count": null,
            "_view_module": "@jupyter-widgets/base",
            "_view_module_version": "1.2.0",
            "_view_name": "LayoutView",
            "align_content": null,
            "align_items": null,
            "align_self": null,
            "border": null,
            "bottom": null,
            "display": null,
            "flex": null,
            "flex_flow": null,
            "grid_area": null,
            "grid_auto_columns": null,
            "grid_auto_flow": null,
            "grid_auto_rows": null,
            "grid_column": null,
            "grid_gap": null,
            "grid_row": null,
            "grid_template_areas": null,
            "grid_template_columns": null,
            "grid_template_rows": null,
            "height": null,
            "justify_content": null,
            "justify_items": null,
            "left": null,
            "margin": null,
            "max_height": null,
            "max_width": null,
            "min_height": null,
            "min_width": null,
            "object_fit": null,
            "object_position": null,
            "order": null,
            "overflow": null,
            "overflow_x": null,
            "overflow_y": null,
            "padding": null,
            "right": null,
            "top": null,
            "visibility": null,
            "width": null
          }
        },
        "771f315273e247eeac759c9cac276e57": {
          "model_module": "@jupyter-widgets/controls",
          "model_name": "ProgressStyleModel",
          "model_module_version": "1.5.0",
          "state": {
            "_model_module": "@jupyter-widgets/controls",
            "_model_module_version": "1.5.0",
            "_model_name": "ProgressStyleModel",
            "_view_count": null,
            "_view_module": "@jupyter-widgets/base",
            "_view_module_version": "1.2.0",
            "_view_name": "StyleView",
            "bar_color": null,
            "description_width": ""
          }
        },
        "cef8ac5edac04de08bb10fe14a1acd25": {
          "model_module": "@jupyter-widgets/base",
          "model_name": "LayoutModel",
          "model_module_version": "1.2.0",
          "state": {
            "_model_module": "@jupyter-widgets/base",
            "_model_module_version": "1.2.0",
            "_model_name": "LayoutModel",
            "_view_count": null,
            "_view_module": "@jupyter-widgets/base",
            "_view_module_version": "1.2.0",
            "_view_name": "LayoutView",
            "align_content": null,
            "align_items": null,
            "align_self": null,
            "border": null,
            "bottom": null,
            "display": null,
            "flex": null,
            "flex_flow": null,
            "grid_area": null,
            "grid_auto_columns": null,
            "grid_auto_flow": null,
            "grid_auto_rows": null,
            "grid_column": null,
            "grid_gap": null,
            "grid_row": null,
            "grid_template_areas": null,
            "grid_template_columns": null,
            "grid_template_rows": null,
            "height": null,
            "justify_content": null,
            "justify_items": null,
            "left": null,
            "margin": null,
            "max_height": null,
            "max_width": null,
            "min_height": null,
            "min_width": null,
            "object_fit": null,
            "object_position": null,
            "order": null,
            "overflow": null,
            "overflow_x": null,
            "overflow_y": null,
            "padding": null,
            "right": null,
            "top": null,
            "visibility": null,
            "width": null
          }
        },
        "bb1baf8433af4e1bbf790eb4c42b62d6": {
          "model_module": "@jupyter-widgets/controls",
          "model_name": "DescriptionStyleModel",
          "model_module_version": "1.5.0",
          "state": {
            "_model_module": "@jupyter-widgets/controls",
            "_model_module_version": "1.5.0",
            "_model_name": "DescriptionStyleModel",
            "_view_count": null,
            "_view_module": "@jupyter-widgets/base",
            "_view_module_version": "1.2.0",
            "_view_name": "StyleView",
            "description_width": ""
          }
        },
        "474e3cb7d98a47609ee6df3d79eb0920": {
          "model_module": "@jupyter-widgets/controls",
          "model_name": "HBoxModel",
          "model_module_version": "1.5.0",
          "state": {
            "_dom_classes": [],
            "_model_module": "@jupyter-widgets/controls",
            "_model_module_version": "1.5.0",
            "_model_name": "HBoxModel",
            "_view_count": null,
            "_view_module": "@jupyter-widgets/controls",
            "_view_module_version": "1.5.0",
            "_view_name": "HBoxView",
            "box_style": "",
            "children": [
              "IPY_MODEL_339926fcf4dd486296511c277b7df522",
              "IPY_MODEL_90035ea3739f4e68a6c5acaf164e6e4b",
              "IPY_MODEL_ecf5932103084ee0b88da15ff046d95b"
            ],
            "layout": "IPY_MODEL_8c12e2250c254274a917f4fc084a3497"
          }
        },
        "339926fcf4dd486296511c277b7df522": {
          "model_module": "@jupyter-widgets/controls",
          "model_name": "HTMLModel",
          "model_module_version": "1.5.0",
          "state": {
            "_dom_classes": [],
            "_model_module": "@jupyter-widgets/controls",
            "_model_module_version": "1.5.0",
            "_model_name": "HTMLModel",
            "_view_count": null,
            "_view_module": "@jupyter-widgets/controls",
            "_view_module_version": "1.5.0",
            "_view_name": "HTMLView",
            "description": "",
            "description_tooltip": null,
            "layout": "IPY_MODEL_c6f862c2ec23496ea1435e7fd769661d",
            "placeholder": "​",
            "style": "IPY_MODEL_b5d5b925fd264e909a6b35bf88b0e3dd",
            "value": "Generating validation split: 100%"
          }
        },
        "90035ea3739f4e68a6c5acaf164e6e4b": {
          "model_module": "@jupyter-widgets/controls",
          "model_name": "FloatProgressModel",
          "model_module_version": "1.5.0",
          "state": {
            "_dom_classes": [],
            "_model_module": "@jupyter-widgets/controls",
            "_model_module_version": "1.5.0",
            "_model_name": "FloatProgressModel",
            "_view_count": null,
            "_view_module": "@jupyter-widgets/controls",
            "_view_module_version": "1.5.0",
            "_view_name": "ProgressView",
            "bar_style": "success",
            "description": "",
            "description_tooltip": null,
            "layout": "IPY_MODEL_ec8d81741ab147a18f64f747cdc45e5f",
            "max": 2300,
            "min": 0,
            "orientation": "horizontal",
            "style": "IPY_MODEL_f28a84600a2e49bfaae584b424c2658a",
            "value": 2300
          }
        },
        "ecf5932103084ee0b88da15ff046d95b": {
          "model_module": "@jupyter-widgets/controls",
          "model_name": "HTMLModel",
          "model_module_version": "1.5.0",
          "state": {
            "_dom_classes": [],
            "_model_module": "@jupyter-widgets/controls",
            "_model_module_version": "1.5.0",
            "_model_name": "HTMLModel",
            "_view_count": null,
            "_view_module": "@jupyter-widgets/controls",
            "_view_module_version": "1.5.0",
            "_view_name": "HTMLView",
            "description": "",
            "description_tooltip": null,
            "layout": "IPY_MODEL_c6ad2c21068c4a18ac55da1a199127d5",
            "placeholder": "​",
            "style": "IPY_MODEL_55bdd8874bee49f79aa93f839ffddb84",
            "value": " 2300/2300 [00:00&lt;00:00, 38777.76 examples/s]"
          }
        },
        "8c12e2250c254274a917f4fc084a3497": {
          "model_module": "@jupyter-widgets/base",
          "model_name": "LayoutModel",
          "model_module_version": "1.2.0",
          "state": {
            "_model_module": "@jupyter-widgets/base",
            "_model_module_version": "1.2.0",
            "_model_name": "LayoutModel",
            "_view_count": null,
            "_view_module": "@jupyter-widgets/base",
            "_view_module_version": "1.2.0",
            "_view_name": "LayoutView",
            "align_content": null,
            "align_items": null,
            "align_self": null,
            "border": null,
            "bottom": null,
            "display": null,
            "flex": null,
            "flex_flow": null,
            "grid_area": null,
            "grid_auto_columns": null,
            "grid_auto_flow": null,
            "grid_auto_rows": null,
            "grid_column": null,
            "grid_gap": null,
            "grid_row": null,
            "grid_template_areas": null,
            "grid_template_columns": null,
            "grid_template_rows": null,
            "height": null,
            "justify_content": null,
            "justify_items": null,
            "left": null,
            "margin": null,
            "max_height": null,
            "max_width": null,
            "min_height": null,
            "min_width": null,
            "object_fit": null,
            "object_position": null,
            "order": null,
            "overflow": null,
            "overflow_x": null,
            "overflow_y": null,
            "padding": null,
            "right": null,
            "top": null,
            "visibility": null,
            "width": null
          }
        },
        "c6f862c2ec23496ea1435e7fd769661d": {
          "model_module": "@jupyter-widgets/base",
          "model_name": "LayoutModel",
          "model_module_version": "1.2.0",
          "state": {
            "_model_module": "@jupyter-widgets/base",
            "_model_module_version": "1.2.0",
            "_model_name": "LayoutModel",
            "_view_count": null,
            "_view_module": "@jupyter-widgets/base",
            "_view_module_version": "1.2.0",
            "_view_name": "LayoutView",
            "align_content": null,
            "align_items": null,
            "align_self": null,
            "border": null,
            "bottom": null,
            "display": null,
            "flex": null,
            "flex_flow": null,
            "grid_area": null,
            "grid_auto_columns": null,
            "grid_auto_flow": null,
            "grid_auto_rows": null,
            "grid_column": null,
            "grid_gap": null,
            "grid_row": null,
            "grid_template_areas": null,
            "grid_template_columns": null,
            "grid_template_rows": null,
            "height": null,
            "justify_content": null,
            "justify_items": null,
            "left": null,
            "margin": null,
            "max_height": null,
            "max_width": null,
            "min_height": null,
            "min_width": null,
            "object_fit": null,
            "object_position": null,
            "order": null,
            "overflow": null,
            "overflow_x": null,
            "overflow_y": null,
            "padding": null,
            "right": null,
            "top": null,
            "visibility": null,
            "width": null
          }
        },
        "b5d5b925fd264e909a6b35bf88b0e3dd": {
          "model_module": "@jupyter-widgets/controls",
          "model_name": "DescriptionStyleModel",
          "model_module_version": "1.5.0",
          "state": {
            "_model_module": "@jupyter-widgets/controls",
            "_model_module_version": "1.5.0",
            "_model_name": "DescriptionStyleModel",
            "_view_count": null,
            "_view_module": "@jupyter-widgets/base",
            "_view_module_version": "1.2.0",
            "_view_name": "StyleView",
            "description_width": ""
          }
        },
        "ec8d81741ab147a18f64f747cdc45e5f": {
          "model_module": "@jupyter-widgets/base",
          "model_name": "LayoutModel",
          "model_module_version": "1.2.0",
          "state": {
            "_model_module": "@jupyter-widgets/base",
            "_model_module_version": "1.2.0",
            "_model_name": "LayoutModel",
            "_view_count": null,
            "_view_module": "@jupyter-widgets/base",
            "_view_module_version": "1.2.0",
            "_view_name": "LayoutView",
            "align_content": null,
            "align_items": null,
            "align_self": null,
            "border": null,
            "bottom": null,
            "display": null,
            "flex": null,
            "flex_flow": null,
            "grid_area": null,
            "grid_auto_columns": null,
            "grid_auto_flow": null,
            "grid_auto_rows": null,
            "grid_column": null,
            "grid_gap": null,
            "grid_row": null,
            "grid_template_areas": null,
            "grid_template_columns": null,
            "grid_template_rows": null,
            "height": null,
            "justify_content": null,
            "justify_items": null,
            "left": null,
            "margin": null,
            "max_height": null,
            "max_width": null,
            "min_height": null,
            "min_width": null,
            "object_fit": null,
            "object_position": null,
            "order": null,
            "overflow": null,
            "overflow_x": null,
            "overflow_y": null,
            "padding": null,
            "right": null,
            "top": null,
            "visibility": null,
            "width": null
          }
        },
        "f28a84600a2e49bfaae584b424c2658a": {
          "model_module": "@jupyter-widgets/controls",
          "model_name": "ProgressStyleModel",
          "model_module_version": "1.5.0",
          "state": {
            "_model_module": "@jupyter-widgets/controls",
            "_model_module_version": "1.5.0",
            "_model_name": "ProgressStyleModel",
            "_view_count": null,
            "_view_module": "@jupyter-widgets/base",
            "_view_module_version": "1.2.0",
            "_view_name": "StyleView",
            "bar_color": null,
            "description_width": ""
          }
        },
        "c6ad2c21068c4a18ac55da1a199127d5": {
          "model_module": "@jupyter-widgets/base",
          "model_name": "LayoutModel",
          "model_module_version": "1.2.0",
          "state": {
            "_model_module": "@jupyter-widgets/base",
            "_model_module_version": "1.2.0",
            "_model_name": "LayoutModel",
            "_view_count": null,
            "_view_module": "@jupyter-widgets/base",
            "_view_module_version": "1.2.0",
            "_view_name": "LayoutView",
            "align_content": null,
            "align_items": null,
            "align_self": null,
            "border": null,
            "bottom": null,
            "display": null,
            "flex": null,
            "flex_flow": null,
            "grid_area": null,
            "grid_auto_columns": null,
            "grid_auto_flow": null,
            "grid_auto_rows": null,
            "grid_column": null,
            "grid_gap": null,
            "grid_row": null,
            "grid_template_areas": null,
            "grid_template_columns": null,
            "grid_template_rows": null,
            "height": null,
            "justify_content": null,
            "justify_items": null,
            "left": null,
            "margin": null,
            "max_height": null,
            "max_width": null,
            "min_height": null,
            "min_width": null,
            "object_fit": null,
            "object_position": null,
            "order": null,
            "overflow": null,
            "overflow_x": null,
            "overflow_y": null,
            "padding": null,
            "right": null,
            "top": null,
            "visibility": null,
            "width": null
          }
        },
        "55bdd8874bee49f79aa93f839ffddb84": {
          "model_module": "@jupyter-widgets/controls",
          "model_name": "DescriptionStyleModel",
          "model_module_version": "1.5.0",
          "state": {
            "_model_module": "@jupyter-widgets/controls",
            "_model_module_version": "1.5.0",
            "_model_name": "DescriptionStyleModel",
            "_view_count": null,
            "_view_module": "@jupyter-widgets/base",
            "_view_module_version": "1.2.0",
            "_view_name": "StyleView",
            "description_width": ""
          }
        },
        "eee09464b4f64555b236e3b504e96416": {
          "model_module": "@jupyter-widgets/controls",
          "model_name": "HBoxModel",
          "model_module_version": "1.5.0",
          "state": {
            "_dom_classes": [],
            "_model_module": "@jupyter-widgets/controls",
            "_model_module_version": "1.5.0",
            "_model_name": "HBoxModel",
            "_view_count": null,
            "_view_module": "@jupyter-widgets/controls",
            "_view_module_version": "1.5.0",
            "_view_name": "HBoxView",
            "box_style": "",
            "children": [
              "IPY_MODEL_a14478cfd25846d7a1a9b8a3bb9ce53c",
              "IPY_MODEL_1ddbde41462343eb9c831c91a53246ba",
              "IPY_MODEL_5f5f70b5ba2c4411af3ee4345d51bb8e"
            ],
            "layout": "IPY_MODEL_bd56b9f2f2e94782bba8181fae70c6c3"
          }
        },
        "a14478cfd25846d7a1a9b8a3bb9ce53c": {
          "model_module": "@jupyter-widgets/controls",
          "model_name": "HTMLModel",
          "model_module_version": "1.5.0",
          "state": {
            "_dom_classes": [],
            "_model_module": "@jupyter-widgets/controls",
            "_model_module_version": "1.5.0",
            "_model_name": "HTMLModel",
            "_view_count": null,
            "_view_module": "@jupyter-widgets/controls",
            "_view_module_version": "1.5.0",
            "_view_name": "HTMLView",
            "description": "",
            "description_tooltip": null,
            "layout": "IPY_MODEL_b012ce8ee5cb4683987274a85b911fd0",
            "placeholder": "​",
            "style": "IPY_MODEL_469c0df32a6244e28fb115308d08a33b",
            "value": "Downloading builder script: "
          }
        },
        "1ddbde41462343eb9c831c91a53246ba": {
          "model_module": "@jupyter-widgets/controls",
          "model_name": "FloatProgressModel",
          "model_module_version": "1.5.0",
          "state": {
            "_dom_classes": [],
            "_model_module": "@jupyter-widgets/controls",
            "_model_module_version": "1.5.0",
            "_model_name": "FloatProgressModel",
            "_view_count": null,
            "_view_module": "@jupyter-widgets/controls",
            "_view_module_version": "1.5.0",
            "_view_name": "ProgressView",
            "bar_style": "success",
            "description": "",
            "description_tooltip": null,
            "layout": "IPY_MODEL_2baccec262884c87ae34772796f426ec",
            "max": 2471,
            "min": 0,
            "orientation": "horizontal",
            "style": "IPY_MODEL_c123fa3175be48159ecaef2f0a7b1d1c",
            "value": 2471
          }
        },
        "5f5f70b5ba2c4411af3ee4345d51bb8e": {
          "model_module": "@jupyter-widgets/controls",
          "model_name": "HTMLModel",
          "model_module_version": "1.5.0",
          "state": {
            "_dom_classes": [],
            "_model_module": "@jupyter-widgets/controls",
            "_model_module_version": "1.5.0",
            "_model_name": "HTMLModel",
            "_view_count": null,
            "_view_module": "@jupyter-widgets/controls",
            "_view_module_version": "1.5.0",
            "_view_name": "HTMLView",
            "description": "",
            "description_tooltip": null,
            "layout": "IPY_MODEL_0d9be23bd3c94581af89809568a8eed5",
            "placeholder": "​",
            "style": "IPY_MODEL_9731e9f07e244482a764ae9651fe0216",
            "value": " 6.33k/? [00:00&lt;00:00, 156kB/s]"
          }
        },
        "bd56b9f2f2e94782bba8181fae70c6c3": {
          "model_module": "@jupyter-widgets/base",
          "model_name": "LayoutModel",
          "model_module_version": "1.2.0",
          "state": {
            "_model_module": "@jupyter-widgets/base",
            "_model_module_version": "1.2.0",
            "_model_name": "LayoutModel",
            "_view_count": null,
            "_view_module": "@jupyter-widgets/base",
            "_view_module_version": "1.2.0",
            "_view_name": "LayoutView",
            "align_content": null,
            "align_items": null,
            "align_self": null,
            "border": null,
            "bottom": null,
            "display": null,
            "flex": null,
            "flex_flow": null,
            "grid_area": null,
            "grid_auto_columns": null,
            "grid_auto_flow": null,
            "grid_auto_rows": null,
            "grid_column": null,
            "grid_gap": null,
            "grid_row": null,
            "grid_template_areas": null,
            "grid_template_columns": null,
            "grid_template_rows": null,
            "height": null,
            "justify_content": null,
            "justify_items": null,
            "left": null,
            "margin": null,
            "max_height": null,
            "max_width": null,
            "min_height": null,
            "min_width": null,
            "object_fit": null,
            "object_position": null,
            "order": null,
            "overflow": null,
            "overflow_x": null,
            "overflow_y": null,
            "padding": null,
            "right": null,
            "top": null,
            "visibility": null,
            "width": null
          }
        },
        "b012ce8ee5cb4683987274a85b911fd0": {
          "model_module": "@jupyter-widgets/base",
          "model_name": "LayoutModel",
          "model_module_version": "1.2.0",
          "state": {
            "_model_module": "@jupyter-widgets/base",
            "_model_module_version": "1.2.0",
            "_model_name": "LayoutModel",
            "_view_count": null,
            "_view_module": "@jupyter-widgets/base",
            "_view_module_version": "1.2.0",
            "_view_name": "LayoutView",
            "align_content": null,
            "align_items": null,
            "align_self": null,
            "border": null,
            "bottom": null,
            "display": null,
            "flex": null,
            "flex_flow": null,
            "grid_area": null,
            "grid_auto_columns": null,
            "grid_auto_flow": null,
            "grid_auto_rows": null,
            "grid_column": null,
            "grid_gap": null,
            "grid_row": null,
            "grid_template_areas": null,
            "grid_template_columns": null,
            "grid_template_rows": null,
            "height": null,
            "justify_content": null,
            "justify_items": null,
            "left": null,
            "margin": null,
            "max_height": null,
            "max_width": null,
            "min_height": null,
            "min_width": null,
            "object_fit": null,
            "object_position": null,
            "order": null,
            "overflow": null,
            "overflow_x": null,
            "overflow_y": null,
            "padding": null,
            "right": null,
            "top": null,
            "visibility": null,
            "width": null
          }
        },
        "469c0df32a6244e28fb115308d08a33b": {
          "model_module": "@jupyter-widgets/controls",
          "model_name": "DescriptionStyleModel",
          "model_module_version": "1.5.0",
          "state": {
            "_model_module": "@jupyter-widgets/controls",
            "_model_module_version": "1.5.0",
            "_model_name": "DescriptionStyleModel",
            "_view_count": null,
            "_view_module": "@jupyter-widgets/base",
            "_view_module_version": "1.2.0",
            "_view_name": "StyleView",
            "description_width": ""
          }
        },
        "2baccec262884c87ae34772796f426ec": {
          "model_module": "@jupyter-widgets/base",
          "model_name": "LayoutModel",
          "model_module_version": "1.2.0",
          "state": {
            "_model_module": "@jupyter-widgets/base",
            "_model_module_version": "1.2.0",
            "_model_name": "LayoutModel",
            "_view_count": null,
            "_view_module": "@jupyter-widgets/base",
            "_view_module_version": "1.2.0",
            "_view_name": "LayoutView",
            "align_content": null,
            "align_items": null,
            "align_self": null,
            "border": null,
            "bottom": null,
            "display": null,
            "flex": null,
            "flex_flow": null,
            "grid_area": null,
            "grid_auto_columns": null,
            "grid_auto_flow": null,
            "grid_auto_rows": null,
            "grid_column": null,
            "grid_gap": null,
            "grid_row": null,
            "grid_template_areas": null,
            "grid_template_columns": null,
            "grid_template_rows": null,
            "height": null,
            "justify_content": null,
            "justify_items": null,
            "left": null,
            "margin": null,
            "max_height": null,
            "max_width": null,
            "min_height": null,
            "min_width": null,
            "object_fit": null,
            "object_position": null,
            "order": null,
            "overflow": null,
            "overflow_x": null,
            "overflow_y": null,
            "padding": null,
            "right": null,
            "top": null,
            "visibility": null,
            "width": null
          }
        },
        "c123fa3175be48159ecaef2f0a7b1d1c": {
          "model_module": "@jupyter-widgets/controls",
          "model_name": "ProgressStyleModel",
          "model_module_version": "1.5.0",
          "state": {
            "_model_module": "@jupyter-widgets/controls",
            "_model_module_version": "1.5.0",
            "_model_name": "ProgressStyleModel",
            "_view_count": null,
            "_view_module": "@jupyter-widgets/base",
            "_view_module_version": "1.2.0",
            "_view_name": "StyleView",
            "bar_color": null,
            "description_width": ""
          }
        },
        "0d9be23bd3c94581af89809568a8eed5": {
          "model_module": "@jupyter-widgets/base",
          "model_name": "LayoutModel",
          "model_module_version": "1.2.0",
          "state": {
            "_model_module": "@jupyter-widgets/base",
            "_model_module_version": "1.2.0",
            "_model_name": "LayoutModel",
            "_view_count": null,
            "_view_module": "@jupyter-widgets/base",
            "_view_module_version": "1.2.0",
            "_view_name": "LayoutView",
            "align_content": null,
            "align_items": null,
            "align_self": null,
            "border": null,
            "bottom": null,
            "display": null,
            "flex": null,
            "flex_flow": null,
            "grid_area": null,
            "grid_auto_columns": null,
            "grid_auto_flow": null,
            "grid_auto_rows": null,
            "grid_column": null,
            "grid_gap": null,
            "grid_row": null,
            "grid_template_areas": null,
            "grid_template_columns": null,
            "grid_template_rows": null,
            "height": null,
            "justify_content": null,
            "justify_items": null,
            "left": null,
            "margin": null,
            "max_height": null,
            "max_width": null,
            "min_height": null,
            "min_width": null,
            "object_fit": null,
            "object_position": null,
            "order": null,
            "overflow": null,
            "overflow_x": null,
            "overflow_y": null,
            "padding": null,
            "right": null,
            "top": null,
            "visibility": null,
            "width": null
          }
        },
        "9731e9f07e244482a764ae9651fe0216": {
          "model_module": "@jupyter-widgets/controls",
          "model_name": "DescriptionStyleModel",
          "model_module_version": "1.5.0",
          "state": {
            "_model_module": "@jupyter-widgets/controls",
            "_model_module_version": "1.5.0",
            "_model_name": "DescriptionStyleModel",
            "_view_count": null,
            "_view_module": "@jupyter-widgets/base",
            "_view_module_version": "1.2.0",
            "_view_name": "StyleView",
            "description_width": ""
          }
        },
        "2c0484b6dbc04ebb81e0a281ecc13457": {
          "model_module": "@jupyter-widgets/controls",
          "model_name": "HBoxModel",
          "model_module_version": "1.5.0",
          "state": {
            "_dom_classes": [],
            "_model_module": "@jupyter-widgets/controls",
            "_model_module_version": "1.5.0",
            "_model_name": "HBoxModel",
            "_view_count": null,
            "_view_module": "@jupyter-widgets/controls",
            "_view_module_version": "1.5.0",
            "_view_name": "HBoxView",
            "box_style": "",
            "children": [
              "IPY_MODEL_be1842fb92a142259f0d5faf4a0469f3",
              "IPY_MODEL_084b3ae044404cfaab0ccba950e1df50",
              "IPY_MODEL_835e7554015e41709b2d896975b25613"
            ],
            "layout": "IPY_MODEL_00c76cfbbced4e8eb9ba3bf31f3b485f"
          }
        },
        "be1842fb92a142259f0d5faf4a0469f3": {
          "model_module": "@jupyter-widgets/controls",
          "model_name": "HTMLModel",
          "model_module_version": "1.5.0",
          "state": {
            "_dom_classes": [],
            "_model_module": "@jupyter-widgets/controls",
            "_model_module_version": "1.5.0",
            "_model_name": "HTMLModel",
            "_view_count": null,
            "_view_module": "@jupyter-widgets/controls",
            "_view_module_version": "1.5.0",
            "_view_name": "HTMLView",
            "description": "",
            "description_tooltip": null,
            "layout": "IPY_MODEL_dc744039f34f42cc992bfc43795bb35a",
            "placeholder": "​",
            "style": "IPY_MODEL_6615d0287fd6482592f898be1e82a824",
            "value": "Running tokenizer on train dataset (num_proc=4): 100%"
          }
        },
        "084b3ae044404cfaab0ccba950e1df50": {
          "model_module": "@jupyter-widgets/controls",
          "model_name": "FloatProgressModel",
          "model_module_version": "1.5.0",
          "state": {
            "_dom_classes": [],
            "_model_module": "@jupyter-widgets/controls",
            "_model_module_version": "1.5.0",
            "_model_name": "FloatProgressModel",
            "_view_count": null,
            "_view_module": "@jupyter-widgets/controls",
            "_view_module_version": "1.5.0",
            "_view_name": "ProgressView",
            "bar_style": "success",
            "description": "",
            "description_tooltip": null,
            "layout": "IPY_MODEL_ac20c6923710431db1b193d79ab4d6c1",
            "max": 100000,
            "min": 0,
            "orientation": "horizontal",
            "style": "IPY_MODEL_408e1a16905340d5a90d5144b59dd164",
            "value": 100000
          }
        },
        "835e7554015e41709b2d896975b25613": {
          "model_module": "@jupyter-widgets/controls",
          "model_name": "HTMLModel",
          "model_module_version": "1.5.0",
          "state": {
            "_dom_classes": [],
            "_model_module": "@jupyter-widgets/controls",
            "_model_module_version": "1.5.0",
            "_model_name": "HTMLModel",
            "_view_count": null,
            "_view_module": "@jupyter-widgets/controls",
            "_view_module_version": "1.5.0",
            "_view_name": "HTMLView",
            "description": "",
            "description_tooltip": null,
            "layout": "IPY_MODEL_1e7784e50bae4ceaa12694bc7611ea3d",
            "placeholder": "​",
            "style": "IPY_MODEL_0f553e4b630940a2a7d3974c23f362f5",
            "value": " 100000/100000 [00:35&lt;00:00, 2320.31 examples/s]"
          }
        },
        "00c76cfbbced4e8eb9ba3bf31f3b485f": {
          "model_module": "@jupyter-widgets/base",
          "model_name": "LayoutModel",
          "model_module_version": "1.2.0",
          "state": {
            "_model_module": "@jupyter-widgets/base",
            "_model_module_version": "1.2.0",
            "_model_name": "LayoutModel",
            "_view_count": null,
            "_view_module": "@jupyter-widgets/base",
            "_view_module_version": "1.2.0",
            "_view_name": "LayoutView",
            "align_content": null,
            "align_items": null,
            "align_self": null,
            "border": null,
            "bottom": null,
            "display": null,
            "flex": null,
            "flex_flow": null,
            "grid_area": null,
            "grid_auto_columns": null,
            "grid_auto_flow": null,
            "grid_auto_rows": null,
            "grid_column": null,
            "grid_gap": null,
            "grid_row": null,
            "grid_template_areas": null,
            "grid_template_columns": null,
            "grid_template_rows": null,
            "height": null,
            "justify_content": null,
            "justify_items": null,
            "left": null,
            "margin": null,
            "max_height": null,
            "max_width": null,
            "min_height": null,
            "min_width": null,
            "object_fit": null,
            "object_position": null,
            "order": null,
            "overflow": null,
            "overflow_x": null,
            "overflow_y": null,
            "padding": null,
            "right": null,
            "top": null,
            "visibility": null,
            "width": null
          }
        },
        "dc744039f34f42cc992bfc43795bb35a": {
          "model_module": "@jupyter-widgets/base",
          "model_name": "LayoutModel",
          "model_module_version": "1.2.0",
          "state": {
            "_model_module": "@jupyter-widgets/base",
            "_model_module_version": "1.2.0",
            "_model_name": "LayoutModel",
            "_view_count": null,
            "_view_module": "@jupyter-widgets/base",
            "_view_module_version": "1.2.0",
            "_view_name": "LayoutView",
            "align_content": null,
            "align_items": null,
            "align_self": null,
            "border": null,
            "bottom": null,
            "display": null,
            "flex": null,
            "flex_flow": null,
            "grid_area": null,
            "grid_auto_columns": null,
            "grid_auto_flow": null,
            "grid_auto_rows": null,
            "grid_column": null,
            "grid_gap": null,
            "grid_row": null,
            "grid_template_areas": null,
            "grid_template_columns": null,
            "grid_template_rows": null,
            "height": null,
            "justify_content": null,
            "justify_items": null,
            "left": null,
            "margin": null,
            "max_height": null,
            "max_width": null,
            "min_height": null,
            "min_width": null,
            "object_fit": null,
            "object_position": null,
            "order": null,
            "overflow": null,
            "overflow_x": null,
            "overflow_y": null,
            "padding": null,
            "right": null,
            "top": null,
            "visibility": null,
            "width": null
          }
        },
        "6615d0287fd6482592f898be1e82a824": {
          "model_module": "@jupyter-widgets/controls",
          "model_name": "DescriptionStyleModel",
          "model_module_version": "1.5.0",
          "state": {
            "_model_module": "@jupyter-widgets/controls",
            "_model_module_version": "1.5.0",
            "_model_name": "DescriptionStyleModel",
            "_view_count": null,
            "_view_module": "@jupyter-widgets/base",
            "_view_module_version": "1.2.0",
            "_view_name": "StyleView",
            "description_width": ""
          }
        },
        "ac20c6923710431db1b193d79ab4d6c1": {
          "model_module": "@jupyter-widgets/base",
          "model_name": "LayoutModel",
          "model_module_version": "1.2.0",
          "state": {
            "_model_module": "@jupyter-widgets/base",
            "_model_module_version": "1.2.0",
            "_model_name": "LayoutModel",
            "_view_count": null,
            "_view_module": "@jupyter-widgets/base",
            "_view_module_version": "1.2.0",
            "_view_name": "LayoutView",
            "align_content": null,
            "align_items": null,
            "align_self": null,
            "border": null,
            "bottom": null,
            "display": null,
            "flex": null,
            "flex_flow": null,
            "grid_area": null,
            "grid_auto_columns": null,
            "grid_auto_flow": null,
            "grid_auto_rows": null,
            "grid_column": null,
            "grid_gap": null,
            "grid_row": null,
            "grid_template_areas": null,
            "grid_template_columns": null,
            "grid_template_rows": null,
            "height": null,
            "justify_content": null,
            "justify_items": null,
            "left": null,
            "margin": null,
            "max_height": null,
            "max_width": null,
            "min_height": null,
            "min_width": null,
            "object_fit": null,
            "object_position": null,
            "order": null,
            "overflow": null,
            "overflow_x": null,
            "overflow_y": null,
            "padding": null,
            "right": null,
            "top": null,
            "visibility": null,
            "width": null
          }
        },
        "408e1a16905340d5a90d5144b59dd164": {
          "model_module": "@jupyter-widgets/controls",
          "model_name": "ProgressStyleModel",
          "model_module_version": "1.5.0",
          "state": {
            "_model_module": "@jupyter-widgets/controls",
            "_model_module_version": "1.5.0",
            "_model_name": "ProgressStyleModel",
            "_view_count": null,
            "_view_module": "@jupyter-widgets/base",
            "_view_module_version": "1.2.0",
            "_view_name": "StyleView",
            "bar_color": null,
            "description_width": ""
          }
        },
        "1e7784e50bae4ceaa12694bc7611ea3d": {
          "model_module": "@jupyter-widgets/base",
          "model_name": "LayoutModel",
          "model_module_version": "1.2.0",
          "state": {
            "_model_module": "@jupyter-widgets/base",
            "_model_module_version": "1.2.0",
            "_model_name": "LayoutModel",
            "_view_count": null,
            "_view_module": "@jupyter-widgets/base",
            "_view_module_version": "1.2.0",
            "_view_name": "LayoutView",
            "align_content": null,
            "align_items": null,
            "align_self": null,
            "border": null,
            "bottom": null,
            "display": null,
            "flex": null,
            "flex_flow": null,
            "grid_area": null,
            "grid_auto_columns": null,
            "grid_auto_flow": null,
            "grid_auto_rows": null,
            "grid_column": null,
            "grid_gap": null,
            "grid_row": null,
            "grid_template_areas": null,
            "grid_template_columns": null,
            "grid_template_rows": null,
            "height": null,
            "justify_content": null,
            "justify_items": null,
            "left": null,
            "margin": null,
            "max_height": null,
            "max_width": null,
            "min_height": null,
            "min_width": null,
            "object_fit": null,
            "object_position": null,
            "order": null,
            "overflow": null,
            "overflow_x": null,
            "overflow_y": null,
            "padding": null,
            "right": null,
            "top": null,
            "visibility": null,
            "width": null
          }
        },
        "0f553e4b630940a2a7d3974c23f362f5": {
          "model_module": "@jupyter-widgets/controls",
          "model_name": "DescriptionStyleModel",
          "model_module_version": "1.5.0",
          "state": {
            "_model_module": "@jupyter-widgets/controls",
            "_model_module_version": "1.5.0",
            "_model_name": "DescriptionStyleModel",
            "_view_count": null,
            "_view_module": "@jupyter-widgets/base",
            "_view_module_version": "1.2.0",
            "_view_name": "StyleView",
            "description_width": ""
          }
        },
        "ca6106c774f649059391ce314ebdb709": {
          "model_module": "@jupyter-widgets/controls",
          "model_name": "HBoxModel",
          "model_module_version": "1.5.0",
          "state": {
            "_dom_classes": [],
            "_model_module": "@jupyter-widgets/controls",
            "_model_module_version": "1.5.0",
            "_model_name": "HBoxModel",
            "_view_count": null,
            "_view_module": "@jupyter-widgets/controls",
            "_view_module_version": "1.5.0",
            "_view_name": "HBoxView",
            "box_style": "",
            "children": [
              "IPY_MODEL_0ed3accef73140fbb9328bc2d091f476",
              "IPY_MODEL_f0ea50c438b3410d8cd6a93ffdb2c50c",
              "IPY_MODEL_af8aa1d985b044fc99b56f07779389a0"
            ],
            "layout": "IPY_MODEL_34cd53a7f1df4284be81d041b872d9d4"
          }
        },
        "0ed3accef73140fbb9328bc2d091f476": {
          "model_module": "@jupyter-widgets/controls",
          "model_name": "HTMLModel",
          "model_module_version": "1.5.0",
          "state": {
            "_dom_classes": [],
            "_model_module": "@jupyter-widgets/controls",
            "_model_module_version": "1.5.0",
            "_model_name": "HTMLModel",
            "_view_count": null,
            "_view_module": "@jupyter-widgets/controls",
            "_view_module_version": "1.5.0",
            "_view_name": "HTMLView",
            "description": "",
            "description_tooltip": null,
            "layout": "IPY_MODEL_02880e485de54c5ab4ab6678bd4ecb0f",
            "placeholder": "​",
            "style": "IPY_MODEL_ee88b45c80064d7d9d9accf859d8ef28",
            "value": "Running tokenizer on Validation dataset (num_proc=4): 100%"
          }
        },
        "f0ea50c438b3410d8cd6a93ffdb2c50c": {
          "model_module": "@jupyter-widgets/controls",
          "model_name": "FloatProgressModel",
          "model_module_version": "1.5.0",
          "state": {
            "_dom_classes": [],
            "_model_module": "@jupyter-widgets/controls",
            "_model_module_version": "1.5.0",
            "_model_name": "FloatProgressModel",
            "_view_count": null,
            "_view_module": "@jupyter-widgets/controls",
            "_view_module_version": "1.5.0",
            "_view_name": "ProgressView",
            "bar_style": "success",
            "description": "",
            "description_tooltip": null,
            "layout": "IPY_MODEL_51217f0ab8fa411984afdbf0c76e042c",
            "max": 2300,
            "min": 0,
            "orientation": "horizontal",
            "style": "IPY_MODEL_42f2bfc9b91842fdab9660d589deed46",
            "value": 2300
          }
        },
        "af8aa1d985b044fc99b56f07779389a0": {
          "model_module": "@jupyter-widgets/controls",
          "model_name": "HTMLModel",
          "model_module_version": "1.5.0",
          "state": {
            "_dom_classes": [],
            "_model_module": "@jupyter-widgets/controls",
            "_model_module_version": "1.5.0",
            "_model_name": "HTMLModel",
            "_view_count": null,
            "_view_module": "@jupyter-widgets/controls",
            "_view_module_version": "1.5.0",
            "_view_name": "HTMLView",
            "description": "",
            "description_tooltip": null,
            "layout": "IPY_MODEL_91568f6498ec4cecabbe68e9bb006524",
            "placeholder": "​",
            "style": "IPY_MODEL_bfda2cacb58e4df8b04a145369e3f076",
            "value": " 2300/2300 [00:01&lt;00:00, 2413.27 examples/s]"
          }
        },
        "34cd53a7f1df4284be81d041b872d9d4": {
          "model_module": "@jupyter-widgets/base",
          "model_name": "LayoutModel",
          "model_module_version": "1.2.0",
          "state": {
            "_model_module": "@jupyter-widgets/base",
            "_model_module_version": "1.2.0",
            "_model_name": "LayoutModel",
            "_view_count": null,
            "_view_module": "@jupyter-widgets/base",
            "_view_module_version": "1.2.0",
            "_view_name": "LayoutView",
            "align_content": null,
            "align_items": null,
            "align_self": null,
            "border": null,
            "bottom": null,
            "display": null,
            "flex": null,
            "flex_flow": null,
            "grid_area": null,
            "grid_auto_columns": null,
            "grid_auto_flow": null,
            "grid_auto_rows": null,
            "grid_column": null,
            "grid_gap": null,
            "grid_row": null,
            "grid_template_areas": null,
            "grid_template_columns": null,
            "grid_template_rows": null,
            "height": null,
            "justify_content": null,
            "justify_items": null,
            "left": null,
            "margin": null,
            "max_height": null,
            "max_width": null,
            "min_height": null,
            "min_width": null,
            "object_fit": null,
            "object_position": null,
            "order": null,
            "overflow": null,
            "overflow_x": null,
            "overflow_y": null,
            "padding": null,
            "right": null,
            "top": null,
            "visibility": null,
            "width": null
          }
        },
        "02880e485de54c5ab4ab6678bd4ecb0f": {
          "model_module": "@jupyter-widgets/base",
          "model_name": "LayoutModel",
          "model_module_version": "1.2.0",
          "state": {
            "_model_module": "@jupyter-widgets/base",
            "_model_module_version": "1.2.0",
            "_model_name": "LayoutModel",
            "_view_count": null,
            "_view_module": "@jupyter-widgets/base",
            "_view_module_version": "1.2.0",
            "_view_name": "LayoutView",
            "align_content": null,
            "align_items": null,
            "align_self": null,
            "border": null,
            "bottom": null,
            "display": null,
            "flex": null,
            "flex_flow": null,
            "grid_area": null,
            "grid_auto_columns": null,
            "grid_auto_flow": null,
            "grid_auto_rows": null,
            "grid_column": null,
            "grid_gap": null,
            "grid_row": null,
            "grid_template_areas": null,
            "grid_template_columns": null,
            "grid_template_rows": null,
            "height": null,
            "justify_content": null,
            "justify_items": null,
            "left": null,
            "margin": null,
            "max_height": null,
            "max_width": null,
            "min_height": null,
            "min_width": null,
            "object_fit": null,
            "object_position": null,
            "order": null,
            "overflow": null,
            "overflow_x": null,
            "overflow_y": null,
            "padding": null,
            "right": null,
            "top": null,
            "visibility": null,
            "width": null
          }
        },
        "ee88b45c80064d7d9d9accf859d8ef28": {
          "model_module": "@jupyter-widgets/controls",
          "model_name": "DescriptionStyleModel",
          "model_module_version": "1.5.0",
          "state": {
            "_model_module": "@jupyter-widgets/controls",
            "_model_module_version": "1.5.0",
            "_model_name": "DescriptionStyleModel",
            "_view_count": null,
            "_view_module": "@jupyter-widgets/base",
            "_view_module_version": "1.2.0",
            "_view_name": "StyleView",
            "description_width": ""
          }
        },
        "51217f0ab8fa411984afdbf0c76e042c": {
          "model_module": "@jupyter-widgets/base",
          "model_name": "LayoutModel",
          "model_module_version": "1.2.0",
          "state": {
            "_model_module": "@jupyter-widgets/base",
            "_model_module_version": "1.2.0",
            "_model_name": "LayoutModel",
            "_view_count": null,
            "_view_module": "@jupyter-widgets/base",
            "_view_module_version": "1.2.0",
            "_view_name": "LayoutView",
            "align_content": null,
            "align_items": null,
            "align_self": null,
            "border": null,
            "bottom": null,
            "display": null,
            "flex": null,
            "flex_flow": null,
            "grid_area": null,
            "grid_auto_columns": null,
            "grid_auto_flow": null,
            "grid_auto_rows": null,
            "grid_column": null,
            "grid_gap": null,
            "grid_row": null,
            "grid_template_areas": null,
            "grid_template_columns": null,
            "grid_template_rows": null,
            "height": null,
            "justify_content": null,
            "justify_items": null,
            "left": null,
            "margin": null,
            "max_height": null,
            "max_width": null,
            "min_height": null,
            "min_width": null,
            "object_fit": null,
            "object_position": null,
            "order": null,
            "overflow": null,
            "overflow_x": null,
            "overflow_y": null,
            "padding": null,
            "right": null,
            "top": null,
            "visibility": null,
            "width": null
          }
        },
        "42f2bfc9b91842fdab9660d589deed46": {
          "model_module": "@jupyter-widgets/controls",
          "model_name": "ProgressStyleModel",
          "model_module_version": "1.5.0",
          "state": {
            "_model_module": "@jupyter-widgets/controls",
            "_model_module_version": "1.5.0",
            "_model_name": "ProgressStyleModel",
            "_view_count": null,
            "_view_module": "@jupyter-widgets/base",
            "_view_module_version": "1.2.0",
            "_view_name": "StyleView",
            "bar_color": null,
            "description_width": ""
          }
        },
        "91568f6498ec4cecabbe68e9bb006524": {
          "model_module": "@jupyter-widgets/base",
          "model_name": "LayoutModel",
          "model_module_version": "1.2.0",
          "state": {
            "_model_module": "@jupyter-widgets/base",
            "_model_module_version": "1.2.0",
            "_model_name": "LayoutModel",
            "_view_count": null,
            "_view_module": "@jupyter-widgets/base",
            "_view_module_version": "1.2.0",
            "_view_name": "LayoutView",
            "align_content": null,
            "align_items": null,
            "align_self": null,
            "border": null,
            "bottom": null,
            "display": null,
            "flex": null,
            "flex_flow": null,
            "grid_area": null,
            "grid_auto_columns": null,
            "grid_auto_flow": null,
            "grid_auto_rows": null,
            "grid_column": null,
            "grid_gap": null,
            "grid_row": null,
            "grid_template_areas": null,
            "grid_template_columns": null,
            "grid_template_rows": null,
            "height": null,
            "justify_content": null,
            "justify_items": null,
            "left": null,
            "margin": null,
            "max_height": null,
            "max_width": null,
            "min_height": null,
            "min_width": null,
            "object_fit": null,
            "object_position": null,
            "order": null,
            "overflow": null,
            "overflow_x": null,
            "overflow_y": null,
            "padding": null,
            "right": null,
            "top": null,
            "visibility": null,
            "width": null
          }
        },
        "bfda2cacb58e4df8b04a145369e3f076": {
          "model_module": "@jupyter-widgets/controls",
          "model_name": "DescriptionStyleModel",
          "model_module_version": "1.5.0",
          "state": {
            "_model_module": "@jupyter-widgets/controls",
            "_model_module_version": "1.5.0",
            "_model_name": "DescriptionStyleModel",
            "_view_count": null,
            "_view_module": "@jupyter-widgets/base",
            "_view_module_version": "1.2.0",
            "_view_name": "StyleView",
            "description_width": ""
          }
        },
        "2d91a509599f471990bc821b9b0fc512": {
          "model_module": "@jupyter-widgets/controls",
          "model_name": "HBoxModel",
          "model_module_version": "1.5.0",
          "state": {
            "_dom_classes": [],
            "_model_module": "@jupyter-widgets/controls",
            "_model_module_version": "1.5.0",
            "_model_name": "HBoxModel",
            "_view_count": null,
            "_view_module": "@jupyter-widgets/controls",
            "_view_module_version": "1.5.0",
            "_view_name": "HBoxView",
            "box_style": "",
            "children": [
              "IPY_MODEL_0e37719718d14cf3b9cf9dc0375322e7",
              "IPY_MODEL_ad051843184e4ceb8b7fb49e9ff195bb",
              "IPY_MODEL_3da2927225a64e72b7ce666fccfc228c"
            ],
            "layout": "IPY_MODEL_c7d2a55194f64aa0b947052e07f765f9"
          }
        },
        "0e37719718d14cf3b9cf9dc0375322e7": {
          "model_module": "@jupyter-widgets/controls",
          "model_name": "HTMLModel",
          "model_module_version": "1.5.0",
          "state": {
            "_dom_classes": [],
            "_model_module": "@jupyter-widgets/controls",
            "_model_module_version": "1.5.0",
            "_model_name": "HTMLModel",
            "_view_count": null,
            "_view_module": "@jupyter-widgets/controls",
            "_view_module_version": "1.5.0",
            "_view_name": "HTMLView",
            "description": "",
            "description_tooltip": null,
            "layout": "IPY_MODEL_14af90774da343bf845069276b916fbd",
            "placeholder": "​",
            "style": "IPY_MODEL_fd290f8c0c38422cbe91b2bfc7831ad7",
            "value": "Running tokenizer on test dataset (num_proc=4): 100%"
          }
        },
        "ad051843184e4ceb8b7fb49e9ff195bb": {
          "model_module": "@jupyter-widgets/controls",
          "model_name": "FloatProgressModel",
          "model_module_version": "1.5.0",
          "state": {
            "_dom_classes": [],
            "_model_module": "@jupyter-widgets/controls",
            "_model_module_version": "1.5.0",
            "_model_name": "FloatProgressModel",
            "_view_count": null,
            "_view_module": "@jupyter-widgets/controls",
            "_view_module_version": "1.5.0",
            "_view_name": "ProgressView",
            "bar_style": "success",
            "description": "",
            "description_tooltip": null,
            "layout": "IPY_MODEL_0efd4041b0d34b7d8a65b2878c62969f",
            "max": 1080,
            "min": 0,
            "orientation": "horizontal",
            "style": "IPY_MODEL_f09d91487243487998d990501d92dfc5",
            "value": 1080
          }
        },
        "3da2927225a64e72b7ce666fccfc228c": {
          "model_module": "@jupyter-widgets/controls",
          "model_name": "HTMLModel",
          "model_module_version": "1.5.0",
          "state": {
            "_dom_classes": [],
            "_model_module": "@jupyter-widgets/controls",
            "_model_module_version": "1.5.0",
            "_model_name": "HTMLModel",
            "_view_count": null,
            "_view_module": "@jupyter-widgets/controls",
            "_view_module_version": "1.5.0",
            "_view_name": "HTMLView",
            "description": "",
            "description_tooltip": null,
            "layout": "IPY_MODEL_e756370996384e8b9569c746a2b89f43",
            "placeholder": "​",
            "style": "IPY_MODEL_8cfae98326e544d8b5344ced86379081",
            "value": " 1080/1080 [00:00&lt;00:00, 527.82 examples/s]"
          }
        },
        "c7d2a55194f64aa0b947052e07f765f9": {
          "model_module": "@jupyter-widgets/base",
          "model_name": "LayoutModel",
          "model_module_version": "1.2.0",
          "state": {
            "_model_module": "@jupyter-widgets/base",
            "_model_module_version": "1.2.0",
            "_model_name": "LayoutModel",
            "_view_count": null,
            "_view_module": "@jupyter-widgets/base",
            "_view_module_version": "1.2.0",
            "_view_name": "LayoutView",
            "align_content": null,
            "align_items": null,
            "align_self": null,
            "border": null,
            "bottom": null,
            "display": null,
            "flex": null,
            "flex_flow": null,
            "grid_area": null,
            "grid_auto_columns": null,
            "grid_auto_flow": null,
            "grid_auto_rows": null,
            "grid_column": null,
            "grid_gap": null,
            "grid_row": null,
            "grid_template_areas": null,
            "grid_template_columns": null,
            "grid_template_rows": null,
            "height": null,
            "justify_content": null,
            "justify_items": null,
            "left": null,
            "margin": null,
            "max_height": null,
            "max_width": null,
            "min_height": null,
            "min_width": null,
            "object_fit": null,
            "object_position": null,
            "order": null,
            "overflow": null,
            "overflow_x": null,
            "overflow_y": null,
            "padding": null,
            "right": null,
            "top": null,
            "visibility": null,
            "width": null
          }
        },
        "14af90774da343bf845069276b916fbd": {
          "model_module": "@jupyter-widgets/base",
          "model_name": "LayoutModel",
          "model_module_version": "1.2.0",
          "state": {
            "_model_module": "@jupyter-widgets/base",
            "_model_module_version": "1.2.0",
            "_model_name": "LayoutModel",
            "_view_count": null,
            "_view_module": "@jupyter-widgets/base",
            "_view_module_version": "1.2.0",
            "_view_name": "LayoutView",
            "align_content": null,
            "align_items": null,
            "align_self": null,
            "border": null,
            "bottom": null,
            "display": null,
            "flex": null,
            "flex_flow": null,
            "grid_area": null,
            "grid_auto_columns": null,
            "grid_auto_flow": null,
            "grid_auto_rows": null,
            "grid_column": null,
            "grid_gap": null,
            "grid_row": null,
            "grid_template_areas": null,
            "grid_template_columns": null,
            "grid_template_rows": null,
            "height": null,
            "justify_content": null,
            "justify_items": null,
            "left": null,
            "margin": null,
            "max_height": null,
            "max_width": null,
            "min_height": null,
            "min_width": null,
            "object_fit": null,
            "object_position": null,
            "order": null,
            "overflow": null,
            "overflow_x": null,
            "overflow_y": null,
            "padding": null,
            "right": null,
            "top": null,
            "visibility": null,
            "width": null
          }
        },
        "fd290f8c0c38422cbe91b2bfc7831ad7": {
          "model_module": "@jupyter-widgets/controls",
          "model_name": "DescriptionStyleModel",
          "model_module_version": "1.5.0",
          "state": {
            "_model_module": "@jupyter-widgets/controls",
            "_model_module_version": "1.5.0",
            "_model_name": "DescriptionStyleModel",
            "_view_count": null,
            "_view_module": "@jupyter-widgets/base",
            "_view_module_version": "1.2.0",
            "_view_name": "StyleView",
            "description_width": ""
          }
        },
        "0efd4041b0d34b7d8a65b2878c62969f": {
          "model_module": "@jupyter-widgets/base",
          "model_name": "LayoutModel",
          "model_module_version": "1.2.0",
          "state": {
            "_model_module": "@jupyter-widgets/base",
            "_model_module_version": "1.2.0",
            "_model_name": "LayoutModel",
            "_view_count": null,
            "_view_module": "@jupyter-widgets/base",
            "_view_module_version": "1.2.0",
            "_view_name": "LayoutView",
            "align_content": null,
            "align_items": null,
            "align_self": null,
            "border": null,
            "bottom": null,
            "display": null,
            "flex": null,
            "flex_flow": null,
            "grid_area": null,
            "grid_auto_columns": null,
            "grid_auto_flow": null,
            "grid_auto_rows": null,
            "grid_column": null,
            "grid_gap": null,
            "grid_row": null,
            "grid_template_areas": null,
            "grid_template_columns": null,
            "grid_template_rows": null,
            "height": null,
            "justify_content": null,
            "justify_items": null,
            "left": null,
            "margin": null,
            "max_height": null,
            "max_width": null,
            "min_height": null,
            "min_width": null,
            "object_fit": null,
            "object_position": null,
            "order": null,
            "overflow": null,
            "overflow_x": null,
            "overflow_y": null,
            "padding": null,
            "right": null,
            "top": null,
            "visibility": null,
            "width": null
          }
        },
        "f09d91487243487998d990501d92dfc5": {
          "model_module": "@jupyter-widgets/controls",
          "model_name": "ProgressStyleModel",
          "model_module_version": "1.5.0",
          "state": {
            "_model_module": "@jupyter-widgets/controls",
            "_model_module_version": "1.5.0",
            "_model_name": "ProgressStyleModel",
            "_view_count": null,
            "_view_module": "@jupyter-widgets/base",
            "_view_module_version": "1.2.0",
            "_view_name": "StyleView",
            "bar_color": null,
            "description_width": ""
          }
        },
        "e756370996384e8b9569c746a2b89f43": {
          "model_module": "@jupyter-widgets/base",
          "model_name": "LayoutModel",
          "model_module_version": "1.2.0",
          "state": {
            "_model_module": "@jupyter-widgets/base",
            "_model_module_version": "1.2.0",
            "_model_name": "LayoutModel",
            "_view_count": null,
            "_view_module": "@jupyter-widgets/base",
            "_view_module_version": "1.2.0",
            "_view_name": "LayoutView",
            "align_content": null,
            "align_items": null,
            "align_self": null,
            "border": null,
            "bottom": null,
            "display": null,
            "flex": null,
            "flex_flow": null,
            "grid_area": null,
            "grid_auto_columns": null,
            "grid_auto_flow": null,
            "grid_auto_rows": null,
            "grid_column": null,
            "grid_gap": null,
            "grid_row": null,
            "grid_template_areas": null,
            "grid_template_columns": null,
            "grid_template_rows": null,
            "height": null,
            "justify_content": null,
            "justify_items": null,
            "left": null,
            "margin": null,
            "max_height": null,
            "max_width": null,
            "min_height": null,
            "min_width": null,
            "object_fit": null,
            "object_position": null,
            "order": null,
            "overflow": null,
            "overflow_x": null,
            "overflow_y": null,
            "padding": null,
            "right": null,
            "top": null,
            "visibility": null,
            "width": null
          }
        },
        "8cfae98326e544d8b5344ced86379081": {
          "model_module": "@jupyter-widgets/controls",
          "model_name": "DescriptionStyleModel",
          "model_module_version": "1.5.0",
          "state": {
            "_model_module": "@jupyter-widgets/controls",
            "_model_module_version": "1.5.0",
            "_model_name": "DescriptionStyleModel",
            "_view_count": null,
            "_view_module": "@jupyter-widgets/base",
            "_view_module_version": "1.2.0",
            "_view_name": "StyleView",
            "description_width": ""
          }
        }
      }
    }
  },
  "nbformat": 4,
  "nbformat_minor": 0
}