{
  "cells": [
    {
      "cell_type": "markdown",
      "metadata": {
        "id": "NDuhg1UwdQpI"
      },
      "source": [
        "# This Notebook uses the IndicNER model which i have already Trained and fine_tuned on Naampadam (marathi) dataset.\n",
        "### (training and finetuning of this model is done by another notebook named 'training_indicNER')\n"
      ]
    },
    {
      "cell_type": "code",
      "execution_count": 1,
      "metadata": {
        "id": "Se8Q82VVz2ka",
        "colab": {
          "base_uri": "https://localhost:8080/"
        },
        "outputId": "75cb50a5-4fc0-4f94-d661-19c805d6b8d0"
      },
      "outputs": [
        {
          "output_type": "stream",
          "name": "stdout",
          "text": [
            "Mounted at /content/drive\n"
          ]
        }
      ],
      "source": [
        "from google.colab import drive\n",
        "drive.mount('/content/drive')"
      ]
    },
    {
      "cell_type": "code",
      "execution_count": 2,
      "metadata": {
        "id": "WYLqQc1_zFK9",
        "colab": {
          "base_uri": "https://localhost:8080/"
        },
        "outputId": "70599af9-828c-4361-cc8c-62116c2ecd06"
      },
      "outputs": [
        {
          "output_type": "stream",
          "name": "stdout",
          "text": [
            "Collecting accelerate\n",
            "  Downloading accelerate-0.27.2-py3-none-any.whl (279 kB)\n",
            "\u001b[?25l     \u001b[90m━━━━━━━━━━━━━━━━━━━━━━━━━━━━━━━━━━━━━━━━\u001b[0m \u001b[32m0.0/280.0 kB\u001b[0m \u001b[31m?\u001b[0m eta \u001b[36m-:--:--\u001b[0m\r\u001b[2K     \u001b[91m━━━━━━━━━━\u001b[0m\u001b[90m╺\u001b[0m\u001b[90m━━━━━━━━━━━━━━━━━━━━━━━━━━━━━\u001b[0m \u001b[32m71.7/280.0 kB\u001b[0m \u001b[31m1.9 MB/s\u001b[0m eta \u001b[36m0:00:01\u001b[0m\r\u001b[2K     \u001b[90m━━━━━━━━━━━━━━━━━━━━━━━━━━━━━━━━━━━━━━━━\u001b[0m \u001b[32m280.0/280.0 kB\u001b[0m \u001b[31m4.4 MB/s\u001b[0m eta \u001b[36m0:00:00\u001b[0m\n",
            "\u001b[?25hRequirement already satisfied: numpy>=1.17 in /usr/local/lib/python3.10/dist-packages (from accelerate) (1.25.2)\n",
            "Requirement already satisfied: packaging>=20.0 in /usr/local/lib/python3.10/dist-packages (from accelerate) (23.2)\n",
            "Requirement already satisfied: psutil in /usr/local/lib/python3.10/dist-packages (from accelerate) (5.9.5)\n",
            "Requirement already satisfied: pyyaml in /usr/local/lib/python3.10/dist-packages (from accelerate) (6.0.1)\n",
            "Requirement already satisfied: torch>=1.10.0 in /usr/local/lib/python3.10/dist-packages (from accelerate) (2.1.0+cu121)\n",
            "Requirement already satisfied: huggingface-hub in /usr/local/lib/python3.10/dist-packages (from accelerate) (0.20.3)\n",
            "Requirement already satisfied: safetensors>=0.3.1 in /usr/local/lib/python3.10/dist-packages (from accelerate) (0.4.2)\n",
            "Requirement already satisfied: filelock in /usr/local/lib/python3.10/dist-packages (from torch>=1.10.0->accelerate) (3.13.1)\n",
            "Requirement already satisfied: typing-extensions in /usr/local/lib/python3.10/dist-packages (from torch>=1.10.0->accelerate) (4.10.0)\n",
            "Requirement already satisfied: sympy in /usr/local/lib/python3.10/dist-packages (from torch>=1.10.0->accelerate) (1.12)\n",
            "Requirement already satisfied: networkx in /usr/local/lib/python3.10/dist-packages (from torch>=1.10.0->accelerate) (3.2.1)\n",
            "Requirement already satisfied: jinja2 in /usr/local/lib/python3.10/dist-packages (from torch>=1.10.0->accelerate) (3.1.3)\n",
            "Requirement already satisfied: fsspec in /usr/local/lib/python3.10/dist-packages (from torch>=1.10.0->accelerate) (2023.6.0)\n",
            "Requirement already satisfied: triton==2.1.0 in /usr/local/lib/python3.10/dist-packages (from torch>=1.10.0->accelerate) (2.1.0)\n",
            "Requirement already satisfied: requests in /usr/local/lib/python3.10/dist-packages (from huggingface-hub->accelerate) (2.31.0)\n",
            "Requirement already satisfied: tqdm>=4.42.1 in /usr/local/lib/python3.10/dist-packages (from huggingface-hub->accelerate) (4.66.2)\n",
            "Requirement already satisfied: MarkupSafe>=2.0 in /usr/local/lib/python3.10/dist-packages (from jinja2->torch>=1.10.0->accelerate) (2.1.5)\n",
            "Requirement already satisfied: charset-normalizer<4,>=2 in /usr/local/lib/python3.10/dist-packages (from requests->huggingface-hub->accelerate) (3.3.2)\n",
            "Requirement already satisfied: idna<4,>=2.5 in /usr/local/lib/python3.10/dist-packages (from requests->huggingface-hub->accelerate) (3.6)\n",
            "Requirement already satisfied: urllib3<3,>=1.21.1 in /usr/local/lib/python3.10/dist-packages (from requests->huggingface-hub->accelerate) (2.0.7)\n",
            "Requirement already satisfied: certifi>=2017.4.17 in /usr/local/lib/python3.10/dist-packages (from requests->huggingface-hub->accelerate) (2024.2.2)\n",
            "Requirement already satisfied: mpmath>=0.19 in /usr/local/lib/python3.10/dist-packages (from sympy->torch>=1.10.0->accelerate) (1.3.0)\n",
            "Installing collected packages: accelerate\n",
            "Successfully installed accelerate-0.27.2\n",
            "\u001b[2K     \u001b[90m━━━━━━━━━━━━━━━━━━━━━━━━━━━━━━━━━━━━━━━━\u001b[0m \u001b[32m510.5/510.5 kB\u001b[0m \u001b[31m4.3 MB/s\u001b[0m eta \u001b[36m0:00:00\u001b[0m\n",
            "\u001b[?25h  Preparing metadata (setup.py) ... \u001b[?25l\u001b[?25hdone\n",
            "\u001b[2K     \u001b[90m━━━━━━━━━━━━━━━━━━━━━━━━━━━━━━━━━━━━━━━━\u001b[0m \u001b[32m116.3/116.3 kB\u001b[0m \u001b[31m6.8 MB/s\u001b[0m eta \u001b[36m0:00:00\u001b[0m\n",
            "\u001b[2K     \u001b[90m━━━━━━━━━━━━━━━━━━━━━━━━━━━━━━━━━━━━━━━━\u001b[0m \u001b[32m134.8/134.8 kB\u001b[0m \u001b[31m10.5 MB/s\u001b[0m eta \u001b[36m0:00:00\u001b[0m\n",
            "\u001b[?25h  Building wheel for segeval (setup.py) ... \u001b[?25l\u001b[?25hdone\n",
            "Collecting seqeval\n",
            "  Downloading seqeval-1.2.2.tar.gz (43 kB)\n",
            "\u001b[2K     \u001b[90m━━━━━━━━━━━━━━━━━━━━━━━━━━━━━━━━━━━━━━━━\u001b[0m \u001b[32m43.6/43.6 kB\u001b[0m \u001b[31m1.8 MB/s\u001b[0m eta \u001b[36m0:00:00\u001b[0m\n",
            "\u001b[?25h  Preparing metadata (setup.py) ... \u001b[?25l\u001b[?25hdone\n",
            "Requirement already satisfied: numpy>=1.14.0 in /usr/local/lib/python3.10/dist-packages (from seqeval) (1.25.2)\n",
            "Requirement already satisfied: scikit-learn>=0.21.3 in /usr/local/lib/python3.10/dist-packages (from seqeval) (1.2.2)\n",
            "Requirement already satisfied: scipy>=1.3.2 in /usr/local/lib/python3.10/dist-packages (from scikit-learn>=0.21.3->seqeval) (1.11.4)\n",
            "Requirement already satisfied: joblib>=1.1.1 in /usr/local/lib/python3.10/dist-packages (from scikit-learn>=0.21.3->seqeval) (1.3.2)\n",
            "Requirement already satisfied: threadpoolctl>=2.0.0 in /usr/local/lib/python3.10/dist-packages (from scikit-learn>=0.21.3->seqeval) (3.3.0)\n",
            "Building wheels for collected packages: seqeval\n",
            "  Building wheel for seqeval (setup.py) ... \u001b[?25l\u001b[?25hdone\n",
            "  Created wheel for seqeval: filename=seqeval-1.2.2-py3-none-any.whl size=16162 sha256=e1cc7801425c4360feabe1615d445a296a11440225a38183a1e482d9c97e1680\n",
            "  Stored in directory: /root/.cache/pip/wheels/1a/67/4a/ad4082dd7dfc30f2abfe4d80a2ed5926a506eb8a972b4767fa\n",
            "Successfully built seqeval\n",
            "Installing collected packages: seqeval\n",
            "Successfully installed seqeval-1.2.2\n"
          ]
        }
      ],
      "source": [
        "!pip install accelerate -U\n",
        "!pip install transformers datasets sentencepiece tokenizers segeval -q\n",
        "!pip3 install seqeval"
      ]
    },
    {
      "cell_type": "code",
      "execution_count": 3,
      "metadata": {
        "id": "Z2vfxQgNzSrA"
      },
      "outputs": [],
      "source": [
        "\n",
        "from transformers import AutoTokenizer, AutoModelForTokenClassification\n",
        "import torch\n",
        "from transformers import AutoTokenizer, AutoModelForTokenClassification\n",
        "from datasets import ClassLabel, load_dataset, load_metric, DownloadMode\n",
        "from transformers import TrainingArguments, Trainer, DataCollatorForTokenClassification\n",
        "import accelerate\n",
        "import torch\n",
        "import numpy as np"
      ]
    },
    {
      "cell_type": "code",
      "source": [
        "import os\n",
        "import json"
      ],
      "metadata": {
        "id": "skD51v03cIFa"
      },
      "execution_count": 4,
      "outputs": []
    },
    {
      "cell_type": "code",
      "execution_count": 5,
      "metadata": {
        "id": "gNYaSxIP1Lwj"
      },
      "outputs": [],
      "source": [
        "tokenizer = AutoTokenizer.from_pretrained('/content/drive/MyDrive/Mtech2ndSEM/CS689ComputationalLinguistic/FinalAssign2/IndicNER/checkpoint-31250') #This path is different than path I used while saving checkpoints. This is because, my colab gpu limit exceeded, so i just copied that checkpoint in my another google account drive\n",
        "model = AutoModelForTokenClassification.from_pretrained('/content/drive/MyDrive/Mtech2ndSEM/CS689ComputationalLinguistic/FinalAssign2/IndicNER/checkpoint-31250')\n",
        "data_collator = DataCollatorForTokenClassification(tokenizer)"
      ]
    },
    {
      "cell_type": "code",
      "execution_count": 6,
      "metadata": {
        "id": "aBRwKDX0JjNj",
        "colab": {
          "base_uri": "https://localhost:8080/",
          "height": 333,
          "referenced_widgets": [
            "36f9ab0f49b24996b210c7ef0df378c3",
            "0ead944d00374a79bb99223170c7b314",
            "86a31baa23044641b3659fe623caef18",
            "56cd1ed1fb874630a2c254b4f6788023",
            "498d8557f6be489bbddb8824f69e2640",
            "6b5e85277c7a4674afc4ae2b3b90b432",
            "473a3b53067b4113925dff61802aaf33",
            "e2ca732807e649bdbd6490cf305bea5d",
            "da71dd4237834e0cbb1c63f00d5392b3",
            "339062a4c05348a2aaf47205a999f49e",
            "262c17b1a523484883489e4ea60f40d1",
            "41512f9fc0d0407696dd7db7c4dafbca",
            "f7dcd17fc2c64b24b0f8559d86363fa2",
            "4bcd22394d6a496297eaeac3486174df",
            "254e3a87629c475da39bd79b5cd0757b",
            "a139516d84a34c93827728af92ac33e6",
            "4f56e94a1c774e3782492e8e0b5247e3",
            "096bce2a92bb43d686ba462433dc0c06",
            "a0f4feb23e074f05899efef8e280b0fc",
            "69b3c83043a8441b9d0f9a24e62f37a3",
            "1acbf1f5a00d4ef98b5eaad246ef9f26",
            "aaaf4a3403a4437291fd31fba8ec54fc",
            "656b4ddcbbe4454e9f5ad3799a405061",
            "79ffae891a4943a49ccd680a4affd359",
            "814ead103e39491080c897e9c6e6871f",
            "2874d1266f204e95a9bc3b5ec5683a24",
            "56c10ca309d34423a1da4c7d1303334a",
            "91497d0017ec41b0a7e0ec96630a34e1",
            "86889afb02dd49c8950db58bfe77796a",
            "f792b190a652433184591363b3f96e1e",
            "e9f6b66852b34b388e6e087ae707eab1",
            "962cec8ef3644eab9c64dae9e7a10e69",
            "1a541fc61bca41d4978bff9430543972",
            "023eac2998ca48a58292868f1fe503f2",
            "40ce8144aa6749a1a2fd64bbe30ba19e",
            "0bceb202a82b436c8f63353d03eac69f",
            "6acf8b1cf8db483ea873a32e1242797c",
            "55bb834165d94bb19a5567bccae2514e",
            "6544da201bfb4e3d96eb1b8af50be284",
            "41c9744f6feb4b53816f4e74f158972e",
            "68c0ac863f8d46f39c7a5d40248286ea",
            "0fe81103a42c49ee8929b4860c49e1bc",
            "76bb752e2ec94508868db5a67a918204",
            "461128e1ff2d44ca8539d3a8c6277746",
            "3a4edff3ccd341b4907606e16d03cb56",
            "aeaec2fa39cc4922916720836ec7f1b4",
            "7de8ebfa53af4f109c92d2863c846bad",
            "8959e5f0abb24429ba0e0f7f0fb501cb",
            "04e6d9fd857d40d9a72e8416fca177bc",
            "739b63487f4e4186ba9488761677bb96",
            "9e626e1cda9948a18724265a7e3e21c4",
            "20b3fba6e4cf442f879a9079391c3b3c",
            "2ee85707910147399d0645959add7cbc",
            "80cb629231eb4466ba3bc961c88c7e79",
            "73ec4cdce29e4c8cb91ff95302a53478",
            "bada65913a4a4f719451934b62dd3f5b",
            "410e6af48cd94715a7f037520006da63",
            "125aa9216c1b43849f7a280c512de790",
            "1a3591a03099434096b49818221a14e4",
            "774662ee6de24bf59cd5cd2549867765",
            "a7943480bde942438d67c32362680369",
            "1f2ca32fd773436caf0677e5c8c3555d",
            "679ab2e00405495a9215d827996f0a76",
            "f7839d79f4384a4b8ea39475c4cba1b9",
            "144c9b56f23a4e6d85d567b98a1fdd8e",
            "33aaeb5ec91c449f9d58850b9e899789"
          ]
        },
        "outputId": "30754906-e3d8-4c8c-922d-bad3c5ccd18c"
      },
      "outputs": [
        {
          "output_type": "stream",
          "name": "stderr",
          "text": [
            "/usr/local/lib/python3.10/dist-packages/huggingface_hub/utils/_token.py:88: UserWarning: \n",
            "The secret `HF_TOKEN` does not exist in your Colab secrets.\n",
            "To authenticate with the Hugging Face Hub, create a token in your settings tab (https://huggingface.co/settings/tokens), set it as secret in your Google Colab and restart your session.\n",
            "You will be able to reuse this secret in all of your notebooks.\n",
            "Please note that authentication is recommended but still optional to access public models or datasets.\n",
            "  warnings.warn(\n"
          ]
        },
        {
          "output_type": "display_data",
          "data": {
            "text/plain": [
              "Downloading data:   0%|          | 0.00/37.1M [00:00<?, ?B/s]"
            ],
            "application/vnd.jupyter.widget-view+json": {
              "version_major": 2,
              "version_minor": 0,
              "model_id": "36f9ab0f49b24996b210c7ef0df378c3"
            }
          },
          "metadata": {}
        },
        {
          "output_type": "display_data",
          "data": {
            "text/plain": [
              "Downloading data:   0%|          | 0.00/83.2k [00:00<?, ?B/s]"
            ],
            "application/vnd.jupyter.widget-view+json": {
              "version_major": 2,
              "version_minor": 0,
              "model_id": "41512f9fc0d0407696dd7db7c4dafbca"
            }
          },
          "metadata": {}
        },
        {
          "output_type": "display_data",
          "data": {
            "text/plain": [
              "Downloading data:   0%|          | 0.00/198k [00:00<?, ?B/s]"
            ],
            "application/vnd.jupyter.widget-view+json": {
              "version_major": 2,
              "version_minor": 0,
              "model_id": "656b4ddcbbe4454e9f5ad3799a405061"
            }
          },
          "metadata": {}
        },
        {
          "output_type": "display_data",
          "data": {
            "text/plain": [
              "Generating train split:   0%|          | 0/455248 [00:00<?, ? examples/s]"
            ],
            "application/vnd.jupyter.widget-view+json": {
              "version_major": 2,
              "version_minor": 0,
              "model_id": "023eac2998ca48a58292868f1fe503f2"
            }
          },
          "metadata": {}
        },
        {
          "output_type": "display_data",
          "data": {
            "text/plain": [
              "Generating test split:   0%|          | 0/1080 [00:00<?, ? examples/s]"
            ],
            "application/vnd.jupyter.widget-view+json": {
              "version_major": 2,
              "version_minor": 0,
              "model_id": "3a4edff3ccd341b4907606e16d03cb56"
            }
          },
          "metadata": {}
        },
        {
          "output_type": "display_data",
          "data": {
            "text/plain": [
              "Generating validation split:   0%|          | 0/2300 [00:00<?, ? examples/s]"
            ],
            "application/vnd.jupyter.widget-view+json": {
              "version_major": 2,
              "version_minor": 0,
              "model_id": "bada65913a4a4f719451934b62dd3f5b"
            }
          },
          "metadata": {}
        }
      ],
      "source": [
        "marathi_dataset = load_dataset('ai4bharat/naamapadam', 'mr')"
      ]
    },
    {
      "cell_type": "code",
      "execution_count": 7,
      "metadata": {
        "id": "ORKXdTyWfWLg"
      },
      "outputs": [],
      "source": [
        "label_list= marathi_dataset['train'].features['ner_tags'].feature.names\n",
        "label_list\n",
        "model.config.id2label ={0: 'O', 1: 'B-PER', 2: 'I-PER', 3: 'B-ORG', 4: 'I-ORG', 5: 'B-LOC', 6: 'I-LOC'}"
      ]
    },
    {
      "cell_type": "code",
      "execution_count": 8,
      "metadata": {
        "id": "RsCLnOn8b_9r"
      },
      "outputs": [],
      "source": [
        "def tokenize_and_align_label(example, label_all_tokens=True):  #input is example from dataset and a boolean argument\n",
        "  tokenized_input= tokenizer(example['tokens'], truncation=True, is_split_into_words=True)      #tokenizing the input\n",
        "  #print(\"Before aligning the labels:\",tokenized_input)\n",
        "  #e.g. ['[CLS]', 'वि', '##दय', '##ाप', '##ी', '##ठ', '/', 'राजय', 'सरकार', '/', 'कदर', 'सरकार', '/', 'सबध', '##ित', 'ससथा', '##च', 'न', '##ियम', '[SEP]']\n",
        "\n",
        "  labels= []   #This list will contain correct labels for tokenized input of the example\n",
        "  for i, label in enumerate(example['ner_tags']):\n",
        "    word_ids = tokenized_input.word_ids(batch_index=i)    #Extracting word id of tokenized input with batch_index i\n",
        "    #here word_ids() function call will return list of mapping the tokens to their actual word in initial sentence.\n",
        "    #It returns the list indicating the word corresponding to each token. For example mentioned in comment above word_ids list is [None, 0, 0, 0, 0, 0, 1, 2, 3, 4, 5, 6, 7, 8, 8, 9, 9, 10, 10, None]\n",
        "\n",
        "    previous_word_idx =None\n",
        "    label_ids=[]              #to set labels for tokenized input\n",
        "    for word_idx in word_ids:\n",
        "      if word_idx is None:    #then just setting it as -100 for special tokens\n",
        "        label_ids.append(-100)\n",
        "      elif word_idx != previous_word_idx:   #it means this token has came from new word. And it has its own label so just add label of that word\n",
        "        label_ids.append(label[word_idx])\n",
        "      else:                   #\n",
        "        #to take care of sub_words which has same word_idx\n",
        "        #So I am just setting those also as -100. But only if label_all_tokens==False\n",
        "        label_ids.append(label[word_idx] if label_all_tokens else -100)\n",
        "      previous_word_idx= word_idx\n",
        "\n",
        "    labels.append(label_ids)      #after completing inner loop just appending labels_ids to overall labels\n",
        "\n",
        "  #Now all labels are calculated. So I am just inserting new 'labels' into tokenized_input. It already had 'input_ids','attension_mask', 'token_type_ids' as keys.\n",
        "  #I have printed tokenized input of one of the example in somewhere above cells\n",
        "  tokenized_input['labels'] = labels\n",
        "  return tokenized_input\n",
        "\n"
      ]
    },
    {
      "cell_type": "code",
      "execution_count": 9,
      "metadata": {
        "id": "HgO0AaU3OEeO",
        "colab": {
          "base_uri": "https://localhost:8080/",
          "height": 173,
          "referenced_widgets": [
            "6e79a1d9810b49f582719fea032410c1",
            "0dfe270e2f8146dfab10a343480ec6ef",
            "3f1739c7a0f249c98ef20be6144024d5",
            "e2779a16920140da8bf2f0fab199227d",
            "be64147cd3b841aca1e37318e3664c85",
            "05037bda7f0743c7ad6d920430675040",
            "d1e2e9c4e1474a4d8c5e3f2fecb0c278",
            "1e4654b6a6e942ddaf285dc9927a0907",
            "eaa8164a768f46cd804a04d8a07ae7d5",
            "cf8afe35501a4aa08fa272171b666c2d",
            "367b2848fbb14778ae2d369cc4e8e7c5"
          ]
        },
        "outputId": "fa69dd64-b002-4965-ae65-b5327915b6e9"
      },
      "outputs": [
        {
          "output_type": "stream",
          "name": "stderr",
          "text": [
            "<ipython-input-9-17a43fb75357>:1: FutureWarning: load_metric is deprecated and will be removed in the next major version of datasets. Use 'evaluate.load' instead, from the new library 🤗 Evaluate: https://huggingface.co/docs/evaluate\n",
            "  metric=load_metric(\"seqeval\")\n",
            "/usr/local/lib/python3.10/dist-packages/datasets/load.py:756: FutureWarning: The repository for seqeval contains custom code which must be executed to correctly load the metric. You can inspect the repository content at https://raw.githubusercontent.com/huggingface/datasets/2.18.0/metrics/seqeval/seqeval.py\n",
            "You can avoid this message in future by passing the argument `trust_remote_code=True`.\n",
            "Passing `trust_remote_code=True` will be mandatory to load this metric from the next major release of `datasets`.\n",
            "  warnings.warn(\n"
          ]
        },
        {
          "output_type": "display_data",
          "data": {
            "text/plain": [
              "Downloading builder script:   0%|          | 0.00/2.47k [00:00<?, ?B/s]"
            ],
            "application/vnd.jupyter.widget-view+json": {
              "version_major": 2,
              "version_minor": 0,
              "model_id": "6e79a1d9810b49f582719fea032410c1"
            }
          },
          "metadata": {}
        }
      ],
      "source": [
        "metric=load_metric(\"seqeval\")\n",
        "from seqeval.metrics import classification_report\n",
        "\n",
        "from sklearn.metrics import f1_score, precision_recall_fscore_support\n",
        "def compute_metrics(eval_preds):\n",
        "  pred_logits, labels =eval_preds\n",
        "  pred_logits = np.argmax(pred_logits,axis=2) #logits and probabilities are in the same order, Hence I am not applying the softmax\n",
        "  true_predictions = [\n",
        "      [label_list[eval_preds] for (eval_preds,l) in zip(prediction, label) if l != -100] for prediction, label in zip(pred_logits, labels)\n",
        "   ]  #as I need to pass a list in prediction argument in metric.compute\n",
        "  true_labels = [\n",
        "      [label_list[l] for (eval_preds, l) in zip(prediction, label) if l != -100]\n",
        "       for prediction, label in zip(pred_logits, labels)\n",
        "   ]\n",
        "  results=metric.compute(predictions=true_predictions, references=true_labels)\n",
        "\n",
        "  #For calculation of macro F1 score, Calculate precision, recall, and f1 scores for each label\n",
        "  label_precision, label_recall, label_f1, _ = precision_recall_fscore_support(np.concatenate(true_labels), np.concatenate(true_predictions), average=None, labels=label_list)\n",
        "  macro_f1 = np.mean(label_f1)\n",
        "\n",
        "  return {\n",
        "      \"precision\" : results[\"overall_precision\"],\n",
        "      \"recall\": results[\"overall_recall\"],\n",
        "      \"f1\": results[\"overall_f1\"],\n",
        "      \"accuracy\": results[\"overall_accuracy\"],\n",
        "      \"macro_f1\": macro_f1,\n",
        "      \"labelwise_f1\":label_f1,\n",
        "  }"
      ]
    },
    {
      "cell_type": "code",
      "execution_count": 10,
      "metadata": {
        "id": "NZpCZOEiN_lQ"
      },
      "outputs": [],
      "source": [
        "# both true_outputs and predicted_outputs are list of list. i.e. first element of true_outputs will be a list of true_labels for first sentence. similarly for predicted_outputs\n",
        "from sklearn.metrics import precision_recall_fscore_support\n",
        "def Calculate_performance(true_outputs,predicted_outputs):      #function to calculate classwise precision, recall, f1_score\n",
        "\n",
        "  # Flatten the lists for calculation\n",
        "  flat_true_labels = [label for sublist in true_outputs for label in sublist]\n",
        "  flat_predicted_labels = [label for sublist in predicted_outputs for label in sublist]\n",
        "\n",
        "  # Calculate precision, recall, and F1-score\n",
        "  classwise_precision, classwise_recall, classwise_f1_score, _ = precision_recall_fscore_support(flat_true_labels, flat_predicted_labels, average=None, labels=['O','B-PER', 'I-PER', 'B-ORG', 'I-ORG','B-LOC', 'I-LOC'],zero_division=1)\n",
        "  return (classwise_precision,classwise_recall,classwise_f1_score)"
      ]
    },
    {
      "cell_type": "code",
      "execution_count": 11,
      "metadata": {
        "id": "C94JQz8FNzaQ"
      },
      "outputs": [],
      "source": [
        "def get_prections_on_sentences(all_sentences,all_correct_labels):       #Function to get prediction on sentences. here sentences is a list of list.\n",
        "  for i in range(len(all_sentences)):\n",
        "    if(len(all_sentences[i])!=len(all_correct_labels[i])):\n",
        "      print(\"Unequal lengths of sentence and labels at index i=\",i,\" and Lengths are \",len(all_sentences[i]),\", \",len(all_correct_labels[i]))\n",
        "  all_predicted_labels=[]                           #this list will be returned from function\n",
        "  unequal_length_labels_indices=[]\n",
        "  for i in range(len(all_sentences)):\n",
        "    sentence= ' '.join(all_sentences[i])\n",
        "    predicted_labels = get_predictions(sentence=sentence,\n",
        "                                    tokenizer=tokenizer,\n",
        "                                    model=model\n",
        "                                    )\n",
        "    if(len(predicted_labels) != len(all_correct_labels[i])):      #if predicted label length is not equal to actual_label length then there is a problem\n",
        "      #print(i,predicted_labels, all_correct_labels[i])\n",
        "      unequal_length_labels_indices.append(i)                             #storing the index of that sentence,so that it won't be a problem while predicting.\n",
        "    all_predicted_labels.append(predicted_labels)\n",
        "  return (all_predicted_labels,unequal_length_labels_indices)\n",
        "\n"
      ]
    },
    {
      "cell_type": "code",
      "execution_count": 12,
      "metadata": {
        "id": "tQyz63mKcPFq"
      },
      "outputs": [],
      "source": [
        "#This is the function to get predictions on random sentence\n",
        "def get_predictions( sentence, tokenizer, model ):\n",
        "  tok_sentence = tokenizer(sentence, return_tensors='pt')   #performing tokenization on the sentence\n",
        "\n",
        "  with torch.no_grad():\n",
        "    logits = model(**tok_sentence).logits.argmax(-1)  #I am sending the tokenized sentence to the model to get predictions\n",
        "    predicted_tokens_classes = [model.config.id2label[t.item()] for t in logits[0]] #mapping the maximum predicted class id with the class label\n",
        "\n",
        "    predicted_labels = []\n",
        "\n",
        "    previous_token_id = 0\n",
        "\n",
        "    #As we need to assign the named entity label to the head word(i.e. Actual word) and not its sub-words. Below code does this this thing\n",
        "    word_ids = tok_sentence.word_ids()\n",
        "    for word_index in range(len(word_ids)):\n",
        "        if word_ids[word_index] == None:\n",
        "            previous_token_id = word_ids[word_index]\n",
        "        elif word_ids[word_index] == previous_token_id:\n",
        "            previous_token_id = word_ids[word_index]\n",
        "        else:\n",
        "            predicted_labels.append( predicted_tokens_classes[ word_index ] )\n",
        "            previous_token_id = word_ids[word_index]\n",
        "\n",
        "    return predicted_labels"
      ]
    },
    {
      "cell_type": "code",
      "execution_count": 13,
      "metadata": {
        "id": "Uq20bSa8JQR-",
        "colab": {
          "base_uri": "https://localhost:8080/",
          "height": 113,
          "referenced_widgets": [
            "f97155f2ce7b4f0f9b60ebf1e85f641d",
            "9114afde33dd4ce0ab2359c75d237263",
            "a0d908a456df422796bc919fcb901a07",
            "2024f791414c466f823f6a53fd48fa01",
            "630f435169c2478798858ecc63979324",
            "74d47ae3fcf7428aa774c318ac5958cf",
            "0d43477e626f4c48be8bac0a7daa4dc0",
            "c2ec259a0fa84dbaa5a3a0bbfd842e60",
            "f22928de048245c6aac48086e7279a25",
            "8a3703e9ff974f76ace696a9a0a5cba3",
            "75d26a4085f542309b14e8ae25553df5",
            "2f99eb27a334481a813acfc10a62d052",
            "ee930a7d85514a9d85275da670ea4eac",
            "e759cf627879465fbb46fbeadbca74af",
            "718b4c5a97234d129a988ea58cce5f13",
            "8b949f6ae8cf45429776fe391bb56cbd",
            "d42d17a4f93d4ad593cf88e0627aa0e1",
            "e71e77dbf5c54c0cb674ad0264cc8392",
            "191898ecdc79403e8cc08b5738e84d74",
            "ee0ba9be5640492396c5bc2df99d63c1",
            "f4cba3bf865c41f5a594562d607892b2",
            "9d7e2ecd9306482aace441041c76fa21",
            "4aa1d9eb6bab4a53afc2fc1d679dbd92",
            "f1fee540d0d34a1db278730a1fbdaa80",
            "5a80d52b1004439885ab57c07fa6224a",
            "783cb93ebc2740fc8881a8a5ce876a77",
            "39f98d19e6c84e59a2755d2514446d0a",
            "9d8ec539a6d049fa847b8a12a15c0daa",
            "4c76fa51f2ec457db4024e12779c09fc",
            "d41c336f044647be8f9ce5737c8fdd6a",
            "3ac93a01d56a4510bcee1d47c4808bd4",
            "cc5ade4575254e84a286ae3e322d7dda",
            "92b8bc806b2d48029bf76ff4d1bf84ca"
          ]
        },
        "outputId": "3fe666e4-a493-436e-c68e-d8cba5690dcd"
      },
      "outputs": [
        {
          "output_type": "display_data",
          "data": {
            "text/plain": [
              "Running tokenizer on train dataset (num_proc=4):   0%|          | 0/100000 [00:00<?, ? examples/s]"
            ],
            "application/vnd.jupyter.widget-view+json": {
              "version_major": 2,
              "version_minor": 0,
              "model_id": "f97155f2ce7b4f0f9b60ebf1e85f641d"
            }
          },
          "metadata": {}
        },
        {
          "output_type": "display_data",
          "data": {
            "text/plain": [
              "Running tokenizer on Validation dataset (num_proc=4):   0%|          | 0/2300 [00:00<?, ? examples/s]"
            ],
            "application/vnd.jupyter.widget-view+json": {
              "version_major": 2,
              "version_minor": 0,
              "model_id": "2f99eb27a334481a813acfc10a62d052"
            }
          },
          "metadata": {}
        },
        {
          "output_type": "display_data",
          "data": {
            "text/plain": [
              "Running tokenizer on test dataset (num_proc=4):   0%|          | 0/1080 [00:00<?, ? examples/s]"
            ],
            "application/vnd.jupyter.widget-view+json": {
              "version_major": 2,
              "version_minor": 0,
              "model_id": "4aa1d9eb6bab4a53afc2fc1d679dbd92"
            }
          },
          "metadata": {}
        }
      ],
      "source": [
        "args= TrainingArguments(\n",
        "    output_dir=\"/content/drive/MyDrive/Mtech/trained_model/ner_model\",\n",
        "    evaluation_strategy=\"epoch\",\n",
        "    per_device_train_batch_size=16,\n",
        "    per_device_eval_batch_size=16,\n",
        "    num_train_epochs=5,\n",
        "    logging_dir=\"/content/drive/MyDrive/Mtech/loggingDirectory/logs\",\n",
        "    logging_strategy=\"steps\",\n",
        "    logging_steps=2000,  # Log every 1000 steps\n",
        "    save_strategy=\"epoch\",\n",
        "    save_steps=2000,\n",
        ")\n",
        "train_dataset = marathi_dataset[\"train\"].select(range(100000))\n",
        "train_dataset = train_dataset.map(\n",
        "    tokenize_and_align_label,\n",
        "    batched=True,\n",
        "    num_proc=4,\n",
        "    load_from_cache_file=True,\n",
        "    desc=\"Running tokenizer on train dataset\",\n",
        ")\n",
        "eval_dataset = marathi_dataset[\"validation\"]\n",
        "eval_dataset = eval_dataset.map(\n",
        "    tokenize_and_align_label,\n",
        "    batched=True,\n",
        "    num_proc=4,\n",
        "    load_from_cache_file=True,\n",
        "    desc=\"Running tokenizer on Validation dataset\",\n",
        ")\n",
        "trainer = Trainer(\n",
        "    model=model,\n",
        "    train_dataset=train_dataset,\n",
        "    eval_dataset=eval_dataset,\n",
        "    tokenizer=tokenizer,\n",
        "    data_collator=data_collator,\n",
        "    compute_metrics=compute_metrics,\n",
        "    args=args,\n",
        ")\n",
        "\n",
        "test_dataset = marathi_dataset[\"test\"]\n",
        "test_dataset = test_dataset.map(\n",
        "    tokenize_and_align_label,\n",
        "    batched=True,\n",
        "    num_proc=4,\n",
        "    load_from_cache_file=True,\n",
        "    desc=\"Running tokenizer on test dataset\",\n",
        ")\n"
      ]
    },
    {
      "cell_type": "code",
      "execution_count": 14,
      "metadata": {
        "id": "6P5SJhyhnkxy"
      },
      "outputs": [],
      "source": [
        "\n",
        "index_to_label={0: 'O', 1: 'B-PER', 2: 'I-PER', 3: 'B-ORG', 4: 'I-ORG', 5: 'B-LOC', 6: 'I-LOC'}\n",
        "text_column_name = \"tokens\"\n",
        "label_column_name = \"ner_tags\"\n",
        "column_names = marathi_dataset[\"train\"].column_names\n",
        "features = marathi_dataset[\"train\"].features\n",
        "label_to_id = {label_list[i]: features[label_column_name].feature.str2int( label_list[i] ) for i in range(len(label_list))}"
      ]
    },
    {
      "cell_type": "code",
      "execution_count": null,
      "metadata": {
        "id": "uy2T-VA5NwRn"
      },
      "outputs": [],
      "source": []
    },
    {
      "cell_type": "markdown",
      "metadata": {
        "id": "E8RG1rxkjMXQ"
      },
      "source": [
        "## Question 2 answer\n"
      ]
    },
    {
      "cell_type": "markdown",
      "metadata": {
        "id": "lbSjaDNmgUvW"
      },
      "source": [
        "##### Method 1: (I calculated required performance parameters by two seperate methods. You can use any of the method)"
      ]
    },
    {
      "cell_type": "markdown",
      "metadata": {
        "id": "GGVPakMWVR_j"
      },
      "source": [
        "###### Predicting on test Dataset from marathi corpus"
      ]
    },
    {
      "cell_type": "code",
      "execution_count": 15,
      "metadata": {
        "id": "mvChmrtvSf-t",
        "colab": {
          "base_uri": "https://localhost:8080/",
          "height": 17
        },
        "outputId": "1fb9c19c-9a9d-437d-8ece-529169cdbdcc"
      },
      "outputs": [
        {
          "output_type": "display_data",
          "data": {
            "text/plain": [
              "<IPython.core.display.HTML object>"
            ],
            "text/html": []
          },
          "metadata": {}
        }
      ],
      "source": [
        "#To get macro f1 score(and other performance measures) on test dataset\n",
        "test_predictions, test_labels, test_metrics = trainer.predict(test_dataset)"
      ]
    },
    {
      "cell_type": "code",
      "execution_count": 16,
      "metadata": {
        "id": "hHX5yrftSgBF",
        "colab": {
          "base_uri": "https://localhost:8080/"
        },
        "outputId": "15c82b5c-cd9e-4687-f768-8f3948011406"
      },
      "outputs": [
        {
          "output_type": "stream",
          "name": "stdout",
          "text": [
            "All performance Measures for test_dataset:  {'test_loss': 0.36820700764656067, 'test_precision': 0.8265765765765766, 'test_recall': 0.7867862015201715, 'test_f1': 0.8061907139291064, 'test_accuracy': 0.9156863472742791, 'test_macro_f1': 0.7953584316630105, 'test_labelwise_f1': array([0.95484104, 0.88456805, 0.91235195, 0.74187231, 0.59528131,\n",
            "       0.84191617, 0.6366782 ]), 'test_runtime': 10.3568, 'test_samples_per_second': 104.28, 'test_steps_per_second': 6.566}\n",
            "precision for test_dataset:  0.8265765765765766\n",
            "recall for test_dataset:  0.7867862015201715\n",
            "\n",
            "Labelwise Test F1 scores\n",
            "\n",
            "O  \t  0.9548410404624277\n",
            "B-PER  \t  0.8845680531626876\n",
            "I-PER  \t  0.9123519458544839\n",
            "B-ORG  \t  0.7418723070896983\n",
            "I-ORG  \t  0.5952813067150635\n",
            "B-LOC  \t  0.8419161676646706\n",
            "I-LOC  \t  0.6366782006920415\n",
            "Macro f1 score on test dataset:  0.7953584316630105\n"
          ]
        }
      ],
      "source": [
        "#Performance of fine tuned model on test dataset\n",
        "print(\"All performance Measures for test_dataset: \",test_metrics)\n",
        "print(\"precision for test_dataset: \",test_metrics['test_precision'])\n",
        "print(\"recall for test_dataset: \",test_metrics['test_recall'])\n",
        "print(\"\\nLabelwise Test F1 scores\\n\")\n",
        "for i in range(len(test_metrics['test_labelwise_f1'])):\n",
        "  print(label_list[i],\" \\t \",test_metrics['test_labelwise_f1'][i])\n",
        "print(\"Macro f1 score on test dataset: \",test_metrics[\"test_macro_f1\"])"
      ]
    },
    {
      "cell_type": "code",
      "source": [
        "test_results= {\n",
        "    \"class_labels\": label_list,\n",
        "    \"classwise_f1_score\": test_metrics['test_labelwise_f1'].tolist(),\n",
        "    \"macro_f1_score\": test_metrics[\"test_macro_f1\"],\n",
        "    \"recall\": test_metrics['test_recall'],\n",
        "    \"precision\": test_metrics['test_precision']\n",
        "}\n",
        "os.makedirs('/content/drive/MyDrive/Mtech2ndSEM/CS689ComputationalLinguistic/FinalAssign2/IndicNER/results/Que2/NER_Results/Automatic_results/', exist_ok=True)\n",
        "with open('/content/drive/MyDrive/Mtech2ndSEM/CS689ComputationalLinguistic/FinalAssign2/IndicNER/results/Que2/NER_Results/Automatic_results/test_results.json', 'w') as outfile:\n",
        "    json.dump(test_results, outfile, indent=4)"
      ],
      "metadata": {
        "id": "Z_ypU-n2Z-Mh"
      },
      "execution_count": 17,
      "outputs": []
    },
    {
      "cell_type": "markdown",
      "metadata": {
        "id": "7QoySCS3YNKW"
      },
      "source": [
        "###### Predicting on validation Dataset from marathi corpus"
      ]
    },
    {
      "cell_type": "code",
      "execution_count": 18,
      "metadata": {
        "id": "nFsrZf0L9OJR",
        "colab": {
          "base_uri": "https://localhost:8080/",
          "height": 72
        },
        "outputId": "6d8dccda-f0dd-4ee7-b6e1-1191f37d9314"
      },
      "outputs": [
        {
          "output_type": "display_data",
          "data": {
            "text/plain": [
              "<IPython.core.display.HTML object>"
            ],
            "text/html": [
              "\n",
              "    <div>\n",
              "      \n",
              "      <progress value='144' max='144' style='width:300px; height:20px; vertical-align: middle;'></progress>\n",
              "      [144/144 00:10]\n",
              "    </div>\n",
              "    "
            ]
          },
          "metadata": {}
        },
        {
          "output_type": "stream",
          "name": "stderr",
          "text": [
            "Trainer is attempting to log a value of \"[0.95563104 0.86982032 0.88208092 0.7619221  0.71291742 0.83151621\n",
            " 0.65938567]\" of type <class 'numpy.ndarray'> for key \"eval/labelwise_f1\" as a scalar. This invocation of Tensorboard's writer.add_scalar() is incorrect so we dropped this attribute.\n"
          ]
        }
      ],
      "source": [
        "#to get macro f1 score(and other performance measures) on validation dataset\n",
        "eval_results = trainer.evaluate()"
      ]
    },
    {
      "cell_type": "code",
      "execution_count": 19,
      "metadata": {
        "id": "xaDpe9mcMt-H",
        "colab": {
          "base_uri": "https://localhost:8080/"
        },
        "outputId": "2eaca323-c6a5-419b-f1da-320aa5665018"
      },
      "outputs": [
        {
          "output_type": "stream",
          "name": "stdout",
          "text": [
            "All performance Measures for validation_dataset:  {'eval_loss': 0.3486127555370331, 'eval_precision': 0.8021912688975709, 'eval_recall': 0.8145752479517033, 'eval_f1': 0.8083358295177372, 'eval_accuracy': 0.9188956387705141, 'eval_macro_f1': 0.8104676676314676, 'eval_labelwise_f1': array([0.95563104, 0.86982032, 0.88208092, 0.7619221 , 0.71291742,\n",
            "       0.83151621, 0.65938567]), 'eval_runtime': 11.9916, 'eval_samples_per_second': 191.801, 'eval_steps_per_second': 12.008}\n",
            "precision for validation_dataset:  0.8021912688975709\n",
            "recall for validation_dataset:  0.8145752479517033\n",
            "\n",
            "Labelwise validation F1 scores\n",
            "\n",
            "O  \t  0.9556310403937365\n",
            "B-PER  \t  0.8698203153648698\n",
            "I-PER  \t  0.8820809248554914\n",
            "B-ORG  \t  0.7619220968329087\n",
            "I-ORG  \t  0.7129174216929848\n",
            "B-LOC  \t  0.8315162087512721\n",
            "I-LOC  \t  0.6593856655290102\n",
            "Macro f1 score on validation dataset:  0.8104676676314676\n"
          ]
        }
      ],
      "source": [
        "#Performance of fine tuned model on validation dataset\n",
        "print(\"All performance Measures for validation_dataset: \",eval_results)\n",
        "print(\"precision for validation_dataset: \",eval_results['eval_precision'])\n",
        "print(\"recall for validation_dataset: \",eval_results['eval_recall'])\n",
        "print(\"\\nLabelwise validation F1 scores\\n\")\n",
        "for i in range(len(eval_results['eval_labelwise_f1'])):\n",
        "  print(label_list[i],\" \\t \",eval_results['eval_labelwise_f1'][i])\n",
        "print(\"Macro f1 score on validation dataset: \",eval_results[\"eval_macro_f1\"])"
      ]
    },
    {
      "cell_type": "code",
      "source": [
        "val_results= {\n",
        "    \"class_labels\": label_list,\n",
        "    \"classwise_f1_score\": eval_results['eval_labelwise_f1'].tolist(),\n",
        "    \"macro_f1_score\": test_metrics[\"test_macro_f1\"],\n",
        "    \"recall\": eval_results[\"eval_macro_f1\"],\n",
        "    \"precision\": eval_results['eval_precision']\n",
        "}\n",
        "os.makedirs('/content/drive/MyDrive/Mtech2ndSEM/CS689ComputationalLinguistic/FinalAssign2/IndicNER/results/Que2/NER_Results/Automatic_results/', exist_ok=True)\n",
        "with open('/content/drive/MyDrive/Mtech2ndSEM/CS689ComputationalLinguistic/FinalAssign2/IndicNER/results/Que2/NER_Results/Automatic_results/val_results.json', 'w') as outfile:\n",
        "    json.dump(val_results, outfile, indent=4)"
      ],
      "metadata": {
        "id": "kT6QY0z3bG7P"
      },
      "execution_count": 20,
      "outputs": []
    },
    {
      "cell_type": "markdown",
      "metadata": {
        "id": "A8UkzK6HaEfu"
      },
      "source": [
        "###### Predicting on training Dataset from marathi corpus"
      ]
    },
    {
      "cell_type": "code",
      "execution_count": 21,
      "metadata": {
        "colab": {
          "base_uri": "https://localhost:8080/",
          "height": 17
        },
        "id": "YwW2SfgVru38",
        "outputId": "7a169fd0-bc79-43a4-81d4-2a80f6d8565e"
      },
      "outputs": [
        {
          "output_type": "display_data",
          "data": {
            "text/plain": [
              "<IPython.core.display.HTML object>"
            ],
            "text/html": []
          },
          "metadata": {}
        }
      ],
      "source": [
        "#To get macro f1 score on train dataset\n",
        "train_predictions, train_labels, train_metrics = trainer.predict(train_dataset)"
      ]
    },
    {
      "cell_type": "code",
      "execution_count": 22,
      "metadata": {
        "id": "x0C6O5nVv5js",
        "colab": {
          "base_uri": "https://localhost:8080/"
        },
        "outputId": "45533bab-8365-4615-a6f7-bca8577be42b"
      },
      "outputs": [
        {
          "output_type": "stream",
          "name": "stdout",
          "text": [
            "All performance Measures for train_dataset:  {'test_loss': 0.058550961315631866, 'test_precision': 0.940665824025164, 'test_recall': 0.9434294550852584, 'test_f1': 0.9420456126787785, 'test_accuracy': 0.9797794604373435, 'test_macro_f1': 0.9528096471875028, 'test_labelwise_f1': array([0.98922316, 0.96402628, 0.96428388, 0.94114513, 0.94963803,\n",
            "       0.95563365, 0.9057174 ]), 'test_runtime': 567.4449, 'test_samples_per_second': 176.229, 'test_steps_per_second': 11.014}\n",
            "precision for train_dataset:  0.940665824025164\n",
            "recall for train_dataset:  0.9434294550852584\n",
            "\n",
            "Labelwise train F1 scores\n",
            "\n",
            "O  \t  0.9892231627328928\n",
            "B-PER  \t  0.9640262814694017\n",
            "I-PER  \t  0.9642838830238772\n",
            "B-ORG  \t  0.9411451328361077\n",
            "I-ORG  \t  0.9496380269559347\n",
            "B-LOC  \t  0.9556336473983533\n",
            "I-LOC  \t  0.9057173958959529\n",
            "Macro f1 score on train dataset:  0.9528096471875028\n"
          ]
        }
      ],
      "source": [
        "#Performance of fine tuned model on train dataset\n",
        "print(\"All performance Measures for train_dataset: \",train_metrics)\n",
        "print(\"precision for train_dataset: \",train_metrics['test_precision'])\n",
        "print(\"recall for train_dataset: \",train_metrics['test_recall'])\n",
        "print(\"\\nLabelwise train F1 scores\\n\")\n",
        "for i in range(len(train_metrics['test_labelwise_f1'])):\n",
        "  print(label_list[i],\" \\t \",train_metrics['test_labelwise_f1'][i])\n",
        "print(\"Macro f1 score on train dataset: \",train_metrics[\"test_macro_f1\"])"
      ]
    },
    {
      "cell_type": "code",
      "execution_count": 23,
      "metadata": {
        "id": "shtAT9qHBojl"
      },
      "outputs": [],
      "source": [
        "train_results= {\n",
        "    \"class_labels\": label_list,\n",
        "    \"classwise_f1_score\": train_metrics['test_labelwise_f1'].tolist(),\n",
        "    \"macro_f1_score\": train_metrics[\"test_macro_f1\"],\n",
        "    \"recall\": train_metrics['test_recall'],\n",
        "    \"precision\": train_metrics['test_precision']\n",
        "}\n",
        "os.makedirs('/content/drive/MyDrive/Mtech2ndSEM/CS689ComputationalLinguistic/FinalAssign2/IndicNER/results/Que2/NER_Results/Automatic_results/', exist_ok=True)\n",
        "with open('/content/drive/MyDrive/Mtech2ndSEM/CS689ComputationalLinguistic/FinalAssign2/IndicNER/results/Que2/NER_Results/Automatic_results/train_results.json', 'w') as outfile:\n",
        "    json.dump(train_results, outfile, indent=4)"
      ]
    },
    {
      "cell_type": "markdown",
      "metadata": {
        "id": "3bdpNajsfaH1"
      },
      "source": [
        "##### Method2 : Its is also another method to get performance parameters but I didn't executed this because of my low computational resources\n",
        "  (I tried with smaller dataset and it worked correctly. But for  naampadam dataset it was taking too much time )"
      ]
    },
    {
      "cell_type": "markdown",
      "metadata": {
        "id": "m1lF3VkGfeaV"
      },
      "source": [
        "###### On test data"
      ]
    },
    {
      "cell_type": "code",
      "execution_count": 29,
      "metadata": {
        "id": "uZMTySB-wAs1"
      },
      "outputs": [],
      "source": [
        "# test_sentences=marathi_dataset[\"test\"][\"tokens\"]\n",
        "# correct_test_labels=marathi_dataset[\"test\"][\"ner_tags\"]\n",
        "# correct_test_labels = [[index_to_label[index] for index in sublist] for sublist in correct_test_labels] #as dataset has label ids not actual labels. Hence changing ner_ids to ner_tags"
      ]
    },
    {
      "cell_type": "code",
      "execution_count": 30,
      "metadata": {
        "id": "P5qwmIX7JfKk"
      },
      "outputs": [],
      "source": [
        "# test_predicted_labels,test_unequal_length_indices=get_prections_on_sentences(test_sentences,correct_test_labels)"
      ]
    },
    {
      "cell_type": "code",
      "execution_count": 31,
      "metadata": {
        "id": "uyZw1DTRfjdf"
      },
      "outputs": [],
      "source": [
        "# #Handling the sentences which have uneuqal length of labels for correct label and predicted labels\n",
        "# test_predicted_labels = [element for index, element in enumerate(test_predicted_labels) if index not in test_unequal_length_indices]\n",
        "# correct_test_labels = [element for index, element in enumerate(correct_test_labels) if index not in test_unequal_length_indices]\n",
        "# len(test_predicted_labels)"
      ]
    },
    {
      "cell_type": "code",
      "source": [],
      "metadata": {
        "id": "5VRUev04pAJu"
      },
      "execution_count": null,
      "outputs": []
    },
    {
      "cell_type": "code",
      "execution_count": 32,
      "metadata": {
        "id": "btxt9vPVfjge"
      },
      "outputs": [],
      "source": [
        "# classwise_precision, classwise_recall, classwise_f1_score=Calculate_performance(correct_test_labels,test_predicted_labels)\n",
        "# precision = np.mean(classwise_precision)\n",
        "# recall = np.mean(classwise_recall)\n",
        "# labels=['O','B-PER', 'I-PER', 'B-ORG', 'I-ORG','B-LOC', 'I-LOC']\n",
        "# print(\"class_labels: \",labels)\n",
        "# # print(\"\\nclasswise_precision: \",classwise_precision)\n",
        "# # print(\"\\nclasswise_recall: \",classwise_recall)\n",
        "# print(\"\\nclasswise_f1_score: \",classwise_f1_score)\n",
        "# macro_f1_score=np.mean(classwise_f1_score)\n",
        "# print(\"\\nmacro_f1_score: \",macro_f1_score)\n",
        "# print(\"precision: \",precision)\n",
        "# print(\"recall: \",recall)"
      ]
    },
    {
      "cell_type": "code",
      "source": [
        "# test_results= {\n",
        "#     \"class_labels\": labels,\n",
        "#     \"classwise_f1_score\": classwise_f1_score.tolist(),\n",
        "#     \"macro_f1_score\": macro_f1_score,\n",
        "#     \"recall\": recall,\n",
        "#     \"precision\": precision\n",
        "# }\n",
        "# os.makedirs('/content/drive/MyDrive/Mtech2ndSEM/CS689ComputationalLinguistic/FinalAssign2/IndicNER/results/Que2/NER_Results/manual_results/', exist_ok=True)\n",
        "# with open('/content/drive/MyDrive/Mtech2ndSEM/CS689ComputationalLinguistic/FinalAssign2/IndicNER/results/Que2/NER_Results/manual_results/test_results.json', 'w') as outfile:\n",
        "#     json.dump(test_results, outfile, indent=4)"
      ],
      "metadata": {
        "id": "ZYRMYjOBdA43"
      },
      "execution_count": 33,
      "outputs": []
    },
    {
      "cell_type": "markdown",
      "metadata": {
        "id": "QV4V1uYCf1it"
      },
      "source": [
        "###### On validation Data"
      ]
    },
    {
      "cell_type": "code",
      "execution_count": 34,
      "metadata": {
        "id": "FJvxihu0f0LU"
      },
      "outputs": [],
      "source": [
        "# validation_sentences=marathi_dataset[\"validation\"][\"tokens\"]\n",
        "# correct_val_labels=marathi_dataset[\"validation\"][\"ner_tags\"]\n",
        "# correct_val_labels = [[index_to_label[index] for index in sublist] for sublist in correct_val_labels] #as dataset has label ids not actual labels. Hence changing ner_ids to ner_tags"
      ]
    },
    {
      "cell_type": "code",
      "execution_count": 35,
      "metadata": {
        "id": "Zc9YFSgHf0N2"
      },
      "outputs": [],
      "source": [
        "# val_predicted_labels,val_unequal_length_indices=get_prections_on_sentences(validation_sentences,correct_val_labels)"
      ]
    },
    {
      "cell_type": "code",
      "execution_count": 36,
      "metadata": {
        "id": "uOMOc1Omf0Q6"
      },
      "outputs": [],
      "source": [
        "# #Handling the sentences which have uneuqal length of labels for correct label and predicted labels\n",
        "# val_predicted_labels = [element for index, element in enumerate(val_predicted_labels) if index not in val_unequal_length_indices]\n",
        "# correct_val_labels = [element for index, element in enumerate(correct_val_labels) if index not in val_unequal_length_indices]\n",
        "# len(val_predicted_labels)"
      ]
    },
    {
      "cell_type": "code",
      "execution_count": 37,
      "metadata": {
        "id": "yjXMe5xwf0YS"
      },
      "outputs": [],
      "source": [
        "# classwise_precision, classwise_recall, classwise_f1_score=Calculate_performance(correct_val_labels,val_predicted_labels)\n",
        "# precision = np.mean(classwise_precision)\n",
        "# recall = np.mean(classwise_recall)\n",
        "# labels=['O','B-PER', 'I-PER', 'B-ORG', 'I-ORG','B-LOC', 'I-LOC']\n",
        "# print(\"class_labels: \",labels)\n",
        "# # print(\"\\nclasswise_precision: \",classwise_precision)\n",
        "# # print(\"\\nclasswise_recall: \",classwise_recall)\n",
        "# print(\"\\nclasswise_f1_score: \",classwise_f1_score)\n",
        "# macro_f1_score=np.mean(classwise_f1_score)\n",
        "# print(\"\\nmacro_f1_score: \",macro_f1_score)\n",
        "# print(\"precision: \",precision)\n",
        "# print(\"recall: \",recall)"
      ]
    },
    {
      "cell_type": "code",
      "source": [
        "# val_results= {\n",
        "#     \"class_labels\": labels,\n",
        "#     \"classwise_f1_score\": classwise_f1_score.tolist(),\n",
        "#     \"macro_f1_score\": macro_f1_score,\n",
        "#     \"recall\": recall,\n",
        "#     \"precision\": precision\n",
        "# }\n",
        "# os.makedirs('/content/drive/MyDrive/Mtech2ndSEM/CS689ComputationalLinguistic/FinalAssign2/IndicNER/results/Que2/NER_Results/manual_results/', exist_ok=True)\n",
        "# with open('/content/drive/MyDrive/Mtech2ndSEM/CS689ComputationalLinguistic/FinalAssign2/IndicNER/results/Que2/NER_Results/manual_results/val_results.json', 'w') as outfile:\n",
        "#     json.dump(val_results, outfile, indent=4)"
      ],
      "metadata": {
        "id": "g44b6VjZdsR2"
      },
      "execution_count": 38,
      "outputs": []
    },
    {
      "cell_type": "markdown",
      "metadata": {
        "id": "RpfhYco7sf86"
      },
      "source": [
        "###### On train dataset"
      ]
    },
    {
      "cell_type": "code",
      "execution_count": 39,
      "metadata": {
        "id": "nPhXd4HqfjqS"
      },
      "outputs": [],
      "source": [
        "# train_sentences=marathi_dataset[\"train\"][\"tokens\"]\n",
        "# correct_train_labels=marathi_dataset[\"train\"][\"ner_tags\"]\n",
        "# correct_train_labels = [[index_to_label[index] for index in sublist] for sublist in correct_train_labels]"
      ]
    },
    {
      "cell_type": "code",
      "execution_count": 40,
      "metadata": {
        "id": "y85MHYwesfJ8"
      },
      "outputs": [],
      "source": [
        "# train_predicted_labels,train_unequal_length_indices=get_prections_on_sentences(train_sentences,correct_train_labels)"
      ]
    },
    {
      "cell_type": "code",
      "execution_count": 41,
      "metadata": {
        "id": "LfP3AlD0sfLh"
      },
      "outputs": [],
      "source": [
        "# #Handling the sentences which have uneuqal length of labels for correct label and predicted labels\n",
        "# train_predicted_labels = [element for index, element in enumerate(train_predicted_labels) if index not in train_unequal_length_indices]\n",
        "# correct_train_labels = [element for index, element in enumerate(correct_train_labels) if index not in train_unequal_length_indices]\n",
        "# len(train_predicted_labels)"
      ]
    },
    {
      "cell_type": "code",
      "execution_count": 42,
      "metadata": {
        "id": "36QlXnI_s-rQ"
      },
      "outputs": [],
      "source": [
        "# classwise_precision, classwise_recall, classwise_f1_score=Calculate_performance(correct_train_labels,train_predicted_labels)\n",
        "# precision = np.mean(classwise_precision)\n",
        "# recall = np.mean(classwise_recall)\n",
        "# labels=['O','B-PER', 'I-PER', 'B-ORG', 'I-ORG','B-LOC', 'I-LOC']\n",
        "# print(\"class_labels: \",labels)\n",
        "# # print(\"\\nclasswise_precision: \",classwise_precision)\n",
        "# # print(\"\\nclasswise_recall: \",classwise_recall)\n",
        "# print(\"\\nclasswise_f1_score: \",classwise_f1_score)\n",
        "# macro_f1_score=np.mean(classwise_f1_score)\n",
        "# print(\"\\nmacro_f1_score: \",macro_f1_score)\n",
        "# print(\"precision: \",precision)\n",
        "# print(\"recall: \",recall)"
      ]
    },
    {
      "cell_type": "code",
      "execution_count": 43,
      "metadata": {
        "id": "FVE9hT7Js-uJ"
      },
      "outputs": [],
      "source": [
        "# train_results= {\n",
        "#     \"class_labels\": labels,\n",
        "#     \"classwise_f1_score\": classwise_f1_score.tolist(),\n",
        "#     \"macro_f1_score\": macro_f1_score,\n",
        "#     \"recall\": recall,\n",
        "#     \"precision\": precision\n",
        "# }\n",
        "# os.makedirs('/content/drive/MyDrive/Mtech2ndSEM/CS689ComputationalLinguistic/FinalAssign2/IndicNER/results/Que2/NER_Results/manual_results/', exist_ok=True)\n",
        "# with open('/content/drive/MyDrive/Mtech2ndSEM/CS689ComputationalLinguistic/FinalAssign2/IndicNER/results/Que2/NER_Results/manual_results/train_results.json', 'w') as outfile:\n",
        "#     json.dump(train_results, outfile, indent=4)"
      ]
    },
    {
      "cell_type": "code",
      "execution_count": 43,
      "metadata": {
        "id": "TklIgn91sfPx"
      },
      "outputs": [],
      "source": []
    },
    {
      "cell_type": "code",
      "execution_count": 43,
      "metadata": {
        "id": "etDUuxhysfSh"
      },
      "outputs": [],
      "source": []
    },
    {
      "cell_type": "markdown",
      "metadata": {
        "id": "REq166tbgrX_"
      },
      "source": [
        "###### Just to show prediction output on one of the sentence"
      ]
    },
    {
      "cell_type": "code",
      "execution_count": 60,
      "metadata": {
        "id": "y1DfZhpgMt_-",
        "colab": {
          "base_uri": "https://localhost:8080/"
        },
        "outputId": "0203eb8b-a4fb-478a-e242-99cc7be11d93"
      },
      "outputs": [
        {
          "output_type": "stream",
          "name": "stdout",
          "text": [
            "One of the sentence from test dataset:  ['राष्ट्रवादीचे', 'सर्वेसर्वा', 'व', 'माजी', 'केंद्रीय', 'कृषीमंत्री', 'शरद', 'पवार', 'अखेर', 'आ', '.']\n",
            "['B-ORG', 'O', 'O', 'O', 'O', 'O', 'B-PER', 'I-PER', 'O', 'O', 'O']\n",
            "['B-ORG', 'O', 'O', 'O', 'B-ORG', 'O', 'B-PER', 'I-PER', 'O', 'O', 'O']\n"
          ]
        }
      ],
      "source": [
        "test_sentences=marathi_dataset[\"test\"][\"tokens\"][0:10]\n",
        "correct_test_labels=marathi_dataset[\"test\"][\"ner_tags\"][0:10]\n",
        "correct_test_labels = [[index_to_label[index] for index in sublist] for sublist in correct_test_labels] #as dataset has label ids not actual labels. Hence changing ner_ids to ner_tags\n",
        "test_predicted_labels,test_unequal_length_indices=get_prections_on_sentences(test_sentences,correct_test_labels)\n",
        "#Handling the sentences which have uneuqal length of labels for correct label and predicted labels\n",
        "test_predicted_labels = [element for index, element in enumerate(test_predicted_labels) if index not in test_unequal_length_indices]\n",
        "correct_test_labels = [element for index, element in enumerate(correct_test_labels) if index not in test_unequal_length_indices]\n",
        "len(test_predicted_labels)\n",
        "print(\"One of the sentence from test dataset: \",test_dataset[2]['tokens'])\n",
        "print(test_predicted_labels[2])\n",
        "print(correct_test_labels[2])\n"
      ]
    },
    {
      "cell_type": "markdown",
      "metadata": {
        "id": "SS7nAPztoj50"
      },
      "source": [
        "## If want to predict in any random sentence, then execute below lines"
      ]
    },
    {
      "cell_type": "code",
      "execution_count": 15,
      "metadata": {
        "id": "pKoWRHSdzS9A"
      },
      "outputs": [],
      "source": [
        "#This is the function to get predictions on random sentence\n",
        "def get_predictions( sentence, tokenizer, model ):\n",
        "  tok_sentence = tokenizer(sentence, return_tensors='pt')   #performing tokenization on the sentence\n",
        "\n",
        "  with torch.no_grad():\n",
        "    logits = model(**tok_sentence).logits.argmax(-1)  #I am sending the tokenized sentence to the model to get predictions\n",
        "    predicted_tokens_classes = [model.config.id2label[t.item()] for t in logits[0]] #mapping the maximum predicted class id with the class label\n",
        "\n",
        "    predicted_labels = []\n",
        "\n",
        "    previous_token_id = 0\n",
        "\n",
        "    #As we need to assign the named entity label to the head word(i.e. Actual word) and not its sub-words. Below code does this this thing\n",
        "    word_ids = tok_sentence.word_ids()\n",
        "    for word_index in range(len(word_ids)):\n",
        "        if word_ids[word_index] == None:\n",
        "            previous_token_id = word_ids[word_index]\n",
        "        elif word_ids[word_index] == previous_token_id:\n",
        "            previous_token_id = word_ids[word_index]\n",
        "        else:\n",
        "            predicted_labels.append( predicted_tokens_classes[ word_index ] )\n",
        "            previous_token_id = word_ids[word_index]\n",
        "\n",
        "    return predicted_labels"
      ]
    },
    {
      "cell_type": "code",
      "execution_count": 16,
      "metadata": {
        "id": "GJGAlpDueUfz"
      },
      "outputs": [],
      "source": [
        "punctuation_marks = ['.', ',', '?', '!', ';', ':', '-', '(', ')', '[', ']',\n",
        "                     '{', '}', '...', '\"', \"'\", '/', '\\\\', '&', '%', '$',\n",
        "                     '#', '@', '*', '+', '=', '<', '>', '~','’','‘']\n",
        "def split_sentence(sentence):       #splitting the sentence in words. Also making sure all punctuation marks are seperate elements because out tokenizer is doing such way while predicting tokens\n",
        "    words = []\n",
        "    current_word = ''\n",
        "    for char in sentence:\n",
        "        if((char not in punctuation_marks) and char != \" \"):\n",
        "            current_word += char\n",
        "        else:\n",
        "            if current_word:\n",
        "                words.append(current_word)\n",
        "                current_word = ''\n",
        "            words.append(char)\n",
        "    if current_word:\n",
        "        words.append(current_word)\n",
        "    return words"
      ]
    },
    {
      "cell_type": "code",
      "execution_count": 16,
      "metadata": {
        "id": "OGQ3T0xXjgT_"
      },
      "outputs": [],
      "source": []
    },
    {
      "cell_type": "markdown",
      "metadata": {
        "id": "oQb9JOxGjg5r"
      },
      "source": [
        "###### If want to see prediction on any single sentence then execute below cell"
      ]
    },
    {
      "cell_type": "code",
      "execution_count": 17,
      "metadata": {
        "id": "IvYoiizJjo3F",
        "colab": {
          "base_uri": "https://localhost:8080/"
        },
        "outputId": "fa9d1f27-aae7-4506-e19c-15fe60caed8c"
      },
      "outputs": [
        {
          "output_type": "stream",
          "name": "stdout",
          "text": [
            "यावर्षी\tO\n",
            "'\tO\n",
            "गुरू\tB-PER\n",
            "'\tO\n",
            "चित्रपटामुळे\tO\n",
            "तिला\tO\n",
            "यश\tO\n",
            "मिळाले\tO\n",
            "तर\tO\n",
            "प्रोव्होक्ड\tO\n",
            "'\tO\n",
            "मुळे\tO\n",
            "तिच्या\tO\n",
            "अभिनयाची\tO\n",
            "प्रशंसा\tO\n",
            "झाली\tO\n",
            ".\tO\n"
          ]
        }
      ],
      "source": [
        "sentence = ' '.join(['यावर्षी', \"'\", 'गुरू', \"'\", 'चित्रपटामुळे', 'तिला', 'यश', 'मिळाले', 'तर', 'प्रोव्होक्ड', \"'\", 'मुळे', 'तिच्या', 'अभिनयाची', 'प्रशंसा', 'झाली', '.'])\n",
        "# sentence = ' '.join(['कार्यकर्त्यांमधील', 'वाद', 'बघून', 'संतापलेल्या', 'सुप्रिया', 'सुळे', 'यांनी', 'कार्यक्रमामध्येच', 'राडेबाज', 'कार्यकर्त्यांना', 'दम', 'दिला', '.'])\n",
        "predicted_labels = get_predictions(sentence=sentence,\n",
        "                                   tokenizer=tokenizer,\n",
        "                                   model=model\n",
        "                                   )\n",
        "words_list = split_sentence(sentence)\n",
        "filtered_list = [s.strip() for s in words_list if s.strip() != \"\"]      #removing all whitespace characters from it\n",
        "# print(len(filtered_list))\n",
        "# print(len(predicted_labels))\n",
        "for index in range(len(filtered_list)):\n",
        "  print( filtered_list[index] + '\\t' + predicted_labels[index] )"
      ]
    },
    {
      "cell_type": "markdown",
      "metadata": {
        "id": "WhI-i8Sxkdvd"
      },
      "source": [
        "## Solution for Question4"
      ]
    },
    {
      "cell_type": "code",
      "execution_count": 18,
      "metadata": {
        "id": "sZrRYRVhWmnb"
      },
      "outputs": [],
      "source": [
        "# both true_outputs and predicted_outputs are list of list. i.e. first element of true_outputs will be a list of true_labels for first sentence. similarly for predicted_outputs\n",
        "from sklearn.metrics import precision_recall_fscore_support\n",
        "def Calculate_performance(true_outputs,predicted_outputs):      #function to calculate classwise precision, recall, f1_score\n",
        "\n",
        "  # Flatten the lists for calculation\n",
        "  flat_true_labels = [label for sublist in true_outputs for label in sublist]\n",
        "  flat_predicted_labels = [label for sublist in predicted_outputs for label in sublist]\n",
        "\n",
        "  # Calculate precision, recall, and F1-score\n",
        "  classwise_precision, classwise_recall, classwise_f1_score, _ = precision_recall_fscore_support(flat_true_labels, flat_predicted_labels, average=None, labels=['O','B-PER', 'I-PER', 'B-ORG', 'I-ORG','B-LOC', 'I-LOC', 'B-MISC', 'I-MISC'],zero_division=1)\n",
        "  return (classwise_precision,classwise_recall,classwise_f1_score)"
      ]
    },
    {
      "cell_type": "code",
      "execution_count": 19,
      "metadata": {
        "id": "zN1Zt8iBWuNl"
      },
      "outputs": [],
      "source": [
        "def get_prections_on_sentences(all_sentences,all_correct_labels):       #Function to get prediction on sentences. here sentences is a list of list.\n",
        "  for i in range(len(all_sentences)):\n",
        "    if(len(all_sentences[i])!=len(all_correct_labels[i])):\n",
        "      print(\"Unequal lengths of sentence and labels at index i=\",i,\" and Lengths are \",len(all_sentences[i]),\", \",len(all_correct_labels[i]))\n",
        "  all_predicted_labels=[]                           #this list will be returned from function\n",
        "  unequal_length_labels_indices=[]\n",
        "  for i in range(len(all_sentences)):\n",
        "    sentence= ' '.join(all_sentences[i])\n",
        "    predicted_labels = get_predictions(sentence=sentence,\n",
        "                                    tokenizer=tokenizer,\n",
        "                                    model=model\n",
        "                                    )\n",
        "    if(len(predicted_labels) != len(all_correct_labels[i])):      #if predicted label length is not equal to actual_label length then there is a problem\n",
        "      #print(i,predicted_labels, all_correct_labels[i])\n",
        "      unequal_length_labels_indices.append(i)                             #storing the index of that sentence,so that it won't be a problem while predicting.\n",
        "    all_predicted_labels.append(predicted_labels)\n",
        "  return (all_predicted_labels,unequal_length_labels_indices)\n",
        "\n"
      ]
    },
    {
      "cell_type": "code",
      "execution_count": 20,
      "metadata": {
        "id": "XrF9TaLWC1-_"
      },
      "outputs": [],
      "source": [
        "\n",
        "sentences25= [\n",
        "                ['मला', 'तर', 'हे', 'आताच', 'समजतेय', ',', 'असं', 'म्हणून', 'तिने', 'या', 'चर्चापासून', 'लांबच', 'राहण्याचा', 'प्रयत्न', 'केला', '.'],\n",
        "                ['धातू', 'काठी', 'आणि', 'लॉक', 'आपण', 'कव्हर', 'बंद', 'करण्यास', 'अनुमती', 'देते'],\n",
        "                ['श्रीराम', 'लागू', '-', 'मराठी', 'रंगभूमीचे', 'अनभिषिक्त', 'सम्राट', ',', 'चतुरस्र', 'अभिनेते', ',', 'परखड', '.', '.', '30', 'डिसेंबरला', 'होणाऱ्या', 'शपथविधी', 'सोहळ्याची', 'विधानभवनात', 'जोरदार', 'तयारी', 'सुरू'],\n",
        "                ['यावर्षी', \"'\", 'गुरू', \"'\", 'चित्रपटामुळे', 'तिला', 'यश', 'मिळाले', 'तर', 'प्रोव्होक्ड', \"'\", 'मुळे', 'तिच्या', 'अभिनयाची', 'प्रशंसा', 'झाली', '.'],\n",
        "                ['कार्यकर्त्यांमधील', 'वाद', 'बघून', 'संतापलेल्या', 'सुप्रिया', 'सुळे', 'यांनी', 'कार्यक्रमामध्येच', 'राडेबाज', 'कार्यकर्त्यांना', 'दम', 'दिला', '.'],\n",
        "                ['‘', 'माइन', 'काम्फ', '’', 'मध्ये', 'हिटलर', 'सांगतो', '.', '.', 'हे', 'एक', 'स्वयंप्रकाशी', 'सत्य', 'आहे', ',', 'की', 'महाअसत्यामध्ये', 'नेहमीच', 'एक', 'जोरकस', 'विश्वासार्हता', 'असते', '.'],\n",
        "                ['धानोरी', 'येथील', 'बाबूराव', 'टिंगरे', 'शाळेतील', 'ईव्हीएम', 'मशीनमध्ये', '.', '.', '.', 'पावसाची', 'विश्रांती', ';', 'मात्र', 'मतदाराचा', 'प्रतिसाद', 'कमी'],\n",
        "                ['भारतीय', 'रेल्वेच्या', '166', 'वर्षांच्या', 'प्रदीर्घ', 'इतिहासामध्ये', 'यंदा', 'कोणत्याही', '.', '.', '.', 'कॅगचा', 'अहवालाचा', 'सुलभ', 'भाषेत', 'अर्थ', 'आहे', ',', 'रेल्वे', '98', 'रुपये', '44', 'पैसे', 'लावून', 'केवळ', '100', 'रुपये', 'कमावत', 'आहे'],\n",
        "                ['बॅग', 'दागिन्यांसह', 'पुन्हा', 'मिळाल्याने', 'चौहान', 'कुटुंबीयांस', 'मकरसंक्रातीच्या', 'दिवशी', 'सुखद', 'गोड', 'धक्का', 'बसला', 'आहे', '.'],\n",
        "                ['दरम्यान', ',', 'याविषयी', 'मुकुंदवाडी', 'पोलिस', 'ठाण्यात', 'बसचालकाविरोधात', 'गुन्हा', 'नोंदविण्यात', 'आला', 'आहे', '.'],\n",
        "                ['श्रींची', 'पालखी', 'शेगावात', 'दाखल', ';', 'खामगाव', 'ते', 'शेगाव', 'रस्ता', 'भक्तांच्या', 'गर्दीने', 'फुलला'],\n",
        "                ['चंदगड', 'विधानसभा', 'मतदारसंघातून', 'त्यांनी', 'लढावे', ',', 'अशी', 'तेथील', 'भाजपा', 'नेत्यांची', 'इच्छा', 'आहे', '.'],\n",
        "                ['त्यामुळे', 'पश्चिम', 'रेल्वेवरील', 'लोकसेवा', '१०', 'ते', '१५', 'मिनिटं', 'उशिराने', 'धावतील', '.'],\n",
        "                ['मात्र', ',', 'प्रत्यक्षात', 'हवामान', 'बदल', 'असो', 'की', ',', 'जागतिक', 'शांततेचा', 'विषय', 'असो', 'अमेरिका', 'आणि', 'इतर', 'विकसित', 'देश', 'विकसनशील', 'देशांवर', 'आपली', 'मते', 'लादताना', 'दिसतात', '.'],\n",
        "                ['नेपाळच्या', 'सौनाली', 'जवळील', 'पडासरी', 'भागातील', 'एका', 'कारखान्यात', 'झालेल्या', 'प्रचंड', 'स्फोटांच्या', 'झळा', 'भारतीय', 'सीमेपर्यंतही', 'पोहोचल्या', 'असून', 'या', 'भागात', 'सीमा', 'सुरक्षा', 'दलाची', 'गस्त', 'वाढविली', 'गेली', 'आहे', '.'],\n",
        "                ['लोकसभा', 'निवडणुकीपूर्वी', 'राम', 'मंदिर', 'बांधणारच', 'असं', 'सांगत', 'मतं', 'मिळवणारं', 'मोदी', 'सरकार', 'आता', 'मंदिर', 'केव्हा', 'बांधणार', 'हे', 'सांगायलाच', 'तयार', 'नाहीये', '.'],\n",
        "                ['जेव्हा', 'उदयनराजे', 'गाणं', 'गातात', '.', '.', '.', 'साताऱ्यामध्ये', 'आज', 'उत्कृष्ट', 'पत्रकार', 'सन्मान', 'पुरस्काराच्या', 'कार्यक्रमात', 'खासदार', 'उदयनराजे', 'यांनी', 'गाणं', 'म्हटल्यानं', 'अनेकांना', 'आश्चर्याचा', 'धक्का', 'बसला', '.'],\n",
        "                ['माजी', 'जागतिक', 'उपविजेता', 'मुंबईचा', 'दुसरा', 'मानांकित', 'मोहम्मद', 'गुफरानने', 'मुबंइ', 'उपनगरच्या', 'इश्तियाक', 'अन्सारीचे', '25-6', ',', '25-8', 'असे', 'आव्हान', 'परतवून', 'लावले', '.'],\n",
        "                ['हा', 'प्रकल्प', 'साकारताना', 'समुद्रात', 'टाकण्यात', 'येणार्‍या', 'भरावामुळे', 'भरतीच्या', 'वेळी', 'राहत्या', 'घराचा', 'प्रश्नसुद्धा', 'उभा', 'राहणारा', 'आहे', '.'],\n",
        "                ['काँग्रेस', '३१', 'जागा', 'मिळवून', 'तिस-या', 'क्रमांकावर', ',', 'तर', 'राष्ट्रवादी', 'काँग्रेसला', 'दोन', 'आकडी', 'संख्याही', 'गाठता', 'आली', 'नाही', '.'],\n",
        "                ['यामध्ये', 'करणवीर', 'बोहरा', ',', 'दीपिका', 'कक्कर', ',', 'श्रीशांत', 'या', 'सेलिब्रेटींचा', 'समावेश', 'आहे', '.'],\n",
        "                ['गेले', 'महिनाभर', 'लग्नाचा', 'प्रचार', 'केला', 'आणि', 'महा', '(', 'ग', ')', 'एपिसोडच्या', 'नावाखाली', 'डोंगर', 'पोखरुन', 'उंदीर', 'काढला', '.'],\n",
        "                ['कार्यक्रम', 'सर्वांना', 'खुला', 'असून', ',', 'रसिकांनी', 'उपस्थित', 'रहावे', 'असे', 'आवाहन', 'लोकमान्य', 'ग्रंथालयाने', 'केले', 'आहे', '.'],\n",
        "                ['वसई', 'विरार', 'शहर', 'महानगरपालिकेच्या', 'महापौर', 'प्रविणा', 'ठाकूर', 'यांनी', 'पत्रकार', 'परिषदेत', 'स्पर्धेच्या', 'सातव्या', 'पर्वाची', 'घोषणा', 'केली', '.'],\n",
        "                ['अर्थात', 'यात', 'काही', 'चांगल्या', 'आणि', 'व्हिडिओला', 'पाठिंबा', 'देणाऱ्या', 'कमेंटही', 'होत्या', '.']\n",
        "\n",
        "\n",
        "\n",
        "        ]\n",
        "\n",
        "sentences25_correct_labels=[\n",
        "    ['O', 'O', 'O', 'O', 'O', 'O', 'O', 'O', 'O', 'O', 'O', 'O', 'O', 'O', 'O', 'O'],\n",
        "    ['O', 'O', 'O', 'O', 'O', 'O', 'O', 'O', 'O', 'O'],\n",
        "    ['B-PER', 'I-PER', 'O', 'B-ORG', 'I-ORG', 'O', 'O', 'O', 'O', 'O', 'O', 'O', 'O', 'O','B-MISC', 'I-MISC', 'O', 'O', 'O', 'B-LOC', 'O', 'O', 'O' ],\n",
        "    ['O', 'O', 'B-MISC', 'O', 'O', 'O', 'O', 'O', 'O', 'B-MISC', 'O', 'O', 'O', 'O', 'O', 'O','O'],\n",
        "    ['O', 'O', 'O', 'O', 'B-PER', 'I-PER', 'O', 'O', 'O', 'O', 'O', 'O', 'O'],\n",
        "    ['O', 'B-MISC', 'I-MISC', 'O', 'O', 'B-PER', 'O', 'O', 'O', 'O', 'O', 'O', 'O', 'O', 'O', 'O', 'O', 'O', 'O', 'O', 'O', 'O', 'O'],\n",
        "    ['B-LOC', 'O', 'B-LOC', 'I-LOC', 'I-LOC', 'O', 'O', 'O', 'O', 'O', 'O', 'O', 'O', 'O', 'O', 'O', 'O'],\n",
        "    ['B-ORG', 'I-ORG', 'O', 'O', 'O', 'O', 'O', 'O', 'O', 'O', 'O', 'B-ORG', 'O', 'O', 'O', 'O', 'O', 'O', 'O', 'O', 'O', 'O', 'O', 'O', 'O', 'O', 'O', 'O', 'O'],\n",
        "    ['O', 'O', 'O', 'O', 'B-PER', 'O', 'B-MISC', 'O', 'O', 'O', 'O', 'O', 'O', 'O'],\n",
        "    ['O', 'O', 'O', 'B-LOC', 'I-LOC', 'I-LOC', 'O', 'O', 'O', 'O', 'O', 'O'],\n",
        "    ['B-PER', 'O', 'B-LOC', 'O', 'O', 'B-LOC', 'O', 'B-LOC', 'O', 'O', 'O', 'O'],\n",
        "    ['B-LOC', 'I-LOC', 'I-LOC', 'O', 'O', 'O', 'O', 'O', 'B-ORG', 'O', 'O', 'O', 'O'],\n",
        "    ['O', 'B-ORG', 'I-ORG', 'O', 'O', 'O', 'O', 'O', 'O', 'O', 'O'],\n",
        "    ['O', 'O', 'O', 'O', 'O', 'O', 'O', 'O', 'O', 'O', 'O', 'O', 'B-LOC', 'O', 'O', 'O', 'O', 'O', 'O', 'O', 'O', 'O', 'O', 'O'],\n",
        "    ['B-LOC', 'I-LOC', 'O', 'B-LOC', 'O', 'O', 'O', 'O', 'O', 'O', 'O', 'B-LOC', 'O', 'O', 'O', 'O','O', 'B-ORG', 'I-ORG', 'I-ORG', 'O', 'O', 'O', 'O', 'O'],\n",
        "    ['O', 'O', 'B-MISC', 'I-MISC', 'O', 'O', 'O', 'O', 'O', 'B-ORG', 'I-ORG', 'O', 'O', 'O', 'O', 'O', 'O', 'O', 'O', 'O'],\n",
        "    ['O', 'B-PER', 'O', 'O', 'O', 'O', 'O', 'B-LOC', 'O', 'O', 'O', 'O', 'O', 'O', 'O', 'B-PER', 'O', 'O', 'O', 'O', 'O', 'O', 'O', 'O'],\n",
        "    ['O', 'O', 'O', 'B-LOC', 'O', 'O', 'B-PER', 'I-PER', 'B-LOC', 'I-LOC', 'B-PER', 'I-PER', 'O', 'O', 'O', 'O', 'O', 'O', 'O', 'O'],\n",
        "    ['O', 'O', 'O', 'O', 'O', 'O', 'O', 'O', 'O', 'O', 'O', 'O', 'O', 'O', 'O', 'O'],\n",
        "    ['B-ORG', 'O', 'O', 'O', 'O', 'O', 'O', 'O', 'B-ORG', 'I-ORG', 'O', 'O', 'O', 'O', 'O', 'O', 'O'],\n",
        "    ['O', 'B-PER', 'I-PER', 'O', 'B-PER', 'I-PER', 'O', 'B-PER', 'O', 'O', 'O', 'O', 'O'],\n",
        "    ['O', 'O', 'O', 'O', 'O', 'O', 'O', 'O', 'O', 'O', 'O', 'O', 'O', 'O', 'O', 'O','O'],\n",
        "    ['O', 'O', 'O', 'O', 'O', 'O', 'O', 'O', 'O', 'O', 'B-ORG', 'I-ORG', 'O', 'O', 'O'],\n",
        "    ['B-ORG', 'I-ORG', 'I-ORG', 'I-ORG', 'O', 'B-PER', 'I-PER', 'O', 'O', 'O', 'O', 'O', 'O', 'O', 'O','O'],\n",
        "    ['O', 'O', 'O', 'O', 'O', 'O', 'O', 'O', 'O', 'O', 'O']\n",
        "]\n"
      ]
    },
    {
      "cell_type": "code",
      "execution_count": 20,
      "metadata": {
        "id": "2xX7ohnGBphP"
      },
      "outputs": [],
      "source": []
    },
    {
      "cell_type": "markdown",
      "metadata": {
        "id": "pYHddEkFGxyd"
      },
      "source": [
        "###### Calculating performance of predictions of model by considering manually solved labels from que 1 as truth labels"
      ]
    },
    {
      "cell_type": "code",
      "execution_count": 20,
      "metadata": {
        "id": "uMO5mVBhGv84"
      },
      "outputs": [],
      "source": []
    },
    {
      "cell_type": "code",
      "execution_count": 61,
      "metadata": {
        "id": "Xl_deKblnso4"
      },
      "outputs": [],
      "source": [
        "sentences25_predicted_labels,unequal_length_indices=get_prections_on_sentences(sentences25,sentences25_correct_labels)"
      ]
    },
    {
      "cell_type": "code",
      "execution_count": 22,
      "metadata": {
        "id": "DKCiOIaWDasT"
      },
      "outputs": [],
      "source": [
        "#Handling the sentences which have uneuqal length of labels for correct label and predicted labels\n",
        "sentences25_predicted_labels = [element for index, element in enumerate(sentences25_predicted_labels) if index not in unequal_length_indices]\n",
        "sentences25_correct_labels = [element for index, element in enumerate(sentences25_correct_labels) if index not in unequal_length_indices]\n",
        "#len(sentences25_predicted_labels)\n"
      ]
    },
    {
      "cell_type": "code",
      "execution_count": 23,
      "metadata": {
        "id": "AnE83yFzp3IX",
        "colab": {
          "base_uri": "https://localhost:8080/"
        },
        "outputId": "bce0f62e-6b20-4e87-ea88-5ec4e8a47264"
      },
      "outputs": [
        {
          "output_type": "stream",
          "name": "stdout",
          "text": [
            "class_labels:  ['O', 'B-PER', 'I-PER', 'B-ORG', 'I-ORG', 'B-LOC', 'I-LOC', 'B-MISC', 'I-MISC']\n",
            "\n",
            "classwise_f1_score:  [0.96449704 0.75       0.90909091 0.66666667 0.57142857 0.76923077\n",
            " 0.         0.         0.        ]\n",
            "\n",
            "macro_f1_score:  0.5145459953152262\n",
            "precision:  0.8958113943787297\n",
            "recall:  0.5044344487769564\n"
          ]
        }
      ],
      "source": [
        "classwise_precision, classwise_recall, classwise_f1_score=Calculate_performance(sentences25_correct_labels,sentences25_predicted_labels)\n",
        "precision = np.mean(classwise_precision)\n",
        "recall = np.mean(classwise_recall)\n",
        "labels=['O','B-PER', 'I-PER', 'B-ORG', 'I-ORG','B-LOC', 'I-LOC', 'B-MISC', 'I-MISC']\n",
        "print(\"class_labels: \",labels)\n",
        "# print(\"\\nclasswise_precision: \",classwise_precision)\n",
        "# print(\"\\nclasswise_recall: \",classwise_recall)\n",
        "print(\"\\nclasswise_f1_score: \",classwise_f1_score)\n",
        "macro_f1_score=np.mean(classwise_f1_score)\n",
        "print(\"\\nmacro_f1_score: \",macro_f1_score)\n",
        "print(\"precision: \",precision)\n",
        "print(\"recall: \",recall)"
      ]
    },
    {
      "cell_type": "code",
      "source": [
        "sentences25_predicted_results= {\n",
        "    \"class_labels\": labels,\n",
        "    \"classwise_f1_score\": classwise_f1_score.tolist(),\n",
        "    \"macro_f1_score\": macro_f1_score,\n",
        "    \"recall\": recall,\n",
        "    \"precision\": precision\n",
        "}\n",
        "os.makedirs('/content/drive/MyDrive/Mtech2ndSEM/CS689ComputationalLinguistic/FinalAssign2/IndicNER/results/Que4/indicNER/', exist_ok=True)\n",
        "with open('/content/drive/MyDrive/Mtech2ndSEM/CS689ComputationalLinguistic/FinalAssign2/IndicNER/results/Que4/indicNER/sentences25_predicted_results.json', 'w') as outfile:\n",
        "    json.dump(sentences25_predicted_results, outfile, indent=4)"
      ],
      "metadata": {
        "id": "RtQu9sI_ewIW"
      },
      "execution_count": 24,
      "outputs": []
    },
    {
      "cell_type": "code",
      "source": [],
      "metadata": {
        "id": "-ghKTk2UewY0"
      },
      "execution_count": 24,
      "outputs": []
    },
    {
      "cell_type": "markdown",
      "metadata": {
        "id": "77NGhPGPHVzd"
      },
      "source": [
        "###### Calculating performance of chatgpt by considering manually solved labels from que 1 as truth labels"
      ]
    },
    {
      "cell_type": "code",
      "execution_count": 25,
      "metadata": {
        "id": "UjnwUBMzEUsy"
      },
      "outputs": [],
      "source": [
        "sentences25_chatgpt_labels=[\n",
        "    ['O', 'O', 'O', 'O', 'O', 'O', 'O', 'O', 'O', 'O', 'O', 'O', 'O', 'O', 'O', 'O'],\n",
        "    ['B-MISC', 'I-MISC', 'O', 'O', 'O', 'O', 'O', 'O', 'O', 'O'],\n",
        "    ['B-PER', 'I-PER', 'O', 'O', 'O', 'O', 'O', 'O', 'O', 'O', 'O', 'O', 'O', 'O', 'O', 'O', 'O', 'O', 'O', 'O', 'O', 'O', 'O'],\n",
        "    ['O', 'O', 'O', 'O', 'O', 'O', 'O', 'O', 'O', 'O', 'O', 'O', 'O', 'O', 'O', 'O', 'O'],\n",
        "    ['O', 'O', 'O', 'O', 'B-PER', 'I-PER', 'O', 'O', 'O', 'O', 'O', 'O', 'O'],\n",
        "    ['O', 'O', 'O', 'O', 'O', 'B-PER', 'O', 'O', 'O', 'O', 'O', 'O', 'O', 'O', 'O', 'O', 'O', 'O', 'O', 'O', 'O', 'O', 'O'],\n",
        "    ['O', 'O', 'B-PER', 'I-PER', 'O', 'O', 'O', 'O', 'O', 'O', 'O', 'O', 'O', 'O', 'O', 'O', 'O'],\n",
        "    ['O', 'O', 'O', 'O', 'O', 'O', 'O', 'O', 'O', 'O', 'O', 'O', 'O', 'O', 'O', 'O', 'O', 'O', 'O', 'O', 'O', 'O', 'O', 'O', 'O', 'O', 'O', 'O', 'O'],\n",
        "    ['O', 'O', 'O', 'O', 'B-PER', 'O', 'O', 'O', 'O', 'O', 'O', 'O', 'O', 'O'],\n",
        "    ['O', 'O', 'O', 'B-PER', 'O', 'O', 'O', 'O', 'O', 'O', 'O', 'O'],\n",
        "    ['O', 'O', 'O', 'O', 'O', 'O', 'O', 'O', 'O', 'O', 'O', 'O'],\n",
        "    ['B-LOC', 'O', 'O', 'O', 'O', 'O', 'O', 'O', 'B-ORG', 'O', 'O', 'O', 'O'],\n",
        "    ['O', 'B-ORG', 'I-ORG', 'O', 'O', 'O', 'O', 'O', 'O', 'O', 'O'],\n",
        "    ['O', 'O', 'O', 'O', 'O', 'O', 'O', 'O', 'O', 'O', 'O', 'O', 'B-LOC', 'O', 'O', 'O', 'O', 'O', 'O', 'O', 'O', 'O', 'O','O'],\n",
        "    ['B-LOC', 'I-LOC', 'O', 'O', 'O', 'O', 'O', 'O', 'O', 'O', 'O', 'O', 'O', 'O', 'O', 'O', 'O', 'O', 'O', 'O', 'O', 'O', 'O', 'O','O'],\n",
        "    ['O', 'O', 'O', 'O', 'O', 'O', 'O', 'O', 'O', 'B-PER', 'O', 'O', 'O', 'O', 'O', 'O', 'O', 'O', 'O','O'],\n",
        "    ['O', 'B-PER', 'O', 'O', 'O', 'O', 'O', 'O', 'O', 'O', 'O', 'O', 'O', 'O', 'O', 'B-PER', 'O', 'O', 'O', 'O', 'O', 'O', 'O','O'],\n",
        "    ['O', 'O', 'O', 'O', 'O', 'O', 'B-PER', 'I-PER', 'O', 'O', 'O', 'O', 'O', 'O', 'O', 'O', 'O', 'O', 'O', 'O'],\n",
        "    ['O', 'O', 'O', 'O', 'O', 'O', 'O', 'O', 'O', 'O', 'O', 'O', 'O', 'O', 'O','O'],\n",
        "    ['B-ORG', 'O', 'O', 'O', 'O', 'O', 'O', 'O', 'B-ORG', 'I-ORG', 'O', 'O', 'O', 'O', 'O', 'O', 'O'],\n",
        "    ['O', 'B-PER', 'I-PER', 'O', 'B-PER', 'I-PER', 'O', 'B-PER', 'I-PER', 'O', 'O', 'O', 'O'],\n",
        "    ['O', 'O', 'O', 'O', 'O', 'O', 'O', 'O', 'O', 'O', 'O', 'O', 'O', 'O', 'O', 'O', 'O'],\n",
        "    ['O', 'O', 'O', 'O', 'O', 'O', 'O', 'O', 'O', 'O', 'B-ORG', 'I-ORG', 'O', 'O', 'O'],\n",
        "    ['B-LOC', 'I-LOC', 'O', 'O', 'O', 'B-PER', 'I-PER', 'O', 'O', 'O', 'O', 'O', 'O', 'O', 'O', 'O'],\n",
        "    ['O', 'O', 'O', 'O', 'O', 'O', 'O', 'O', 'O', 'O', 'O']\n",
        "\n",
        "]\n",
        "sentences25_correct_labels=[\n",
        "    ['O', 'O', 'O', 'O', 'O', 'O', 'O', 'O', 'O', 'O', 'O', 'O', 'O', 'O', 'O', 'O'],\n",
        "    ['O', 'O', 'O', 'O', 'O', 'O', 'O', 'O', 'O', 'O'],\n",
        "    ['B-PER', 'I-PER', 'O', 'B-ORG', 'I-ORG', 'O', 'O', 'O', 'O', 'O', 'O', 'O', 'O', 'O','B-MISC', 'I-MISC', 'O', 'O', 'O', 'B-LOC', 'O', 'O', 'O' ],\n",
        "    ['O', 'O', 'B-MISC', 'O', 'O', 'O', 'O', 'O', 'O', 'B-MISC', 'O', 'O', 'O', 'O', 'O', 'O','O'],\n",
        "    ['O', 'O', 'O', 'O', 'B-PER', 'I-PER', 'O', 'O', 'O', 'O', 'O', 'O', 'O'],\n",
        "    ['O', 'B-MISC', 'I-MISC', 'O', 'O', 'B-PER', 'O', 'O', 'O', 'O', 'O', 'O', 'O', 'O', 'O', 'O', 'O', 'O', 'O', 'O', 'O', 'O', 'O'],\n",
        "    ['B-LOC', 'O', 'B-LOC', 'I-LOC', 'I-LOC', 'O', 'O', 'O', 'O', 'O', 'O', 'O', 'O', 'O', 'O', 'O', 'O'],\n",
        "    ['B-ORG', 'I-ORG', 'O', 'O', 'O', 'O', 'O', 'O', 'O', 'O', 'O', 'B-ORG', 'O', 'O', 'O', 'O', 'O', 'O', 'O', 'O', 'O', 'O', 'O', 'O', 'O', 'O', 'O', 'O', 'O'],\n",
        "    ['O', 'O', 'O', 'O', 'B-PER', 'O', 'B-MISC', 'O', 'O', 'O', 'O', 'O', 'O', 'O'],\n",
        "    ['O', 'O', 'O', 'B-LOC', 'I-LOC', 'I-LOC', 'O', 'O', 'O', 'O', 'O', 'O'],\n",
        "    ['B-PER', 'O', 'B-LOC', 'O', 'O', 'B-LOC', 'O', 'B-LOC', 'O', 'O', 'O', 'O'],\n",
        "    ['B-LOC', 'I-LOC', 'I-LOC', 'O', 'O', 'O', 'O', 'O', 'B-ORG', 'O', 'O', 'O', 'O'],\n",
        "    ['O', 'B-ORG', 'I-ORG', 'O', 'O', 'O', 'O', 'O', 'O', 'O', 'O'],\n",
        "    ['O', 'O', 'O', 'O', 'O', 'O', 'O', 'O', 'O', 'O', 'O', 'O', 'B-LOC', 'O', 'O', 'O', 'O', 'O', 'O', 'O', 'O', 'O', 'O', 'O'],\n",
        "    ['B-LOC', 'I-LOC', 'O', 'B-LOC', 'O', 'O', 'O', 'O', 'O', 'O', 'O', 'B-LOC', 'O', 'O', 'O', 'O','O', 'B-ORG', 'I-ORG', 'I-ORG', 'O', 'O', 'O', 'O', 'O'],\n",
        "    ['O', 'O', 'B-MISC', 'I-MISC', 'O', 'O', 'O', 'O', 'O', 'B-ORG', 'I-ORG', 'O', 'O', 'O', 'O', 'O', 'O', 'O', 'O', 'O'],\n",
        "    ['O', 'B-PER', 'O', 'O', 'O', 'O', 'O', 'B-LOC', 'O', 'O', 'O', 'O', 'O', 'O', 'O', 'B-PER', 'O', 'O', 'O', 'O', 'O', 'O', 'O', 'O'],\n",
        "    ['O', 'O', 'O', 'B-LOC', 'O', 'O', 'B-PER', 'I-PER', 'B-LOC', 'I-LOC', 'B-PER', 'I-PER', 'O', 'O', 'O', 'O', 'O', 'O', 'O', 'O'],\n",
        "    ['O', 'O', 'O', 'O', 'O', 'O', 'O', 'O', 'O', 'O', 'O', 'O', 'O', 'O', 'O', 'O'],\n",
        "    ['B-ORG', 'O', 'O', 'O', 'O', 'O', 'O', 'O', 'B-ORG', 'I-ORG', 'O', 'O', 'O', 'O', 'O', 'O', 'O'],\n",
        "    ['O', 'B-PER', 'I-PER', 'O', 'B-PER', 'I-PER', 'O', 'B-PER', 'O', 'O', 'O', 'O', 'O'],\n",
        "    ['O', 'O', 'O', 'O', 'O', 'O', 'O', 'O', 'O', 'O', 'O', 'O', 'O', 'O', 'O', 'O','O'],\n",
        "    ['O', 'O', 'O', 'O', 'O', 'O', 'O', 'O', 'O', 'O', 'B-ORG', 'I-ORG', 'O', 'O', 'O'],\n",
        "    ['B-ORG', 'I-ORG', 'I-ORG', 'I-ORG', 'O', 'B-PER', 'I-PER', 'O', 'O', 'O', 'O', 'O', 'O', 'O', 'O','O'],\n",
        "    ['O', 'O', 'O', 'O', 'O', 'O', 'O', 'O', 'O', 'O', 'O']\n",
        "]\n"
      ]
    },
    {
      "cell_type": "code",
      "execution_count": 26,
      "metadata": {
        "id": "f_k8X98KIM6g",
        "colab": {
          "base_uri": "https://localhost:8080/"
        },
        "outputId": "3301af69-552c-457a-af2c-71a1abbaebee"
      },
      "outputs": [
        {
          "output_type": "stream",
          "name": "stdout",
          "text": [
            "class_labels:  ['O', 'B-PER', 'I-PER', 'B-ORG', 'I-ORG', 'B-LOC', 'I-LOC', 'B-MISC', 'I-MISC']\n",
            "\n",
            "classwise_f1_score:  [0.94354839 0.81481481 0.8        0.625      0.42857143 0.31578947\n",
            " 0.2        0.         0.        ]\n",
            "\n",
            "macro_f1_score:  0.45863601157413647\n",
            "precision:  0.6317460317460317\n",
            "recall:  0.41634387269980494\n"
          ]
        }
      ],
      "source": [
        "classwise_precision, classwise_recall, classwise_f1_score=Calculate_performance(sentences25_correct_labels,sentences25_chatgpt_labels)\n",
        "precision = np.mean(classwise_precision)\n",
        "recall = np.mean(classwise_recall)\n",
        "labels=['O','B-PER', 'I-PER', 'B-ORG', 'I-ORG','B-LOC', 'I-LOC', 'B-MISC', 'I-MISC']\n",
        "print(\"class_labels: \",labels)\n",
        "# print(\"\\nclasswise_precision: \",classwise_precision)\n",
        "# print(\"\\nclasswise_recall: \",classwise_recall)\n",
        "print(\"\\nclasswise_f1_score: \",classwise_f1_score)\n",
        "macro_f1_score=np.mean(classwise_f1_score)\n",
        "print(\"\\nmacro_f1_score: \",macro_f1_score)\n",
        "print(\"precision: \",precision)\n",
        "print(\"recall: \",recall)"
      ]
    },
    {
      "cell_type": "code",
      "execution_count": 27,
      "metadata": {
        "id": "RVn2C7b3GHDg"
      },
      "outputs": [],
      "source": [
        "sentences25_chatgpt_results= {\n",
        "    \"class_labels\": labels,\n",
        "    \"classwise_f1_score\": classwise_f1_score.tolist(),\n",
        "    \"macro_f1_score\": macro_f1_score,\n",
        "    \"recall\": recall,\n",
        "    \"precision\": precision\n",
        "}\n",
        "os.makedirs('/content/drive/MyDrive/Mtech2ndSEM/CS689ComputationalLinguistic/FinalAssign2/IndicNER/results/Que4/indicNER/', exist_ok=True)\n",
        "with open('/content/drive/MyDrive/Mtech2ndSEM/CS689ComputationalLinguistic/FinalAssign2/IndicNER/results/Que4/indicNER/sentences25_chatgpt_results.json', 'w') as outfile:\n",
        "    json.dump(sentences25_chatgpt_results, outfile, indent=4)"
      ]
    },
    {
      "cell_type": "code",
      "execution_count": null,
      "metadata": {
        "id": "13guOpLWtfkk"
      },
      "outputs": [],
      "source": []
    },
    {
      "cell_type": "code",
      "execution_count": null,
      "metadata": {
        "id": "p4TTKAPwtfmz"
      },
      "outputs": [],
      "source": []
    },
    {
      "cell_type": "code",
      "execution_count": 28,
      "metadata": {
        "id": "wB7Y1EQdtfqu",
        "colab": {
          "base_uri": "https://localhost:8080/"
        },
        "outputId": "57e1cc8c-077a-4a5f-ff2d-d5fd9880d812"
      },
      "outputs": [
        {
          "output_type": "stream",
          "name": "stdout",
          "text": [
            "All cells executed\n"
          ]
        }
      ],
      "source": [
        "print(\"All cells executed\")"
      ]
    },
    {
      "cell_type": "code",
      "execution_count": null,
      "metadata": {
        "id": "1arUuE9etmzt"
      },
      "outputs": [],
      "source": []
    }
  ],
  "metadata": {
    "colab": {
      "provenance": [],
      "collapsed_sections": [
        "GGVPakMWVR_j",
        "7QoySCS3YNKW",
        "A8UkzK6HaEfu",
        "3bdpNajsfaH1",
        "m1lF3VkGfeaV",
        "QV4V1uYCf1it",
        "RpfhYco7sf86",
        "SS7nAPztoj50"
      ]
    },
    "kernelspec": {
      "display_name": "Python 3",
      "name": "python3"
    },
    "language_info": {
      "name": "python"
    },
    "widgets": {
      "application/vnd.jupyter.widget-state+json": {
        "36f9ab0f49b24996b210c7ef0df378c3": {
          "model_module": "@jupyter-widgets/controls",
          "model_name": "HBoxModel",
          "model_module_version": "1.5.0",
          "state": {
            "_dom_classes": [],
            "_model_module": "@jupyter-widgets/controls",
            "_model_module_version": "1.5.0",
            "_model_name": "HBoxModel",
            "_view_count": null,
            "_view_module": "@jupyter-widgets/controls",
            "_view_module_version": "1.5.0",
            "_view_name": "HBoxView",
            "box_style": "",
            "children": [
              "IPY_MODEL_0ead944d00374a79bb99223170c7b314",
              "IPY_MODEL_86a31baa23044641b3659fe623caef18",
              "IPY_MODEL_56cd1ed1fb874630a2c254b4f6788023"
            ],
            "layout": "IPY_MODEL_498d8557f6be489bbddb8824f69e2640"
          }
        },
        "0ead944d00374a79bb99223170c7b314": {
          "model_module": "@jupyter-widgets/controls",
          "model_name": "HTMLModel",
          "model_module_version": "1.5.0",
          "state": {
            "_dom_classes": [],
            "_model_module": "@jupyter-widgets/controls",
            "_model_module_version": "1.5.0",
            "_model_name": "HTMLModel",
            "_view_count": null,
            "_view_module": "@jupyter-widgets/controls",
            "_view_module_version": "1.5.0",
            "_view_name": "HTMLView",
            "description": "",
            "description_tooltip": null,
            "layout": "IPY_MODEL_6b5e85277c7a4674afc4ae2b3b90b432",
            "placeholder": "​",
            "style": "IPY_MODEL_473a3b53067b4113925dff61802aaf33",
            "value": "Downloading data: 100%"
          }
        },
        "86a31baa23044641b3659fe623caef18": {
          "model_module": "@jupyter-widgets/controls",
          "model_name": "FloatProgressModel",
          "model_module_version": "1.5.0",
          "state": {
            "_dom_classes": [],
            "_model_module": "@jupyter-widgets/controls",
            "_model_module_version": "1.5.0",
            "_model_name": "FloatProgressModel",
            "_view_count": null,
            "_view_module": "@jupyter-widgets/controls",
            "_view_module_version": "1.5.0",
            "_view_name": "ProgressView",
            "bar_style": "success",
            "description": "",
            "description_tooltip": null,
            "layout": "IPY_MODEL_e2ca732807e649bdbd6490cf305bea5d",
            "max": 37126872,
            "min": 0,
            "orientation": "horizontal",
            "style": "IPY_MODEL_da71dd4237834e0cbb1c63f00d5392b3",
            "value": 37126872
          }
        },
        "56cd1ed1fb874630a2c254b4f6788023": {
          "model_module": "@jupyter-widgets/controls",
          "model_name": "HTMLModel",
          "model_module_version": "1.5.0",
          "state": {
            "_dom_classes": [],
            "_model_module": "@jupyter-widgets/controls",
            "_model_module_version": "1.5.0",
            "_model_name": "HTMLModel",
            "_view_count": null,
            "_view_module": "@jupyter-widgets/controls",
            "_view_module_version": "1.5.0",
            "_view_name": "HTMLView",
            "description": "",
            "description_tooltip": null,
            "layout": "IPY_MODEL_339062a4c05348a2aaf47205a999f49e",
            "placeholder": "​",
            "style": "IPY_MODEL_262c17b1a523484883489e4ea60f40d1",
            "value": " 37.1M/37.1M [00:02&lt;00:00, 19.4MB/s]"
          }
        },
        "498d8557f6be489bbddb8824f69e2640": {
          "model_module": "@jupyter-widgets/base",
          "model_name": "LayoutModel",
          "model_module_version": "1.2.0",
          "state": {
            "_model_module": "@jupyter-widgets/base",
            "_model_module_version": "1.2.0",
            "_model_name": "LayoutModel",
            "_view_count": null,
            "_view_module": "@jupyter-widgets/base",
            "_view_module_version": "1.2.0",
            "_view_name": "LayoutView",
            "align_content": null,
            "align_items": null,
            "align_self": null,
            "border": null,
            "bottom": null,
            "display": null,
            "flex": null,
            "flex_flow": null,
            "grid_area": null,
            "grid_auto_columns": null,
            "grid_auto_flow": null,
            "grid_auto_rows": null,
            "grid_column": null,
            "grid_gap": null,
            "grid_row": null,
            "grid_template_areas": null,
            "grid_template_columns": null,
            "grid_template_rows": null,
            "height": null,
            "justify_content": null,
            "justify_items": null,
            "left": null,
            "margin": null,
            "max_height": null,
            "max_width": null,
            "min_height": null,
            "min_width": null,
            "object_fit": null,
            "object_position": null,
            "order": null,
            "overflow": null,
            "overflow_x": null,
            "overflow_y": null,
            "padding": null,
            "right": null,
            "top": null,
            "visibility": null,
            "width": null
          }
        },
        "6b5e85277c7a4674afc4ae2b3b90b432": {
          "model_module": "@jupyter-widgets/base",
          "model_name": "LayoutModel",
          "model_module_version": "1.2.0",
          "state": {
            "_model_module": "@jupyter-widgets/base",
            "_model_module_version": "1.2.0",
            "_model_name": "LayoutModel",
            "_view_count": null,
            "_view_module": "@jupyter-widgets/base",
            "_view_module_version": "1.2.0",
            "_view_name": "LayoutView",
            "align_content": null,
            "align_items": null,
            "align_self": null,
            "border": null,
            "bottom": null,
            "display": null,
            "flex": null,
            "flex_flow": null,
            "grid_area": null,
            "grid_auto_columns": null,
            "grid_auto_flow": null,
            "grid_auto_rows": null,
            "grid_column": null,
            "grid_gap": null,
            "grid_row": null,
            "grid_template_areas": null,
            "grid_template_columns": null,
            "grid_template_rows": null,
            "height": null,
            "justify_content": null,
            "justify_items": null,
            "left": null,
            "margin": null,
            "max_height": null,
            "max_width": null,
            "min_height": null,
            "min_width": null,
            "object_fit": null,
            "object_position": null,
            "order": null,
            "overflow": null,
            "overflow_x": null,
            "overflow_y": null,
            "padding": null,
            "right": null,
            "top": null,
            "visibility": null,
            "width": null
          }
        },
        "473a3b53067b4113925dff61802aaf33": {
          "model_module": "@jupyter-widgets/controls",
          "model_name": "DescriptionStyleModel",
          "model_module_version": "1.5.0",
          "state": {
            "_model_module": "@jupyter-widgets/controls",
            "_model_module_version": "1.5.0",
            "_model_name": "DescriptionStyleModel",
            "_view_count": null,
            "_view_module": "@jupyter-widgets/base",
            "_view_module_version": "1.2.0",
            "_view_name": "StyleView",
            "description_width": ""
          }
        },
        "e2ca732807e649bdbd6490cf305bea5d": {
          "model_module": "@jupyter-widgets/base",
          "model_name": "LayoutModel",
          "model_module_version": "1.2.0",
          "state": {
            "_model_module": "@jupyter-widgets/base",
            "_model_module_version": "1.2.0",
            "_model_name": "LayoutModel",
            "_view_count": null,
            "_view_module": "@jupyter-widgets/base",
            "_view_module_version": "1.2.0",
            "_view_name": "LayoutView",
            "align_content": null,
            "align_items": null,
            "align_self": null,
            "border": null,
            "bottom": null,
            "display": null,
            "flex": null,
            "flex_flow": null,
            "grid_area": null,
            "grid_auto_columns": null,
            "grid_auto_flow": null,
            "grid_auto_rows": null,
            "grid_column": null,
            "grid_gap": null,
            "grid_row": null,
            "grid_template_areas": null,
            "grid_template_columns": null,
            "grid_template_rows": null,
            "height": null,
            "justify_content": null,
            "justify_items": null,
            "left": null,
            "margin": null,
            "max_height": null,
            "max_width": null,
            "min_height": null,
            "min_width": null,
            "object_fit": null,
            "object_position": null,
            "order": null,
            "overflow": null,
            "overflow_x": null,
            "overflow_y": null,
            "padding": null,
            "right": null,
            "top": null,
            "visibility": null,
            "width": null
          }
        },
        "da71dd4237834e0cbb1c63f00d5392b3": {
          "model_module": "@jupyter-widgets/controls",
          "model_name": "ProgressStyleModel",
          "model_module_version": "1.5.0",
          "state": {
            "_model_module": "@jupyter-widgets/controls",
            "_model_module_version": "1.5.0",
            "_model_name": "ProgressStyleModel",
            "_view_count": null,
            "_view_module": "@jupyter-widgets/base",
            "_view_module_version": "1.2.0",
            "_view_name": "StyleView",
            "bar_color": null,
            "description_width": ""
          }
        },
        "339062a4c05348a2aaf47205a999f49e": {
          "model_module": "@jupyter-widgets/base",
          "model_name": "LayoutModel",
          "model_module_version": "1.2.0",
          "state": {
            "_model_module": "@jupyter-widgets/base",
            "_model_module_version": "1.2.0",
            "_model_name": "LayoutModel",
            "_view_count": null,
            "_view_module": "@jupyter-widgets/base",
            "_view_module_version": "1.2.0",
            "_view_name": "LayoutView",
            "align_content": null,
            "align_items": null,
            "align_self": null,
            "border": null,
            "bottom": null,
            "display": null,
            "flex": null,
            "flex_flow": null,
            "grid_area": null,
            "grid_auto_columns": null,
            "grid_auto_flow": null,
            "grid_auto_rows": null,
            "grid_column": null,
            "grid_gap": null,
            "grid_row": null,
            "grid_template_areas": null,
            "grid_template_columns": null,
            "grid_template_rows": null,
            "height": null,
            "justify_content": null,
            "justify_items": null,
            "left": null,
            "margin": null,
            "max_height": null,
            "max_width": null,
            "min_height": null,
            "min_width": null,
            "object_fit": null,
            "object_position": null,
            "order": null,
            "overflow": null,
            "overflow_x": null,
            "overflow_y": null,
            "padding": null,
            "right": null,
            "top": null,
            "visibility": null,
            "width": null
          }
        },
        "262c17b1a523484883489e4ea60f40d1": {
          "model_module": "@jupyter-widgets/controls",
          "model_name": "DescriptionStyleModel",
          "model_module_version": "1.5.0",
          "state": {
            "_model_module": "@jupyter-widgets/controls",
            "_model_module_version": "1.5.0",
            "_model_name": "DescriptionStyleModel",
            "_view_count": null,
            "_view_module": "@jupyter-widgets/base",
            "_view_module_version": "1.2.0",
            "_view_name": "StyleView",
            "description_width": ""
          }
        },
        "41512f9fc0d0407696dd7db7c4dafbca": {
          "model_module": "@jupyter-widgets/controls",
          "model_name": "HBoxModel",
          "model_module_version": "1.5.0",
          "state": {
            "_dom_classes": [],
            "_model_module": "@jupyter-widgets/controls",
            "_model_module_version": "1.5.0",
            "_model_name": "HBoxModel",
            "_view_count": null,
            "_view_module": "@jupyter-widgets/controls",
            "_view_module_version": "1.5.0",
            "_view_name": "HBoxView",
            "box_style": "",
            "children": [
              "IPY_MODEL_f7dcd17fc2c64b24b0f8559d86363fa2",
              "IPY_MODEL_4bcd22394d6a496297eaeac3486174df",
              "IPY_MODEL_254e3a87629c475da39bd79b5cd0757b"
            ],
            "layout": "IPY_MODEL_a139516d84a34c93827728af92ac33e6"
          }
        },
        "f7dcd17fc2c64b24b0f8559d86363fa2": {
          "model_module": "@jupyter-widgets/controls",
          "model_name": "HTMLModel",
          "model_module_version": "1.5.0",
          "state": {
            "_dom_classes": [],
            "_model_module": "@jupyter-widgets/controls",
            "_model_module_version": "1.5.0",
            "_model_name": "HTMLModel",
            "_view_count": null,
            "_view_module": "@jupyter-widgets/controls",
            "_view_module_version": "1.5.0",
            "_view_name": "HTMLView",
            "description": "",
            "description_tooltip": null,
            "layout": "IPY_MODEL_4f56e94a1c774e3782492e8e0b5247e3",
            "placeholder": "​",
            "style": "IPY_MODEL_096bce2a92bb43d686ba462433dc0c06",
            "value": "Downloading data: 100%"
          }
        },
        "4bcd22394d6a496297eaeac3486174df": {
          "model_module": "@jupyter-widgets/controls",
          "model_name": "FloatProgressModel",
          "model_module_version": "1.5.0",
          "state": {
            "_dom_classes": [],
            "_model_module": "@jupyter-widgets/controls",
            "_model_module_version": "1.5.0",
            "_model_name": "FloatProgressModel",
            "_view_count": null,
            "_view_module": "@jupyter-widgets/controls",
            "_view_module_version": "1.5.0",
            "_view_name": "ProgressView",
            "bar_style": "success",
            "description": "",
            "description_tooltip": null,
            "layout": "IPY_MODEL_a0f4feb23e074f05899efef8e280b0fc",
            "max": 83192,
            "min": 0,
            "orientation": "horizontal",
            "style": "IPY_MODEL_69b3c83043a8441b9d0f9a24e62f37a3",
            "value": 83192
          }
        },
        "254e3a87629c475da39bd79b5cd0757b": {
          "model_module": "@jupyter-widgets/controls",
          "model_name": "HTMLModel",
          "model_module_version": "1.5.0",
          "state": {
            "_dom_classes": [],
            "_model_module": "@jupyter-widgets/controls",
            "_model_module_version": "1.5.0",
            "_model_name": "HTMLModel",
            "_view_count": null,
            "_view_module": "@jupyter-widgets/controls",
            "_view_module_version": "1.5.0",
            "_view_name": "HTMLView",
            "description": "",
            "description_tooltip": null,
            "layout": "IPY_MODEL_1acbf1f5a00d4ef98b5eaad246ef9f26",
            "placeholder": "​",
            "style": "IPY_MODEL_aaaf4a3403a4437291fd31fba8ec54fc",
            "value": " 83.2k/83.2k [00:00&lt;00:00, 443kB/s]"
          }
        },
        "a139516d84a34c93827728af92ac33e6": {
          "model_module": "@jupyter-widgets/base",
          "model_name": "LayoutModel",
          "model_module_version": "1.2.0",
          "state": {
            "_model_module": "@jupyter-widgets/base",
            "_model_module_version": "1.2.0",
            "_model_name": "LayoutModel",
            "_view_count": null,
            "_view_module": "@jupyter-widgets/base",
            "_view_module_version": "1.2.0",
            "_view_name": "LayoutView",
            "align_content": null,
            "align_items": null,
            "align_self": null,
            "border": null,
            "bottom": null,
            "display": null,
            "flex": null,
            "flex_flow": null,
            "grid_area": null,
            "grid_auto_columns": null,
            "grid_auto_flow": null,
            "grid_auto_rows": null,
            "grid_column": null,
            "grid_gap": null,
            "grid_row": null,
            "grid_template_areas": null,
            "grid_template_columns": null,
            "grid_template_rows": null,
            "height": null,
            "justify_content": null,
            "justify_items": null,
            "left": null,
            "margin": null,
            "max_height": null,
            "max_width": null,
            "min_height": null,
            "min_width": null,
            "object_fit": null,
            "object_position": null,
            "order": null,
            "overflow": null,
            "overflow_x": null,
            "overflow_y": null,
            "padding": null,
            "right": null,
            "top": null,
            "visibility": null,
            "width": null
          }
        },
        "4f56e94a1c774e3782492e8e0b5247e3": {
          "model_module": "@jupyter-widgets/base",
          "model_name": "LayoutModel",
          "model_module_version": "1.2.0",
          "state": {
            "_model_module": "@jupyter-widgets/base",
            "_model_module_version": "1.2.0",
            "_model_name": "LayoutModel",
            "_view_count": null,
            "_view_module": "@jupyter-widgets/base",
            "_view_module_version": "1.2.0",
            "_view_name": "LayoutView",
            "align_content": null,
            "align_items": null,
            "align_self": null,
            "border": null,
            "bottom": null,
            "display": null,
            "flex": null,
            "flex_flow": null,
            "grid_area": null,
            "grid_auto_columns": null,
            "grid_auto_flow": null,
            "grid_auto_rows": null,
            "grid_column": null,
            "grid_gap": null,
            "grid_row": null,
            "grid_template_areas": null,
            "grid_template_columns": null,
            "grid_template_rows": null,
            "height": null,
            "justify_content": null,
            "justify_items": null,
            "left": null,
            "margin": null,
            "max_height": null,
            "max_width": null,
            "min_height": null,
            "min_width": null,
            "object_fit": null,
            "object_position": null,
            "order": null,
            "overflow": null,
            "overflow_x": null,
            "overflow_y": null,
            "padding": null,
            "right": null,
            "top": null,
            "visibility": null,
            "width": null
          }
        },
        "096bce2a92bb43d686ba462433dc0c06": {
          "model_module": "@jupyter-widgets/controls",
          "model_name": "DescriptionStyleModel",
          "model_module_version": "1.5.0",
          "state": {
            "_model_module": "@jupyter-widgets/controls",
            "_model_module_version": "1.5.0",
            "_model_name": "DescriptionStyleModel",
            "_view_count": null,
            "_view_module": "@jupyter-widgets/base",
            "_view_module_version": "1.2.0",
            "_view_name": "StyleView",
            "description_width": ""
          }
        },
        "a0f4feb23e074f05899efef8e280b0fc": {
          "model_module": "@jupyter-widgets/base",
          "model_name": "LayoutModel",
          "model_module_version": "1.2.0",
          "state": {
            "_model_module": "@jupyter-widgets/base",
            "_model_module_version": "1.2.0",
            "_model_name": "LayoutModel",
            "_view_count": null,
            "_view_module": "@jupyter-widgets/base",
            "_view_module_version": "1.2.0",
            "_view_name": "LayoutView",
            "align_content": null,
            "align_items": null,
            "align_self": null,
            "border": null,
            "bottom": null,
            "display": null,
            "flex": null,
            "flex_flow": null,
            "grid_area": null,
            "grid_auto_columns": null,
            "grid_auto_flow": null,
            "grid_auto_rows": null,
            "grid_column": null,
            "grid_gap": null,
            "grid_row": null,
            "grid_template_areas": null,
            "grid_template_columns": null,
            "grid_template_rows": null,
            "height": null,
            "justify_content": null,
            "justify_items": null,
            "left": null,
            "margin": null,
            "max_height": null,
            "max_width": null,
            "min_height": null,
            "min_width": null,
            "object_fit": null,
            "object_position": null,
            "order": null,
            "overflow": null,
            "overflow_x": null,
            "overflow_y": null,
            "padding": null,
            "right": null,
            "top": null,
            "visibility": null,
            "width": null
          }
        },
        "69b3c83043a8441b9d0f9a24e62f37a3": {
          "model_module": "@jupyter-widgets/controls",
          "model_name": "ProgressStyleModel",
          "model_module_version": "1.5.0",
          "state": {
            "_model_module": "@jupyter-widgets/controls",
            "_model_module_version": "1.5.0",
            "_model_name": "ProgressStyleModel",
            "_view_count": null,
            "_view_module": "@jupyter-widgets/base",
            "_view_module_version": "1.2.0",
            "_view_name": "StyleView",
            "bar_color": null,
            "description_width": ""
          }
        },
        "1acbf1f5a00d4ef98b5eaad246ef9f26": {
          "model_module": "@jupyter-widgets/base",
          "model_name": "LayoutModel",
          "model_module_version": "1.2.0",
          "state": {
            "_model_module": "@jupyter-widgets/base",
            "_model_module_version": "1.2.0",
            "_model_name": "LayoutModel",
            "_view_count": null,
            "_view_module": "@jupyter-widgets/base",
            "_view_module_version": "1.2.0",
            "_view_name": "LayoutView",
            "align_content": null,
            "align_items": null,
            "align_self": null,
            "border": null,
            "bottom": null,
            "display": null,
            "flex": null,
            "flex_flow": null,
            "grid_area": null,
            "grid_auto_columns": null,
            "grid_auto_flow": null,
            "grid_auto_rows": null,
            "grid_column": null,
            "grid_gap": null,
            "grid_row": null,
            "grid_template_areas": null,
            "grid_template_columns": null,
            "grid_template_rows": null,
            "height": null,
            "justify_content": null,
            "justify_items": null,
            "left": null,
            "margin": null,
            "max_height": null,
            "max_width": null,
            "min_height": null,
            "min_width": null,
            "object_fit": null,
            "object_position": null,
            "order": null,
            "overflow": null,
            "overflow_x": null,
            "overflow_y": null,
            "padding": null,
            "right": null,
            "top": null,
            "visibility": null,
            "width": null
          }
        },
        "aaaf4a3403a4437291fd31fba8ec54fc": {
          "model_module": "@jupyter-widgets/controls",
          "model_name": "DescriptionStyleModel",
          "model_module_version": "1.5.0",
          "state": {
            "_model_module": "@jupyter-widgets/controls",
            "_model_module_version": "1.5.0",
            "_model_name": "DescriptionStyleModel",
            "_view_count": null,
            "_view_module": "@jupyter-widgets/base",
            "_view_module_version": "1.2.0",
            "_view_name": "StyleView",
            "description_width": ""
          }
        },
        "656b4ddcbbe4454e9f5ad3799a405061": {
          "model_module": "@jupyter-widgets/controls",
          "model_name": "HBoxModel",
          "model_module_version": "1.5.0",
          "state": {
            "_dom_classes": [],
            "_model_module": "@jupyter-widgets/controls",
            "_model_module_version": "1.5.0",
            "_model_name": "HBoxModel",
            "_view_count": null,
            "_view_module": "@jupyter-widgets/controls",
            "_view_module_version": "1.5.0",
            "_view_name": "HBoxView",
            "box_style": "",
            "children": [
              "IPY_MODEL_79ffae891a4943a49ccd680a4affd359",
              "IPY_MODEL_814ead103e39491080c897e9c6e6871f",
              "IPY_MODEL_2874d1266f204e95a9bc3b5ec5683a24"
            ],
            "layout": "IPY_MODEL_56c10ca309d34423a1da4c7d1303334a"
          }
        },
        "79ffae891a4943a49ccd680a4affd359": {
          "model_module": "@jupyter-widgets/controls",
          "model_name": "HTMLModel",
          "model_module_version": "1.5.0",
          "state": {
            "_dom_classes": [],
            "_model_module": "@jupyter-widgets/controls",
            "_model_module_version": "1.5.0",
            "_model_name": "HTMLModel",
            "_view_count": null,
            "_view_module": "@jupyter-widgets/controls",
            "_view_module_version": "1.5.0",
            "_view_name": "HTMLView",
            "description": "",
            "description_tooltip": null,
            "layout": "IPY_MODEL_91497d0017ec41b0a7e0ec96630a34e1",
            "placeholder": "​",
            "style": "IPY_MODEL_86889afb02dd49c8950db58bfe77796a",
            "value": "Downloading data: 100%"
          }
        },
        "814ead103e39491080c897e9c6e6871f": {
          "model_module": "@jupyter-widgets/controls",
          "model_name": "FloatProgressModel",
          "model_module_version": "1.5.0",
          "state": {
            "_dom_classes": [],
            "_model_module": "@jupyter-widgets/controls",
            "_model_module_version": "1.5.0",
            "_model_name": "FloatProgressModel",
            "_view_count": null,
            "_view_module": "@jupyter-widgets/controls",
            "_view_module_version": "1.5.0",
            "_view_name": "ProgressView",
            "bar_style": "success",
            "description": "",
            "description_tooltip": null,
            "layout": "IPY_MODEL_f792b190a652433184591363b3f96e1e",
            "max": 197773,
            "min": 0,
            "orientation": "horizontal",
            "style": "IPY_MODEL_e9f6b66852b34b388e6e087ae707eab1",
            "value": 197773
          }
        },
        "2874d1266f204e95a9bc3b5ec5683a24": {
          "model_module": "@jupyter-widgets/controls",
          "model_name": "HTMLModel",
          "model_module_version": "1.5.0",
          "state": {
            "_dom_classes": [],
            "_model_module": "@jupyter-widgets/controls",
            "_model_module_version": "1.5.0",
            "_model_name": "HTMLModel",
            "_view_count": null,
            "_view_module": "@jupyter-widgets/controls",
            "_view_module_version": "1.5.0",
            "_view_name": "HTMLView",
            "description": "",
            "description_tooltip": null,
            "layout": "IPY_MODEL_962cec8ef3644eab9c64dae9e7a10e69",
            "placeholder": "​",
            "style": "IPY_MODEL_1a541fc61bca41d4978bff9430543972",
            "value": " 198k/198k [00:00&lt;00:00, 1.30MB/s]"
          }
        },
        "56c10ca309d34423a1da4c7d1303334a": {
          "model_module": "@jupyter-widgets/base",
          "model_name": "LayoutModel",
          "model_module_version": "1.2.0",
          "state": {
            "_model_module": "@jupyter-widgets/base",
            "_model_module_version": "1.2.0",
            "_model_name": "LayoutModel",
            "_view_count": null,
            "_view_module": "@jupyter-widgets/base",
            "_view_module_version": "1.2.0",
            "_view_name": "LayoutView",
            "align_content": null,
            "align_items": null,
            "align_self": null,
            "border": null,
            "bottom": null,
            "display": null,
            "flex": null,
            "flex_flow": null,
            "grid_area": null,
            "grid_auto_columns": null,
            "grid_auto_flow": null,
            "grid_auto_rows": null,
            "grid_column": null,
            "grid_gap": null,
            "grid_row": null,
            "grid_template_areas": null,
            "grid_template_columns": null,
            "grid_template_rows": null,
            "height": null,
            "justify_content": null,
            "justify_items": null,
            "left": null,
            "margin": null,
            "max_height": null,
            "max_width": null,
            "min_height": null,
            "min_width": null,
            "object_fit": null,
            "object_position": null,
            "order": null,
            "overflow": null,
            "overflow_x": null,
            "overflow_y": null,
            "padding": null,
            "right": null,
            "top": null,
            "visibility": null,
            "width": null
          }
        },
        "91497d0017ec41b0a7e0ec96630a34e1": {
          "model_module": "@jupyter-widgets/base",
          "model_name": "LayoutModel",
          "model_module_version": "1.2.0",
          "state": {
            "_model_module": "@jupyter-widgets/base",
            "_model_module_version": "1.2.0",
            "_model_name": "LayoutModel",
            "_view_count": null,
            "_view_module": "@jupyter-widgets/base",
            "_view_module_version": "1.2.0",
            "_view_name": "LayoutView",
            "align_content": null,
            "align_items": null,
            "align_self": null,
            "border": null,
            "bottom": null,
            "display": null,
            "flex": null,
            "flex_flow": null,
            "grid_area": null,
            "grid_auto_columns": null,
            "grid_auto_flow": null,
            "grid_auto_rows": null,
            "grid_column": null,
            "grid_gap": null,
            "grid_row": null,
            "grid_template_areas": null,
            "grid_template_columns": null,
            "grid_template_rows": null,
            "height": null,
            "justify_content": null,
            "justify_items": null,
            "left": null,
            "margin": null,
            "max_height": null,
            "max_width": null,
            "min_height": null,
            "min_width": null,
            "object_fit": null,
            "object_position": null,
            "order": null,
            "overflow": null,
            "overflow_x": null,
            "overflow_y": null,
            "padding": null,
            "right": null,
            "top": null,
            "visibility": null,
            "width": null
          }
        },
        "86889afb02dd49c8950db58bfe77796a": {
          "model_module": "@jupyter-widgets/controls",
          "model_name": "DescriptionStyleModel",
          "model_module_version": "1.5.0",
          "state": {
            "_model_module": "@jupyter-widgets/controls",
            "_model_module_version": "1.5.0",
            "_model_name": "DescriptionStyleModel",
            "_view_count": null,
            "_view_module": "@jupyter-widgets/base",
            "_view_module_version": "1.2.0",
            "_view_name": "StyleView",
            "description_width": ""
          }
        },
        "f792b190a652433184591363b3f96e1e": {
          "model_module": "@jupyter-widgets/base",
          "model_name": "LayoutModel",
          "model_module_version": "1.2.0",
          "state": {
            "_model_module": "@jupyter-widgets/base",
            "_model_module_version": "1.2.0",
            "_model_name": "LayoutModel",
            "_view_count": null,
            "_view_module": "@jupyter-widgets/base",
            "_view_module_version": "1.2.0",
            "_view_name": "LayoutView",
            "align_content": null,
            "align_items": null,
            "align_self": null,
            "border": null,
            "bottom": null,
            "display": null,
            "flex": null,
            "flex_flow": null,
            "grid_area": null,
            "grid_auto_columns": null,
            "grid_auto_flow": null,
            "grid_auto_rows": null,
            "grid_column": null,
            "grid_gap": null,
            "grid_row": null,
            "grid_template_areas": null,
            "grid_template_columns": null,
            "grid_template_rows": null,
            "height": null,
            "justify_content": null,
            "justify_items": null,
            "left": null,
            "margin": null,
            "max_height": null,
            "max_width": null,
            "min_height": null,
            "min_width": null,
            "object_fit": null,
            "object_position": null,
            "order": null,
            "overflow": null,
            "overflow_x": null,
            "overflow_y": null,
            "padding": null,
            "right": null,
            "top": null,
            "visibility": null,
            "width": null
          }
        },
        "e9f6b66852b34b388e6e087ae707eab1": {
          "model_module": "@jupyter-widgets/controls",
          "model_name": "ProgressStyleModel",
          "model_module_version": "1.5.0",
          "state": {
            "_model_module": "@jupyter-widgets/controls",
            "_model_module_version": "1.5.0",
            "_model_name": "ProgressStyleModel",
            "_view_count": null,
            "_view_module": "@jupyter-widgets/base",
            "_view_module_version": "1.2.0",
            "_view_name": "StyleView",
            "bar_color": null,
            "description_width": ""
          }
        },
        "962cec8ef3644eab9c64dae9e7a10e69": {
          "model_module": "@jupyter-widgets/base",
          "model_name": "LayoutModel",
          "model_module_version": "1.2.0",
          "state": {
            "_model_module": "@jupyter-widgets/base",
            "_model_module_version": "1.2.0",
            "_model_name": "LayoutModel",
            "_view_count": null,
            "_view_module": "@jupyter-widgets/base",
            "_view_module_version": "1.2.0",
            "_view_name": "LayoutView",
            "align_content": null,
            "align_items": null,
            "align_self": null,
            "border": null,
            "bottom": null,
            "display": null,
            "flex": null,
            "flex_flow": null,
            "grid_area": null,
            "grid_auto_columns": null,
            "grid_auto_flow": null,
            "grid_auto_rows": null,
            "grid_column": null,
            "grid_gap": null,
            "grid_row": null,
            "grid_template_areas": null,
            "grid_template_columns": null,
            "grid_template_rows": null,
            "height": null,
            "justify_content": null,
            "justify_items": null,
            "left": null,
            "margin": null,
            "max_height": null,
            "max_width": null,
            "min_height": null,
            "min_width": null,
            "object_fit": null,
            "object_position": null,
            "order": null,
            "overflow": null,
            "overflow_x": null,
            "overflow_y": null,
            "padding": null,
            "right": null,
            "top": null,
            "visibility": null,
            "width": null
          }
        },
        "1a541fc61bca41d4978bff9430543972": {
          "model_module": "@jupyter-widgets/controls",
          "model_name": "DescriptionStyleModel",
          "model_module_version": "1.5.0",
          "state": {
            "_model_module": "@jupyter-widgets/controls",
            "_model_module_version": "1.5.0",
            "_model_name": "DescriptionStyleModel",
            "_view_count": null,
            "_view_module": "@jupyter-widgets/base",
            "_view_module_version": "1.2.0",
            "_view_name": "StyleView",
            "description_width": ""
          }
        },
        "023eac2998ca48a58292868f1fe503f2": {
          "model_module": "@jupyter-widgets/controls",
          "model_name": "HBoxModel",
          "model_module_version": "1.5.0",
          "state": {
            "_dom_classes": [],
            "_model_module": "@jupyter-widgets/controls",
            "_model_module_version": "1.5.0",
            "_model_name": "HBoxModel",
            "_view_count": null,
            "_view_module": "@jupyter-widgets/controls",
            "_view_module_version": "1.5.0",
            "_view_name": "HBoxView",
            "box_style": "",
            "children": [
              "IPY_MODEL_40ce8144aa6749a1a2fd64bbe30ba19e",
              "IPY_MODEL_0bceb202a82b436c8f63353d03eac69f",
              "IPY_MODEL_6acf8b1cf8db483ea873a32e1242797c"
            ],
            "layout": "IPY_MODEL_55bb834165d94bb19a5567bccae2514e"
          }
        },
        "40ce8144aa6749a1a2fd64bbe30ba19e": {
          "model_module": "@jupyter-widgets/controls",
          "model_name": "HTMLModel",
          "model_module_version": "1.5.0",
          "state": {
            "_dom_classes": [],
            "_model_module": "@jupyter-widgets/controls",
            "_model_module_version": "1.5.0",
            "_model_name": "HTMLModel",
            "_view_count": null,
            "_view_module": "@jupyter-widgets/controls",
            "_view_module_version": "1.5.0",
            "_view_name": "HTMLView",
            "description": "",
            "description_tooltip": null,
            "layout": "IPY_MODEL_6544da201bfb4e3d96eb1b8af50be284",
            "placeholder": "​",
            "style": "IPY_MODEL_41c9744f6feb4b53816f4e74f158972e",
            "value": "Generating train split: 100%"
          }
        },
        "0bceb202a82b436c8f63353d03eac69f": {
          "model_module": "@jupyter-widgets/controls",
          "model_name": "FloatProgressModel",
          "model_module_version": "1.5.0",
          "state": {
            "_dom_classes": [],
            "_model_module": "@jupyter-widgets/controls",
            "_model_module_version": "1.5.0",
            "_model_name": "FloatProgressModel",
            "_view_count": null,
            "_view_module": "@jupyter-widgets/controls",
            "_view_module_version": "1.5.0",
            "_view_name": "ProgressView",
            "bar_style": "success",
            "description": "",
            "description_tooltip": null,
            "layout": "IPY_MODEL_68c0ac863f8d46f39c7a5d40248286ea",
            "max": 455248,
            "min": 0,
            "orientation": "horizontal",
            "style": "IPY_MODEL_0fe81103a42c49ee8929b4860c49e1bc",
            "value": 455248
          }
        },
        "6acf8b1cf8db483ea873a32e1242797c": {
          "model_module": "@jupyter-widgets/controls",
          "model_name": "HTMLModel",
          "model_module_version": "1.5.0",
          "state": {
            "_dom_classes": [],
            "_model_module": "@jupyter-widgets/controls",
            "_model_module_version": "1.5.0",
            "_model_name": "HTMLModel",
            "_view_count": null,
            "_view_module": "@jupyter-widgets/controls",
            "_view_module_version": "1.5.0",
            "_view_name": "HTMLView",
            "description": "",
            "description_tooltip": null,
            "layout": "IPY_MODEL_76bb752e2ec94508868db5a67a918204",
            "placeholder": "​",
            "style": "IPY_MODEL_461128e1ff2d44ca8539d3a8c6277746",
            "value": " 455248/455248 [00:03&lt;00:00, 134250.99 examples/s]"
          }
        },
        "55bb834165d94bb19a5567bccae2514e": {
          "model_module": "@jupyter-widgets/base",
          "model_name": "LayoutModel",
          "model_module_version": "1.2.0",
          "state": {
            "_model_module": "@jupyter-widgets/base",
            "_model_module_version": "1.2.0",
            "_model_name": "LayoutModel",
            "_view_count": null,
            "_view_module": "@jupyter-widgets/base",
            "_view_module_version": "1.2.0",
            "_view_name": "LayoutView",
            "align_content": null,
            "align_items": null,
            "align_self": null,
            "border": null,
            "bottom": null,
            "display": null,
            "flex": null,
            "flex_flow": null,
            "grid_area": null,
            "grid_auto_columns": null,
            "grid_auto_flow": null,
            "grid_auto_rows": null,
            "grid_column": null,
            "grid_gap": null,
            "grid_row": null,
            "grid_template_areas": null,
            "grid_template_columns": null,
            "grid_template_rows": null,
            "height": null,
            "justify_content": null,
            "justify_items": null,
            "left": null,
            "margin": null,
            "max_height": null,
            "max_width": null,
            "min_height": null,
            "min_width": null,
            "object_fit": null,
            "object_position": null,
            "order": null,
            "overflow": null,
            "overflow_x": null,
            "overflow_y": null,
            "padding": null,
            "right": null,
            "top": null,
            "visibility": null,
            "width": null
          }
        },
        "6544da201bfb4e3d96eb1b8af50be284": {
          "model_module": "@jupyter-widgets/base",
          "model_name": "LayoutModel",
          "model_module_version": "1.2.0",
          "state": {
            "_model_module": "@jupyter-widgets/base",
            "_model_module_version": "1.2.0",
            "_model_name": "LayoutModel",
            "_view_count": null,
            "_view_module": "@jupyter-widgets/base",
            "_view_module_version": "1.2.0",
            "_view_name": "LayoutView",
            "align_content": null,
            "align_items": null,
            "align_self": null,
            "border": null,
            "bottom": null,
            "display": null,
            "flex": null,
            "flex_flow": null,
            "grid_area": null,
            "grid_auto_columns": null,
            "grid_auto_flow": null,
            "grid_auto_rows": null,
            "grid_column": null,
            "grid_gap": null,
            "grid_row": null,
            "grid_template_areas": null,
            "grid_template_columns": null,
            "grid_template_rows": null,
            "height": null,
            "justify_content": null,
            "justify_items": null,
            "left": null,
            "margin": null,
            "max_height": null,
            "max_width": null,
            "min_height": null,
            "min_width": null,
            "object_fit": null,
            "object_position": null,
            "order": null,
            "overflow": null,
            "overflow_x": null,
            "overflow_y": null,
            "padding": null,
            "right": null,
            "top": null,
            "visibility": null,
            "width": null
          }
        },
        "41c9744f6feb4b53816f4e74f158972e": {
          "model_module": "@jupyter-widgets/controls",
          "model_name": "DescriptionStyleModel",
          "model_module_version": "1.5.0",
          "state": {
            "_model_module": "@jupyter-widgets/controls",
            "_model_module_version": "1.5.0",
            "_model_name": "DescriptionStyleModel",
            "_view_count": null,
            "_view_module": "@jupyter-widgets/base",
            "_view_module_version": "1.2.0",
            "_view_name": "StyleView",
            "description_width": ""
          }
        },
        "68c0ac863f8d46f39c7a5d40248286ea": {
          "model_module": "@jupyter-widgets/base",
          "model_name": "LayoutModel",
          "model_module_version": "1.2.0",
          "state": {
            "_model_module": "@jupyter-widgets/base",
            "_model_module_version": "1.2.0",
            "_model_name": "LayoutModel",
            "_view_count": null,
            "_view_module": "@jupyter-widgets/base",
            "_view_module_version": "1.2.0",
            "_view_name": "LayoutView",
            "align_content": null,
            "align_items": null,
            "align_self": null,
            "border": null,
            "bottom": null,
            "display": null,
            "flex": null,
            "flex_flow": null,
            "grid_area": null,
            "grid_auto_columns": null,
            "grid_auto_flow": null,
            "grid_auto_rows": null,
            "grid_column": null,
            "grid_gap": null,
            "grid_row": null,
            "grid_template_areas": null,
            "grid_template_columns": null,
            "grid_template_rows": null,
            "height": null,
            "justify_content": null,
            "justify_items": null,
            "left": null,
            "margin": null,
            "max_height": null,
            "max_width": null,
            "min_height": null,
            "min_width": null,
            "object_fit": null,
            "object_position": null,
            "order": null,
            "overflow": null,
            "overflow_x": null,
            "overflow_y": null,
            "padding": null,
            "right": null,
            "top": null,
            "visibility": null,
            "width": null
          }
        },
        "0fe81103a42c49ee8929b4860c49e1bc": {
          "model_module": "@jupyter-widgets/controls",
          "model_name": "ProgressStyleModel",
          "model_module_version": "1.5.0",
          "state": {
            "_model_module": "@jupyter-widgets/controls",
            "_model_module_version": "1.5.0",
            "_model_name": "ProgressStyleModel",
            "_view_count": null,
            "_view_module": "@jupyter-widgets/base",
            "_view_module_version": "1.2.0",
            "_view_name": "StyleView",
            "bar_color": null,
            "description_width": ""
          }
        },
        "76bb752e2ec94508868db5a67a918204": {
          "model_module": "@jupyter-widgets/base",
          "model_name": "LayoutModel",
          "model_module_version": "1.2.0",
          "state": {
            "_model_module": "@jupyter-widgets/base",
            "_model_module_version": "1.2.0",
            "_model_name": "LayoutModel",
            "_view_count": null,
            "_view_module": "@jupyter-widgets/base",
            "_view_module_version": "1.2.0",
            "_view_name": "LayoutView",
            "align_content": null,
            "align_items": null,
            "align_self": null,
            "border": null,
            "bottom": null,
            "display": null,
            "flex": null,
            "flex_flow": null,
            "grid_area": null,
            "grid_auto_columns": null,
            "grid_auto_flow": null,
            "grid_auto_rows": null,
            "grid_column": null,
            "grid_gap": null,
            "grid_row": null,
            "grid_template_areas": null,
            "grid_template_columns": null,
            "grid_template_rows": null,
            "height": null,
            "justify_content": null,
            "justify_items": null,
            "left": null,
            "margin": null,
            "max_height": null,
            "max_width": null,
            "min_height": null,
            "min_width": null,
            "object_fit": null,
            "object_position": null,
            "order": null,
            "overflow": null,
            "overflow_x": null,
            "overflow_y": null,
            "padding": null,
            "right": null,
            "top": null,
            "visibility": null,
            "width": null
          }
        },
        "461128e1ff2d44ca8539d3a8c6277746": {
          "model_module": "@jupyter-widgets/controls",
          "model_name": "DescriptionStyleModel",
          "model_module_version": "1.5.0",
          "state": {
            "_model_module": "@jupyter-widgets/controls",
            "_model_module_version": "1.5.0",
            "_model_name": "DescriptionStyleModel",
            "_view_count": null,
            "_view_module": "@jupyter-widgets/base",
            "_view_module_version": "1.2.0",
            "_view_name": "StyleView",
            "description_width": ""
          }
        },
        "3a4edff3ccd341b4907606e16d03cb56": {
          "model_module": "@jupyter-widgets/controls",
          "model_name": "HBoxModel",
          "model_module_version": "1.5.0",
          "state": {
            "_dom_classes": [],
            "_model_module": "@jupyter-widgets/controls",
            "_model_module_version": "1.5.0",
            "_model_name": "HBoxModel",
            "_view_count": null,
            "_view_module": "@jupyter-widgets/controls",
            "_view_module_version": "1.5.0",
            "_view_name": "HBoxView",
            "box_style": "",
            "children": [
              "IPY_MODEL_aeaec2fa39cc4922916720836ec7f1b4",
              "IPY_MODEL_7de8ebfa53af4f109c92d2863c846bad",
              "IPY_MODEL_8959e5f0abb24429ba0e0f7f0fb501cb"
            ],
            "layout": "IPY_MODEL_04e6d9fd857d40d9a72e8416fca177bc"
          }
        },
        "aeaec2fa39cc4922916720836ec7f1b4": {
          "model_module": "@jupyter-widgets/controls",
          "model_name": "HTMLModel",
          "model_module_version": "1.5.0",
          "state": {
            "_dom_classes": [],
            "_model_module": "@jupyter-widgets/controls",
            "_model_module_version": "1.5.0",
            "_model_name": "HTMLModel",
            "_view_count": null,
            "_view_module": "@jupyter-widgets/controls",
            "_view_module_version": "1.5.0",
            "_view_name": "HTMLView",
            "description": "",
            "description_tooltip": null,
            "layout": "IPY_MODEL_739b63487f4e4186ba9488761677bb96",
            "placeholder": "​",
            "style": "IPY_MODEL_9e626e1cda9948a18724265a7e3e21c4",
            "value": "Generating test split: 100%"
          }
        },
        "7de8ebfa53af4f109c92d2863c846bad": {
          "model_module": "@jupyter-widgets/controls",
          "model_name": "FloatProgressModel",
          "model_module_version": "1.5.0",
          "state": {
            "_dom_classes": [],
            "_model_module": "@jupyter-widgets/controls",
            "_model_module_version": "1.5.0",
            "_model_name": "FloatProgressModel",
            "_view_count": null,
            "_view_module": "@jupyter-widgets/controls",
            "_view_module_version": "1.5.0",
            "_view_name": "ProgressView",
            "bar_style": "success",
            "description": "",
            "description_tooltip": null,
            "layout": "IPY_MODEL_20b3fba6e4cf442f879a9079391c3b3c",
            "max": 1080,
            "min": 0,
            "orientation": "horizontal",
            "style": "IPY_MODEL_2ee85707910147399d0645959add7cbc",
            "value": 1080
          }
        },
        "8959e5f0abb24429ba0e0f7f0fb501cb": {
          "model_module": "@jupyter-widgets/controls",
          "model_name": "HTMLModel",
          "model_module_version": "1.5.0",
          "state": {
            "_dom_classes": [],
            "_model_module": "@jupyter-widgets/controls",
            "_model_module_version": "1.5.0",
            "_model_name": "HTMLModel",
            "_view_count": null,
            "_view_module": "@jupyter-widgets/controls",
            "_view_module_version": "1.5.0",
            "_view_name": "HTMLView",
            "description": "",
            "description_tooltip": null,
            "layout": "IPY_MODEL_80cb629231eb4466ba3bc961c88c7e79",
            "placeholder": "​",
            "style": "IPY_MODEL_73ec4cdce29e4c8cb91ff95302a53478",
            "value": " 1080/1080 [00:00&lt;00:00, 12767.33 examples/s]"
          }
        },
        "04e6d9fd857d40d9a72e8416fca177bc": {
          "model_module": "@jupyter-widgets/base",
          "model_name": "LayoutModel",
          "model_module_version": "1.2.0",
          "state": {
            "_model_module": "@jupyter-widgets/base",
            "_model_module_version": "1.2.0",
            "_model_name": "LayoutModel",
            "_view_count": null,
            "_view_module": "@jupyter-widgets/base",
            "_view_module_version": "1.2.0",
            "_view_name": "LayoutView",
            "align_content": null,
            "align_items": null,
            "align_self": null,
            "border": null,
            "bottom": null,
            "display": null,
            "flex": null,
            "flex_flow": null,
            "grid_area": null,
            "grid_auto_columns": null,
            "grid_auto_flow": null,
            "grid_auto_rows": null,
            "grid_column": null,
            "grid_gap": null,
            "grid_row": null,
            "grid_template_areas": null,
            "grid_template_columns": null,
            "grid_template_rows": null,
            "height": null,
            "justify_content": null,
            "justify_items": null,
            "left": null,
            "margin": null,
            "max_height": null,
            "max_width": null,
            "min_height": null,
            "min_width": null,
            "object_fit": null,
            "object_position": null,
            "order": null,
            "overflow": null,
            "overflow_x": null,
            "overflow_y": null,
            "padding": null,
            "right": null,
            "top": null,
            "visibility": null,
            "width": null
          }
        },
        "739b63487f4e4186ba9488761677bb96": {
          "model_module": "@jupyter-widgets/base",
          "model_name": "LayoutModel",
          "model_module_version": "1.2.0",
          "state": {
            "_model_module": "@jupyter-widgets/base",
            "_model_module_version": "1.2.0",
            "_model_name": "LayoutModel",
            "_view_count": null,
            "_view_module": "@jupyter-widgets/base",
            "_view_module_version": "1.2.0",
            "_view_name": "LayoutView",
            "align_content": null,
            "align_items": null,
            "align_self": null,
            "border": null,
            "bottom": null,
            "display": null,
            "flex": null,
            "flex_flow": null,
            "grid_area": null,
            "grid_auto_columns": null,
            "grid_auto_flow": null,
            "grid_auto_rows": null,
            "grid_column": null,
            "grid_gap": null,
            "grid_row": null,
            "grid_template_areas": null,
            "grid_template_columns": null,
            "grid_template_rows": null,
            "height": null,
            "justify_content": null,
            "justify_items": null,
            "left": null,
            "margin": null,
            "max_height": null,
            "max_width": null,
            "min_height": null,
            "min_width": null,
            "object_fit": null,
            "object_position": null,
            "order": null,
            "overflow": null,
            "overflow_x": null,
            "overflow_y": null,
            "padding": null,
            "right": null,
            "top": null,
            "visibility": null,
            "width": null
          }
        },
        "9e626e1cda9948a18724265a7e3e21c4": {
          "model_module": "@jupyter-widgets/controls",
          "model_name": "DescriptionStyleModel",
          "model_module_version": "1.5.0",
          "state": {
            "_model_module": "@jupyter-widgets/controls",
            "_model_module_version": "1.5.0",
            "_model_name": "DescriptionStyleModel",
            "_view_count": null,
            "_view_module": "@jupyter-widgets/base",
            "_view_module_version": "1.2.0",
            "_view_name": "StyleView",
            "description_width": ""
          }
        },
        "20b3fba6e4cf442f879a9079391c3b3c": {
          "model_module": "@jupyter-widgets/base",
          "model_name": "LayoutModel",
          "model_module_version": "1.2.0",
          "state": {
            "_model_module": "@jupyter-widgets/base",
            "_model_module_version": "1.2.0",
            "_model_name": "LayoutModel",
            "_view_count": null,
            "_view_module": "@jupyter-widgets/base",
            "_view_module_version": "1.2.0",
            "_view_name": "LayoutView",
            "align_content": null,
            "align_items": null,
            "align_self": null,
            "border": null,
            "bottom": null,
            "display": null,
            "flex": null,
            "flex_flow": null,
            "grid_area": null,
            "grid_auto_columns": null,
            "grid_auto_flow": null,
            "grid_auto_rows": null,
            "grid_column": null,
            "grid_gap": null,
            "grid_row": null,
            "grid_template_areas": null,
            "grid_template_columns": null,
            "grid_template_rows": null,
            "height": null,
            "justify_content": null,
            "justify_items": null,
            "left": null,
            "margin": null,
            "max_height": null,
            "max_width": null,
            "min_height": null,
            "min_width": null,
            "object_fit": null,
            "object_position": null,
            "order": null,
            "overflow": null,
            "overflow_x": null,
            "overflow_y": null,
            "padding": null,
            "right": null,
            "top": null,
            "visibility": null,
            "width": null
          }
        },
        "2ee85707910147399d0645959add7cbc": {
          "model_module": "@jupyter-widgets/controls",
          "model_name": "ProgressStyleModel",
          "model_module_version": "1.5.0",
          "state": {
            "_model_module": "@jupyter-widgets/controls",
            "_model_module_version": "1.5.0",
            "_model_name": "ProgressStyleModel",
            "_view_count": null,
            "_view_module": "@jupyter-widgets/base",
            "_view_module_version": "1.2.0",
            "_view_name": "StyleView",
            "bar_color": null,
            "description_width": ""
          }
        },
        "80cb629231eb4466ba3bc961c88c7e79": {
          "model_module": "@jupyter-widgets/base",
          "model_name": "LayoutModel",
          "model_module_version": "1.2.0",
          "state": {
            "_model_module": "@jupyter-widgets/base",
            "_model_module_version": "1.2.0",
            "_model_name": "LayoutModel",
            "_view_count": null,
            "_view_module": "@jupyter-widgets/base",
            "_view_module_version": "1.2.0",
            "_view_name": "LayoutView",
            "align_content": null,
            "align_items": null,
            "align_self": null,
            "border": null,
            "bottom": null,
            "display": null,
            "flex": null,
            "flex_flow": null,
            "grid_area": null,
            "grid_auto_columns": null,
            "grid_auto_flow": null,
            "grid_auto_rows": null,
            "grid_column": null,
            "grid_gap": null,
            "grid_row": null,
            "grid_template_areas": null,
            "grid_template_columns": null,
            "grid_template_rows": null,
            "height": null,
            "justify_content": null,
            "justify_items": null,
            "left": null,
            "margin": null,
            "max_height": null,
            "max_width": null,
            "min_height": null,
            "min_width": null,
            "object_fit": null,
            "object_position": null,
            "order": null,
            "overflow": null,
            "overflow_x": null,
            "overflow_y": null,
            "padding": null,
            "right": null,
            "top": null,
            "visibility": null,
            "width": null
          }
        },
        "73ec4cdce29e4c8cb91ff95302a53478": {
          "model_module": "@jupyter-widgets/controls",
          "model_name": "DescriptionStyleModel",
          "model_module_version": "1.5.0",
          "state": {
            "_model_module": "@jupyter-widgets/controls",
            "_model_module_version": "1.5.0",
            "_model_name": "DescriptionStyleModel",
            "_view_count": null,
            "_view_module": "@jupyter-widgets/base",
            "_view_module_version": "1.2.0",
            "_view_name": "StyleView",
            "description_width": ""
          }
        },
        "bada65913a4a4f719451934b62dd3f5b": {
          "model_module": "@jupyter-widgets/controls",
          "model_name": "HBoxModel",
          "model_module_version": "1.5.0",
          "state": {
            "_dom_classes": [],
            "_model_module": "@jupyter-widgets/controls",
            "_model_module_version": "1.5.0",
            "_model_name": "HBoxModel",
            "_view_count": null,
            "_view_module": "@jupyter-widgets/controls",
            "_view_module_version": "1.5.0",
            "_view_name": "HBoxView",
            "box_style": "",
            "children": [
              "IPY_MODEL_410e6af48cd94715a7f037520006da63",
              "IPY_MODEL_125aa9216c1b43849f7a280c512de790",
              "IPY_MODEL_1a3591a03099434096b49818221a14e4"
            ],
            "layout": "IPY_MODEL_774662ee6de24bf59cd5cd2549867765"
          }
        },
        "410e6af48cd94715a7f037520006da63": {
          "model_module": "@jupyter-widgets/controls",
          "model_name": "HTMLModel",
          "model_module_version": "1.5.0",
          "state": {
            "_dom_classes": [],
            "_model_module": "@jupyter-widgets/controls",
            "_model_module_version": "1.5.0",
            "_model_name": "HTMLModel",
            "_view_count": null,
            "_view_module": "@jupyter-widgets/controls",
            "_view_module_version": "1.5.0",
            "_view_name": "HTMLView",
            "description": "",
            "description_tooltip": null,
            "layout": "IPY_MODEL_a7943480bde942438d67c32362680369",
            "placeholder": "​",
            "style": "IPY_MODEL_1f2ca32fd773436caf0677e5c8c3555d",
            "value": "Generating validation split: 100%"
          }
        },
        "125aa9216c1b43849f7a280c512de790": {
          "model_module": "@jupyter-widgets/controls",
          "model_name": "FloatProgressModel",
          "model_module_version": "1.5.0",
          "state": {
            "_dom_classes": [],
            "_model_module": "@jupyter-widgets/controls",
            "_model_module_version": "1.5.0",
            "_model_name": "FloatProgressModel",
            "_view_count": null,
            "_view_module": "@jupyter-widgets/controls",
            "_view_module_version": "1.5.0",
            "_view_name": "ProgressView",
            "bar_style": "success",
            "description": "",
            "description_tooltip": null,
            "layout": "IPY_MODEL_679ab2e00405495a9215d827996f0a76",
            "max": 2300,
            "min": 0,
            "orientation": "horizontal",
            "style": "IPY_MODEL_f7839d79f4384a4b8ea39475c4cba1b9",
            "value": 2300
          }
        },
        "1a3591a03099434096b49818221a14e4": {
          "model_module": "@jupyter-widgets/controls",
          "model_name": "HTMLModel",
          "model_module_version": "1.5.0",
          "state": {
            "_dom_classes": [],
            "_model_module": "@jupyter-widgets/controls",
            "_model_module_version": "1.5.0",
            "_model_name": "HTMLModel",
            "_view_count": null,
            "_view_module": "@jupyter-widgets/controls",
            "_view_module_version": "1.5.0",
            "_view_name": "HTMLView",
            "description": "",
            "description_tooltip": null,
            "layout": "IPY_MODEL_144c9b56f23a4e6d85d567b98a1fdd8e",
            "placeholder": "​",
            "style": "IPY_MODEL_33aaeb5ec91c449f9d58850b9e899789",
            "value": " 2300/2300 [00:00&lt;00:00, 20849.19 examples/s]"
          }
        },
        "774662ee6de24bf59cd5cd2549867765": {
          "model_module": "@jupyter-widgets/base",
          "model_name": "LayoutModel",
          "model_module_version": "1.2.0",
          "state": {
            "_model_module": "@jupyter-widgets/base",
            "_model_module_version": "1.2.0",
            "_model_name": "LayoutModel",
            "_view_count": null,
            "_view_module": "@jupyter-widgets/base",
            "_view_module_version": "1.2.0",
            "_view_name": "LayoutView",
            "align_content": null,
            "align_items": null,
            "align_self": null,
            "border": null,
            "bottom": null,
            "display": null,
            "flex": null,
            "flex_flow": null,
            "grid_area": null,
            "grid_auto_columns": null,
            "grid_auto_flow": null,
            "grid_auto_rows": null,
            "grid_column": null,
            "grid_gap": null,
            "grid_row": null,
            "grid_template_areas": null,
            "grid_template_columns": null,
            "grid_template_rows": null,
            "height": null,
            "justify_content": null,
            "justify_items": null,
            "left": null,
            "margin": null,
            "max_height": null,
            "max_width": null,
            "min_height": null,
            "min_width": null,
            "object_fit": null,
            "object_position": null,
            "order": null,
            "overflow": null,
            "overflow_x": null,
            "overflow_y": null,
            "padding": null,
            "right": null,
            "top": null,
            "visibility": null,
            "width": null
          }
        },
        "a7943480bde942438d67c32362680369": {
          "model_module": "@jupyter-widgets/base",
          "model_name": "LayoutModel",
          "model_module_version": "1.2.0",
          "state": {
            "_model_module": "@jupyter-widgets/base",
            "_model_module_version": "1.2.0",
            "_model_name": "LayoutModel",
            "_view_count": null,
            "_view_module": "@jupyter-widgets/base",
            "_view_module_version": "1.2.0",
            "_view_name": "LayoutView",
            "align_content": null,
            "align_items": null,
            "align_self": null,
            "border": null,
            "bottom": null,
            "display": null,
            "flex": null,
            "flex_flow": null,
            "grid_area": null,
            "grid_auto_columns": null,
            "grid_auto_flow": null,
            "grid_auto_rows": null,
            "grid_column": null,
            "grid_gap": null,
            "grid_row": null,
            "grid_template_areas": null,
            "grid_template_columns": null,
            "grid_template_rows": null,
            "height": null,
            "justify_content": null,
            "justify_items": null,
            "left": null,
            "margin": null,
            "max_height": null,
            "max_width": null,
            "min_height": null,
            "min_width": null,
            "object_fit": null,
            "object_position": null,
            "order": null,
            "overflow": null,
            "overflow_x": null,
            "overflow_y": null,
            "padding": null,
            "right": null,
            "top": null,
            "visibility": null,
            "width": null
          }
        },
        "1f2ca32fd773436caf0677e5c8c3555d": {
          "model_module": "@jupyter-widgets/controls",
          "model_name": "DescriptionStyleModel",
          "model_module_version": "1.5.0",
          "state": {
            "_model_module": "@jupyter-widgets/controls",
            "_model_module_version": "1.5.0",
            "_model_name": "DescriptionStyleModel",
            "_view_count": null,
            "_view_module": "@jupyter-widgets/base",
            "_view_module_version": "1.2.0",
            "_view_name": "StyleView",
            "description_width": ""
          }
        },
        "679ab2e00405495a9215d827996f0a76": {
          "model_module": "@jupyter-widgets/base",
          "model_name": "LayoutModel",
          "model_module_version": "1.2.0",
          "state": {
            "_model_module": "@jupyter-widgets/base",
            "_model_module_version": "1.2.0",
            "_model_name": "LayoutModel",
            "_view_count": null,
            "_view_module": "@jupyter-widgets/base",
            "_view_module_version": "1.2.0",
            "_view_name": "LayoutView",
            "align_content": null,
            "align_items": null,
            "align_self": null,
            "border": null,
            "bottom": null,
            "display": null,
            "flex": null,
            "flex_flow": null,
            "grid_area": null,
            "grid_auto_columns": null,
            "grid_auto_flow": null,
            "grid_auto_rows": null,
            "grid_column": null,
            "grid_gap": null,
            "grid_row": null,
            "grid_template_areas": null,
            "grid_template_columns": null,
            "grid_template_rows": null,
            "height": null,
            "justify_content": null,
            "justify_items": null,
            "left": null,
            "margin": null,
            "max_height": null,
            "max_width": null,
            "min_height": null,
            "min_width": null,
            "object_fit": null,
            "object_position": null,
            "order": null,
            "overflow": null,
            "overflow_x": null,
            "overflow_y": null,
            "padding": null,
            "right": null,
            "top": null,
            "visibility": null,
            "width": null
          }
        },
        "f7839d79f4384a4b8ea39475c4cba1b9": {
          "model_module": "@jupyter-widgets/controls",
          "model_name": "ProgressStyleModel",
          "model_module_version": "1.5.0",
          "state": {
            "_model_module": "@jupyter-widgets/controls",
            "_model_module_version": "1.5.0",
            "_model_name": "ProgressStyleModel",
            "_view_count": null,
            "_view_module": "@jupyter-widgets/base",
            "_view_module_version": "1.2.0",
            "_view_name": "StyleView",
            "bar_color": null,
            "description_width": ""
          }
        },
        "144c9b56f23a4e6d85d567b98a1fdd8e": {
          "model_module": "@jupyter-widgets/base",
          "model_name": "LayoutModel",
          "model_module_version": "1.2.0",
          "state": {
            "_model_module": "@jupyter-widgets/base",
            "_model_module_version": "1.2.0",
            "_model_name": "LayoutModel",
            "_view_count": null,
            "_view_module": "@jupyter-widgets/base",
            "_view_module_version": "1.2.0",
            "_view_name": "LayoutView",
            "align_content": null,
            "align_items": null,
            "align_self": null,
            "border": null,
            "bottom": null,
            "display": null,
            "flex": null,
            "flex_flow": null,
            "grid_area": null,
            "grid_auto_columns": null,
            "grid_auto_flow": null,
            "grid_auto_rows": null,
            "grid_column": null,
            "grid_gap": null,
            "grid_row": null,
            "grid_template_areas": null,
            "grid_template_columns": null,
            "grid_template_rows": null,
            "height": null,
            "justify_content": null,
            "justify_items": null,
            "left": null,
            "margin": null,
            "max_height": null,
            "max_width": null,
            "min_height": null,
            "min_width": null,
            "object_fit": null,
            "object_position": null,
            "order": null,
            "overflow": null,
            "overflow_x": null,
            "overflow_y": null,
            "padding": null,
            "right": null,
            "top": null,
            "visibility": null,
            "width": null
          }
        },
        "33aaeb5ec91c449f9d58850b9e899789": {
          "model_module": "@jupyter-widgets/controls",
          "model_name": "DescriptionStyleModel",
          "model_module_version": "1.5.0",
          "state": {
            "_model_module": "@jupyter-widgets/controls",
            "_model_module_version": "1.5.0",
            "_model_name": "DescriptionStyleModel",
            "_view_count": null,
            "_view_module": "@jupyter-widgets/base",
            "_view_module_version": "1.2.0",
            "_view_name": "StyleView",
            "description_width": ""
          }
        },
        "6e79a1d9810b49f582719fea032410c1": {
          "model_module": "@jupyter-widgets/controls",
          "model_name": "HBoxModel",
          "model_module_version": "1.5.0",
          "state": {
            "_dom_classes": [],
            "_model_module": "@jupyter-widgets/controls",
            "_model_module_version": "1.5.0",
            "_model_name": "HBoxModel",
            "_view_count": null,
            "_view_module": "@jupyter-widgets/controls",
            "_view_module_version": "1.5.0",
            "_view_name": "HBoxView",
            "box_style": "",
            "children": [
              "IPY_MODEL_0dfe270e2f8146dfab10a343480ec6ef",
              "IPY_MODEL_3f1739c7a0f249c98ef20be6144024d5",
              "IPY_MODEL_e2779a16920140da8bf2f0fab199227d"
            ],
            "layout": "IPY_MODEL_be64147cd3b841aca1e37318e3664c85"
          }
        },
        "0dfe270e2f8146dfab10a343480ec6ef": {
          "model_module": "@jupyter-widgets/controls",
          "model_name": "HTMLModel",
          "model_module_version": "1.5.0",
          "state": {
            "_dom_classes": [],
            "_model_module": "@jupyter-widgets/controls",
            "_model_module_version": "1.5.0",
            "_model_name": "HTMLModel",
            "_view_count": null,
            "_view_module": "@jupyter-widgets/controls",
            "_view_module_version": "1.5.0",
            "_view_name": "HTMLView",
            "description": "",
            "description_tooltip": null,
            "layout": "IPY_MODEL_05037bda7f0743c7ad6d920430675040",
            "placeholder": "​",
            "style": "IPY_MODEL_d1e2e9c4e1474a4d8c5e3f2fecb0c278",
            "value": "Downloading builder script: "
          }
        },
        "3f1739c7a0f249c98ef20be6144024d5": {
          "model_module": "@jupyter-widgets/controls",
          "model_name": "FloatProgressModel",
          "model_module_version": "1.5.0",
          "state": {
            "_dom_classes": [],
            "_model_module": "@jupyter-widgets/controls",
            "_model_module_version": "1.5.0",
            "_model_name": "FloatProgressModel",
            "_view_count": null,
            "_view_module": "@jupyter-widgets/controls",
            "_view_module_version": "1.5.0",
            "_view_name": "ProgressView",
            "bar_style": "success",
            "description": "",
            "description_tooltip": null,
            "layout": "IPY_MODEL_1e4654b6a6e942ddaf285dc9927a0907",
            "max": 2471,
            "min": 0,
            "orientation": "horizontal",
            "style": "IPY_MODEL_eaa8164a768f46cd804a04d8a07ae7d5",
            "value": 2471
          }
        },
        "e2779a16920140da8bf2f0fab199227d": {
          "model_module": "@jupyter-widgets/controls",
          "model_name": "HTMLModel",
          "model_module_version": "1.5.0",
          "state": {
            "_dom_classes": [],
            "_model_module": "@jupyter-widgets/controls",
            "_model_module_version": "1.5.0",
            "_model_name": "HTMLModel",
            "_view_count": null,
            "_view_module": "@jupyter-widgets/controls",
            "_view_module_version": "1.5.0",
            "_view_name": "HTMLView",
            "description": "",
            "description_tooltip": null,
            "layout": "IPY_MODEL_cf8afe35501a4aa08fa272171b666c2d",
            "placeholder": "​",
            "style": "IPY_MODEL_367b2848fbb14778ae2d369cc4e8e7c5",
            "value": " 6.33k/? [00:00&lt;00:00, 8.66kB/s]"
          }
        },
        "be64147cd3b841aca1e37318e3664c85": {
          "model_module": "@jupyter-widgets/base",
          "model_name": "LayoutModel",
          "model_module_version": "1.2.0",
          "state": {
            "_model_module": "@jupyter-widgets/base",
            "_model_module_version": "1.2.0",
            "_model_name": "LayoutModel",
            "_view_count": null,
            "_view_module": "@jupyter-widgets/base",
            "_view_module_version": "1.2.0",
            "_view_name": "LayoutView",
            "align_content": null,
            "align_items": null,
            "align_self": null,
            "border": null,
            "bottom": null,
            "display": null,
            "flex": null,
            "flex_flow": null,
            "grid_area": null,
            "grid_auto_columns": null,
            "grid_auto_flow": null,
            "grid_auto_rows": null,
            "grid_column": null,
            "grid_gap": null,
            "grid_row": null,
            "grid_template_areas": null,
            "grid_template_columns": null,
            "grid_template_rows": null,
            "height": null,
            "justify_content": null,
            "justify_items": null,
            "left": null,
            "margin": null,
            "max_height": null,
            "max_width": null,
            "min_height": null,
            "min_width": null,
            "object_fit": null,
            "object_position": null,
            "order": null,
            "overflow": null,
            "overflow_x": null,
            "overflow_y": null,
            "padding": null,
            "right": null,
            "top": null,
            "visibility": null,
            "width": null
          }
        },
        "05037bda7f0743c7ad6d920430675040": {
          "model_module": "@jupyter-widgets/base",
          "model_name": "LayoutModel",
          "model_module_version": "1.2.0",
          "state": {
            "_model_module": "@jupyter-widgets/base",
            "_model_module_version": "1.2.0",
            "_model_name": "LayoutModel",
            "_view_count": null,
            "_view_module": "@jupyter-widgets/base",
            "_view_module_version": "1.2.0",
            "_view_name": "LayoutView",
            "align_content": null,
            "align_items": null,
            "align_self": null,
            "border": null,
            "bottom": null,
            "display": null,
            "flex": null,
            "flex_flow": null,
            "grid_area": null,
            "grid_auto_columns": null,
            "grid_auto_flow": null,
            "grid_auto_rows": null,
            "grid_column": null,
            "grid_gap": null,
            "grid_row": null,
            "grid_template_areas": null,
            "grid_template_columns": null,
            "grid_template_rows": null,
            "height": null,
            "justify_content": null,
            "justify_items": null,
            "left": null,
            "margin": null,
            "max_height": null,
            "max_width": null,
            "min_height": null,
            "min_width": null,
            "object_fit": null,
            "object_position": null,
            "order": null,
            "overflow": null,
            "overflow_x": null,
            "overflow_y": null,
            "padding": null,
            "right": null,
            "top": null,
            "visibility": null,
            "width": null
          }
        },
        "d1e2e9c4e1474a4d8c5e3f2fecb0c278": {
          "model_module": "@jupyter-widgets/controls",
          "model_name": "DescriptionStyleModel",
          "model_module_version": "1.5.0",
          "state": {
            "_model_module": "@jupyter-widgets/controls",
            "_model_module_version": "1.5.0",
            "_model_name": "DescriptionStyleModel",
            "_view_count": null,
            "_view_module": "@jupyter-widgets/base",
            "_view_module_version": "1.2.0",
            "_view_name": "StyleView",
            "description_width": ""
          }
        },
        "1e4654b6a6e942ddaf285dc9927a0907": {
          "model_module": "@jupyter-widgets/base",
          "model_name": "LayoutModel",
          "model_module_version": "1.2.0",
          "state": {
            "_model_module": "@jupyter-widgets/base",
            "_model_module_version": "1.2.0",
            "_model_name": "LayoutModel",
            "_view_count": null,
            "_view_module": "@jupyter-widgets/base",
            "_view_module_version": "1.2.0",
            "_view_name": "LayoutView",
            "align_content": null,
            "align_items": null,
            "align_self": null,
            "border": null,
            "bottom": null,
            "display": null,
            "flex": null,
            "flex_flow": null,
            "grid_area": null,
            "grid_auto_columns": null,
            "grid_auto_flow": null,
            "grid_auto_rows": null,
            "grid_column": null,
            "grid_gap": null,
            "grid_row": null,
            "grid_template_areas": null,
            "grid_template_columns": null,
            "grid_template_rows": null,
            "height": null,
            "justify_content": null,
            "justify_items": null,
            "left": null,
            "margin": null,
            "max_height": null,
            "max_width": null,
            "min_height": null,
            "min_width": null,
            "object_fit": null,
            "object_position": null,
            "order": null,
            "overflow": null,
            "overflow_x": null,
            "overflow_y": null,
            "padding": null,
            "right": null,
            "top": null,
            "visibility": null,
            "width": null
          }
        },
        "eaa8164a768f46cd804a04d8a07ae7d5": {
          "model_module": "@jupyter-widgets/controls",
          "model_name": "ProgressStyleModel",
          "model_module_version": "1.5.0",
          "state": {
            "_model_module": "@jupyter-widgets/controls",
            "_model_module_version": "1.5.0",
            "_model_name": "ProgressStyleModel",
            "_view_count": null,
            "_view_module": "@jupyter-widgets/base",
            "_view_module_version": "1.2.0",
            "_view_name": "StyleView",
            "bar_color": null,
            "description_width": ""
          }
        },
        "cf8afe35501a4aa08fa272171b666c2d": {
          "model_module": "@jupyter-widgets/base",
          "model_name": "LayoutModel",
          "model_module_version": "1.2.0",
          "state": {
            "_model_module": "@jupyter-widgets/base",
            "_model_module_version": "1.2.0",
            "_model_name": "LayoutModel",
            "_view_count": null,
            "_view_module": "@jupyter-widgets/base",
            "_view_module_version": "1.2.0",
            "_view_name": "LayoutView",
            "align_content": null,
            "align_items": null,
            "align_self": null,
            "border": null,
            "bottom": null,
            "display": null,
            "flex": null,
            "flex_flow": null,
            "grid_area": null,
            "grid_auto_columns": null,
            "grid_auto_flow": null,
            "grid_auto_rows": null,
            "grid_column": null,
            "grid_gap": null,
            "grid_row": null,
            "grid_template_areas": null,
            "grid_template_columns": null,
            "grid_template_rows": null,
            "height": null,
            "justify_content": null,
            "justify_items": null,
            "left": null,
            "margin": null,
            "max_height": null,
            "max_width": null,
            "min_height": null,
            "min_width": null,
            "object_fit": null,
            "object_position": null,
            "order": null,
            "overflow": null,
            "overflow_x": null,
            "overflow_y": null,
            "padding": null,
            "right": null,
            "top": null,
            "visibility": null,
            "width": null
          }
        },
        "367b2848fbb14778ae2d369cc4e8e7c5": {
          "model_module": "@jupyter-widgets/controls",
          "model_name": "DescriptionStyleModel",
          "model_module_version": "1.5.0",
          "state": {
            "_model_module": "@jupyter-widgets/controls",
            "_model_module_version": "1.5.0",
            "_model_name": "DescriptionStyleModel",
            "_view_count": null,
            "_view_module": "@jupyter-widgets/base",
            "_view_module_version": "1.2.0",
            "_view_name": "StyleView",
            "description_width": ""
          }
        },
        "f97155f2ce7b4f0f9b60ebf1e85f641d": {
          "model_module": "@jupyter-widgets/controls",
          "model_name": "HBoxModel",
          "model_module_version": "1.5.0",
          "state": {
            "_dom_classes": [],
            "_model_module": "@jupyter-widgets/controls",
            "_model_module_version": "1.5.0",
            "_model_name": "HBoxModel",
            "_view_count": null,
            "_view_module": "@jupyter-widgets/controls",
            "_view_module_version": "1.5.0",
            "_view_name": "HBoxView",
            "box_style": "",
            "children": [
              "IPY_MODEL_9114afde33dd4ce0ab2359c75d237263",
              "IPY_MODEL_a0d908a456df422796bc919fcb901a07",
              "IPY_MODEL_2024f791414c466f823f6a53fd48fa01"
            ],
            "layout": "IPY_MODEL_630f435169c2478798858ecc63979324"
          }
        },
        "9114afde33dd4ce0ab2359c75d237263": {
          "model_module": "@jupyter-widgets/controls",
          "model_name": "HTMLModel",
          "model_module_version": "1.5.0",
          "state": {
            "_dom_classes": [],
            "_model_module": "@jupyter-widgets/controls",
            "_model_module_version": "1.5.0",
            "_model_name": "HTMLModel",
            "_view_count": null,
            "_view_module": "@jupyter-widgets/controls",
            "_view_module_version": "1.5.0",
            "_view_name": "HTMLView",
            "description": "",
            "description_tooltip": null,
            "layout": "IPY_MODEL_74d47ae3fcf7428aa774c318ac5958cf",
            "placeholder": "​",
            "style": "IPY_MODEL_0d43477e626f4c48be8bac0a7daa4dc0",
            "value": "Running tokenizer on train dataset (num_proc=4): 100%"
          }
        },
        "a0d908a456df422796bc919fcb901a07": {
          "model_module": "@jupyter-widgets/controls",
          "model_name": "FloatProgressModel",
          "model_module_version": "1.5.0",
          "state": {
            "_dom_classes": [],
            "_model_module": "@jupyter-widgets/controls",
            "_model_module_version": "1.5.0",
            "_model_name": "FloatProgressModel",
            "_view_count": null,
            "_view_module": "@jupyter-widgets/controls",
            "_view_module_version": "1.5.0",
            "_view_name": "ProgressView",
            "bar_style": "success",
            "description": "",
            "description_tooltip": null,
            "layout": "IPY_MODEL_c2ec259a0fa84dbaa5a3a0bbfd842e60",
            "max": 100000,
            "min": 0,
            "orientation": "horizontal",
            "style": "IPY_MODEL_f22928de048245c6aac48086e7279a25",
            "value": 100000
          }
        },
        "2024f791414c466f823f6a53fd48fa01": {
          "model_module": "@jupyter-widgets/controls",
          "model_name": "HTMLModel",
          "model_module_version": "1.5.0",
          "state": {
            "_dom_classes": [],
            "_model_module": "@jupyter-widgets/controls",
            "_model_module_version": "1.5.0",
            "_model_name": "HTMLModel",
            "_view_count": null,
            "_view_module": "@jupyter-widgets/controls",
            "_view_module_version": "1.5.0",
            "_view_name": "HTMLView",
            "description": "",
            "description_tooltip": null,
            "layout": "IPY_MODEL_8a3703e9ff974f76ace696a9a0a5cba3",
            "placeholder": "​",
            "style": "IPY_MODEL_75d26a4085f542309b14e8ae25553df5",
            "value": " 100000/100000 [00:35&lt;00:00, 4322.36 examples/s]"
          }
        },
        "630f435169c2478798858ecc63979324": {
          "model_module": "@jupyter-widgets/base",
          "model_name": "LayoutModel",
          "model_module_version": "1.2.0",
          "state": {
            "_model_module": "@jupyter-widgets/base",
            "_model_module_version": "1.2.0",
            "_model_name": "LayoutModel",
            "_view_count": null,
            "_view_module": "@jupyter-widgets/base",
            "_view_module_version": "1.2.0",
            "_view_name": "LayoutView",
            "align_content": null,
            "align_items": null,
            "align_self": null,
            "border": null,
            "bottom": null,
            "display": null,
            "flex": null,
            "flex_flow": null,
            "grid_area": null,
            "grid_auto_columns": null,
            "grid_auto_flow": null,
            "grid_auto_rows": null,
            "grid_column": null,
            "grid_gap": null,
            "grid_row": null,
            "grid_template_areas": null,
            "grid_template_columns": null,
            "grid_template_rows": null,
            "height": null,
            "justify_content": null,
            "justify_items": null,
            "left": null,
            "margin": null,
            "max_height": null,
            "max_width": null,
            "min_height": null,
            "min_width": null,
            "object_fit": null,
            "object_position": null,
            "order": null,
            "overflow": null,
            "overflow_x": null,
            "overflow_y": null,
            "padding": null,
            "right": null,
            "top": null,
            "visibility": null,
            "width": null
          }
        },
        "74d47ae3fcf7428aa774c318ac5958cf": {
          "model_module": "@jupyter-widgets/base",
          "model_name": "LayoutModel",
          "model_module_version": "1.2.0",
          "state": {
            "_model_module": "@jupyter-widgets/base",
            "_model_module_version": "1.2.0",
            "_model_name": "LayoutModel",
            "_view_count": null,
            "_view_module": "@jupyter-widgets/base",
            "_view_module_version": "1.2.0",
            "_view_name": "LayoutView",
            "align_content": null,
            "align_items": null,
            "align_self": null,
            "border": null,
            "bottom": null,
            "display": null,
            "flex": null,
            "flex_flow": null,
            "grid_area": null,
            "grid_auto_columns": null,
            "grid_auto_flow": null,
            "grid_auto_rows": null,
            "grid_column": null,
            "grid_gap": null,
            "grid_row": null,
            "grid_template_areas": null,
            "grid_template_columns": null,
            "grid_template_rows": null,
            "height": null,
            "justify_content": null,
            "justify_items": null,
            "left": null,
            "margin": null,
            "max_height": null,
            "max_width": null,
            "min_height": null,
            "min_width": null,
            "object_fit": null,
            "object_position": null,
            "order": null,
            "overflow": null,
            "overflow_x": null,
            "overflow_y": null,
            "padding": null,
            "right": null,
            "top": null,
            "visibility": null,
            "width": null
          }
        },
        "0d43477e626f4c48be8bac0a7daa4dc0": {
          "model_module": "@jupyter-widgets/controls",
          "model_name": "DescriptionStyleModel",
          "model_module_version": "1.5.0",
          "state": {
            "_model_module": "@jupyter-widgets/controls",
            "_model_module_version": "1.5.0",
            "_model_name": "DescriptionStyleModel",
            "_view_count": null,
            "_view_module": "@jupyter-widgets/base",
            "_view_module_version": "1.2.0",
            "_view_name": "StyleView",
            "description_width": ""
          }
        },
        "c2ec259a0fa84dbaa5a3a0bbfd842e60": {
          "model_module": "@jupyter-widgets/base",
          "model_name": "LayoutModel",
          "model_module_version": "1.2.0",
          "state": {
            "_model_module": "@jupyter-widgets/base",
            "_model_module_version": "1.2.0",
            "_model_name": "LayoutModel",
            "_view_count": null,
            "_view_module": "@jupyter-widgets/base",
            "_view_module_version": "1.2.0",
            "_view_name": "LayoutView",
            "align_content": null,
            "align_items": null,
            "align_self": null,
            "border": null,
            "bottom": null,
            "display": null,
            "flex": null,
            "flex_flow": null,
            "grid_area": null,
            "grid_auto_columns": null,
            "grid_auto_flow": null,
            "grid_auto_rows": null,
            "grid_column": null,
            "grid_gap": null,
            "grid_row": null,
            "grid_template_areas": null,
            "grid_template_columns": null,
            "grid_template_rows": null,
            "height": null,
            "justify_content": null,
            "justify_items": null,
            "left": null,
            "margin": null,
            "max_height": null,
            "max_width": null,
            "min_height": null,
            "min_width": null,
            "object_fit": null,
            "object_position": null,
            "order": null,
            "overflow": null,
            "overflow_x": null,
            "overflow_y": null,
            "padding": null,
            "right": null,
            "top": null,
            "visibility": null,
            "width": null
          }
        },
        "f22928de048245c6aac48086e7279a25": {
          "model_module": "@jupyter-widgets/controls",
          "model_name": "ProgressStyleModel",
          "model_module_version": "1.5.0",
          "state": {
            "_model_module": "@jupyter-widgets/controls",
            "_model_module_version": "1.5.0",
            "_model_name": "ProgressStyleModel",
            "_view_count": null,
            "_view_module": "@jupyter-widgets/base",
            "_view_module_version": "1.2.0",
            "_view_name": "StyleView",
            "bar_color": null,
            "description_width": ""
          }
        },
        "8a3703e9ff974f76ace696a9a0a5cba3": {
          "model_module": "@jupyter-widgets/base",
          "model_name": "LayoutModel",
          "model_module_version": "1.2.0",
          "state": {
            "_model_module": "@jupyter-widgets/base",
            "_model_module_version": "1.2.0",
            "_model_name": "LayoutModel",
            "_view_count": null,
            "_view_module": "@jupyter-widgets/base",
            "_view_module_version": "1.2.0",
            "_view_name": "LayoutView",
            "align_content": null,
            "align_items": null,
            "align_self": null,
            "border": null,
            "bottom": null,
            "display": null,
            "flex": null,
            "flex_flow": null,
            "grid_area": null,
            "grid_auto_columns": null,
            "grid_auto_flow": null,
            "grid_auto_rows": null,
            "grid_column": null,
            "grid_gap": null,
            "grid_row": null,
            "grid_template_areas": null,
            "grid_template_columns": null,
            "grid_template_rows": null,
            "height": null,
            "justify_content": null,
            "justify_items": null,
            "left": null,
            "margin": null,
            "max_height": null,
            "max_width": null,
            "min_height": null,
            "min_width": null,
            "object_fit": null,
            "object_position": null,
            "order": null,
            "overflow": null,
            "overflow_x": null,
            "overflow_y": null,
            "padding": null,
            "right": null,
            "top": null,
            "visibility": null,
            "width": null
          }
        },
        "75d26a4085f542309b14e8ae25553df5": {
          "model_module": "@jupyter-widgets/controls",
          "model_name": "DescriptionStyleModel",
          "model_module_version": "1.5.0",
          "state": {
            "_model_module": "@jupyter-widgets/controls",
            "_model_module_version": "1.5.0",
            "_model_name": "DescriptionStyleModel",
            "_view_count": null,
            "_view_module": "@jupyter-widgets/base",
            "_view_module_version": "1.2.0",
            "_view_name": "StyleView",
            "description_width": ""
          }
        },
        "2f99eb27a334481a813acfc10a62d052": {
          "model_module": "@jupyter-widgets/controls",
          "model_name": "HBoxModel",
          "model_module_version": "1.5.0",
          "state": {
            "_dom_classes": [],
            "_model_module": "@jupyter-widgets/controls",
            "_model_module_version": "1.5.0",
            "_model_name": "HBoxModel",
            "_view_count": null,
            "_view_module": "@jupyter-widgets/controls",
            "_view_module_version": "1.5.0",
            "_view_name": "HBoxView",
            "box_style": "",
            "children": [
              "IPY_MODEL_ee930a7d85514a9d85275da670ea4eac",
              "IPY_MODEL_e759cf627879465fbb46fbeadbca74af",
              "IPY_MODEL_718b4c5a97234d129a988ea58cce5f13"
            ],
            "layout": "IPY_MODEL_8b949f6ae8cf45429776fe391bb56cbd"
          }
        },
        "ee930a7d85514a9d85275da670ea4eac": {
          "model_module": "@jupyter-widgets/controls",
          "model_name": "HTMLModel",
          "model_module_version": "1.5.0",
          "state": {
            "_dom_classes": [],
            "_model_module": "@jupyter-widgets/controls",
            "_model_module_version": "1.5.0",
            "_model_name": "HTMLModel",
            "_view_count": null,
            "_view_module": "@jupyter-widgets/controls",
            "_view_module_version": "1.5.0",
            "_view_name": "HTMLView",
            "description": "",
            "description_tooltip": null,
            "layout": "IPY_MODEL_d42d17a4f93d4ad593cf88e0627aa0e1",
            "placeholder": "​",
            "style": "IPY_MODEL_e71e77dbf5c54c0cb674ad0264cc8392",
            "value": "Running tokenizer on Validation dataset (num_proc=4): 100%"
          }
        },
        "e759cf627879465fbb46fbeadbca74af": {
          "model_module": "@jupyter-widgets/controls",
          "model_name": "FloatProgressModel",
          "model_module_version": "1.5.0",
          "state": {
            "_dom_classes": [],
            "_model_module": "@jupyter-widgets/controls",
            "_model_module_version": "1.5.0",
            "_model_name": "FloatProgressModel",
            "_view_count": null,
            "_view_module": "@jupyter-widgets/controls",
            "_view_module_version": "1.5.0",
            "_view_name": "ProgressView",
            "bar_style": "success",
            "description": "",
            "description_tooltip": null,
            "layout": "IPY_MODEL_191898ecdc79403e8cc08b5738e84d74",
            "max": 2300,
            "min": 0,
            "orientation": "horizontal",
            "style": "IPY_MODEL_ee0ba9be5640492396c5bc2df99d63c1",
            "value": 2300
          }
        },
        "718b4c5a97234d129a988ea58cce5f13": {
          "model_module": "@jupyter-widgets/controls",
          "model_name": "HTMLModel",
          "model_module_version": "1.5.0",
          "state": {
            "_dom_classes": [],
            "_model_module": "@jupyter-widgets/controls",
            "_model_module_version": "1.5.0",
            "_model_name": "HTMLModel",
            "_view_count": null,
            "_view_module": "@jupyter-widgets/controls",
            "_view_module_version": "1.5.0",
            "_view_name": "HTMLView",
            "description": "",
            "description_tooltip": null,
            "layout": "IPY_MODEL_f4cba3bf865c41f5a594562d607892b2",
            "placeholder": "​",
            "style": "IPY_MODEL_9d7e2ecd9306482aace441041c76fa21",
            "value": " 2300/2300 [00:01&lt;00:00, 2090.08 examples/s]"
          }
        },
        "8b949f6ae8cf45429776fe391bb56cbd": {
          "model_module": "@jupyter-widgets/base",
          "model_name": "LayoutModel",
          "model_module_version": "1.2.0",
          "state": {
            "_model_module": "@jupyter-widgets/base",
            "_model_module_version": "1.2.0",
            "_model_name": "LayoutModel",
            "_view_count": null,
            "_view_module": "@jupyter-widgets/base",
            "_view_module_version": "1.2.0",
            "_view_name": "LayoutView",
            "align_content": null,
            "align_items": null,
            "align_self": null,
            "border": null,
            "bottom": null,
            "display": null,
            "flex": null,
            "flex_flow": null,
            "grid_area": null,
            "grid_auto_columns": null,
            "grid_auto_flow": null,
            "grid_auto_rows": null,
            "grid_column": null,
            "grid_gap": null,
            "grid_row": null,
            "grid_template_areas": null,
            "grid_template_columns": null,
            "grid_template_rows": null,
            "height": null,
            "justify_content": null,
            "justify_items": null,
            "left": null,
            "margin": null,
            "max_height": null,
            "max_width": null,
            "min_height": null,
            "min_width": null,
            "object_fit": null,
            "object_position": null,
            "order": null,
            "overflow": null,
            "overflow_x": null,
            "overflow_y": null,
            "padding": null,
            "right": null,
            "top": null,
            "visibility": null,
            "width": null
          }
        },
        "d42d17a4f93d4ad593cf88e0627aa0e1": {
          "model_module": "@jupyter-widgets/base",
          "model_name": "LayoutModel",
          "model_module_version": "1.2.0",
          "state": {
            "_model_module": "@jupyter-widgets/base",
            "_model_module_version": "1.2.0",
            "_model_name": "LayoutModel",
            "_view_count": null,
            "_view_module": "@jupyter-widgets/base",
            "_view_module_version": "1.2.0",
            "_view_name": "LayoutView",
            "align_content": null,
            "align_items": null,
            "align_self": null,
            "border": null,
            "bottom": null,
            "display": null,
            "flex": null,
            "flex_flow": null,
            "grid_area": null,
            "grid_auto_columns": null,
            "grid_auto_flow": null,
            "grid_auto_rows": null,
            "grid_column": null,
            "grid_gap": null,
            "grid_row": null,
            "grid_template_areas": null,
            "grid_template_columns": null,
            "grid_template_rows": null,
            "height": null,
            "justify_content": null,
            "justify_items": null,
            "left": null,
            "margin": null,
            "max_height": null,
            "max_width": null,
            "min_height": null,
            "min_width": null,
            "object_fit": null,
            "object_position": null,
            "order": null,
            "overflow": null,
            "overflow_x": null,
            "overflow_y": null,
            "padding": null,
            "right": null,
            "top": null,
            "visibility": null,
            "width": null
          }
        },
        "e71e77dbf5c54c0cb674ad0264cc8392": {
          "model_module": "@jupyter-widgets/controls",
          "model_name": "DescriptionStyleModel",
          "model_module_version": "1.5.0",
          "state": {
            "_model_module": "@jupyter-widgets/controls",
            "_model_module_version": "1.5.0",
            "_model_name": "DescriptionStyleModel",
            "_view_count": null,
            "_view_module": "@jupyter-widgets/base",
            "_view_module_version": "1.2.0",
            "_view_name": "StyleView",
            "description_width": ""
          }
        },
        "191898ecdc79403e8cc08b5738e84d74": {
          "model_module": "@jupyter-widgets/base",
          "model_name": "LayoutModel",
          "model_module_version": "1.2.0",
          "state": {
            "_model_module": "@jupyter-widgets/base",
            "_model_module_version": "1.2.0",
            "_model_name": "LayoutModel",
            "_view_count": null,
            "_view_module": "@jupyter-widgets/base",
            "_view_module_version": "1.2.0",
            "_view_name": "LayoutView",
            "align_content": null,
            "align_items": null,
            "align_self": null,
            "border": null,
            "bottom": null,
            "display": null,
            "flex": null,
            "flex_flow": null,
            "grid_area": null,
            "grid_auto_columns": null,
            "grid_auto_flow": null,
            "grid_auto_rows": null,
            "grid_column": null,
            "grid_gap": null,
            "grid_row": null,
            "grid_template_areas": null,
            "grid_template_columns": null,
            "grid_template_rows": null,
            "height": null,
            "justify_content": null,
            "justify_items": null,
            "left": null,
            "margin": null,
            "max_height": null,
            "max_width": null,
            "min_height": null,
            "min_width": null,
            "object_fit": null,
            "object_position": null,
            "order": null,
            "overflow": null,
            "overflow_x": null,
            "overflow_y": null,
            "padding": null,
            "right": null,
            "top": null,
            "visibility": null,
            "width": null
          }
        },
        "ee0ba9be5640492396c5bc2df99d63c1": {
          "model_module": "@jupyter-widgets/controls",
          "model_name": "ProgressStyleModel",
          "model_module_version": "1.5.0",
          "state": {
            "_model_module": "@jupyter-widgets/controls",
            "_model_module_version": "1.5.0",
            "_model_name": "ProgressStyleModel",
            "_view_count": null,
            "_view_module": "@jupyter-widgets/base",
            "_view_module_version": "1.2.0",
            "_view_name": "StyleView",
            "bar_color": null,
            "description_width": ""
          }
        },
        "f4cba3bf865c41f5a594562d607892b2": {
          "model_module": "@jupyter-widgets/base",
          "model_name": "LayoutModel",
          "model_module_version": "1.2.0",
          "state": {
            "_model_module": "@jupyter-widgets/base",
            "_model_module_version": "1.2.0",
            "_model_name": "LayoutModel",
            "_view_count": null,
            "_view_module": "@jupyter-widgets/base",
            "_view_module_version": "1.2.0",
            "_view_name": "LayoutView",
            "align_content": null,
            "align_items": null,
            "align_self": null,
            "border": null,
            "bottom": null,
            "display": null,
            "flex": null,
            "flex_flow": null,
            "grid_area": null,
            "grid_auto_columns": null,
            "grid_auto_flow": null,
            "grid_auto_rows": null,
            "grid_column": null,
            "grid_gap": null,
            "grid_row": null,
            "grid_template_areas": null,
            "grid_template_columns": null,
            "grid_template_rows": null,
            "height": null,
            "justify_content": null,
            "justify_items": null,
            "left": null,
            "margin": null,
            "max_height": null,
            "max_width": null,
            "min_height": null,
            "min_width": null,
            "object_fit": null,
            "object_position": null,
            "order": null,
            "overflow": null,
            "overflow_x": null,
            "overflow_y": null,
            "padding": null,
            "right": null,
            "top": null,
            "visibility": null,
            "width": null
          }
        },
        "9d7e2ecd9306482aace441041c76fa21": {
          "model_module": "@jupyter-widgets/controls",
          "model_name": "DescriptionStyleModel",
          "model_module_version": "1.5.0",
          "state": {
            "_model_module": "@jupyter-widgets/controls",
            "_model_module_version": "1.5.0",
            "_model_name": "DescriptionStyleModel",
            "_view_count": null,
            "_view_module": "@jupyter-widgets/base",
            "_view_module_version": "1.2.0",
            "_view_name": "StyleView",
            "description_width": ""
          }
        },
        "4aa1d9eb6bab4a53afc2fc1d679dbd92": {
          "model_module": "@jupyter-widgets/controls",
          "model_name": "HBoxModel",
          "model_module_version": "1.5.0",
          "state": {
            "_dom_classes": [],
            "_model_module": "@jupyter-widgets/controls",
            "_model_module_version": "1.5.0",
            "_model_name": "HBoxModel",
            "_view_count": null,
            "_view_module": "@jupyter-widgets/controls",
            "_view_module_version": "1.5.0",
            "_view_name": "HBoxView",
            "box_style": "",
            "children": [
              "IPY_MODEL_f1fee540d0d34a1db278730a1fbdaa80",
              "IPY_MODEL_5a80d52b1004439885ab57c07fa6224a",
              "IPY_MODEL_783cb93ebc2740fc8881a8a5ce876a77"
            ],
            "layout": "IPY_MODEL_39f98d19e6c84e59a2755d2514446d0a"
          }
        },
        "f1fee540d0d34a1db278730a1fbdaa80": {
          "model_module": "@jupyter-widgets/controls",
          "model_name": "HTMLModel",
          "model_module_version": "1.5.0",
          "state": {
            "_dom_classes": [],
            "_model_module": "@jupyter-widgets/controls",
            "_model_module_version": "1.5.0",
            "_model_name": "HTMLModel",
            "_view_count": null,
            "_view_module": "@jupyter-widgets/controls",
            "_view_module_version": "1.5.0",
            "_view_name": "HTMLView",
            "description": "",
            "description_tooltip": null,
            "layout": "IPY_MODEL_9d8ec539a6d049fa847b8a12a15c0daa",
            "placeholder": "​",
            "style": "IPY_MODEL_4c76fa51f2ec457db4024e12779c09fc",
            "value": "Running tokenizer on test dataset (num_proc=4): 100%"
          }
        },
        "5a80d52b1004439885ab57c07fa6224a": {
          "model_module": "@jupyter-widgets/controls",
          "model_name": "FloatProgressModel",
          "model_module_version": "1.5.0",
          "state": {
            "_dom_classes": [],
            "_model_module": "@jupyter-widgets/controls",
            "_model_module_version": "1.5.0",
            "_model_name": "FloatProgressModel",
            "_view_count": null,
            "_view_module": "@jupyter-widgets/controls",
            "_view_module_version": "1.5.0",
            "_view_name": "ProgressView",
            "bar_style": "success",
            "description": "",
            "description_tooltip": null,
            "layout": "IPY_MODEL_d41c336f044647be8f9ce5737c8fdd6a",
            "max": 1080,
            "min": 0,
            "orientation": "horizontal",
            "style": "IPY_MODEL_3ac93a01d56a4510bcee1d47c4808bd4",
            "value": 1080
          }
        },
        "783cb93ebc2740fc8881a8a5ce876a77": {
          "model_module": "@jupyter-widgets/controls",
          "model_name": "HTMLModel",
          "model_module_version": "1.5.0",
          "state": {
            "_dom_classes": [],
            "_model_module": "@jupyter-widgets/controls",
            "_model_module_version": "1.5.0",
            "_model_name": "HTMLModel",
            "_view_count": null,
            "_view_module": "@jupyter-widgets/controls",
            "_view_module_version": "1.5.0",
            "_view_name": "HTMLView",
            "description": "",
            "description_tooltip": null,
            "layout": "IPY_MODEL_cc5ade4575254e84a286ae3e322d7dda",
            "placeholder": "​",
            "style": "IPY_MODEL_92b8bc806b2d48029bf76ff4d1bf84ca",
            "value": " 1080/1080 [00:00&lt;00:00, 547.58 examples/s]"
          }
        },
        "39f98d19e6c84e59a2755d2514446d0a": {
          "model_module": "@jupyter-widgets/base",
          "model_name": "LayoutModel",
          "model_module_version": "1.2.0",
          "state": {
            "_model_module": "@jupyter-widgets/base",
            "_model_module_version": "1.2.0",
            "_model_name": "LayoutModel",
            "_view_count": null,
            "_view_module": "@jupyter-widgets/base",
            "_view_module_version": "1.2.0",
            "_view_name": "LayoutView",
            "align_content": null,
            "align_items": null,
            "align_self": null,
            "border": null,
            "bottom": null,
            "display": null,
            "flex": null,
            "flex_flow": null,
            "grid_area": null,
            "grid_auto_columns": null,
            "grid_auto_flow": null,
            "grid_auto_rows": null,
            "grid_column": null,
            "grid_gap": null,
            "grid_row": null,
            "grid_template_areas": null,
            "grid_template_columns": null,
            "grid_template_rows": null,
            "height": null,
            "justify_content": null,
            "justify_items": null,
            "left": null,
            "margin": null,
            "max_height": null,
            "max_width": null,
            "min_height": null,
            "min_width": null,
            "object_fit": null,
            "object_position": null,
            "order": null,
            "overflow": null,
            "overflow_x": null,
            "overflow_y": null,
            "padding": null,
            "right": null,
            "top": null,
            "visibility": null,
            "width": null
          }
        },
        "9d8ec539a6d049fa847b8a12a15c0daa": {
          "model_module": "@jupyter-widgets/base",
          "model_name": "LayoutModel",
          "model_module_version": "1.2.0",
          "state": {
            "_model_module": "@jupyter-widgets/base",
            "_model_module_version": "1.2.0",
            "_model_name": "LayoutModel",
            "_view_count": null,
            "_view_module": "@jupyter-widgets/base",
            "_view_module_version": "1.2.0",
            "_view_name": "LayoutView",
            "align_content": null,
            "align_items": null,
            "align_self": null,
            "border": null,
            "bottom": null,
            "display": null,
            "flex": null,
            "flex_flow": null,
            "grid_area": null,
            "grid_auto_columns": null,
            "grid_auto_flow": null,
            "grid_auto_rows": null,
            "grid_column": null,
            "grid_gap": null,
            "grid_row": null,
            "grid_template_areas": null,
            "grid_template_columns": null,
            "grid_template_rows": null,
            "height": null,
            "justify_content": null,
            "justify_items": null,
            "left": null,
            "margin": null,
            "max_height": null,
            "max_width": null,
            "min_height": null,
            "min_width": null,
            "object_fit": null,
            "object_position": null,
            "order": null,
            "overflow": null,
            "overflow_x": null,
            "overflow_y": null,
            "padding": null,
            "right": null,
            "top": null,
            "visibility": null,
            "width": null
          }
        },
        "4c76fa51f2ec457db4024e12779c09fc": {
          "model_module": "@jupyter-widgets/controls",
          "model_name": "DescriptionStyleModel",
          "model_module_version": "1.5.0",
          "state": {
            "_model_module": "@jupyter-widgets/controls",
            "_model_module_version": "1.5.0",
            "_model_name": "DescriptionStyleModel",
            "_view_count": null,
            "_view_module": "@jupyter-widgets/base",
            "_view_module_version": "1.2.0",
            "_view_name": "StyleView",
            "description_width": ""
          }
        },
        "d41c336f044647be8f9ce5737c8fdd6a": {
          "model_module": "@jupyter-widgets/base",
          "model_name": "LayoutModel",
          "model_module_version": "1.2.0",
          "state": {
            "_model_module": "@jupyter-widgets/base",
            "_model_module_version": "1.2.0",
            "_model_name": "LayoutModel",
            "_view_count": null,
            "_view_module": "@jupyter-widgets/base",
            "_view_module_version": "1.2.0",
            "_view_name": "LayoutView",
            "align_content": null,
            "align_items": null,
            "align_self": null,
            "border": null,
            "bottom": null,
            "display": null,
            "flex": null,
            "flex_flow": null,
            "grid_area": null,
            "grid_auto_columns": null,
            "grid_auto_flow": null,
            "grid_auto_rows": null,
            "grid_column": null,
            "grid_gap": null,
            "grid_row": null,
            "grid_template_areas": null,
            "grid_template_columns": null,
            "grid_template_rows": null,
            "height": null,
            "justify_content": null,
            "justify_items": null,
            "left": null,
            "margin": null,
            "max_height": null,
            "max_width": null,
            "min_height": null,
            "min_width": null,
            "object_fit": null,
            "object_position": null,
            "order": null,
            "overflow": null,
            "overflow_x": null,
            "overflow_y": null,
            "padding": null,
            "right": null,
            "top": null,
            "visibility": null,
            "width": null
          }
        },
        "3ac93a01d56a4510bcee1d47c4808bd4": {
          "model_module": "@jupyter-widgets/controls",
          "model_name": "ProgressStyleModel",
          "model_module_version": "1.5.0",
          "state": {
            "_model_module": "@jupyter-widgets/controls",
            "_model_module_version": "1.5.0",
            "_model_name": "ProgressStyleModel",
            "_view_count": null,
            "_view_module": "@jupyter-widgets/base",
            "_view_module_version": "1.2.0",
            "_view_name": "StyleView",
            "bar_color": null,
            "description_width": ""
          }
        },
        "cc5ade4575254e84a286ae3e322d7dda": {
          "model_module": "@jupyter-widgets/base",
          "model_name": "LayoutModel",
          "model_module_version": "1.2.0",
          "state": {
            "_model_module": "@jupyter-widgets/base",
            "_model_module_version": "1.2.0",
            "_model_name": "LayoutModel",
            "_view_count": null,
            "_view_module": "@jupyter-widgets/base",
            "_view_module_version": "1.2.0",
            "_view_name": "LayoutView",
            "align_content": null,
            "align_items": null,
            "align_self": null,
            "border": null,
            "bottom": null,
            "display": null,
            "flex": null,
            "flex_flow": null,
            "grid_area": null,
            "grid_auto_columns": null,
            "grid_auto_flow": null,
            "grid_auto_rows": null,
            "grid_column": null,
            "grid_gap": null,
            "grid_row": null,
            "grid_template_areas": null,
            "grid_template_columns": null,
            "grid_template_rows": null,
            "height": null,
            "justify_content": null,
            "justify_items": null,
            "left": null,
            "margin": null,
            "max_height": null,
            "max_width": null,
            "min_height": null,
            "min_width": null,
            "object_fit": null,
            "object_position": null,
            "order": null,
            "overflow": null,
            "overflow_x": null,
            "overflow_y": null,
            "padding": null,
            "right": null,
            "top": null,
            "visibility": null,
            "width": null
          }
        },
        "92b8bc806b2d48029bf76ff4d1bf84ca": {
          "model_module": "@jupyter-widgets/controls",
          "model_name": "DescriptionStyleModel",
          "model_module_version": "1.5.0",
          "state": {
            "_model_module": "@jupyter-widgets/controls",
            "_model_module_version": "1.5.0",
            "_model_name": "DescriptionStyleModel",
            "_view_count": null,
            "_view_module": "@jupyter-widgets/base",
            "_view_module_version": "1.2.0",
            "_view_name": "StyleView",
            "description_width": ""
          }
        }
      }
    }
  },
  "nbformat": 4,
  "nbformat_minor": 0
}